{
 "cells": [
  {
   "cell_type": "code",
   "execution_count": 1,
   "metadata": {
    "collapsed": true
   },
   "outputs": [],
   "source": [
    "import sddk"
   ]
  },
  {
   "cell_type": "code",
   "execution_count": 4,
   "outputs": [
    {
     "name": "stdout",
     "output_type": "stream",
     "text": [
      "connection with shared folder established with you as its ordinary user\n",
      "endpoint variable has been configured to: https://sciencedata.dk/sharingout/648597%40au.dk/SDAM_root/SDAM_data/mounds/\n"
     ]
    }
   ],
   "source": [
    "s = sddk.cloudSession(\"sciencedata.dk\", \"SDAM_root/SDAM_data/mounds\", \"648597@au.dk\")"
   ],
   "metadata": {
    "collapsed": false,
    "pycharm": {
     "name": "#%%\n"
    }
   }
  },
  {
   "cell_type": "code",
   "execution_count": 5,
   "outputs": [
    {
     "data": {
      "text/plain": "     MoundID             MoundName_x  \\\n0          2           Divdyadovo m.   \n1          3              Malamir m.   \n2          4  Kalugeritsa necropolis   \n3          5      Dyadozlatyuvata m.   \n4          6                 Mound 1   \n..       ...                     ...   \n278      280                mound 20   \n279      281                 mound V   \n280      282                mound VI   \n281      283                 mound I   \n282      284                mound VI   \n\n                          Location description in text    Municipality  \\\n0                                       Diuzmeshe area      Divdyadovo   \n1               2 km west, next to the Malamir village      Malamir v.   \n2                                    Kanara bashi area  Kalugeritsa v.   \n3                                  Goliyam Yurdan area       Smyadovo    \n4                Kurchan tepe area,Dobrina necropolis       Dobrina v.   \n..                                                 ...             ...   \n278  3 km SE from Brestnitsa village; south from ma...      Yablanitsa   \n279  1 km NW from Velikovo village, in Hadzhiyukler...         Dobrich   \n280  1 km NW from Velikovo village, in Hadzhiyukler...         Dobrich   \n281                       2 km W from Velikovo village         Dobrich   \n282                       Gorsko Ablanovo villige area           Opaka   \n\n          Region        Lat       Long                      LocPrecision  \\\n0         Shumen        N/A        N/A                     not available   \n1         Shumen        N/A        N/A                     not available   \n2         Shumen        N/A        N/A                     not available   \n3         Shumen  43.051642   26.97959  3 - legacy reports (very coarse)   \n4      Provadiya  43.207615   27.45979  3 - legacy reports (very coarse)   \n..           ...        ...        ...                               ...   \n278       Lovech  43.050001   24.22346  3 - legacy reports (very coarse)   \n279        Varna   43.64952   28.21923  3 - legacy reports (very coarse)   \n280        Varna  43.648224  28.219371  3 - legacy reports (very coarse)   \n281        Varna  43.646773  28.206497  3 - legacy reports (very coarse)   \n282  Targovishte        N/A        N/A                     not available   \n\n                                             Source  \\\n0                                                     \n1                                                     \n2                                                     \n3                                           Topo 50   \n4    Topo 50 / Google Earth / Mirchev 1965, 34 - 35   \n..                                              ...   \n278                          Topo 50 / Google Earth   \n279                          Topo 50 / Google Earth   \n280                          Topo 50 / Google Earth   \n281                          Topo 50 / Google Earth   \n282                                             N/A   \n\n                                       Error radius(m)  ... FirstEndDate  \\\n0    the author did not specify the distance from  ...  ...       -300.0   \n1    the author did not specify the distance from  ...  ...       -300.0   \n2    the author did not specify the distance from  ...  ...       -350.0   \n3                                                 7500  ...       -400.0   \n4                                                  150  ...       -450.0   \n..                                                 ...  ...          ...   \n278                                                500  ...       -100.0   \n279                                                100  ...          NaN   \n280                                                100  ...          NaN   \n281                                                100  ...          NaN   \n282  the author did not specify the distance from  ...  ...        300.0   \n\n    MaxEndDate                              FirstChronologyRating  \\\n0       -300.0  1 - rough estimate by author on basis of the a...   \n1       -300.0  1 - rough estimate by author on basis of the a...   \n2       -350.0  1 - rough estimate by author on basis of the a...   \n3       -400.0  1 - rough estimate by author on basis of the a...   \n4       -450.0  3 - a number of burial aspects consulted and c...   \n..         ...                                                ...   \n278     -100.0  3 - a number of burial aspects consulted and c...   \n279        NaN  3 - a number of burial aspects consulted and c...   \n280      400.0  3 - a number of burial aspects consulted and c...   \n281        NaN  3 - a number of burial aspects consulted and c...   \n282      300.0  3 - a number of burial aspects consulted and c...   \n\n         FirstEnclosureType Graves_y FirstBurialNumber GraveRankSymbols  \\\n0                       Urn        1                 1              [1]   \n1    Tomb of brick or stone        2                              [, 1]   \n2                       Urn        6                 1            [, 0]   \n3             not available        1                    [not available]   \n4    Tomb of brick or stone        2                 1           [0, 1]   \n..                      ...      ...               ...              ...   \n278                    none        1                 1            [1.5]   \n279  Tomb of brick or stone        1                 1              [1]   \n280              Cist grave        2                 1              [1]   \n281              Cist grave        1                 1            [1.5]   \n282              Simple pit        4                 1         [1.5, 1]   \n\n                                              AllDates TotalBurialNumber  \\\n0                                   [[-450.0, -300.0]]               1.0   \n1                 [[-200.0, -300.0], [-200.0, -300.0]]               NaN   \n2    [[-450.0, -350.0], [None, None], [None, None],...               8.0   \n3                                   [[-450.0, -400.0]]               NaN   \n4                 [[-600.0, -450.0], [-600.0, -450.0]]               3.0   \n..                                                 ...               ...   \n278                                 [[-300.0, -100.0]]               1.0   \n279                                     [[None, None]]               1.0   \n280                      [[None, None], [None, 400.0]]               2.0   \n281                                     [[None, None]]               1.0   \n282  [[200.0, 300.0], [200.0, 300.0], [200.0, 300.0...               4.0   \n\n                                  BurialAttributesAggr  \n0    {'0': {'index': 0, 'MoundID': 2, 'Name': 'Divd...  \n1    {'0': {'index': 2, 'MoundID': 3, 'Name': 'Mala...  \n2    {'0': {'index': 8, 'MoundID': 4, 'Name': 'Kalu...  \n3    {'0': {'index': 9, 'MoundID': 5, 'Name': 'Diya...  \n4    {'0': {'index': 10, 'MoundID': 6, 'Name': 'Mou...  \n..                                                 ...  \n278  {'0': {'index': 435, 'MoundID': 280, 'Name': '...  \n279  {'0': {'index': 436, 'MoundID': 281, 'Name': '...  \n280  {'0': {'index': 437, 'MoundID': 282, 'Name': '...  \n281  {'0': {'index': 439, 'MoundID': 283, 'Name': '...  \n282  {'0': {'index': 441, 'MoundID': 284, 'Name': '...  \n\n[283 rows x 53 columns]",
      "text/html": "<div>\n<style scoped>\n    .dataframe tbody tr th:only-of-type {\n        vertical-align: middle;\n    }\n\n    .dataframe tbody tr th {\n        vertical-align: top;\n    }\n\n    .dataframe thead th {\n        text-align: right;\n    }\n</style>\n<table border=\"1\" class=\"dataframe\">\n  <thead>\n    <tr style=\"text-align: right;\">\n      <th></th>\n      <th>MoundID</th>\n      <th>MoundName_x</th>\n      <th>Location description in text</th>\n      <th>Municipality</th>\n      <th>Region</th>\n      <th>Lat</th>\n      <th>Long</th>\n      <th>LocPrecision</th>\n      <th>Source</th>\n      <th>Error radius(m)</th>\n      <th>...</th>\n      <th>FirstEndDate</th>\n      <th>MaxEndDate</th>\n      <th>FirstChronologyRating</th>\n      <th>FirstEnclosureType</th>\n      <th>Graves_y</th>\n      <th>FirstBurialNumber</th>\n      <th>GraveRankSymbols</th>\n      <th>AllDates</th>\n      <th>TotalBurialNumber</th>\n      <th>BurialAttributesAggr</th>\n    </tr>\n  </thead>\n  <tbody>\n    <tr>\n      <th>0</th>\n      <td>2</td>\n      <td>Divdyadovo m.</td>\n      <td>Diuzmeshe area</td>\n      <td>Divdyadovo</td>\n      <td>Shumen</td>\n      <td>N/A</td>\n      <td>N/A</td>\n      <td>not available</td>\n      <td></td>\n      <td>the author did not specify the distance from  ...</td>\n      <td>...</td>\n      <td>-300.0</td>\n      <td>-300.0</td>\n      <td>1 - rough estimate by author on basis of the a...</td>\n      <td>Urn</td>\n      <td>1</td>\n      <td>1</td>\n      <td>[1]</td>\n      <td>[[-450.0, -300.0]]</td>\n      <td>1.0</td>\n      <td>{'0': {'index': 0, 'MoundID': 2, 'Name': 'Divd...</td>\n    </tr>\n    <tr>\n      <th>1</th>\n      <td>3</td>\n      <td>Malamir m.</td>\n      <td>2 km west, next to the Malamir village</td>\n      <td>Malamir v.</td>\n      <td>Shumen</td>\n      <td>N/A</td>\n      <td>N/A</td>\n      <td>not available</td>\n      <td></td>\n      <td>the author did not specify the distance from  ...</td>\n      <td>...</td>\n      <td>-300.0</td>\n      <td>-300.0</td>\n      <td>1 - rough estimate by author on basis of the a...</td>\n      <td>Tomb of brick or stone</td>\n      <td>2</td>\n      <td></td>\n      <td>[, 1]</td>\n      <td>[[-200.0, -300.0], [-200.0, -300.0]]</td>\n      <td>NaN</td>\n      <td>{'0': {'index': 2, 'MoundID': 3, 'Name': 'Mala...</td>\n    </tr>\n    <tr>\n      <th>2</th>\n      <td>4</td>\n      <td>Kalugeritsa necropolis</td>\n      <td>Kanara bashi area</td>\n      <td>Kalugeritsa v.</td>\n      <td>Shumen</td>\n      <td>N/A</td>\n      <td>N/A</td>\n      <td>not available</td>\n      <td></td>\n      <td>the author did not specify the distance from  ...</td>\n      <td>...</td>\n      <td>-350.0</td>\n      <td>-350.0</td>\n      <td>1 - rough estimate by author on basis of the a...</td>\n      <td>Urn</td>\n      <td>6</td>\n      <td>1</td>\n      <td>[, 0]</td>\n      <td>[[-450.0, -350.0], [None, None], [None, None],...</td>\n      <td>8.0</td>\n      <td>{'0': {'index': 8, 'MoundID': 4, 'Name': 'Kalu...</td>\n    </tr>\n    <tr>\n      <th>3</th>\n      <td>5</td>\n      <td>Dyadozlatyuvata m.</td>\n      <td>Goliyam Yurdan area</td>\n      <td>Smyadovo</td>\n      <td>Shumen</td>\n      <td>43.051642</td>\n      <td>26.97959</td>\n      <td>3 - legacy reports (very coarse)</td>\n      <td>Topo 50</td>\n      <td>7500</td>\n      <td>...</td>\n      <td>-400.0</td>\n      <td>-400.0</td>\n      <td>1 - rough estimate by author on basis of the a...</td>\n      <td>not available</td>\n      <td>1</td>\n      <td></td>\n      <td>[not available]</td>\n      <td>[[-450.0, -400.0]]</td>\n      <td>NaN</td>\n      <td>{'0': {'index': 9, 'MoundID': 5, 'Name': 'Diya...</td>\n    </tr>\n    <tr>\n      <th>4</th>\n      <td>6</td>\n      <td>Mound 1</td>\n      <td>Kurchan tepe area,Dobrina necropolis</td>\n      <td>Dobrina v.</td>\n      <td>Provadiya</td>\n      <td>43.207615</td>\n      <td>27.45979</td>\n      <td>3 - legacy reports (very coarse)</td>\n      <td>Topo 50 / Google Earth / Mirchev 1965, 34 - 35</td>\n      <td>150</td>\n      <td>...</td>\n      <td>-450.0</td>\n      <td>-450.0</td>\n      <td>3 - a number of burial aspects consulted and c...</td>\n      <td>Tomb of brick or stone</td>\n      <td>2</td>\n      <td>1</td>\n      <td>[0, 1]</td>\n      <td>[[-600.0, -450.0], [-600.0, -450.0]]</td>\n      <td>3.0</td>\n      <td>{'0': {'index': 10, 'MoundID': 6, 'Name': 'Mou...</td>\n    </tr>\n    <tr>\n      <th>...</th>\n      <td>...</td>\n      <td>...</td>\n      <td>...</td>\n      <td>...</td>\n      <td>...</td>\n      <td>...</td>\n      <td>...</td>\n      <td>...</td>\n      <td>...</td>\n      <td>...</td>\n      <td>...</td>\n      <td>...</td>\n      <td>...</td>\n      <td>...</td>\n      <td>...</td>\n      <td>...</td>\n      <td>...</td>\n      <td>...</td>\n      <td>...</td>\n      <td>...</td>\n      <td>...</td>\n    </tr>\n    <tr>\n      <th>278</th>\n      <td>280</td>\n      <td>mound 20</td>\n      <td>3 km SE from Brestnitsa village; south from ma...</td>\n      <td>Yablanitsa</td>\n      <td>Lovech</td>\n      <td>43.050001</td>\n      <td>24.22346</td>\n      <td>3 - legacy reports (very coarse)</td>\n      <td>Topo 50 / Google Earth</td>\n      <td>500</td>\n      <td>...</td>\n      <td>-100.0</td>\n      <td>-100.0</td>\n      <td>3 - a number of burial aspects consulted and c...</td>\n      <td>none</td>\n      <td>1</td>\n      <td>1</td>\n      <td>[1.5]</td>\n      <td>[[-300.0, -100.0]]</td>\n      <td>1.0</td>\n      <td>{'0': {'index': 435, 'MoundID': 280, 'Name': '...</td>\n    </tr>\n    <tr>\n      <th>279</th>\n      <td>281</td>\n      <td>mound V</td>\n      <td>1 km NW from Velikovo village, in Hadzhiyukler...</td>\n      <td>Dobrich</td>\n      <td>Varna</td>\n      <td>43.64952</td>\n      <td>28.21923</td>\n      <td>3 - legacy reports (very coarse)</td>\n      <td>Topo 50 / Google Earth</td>\n      <td>100</td>\n      <td>...</td>\n      <td>NaN</td>\n      <td>NaN</td>\n      <td>3 - a number of burial aspects consulted and c...</td>\n      <td>Tomb of brick or stone</td>\n      <td>1</td>\n      <td>1</td>\n      <td>[1]</td>\n      <td>[[None, None]]</td>\n      <td>1.0</td>\n      <td>{'0': {'index': 436, 'MoundID': 281, 'Name': '...</td>\n    </tr>\n    <tr>\n      <th>280</th>\n      <td>282</td>\n      <td>mound VI</td>\n      <td>1 km NW from Velikovo village, in Hadzhiyukler...</td>\n      <td>Dobrich</td>\n      <td>Varna</td>\n      <td>43.648224</td>\n      <td>28.219371</td>\n      <td>3 - legacy reports (very coarse)</td>\n      <td>Topo 50 / Google Earth</td>\n      <td>100</td>\n      <td>...</td>\n      <td>NaN</td>\n      <td>400.0</td>\n      <td>3 - a number of burial aspects consulted and c...</td>\n      <td>Cist grave</td>\n      <td>2</td>\n      <td>1</td>\n      <td>[1]</td>\n      <td>[[None, None], [None, 400.0]]</td>\n      <td>2.0</td>\n      <td>{'0': {'index': 437, 'MoundID': 282, 'Name': '...</td>\n    </tr>\n    <tr>\n      <th>281</th>\n      <td>283</td>\n      <td>mound I</td>\n      <td>2 km W from Velikovo village</td>\n      <td>Dobrich</td>\n      <td>Varna</td>\n      <td>43.646773</td>\n      <td>28.206497</td>\n      <td>3 - legacy reports (very coarse)</td>\n      <td>Topo 50 / Google Earth</td>\n      <td>100</td>\n      <td>...</td>\n      <td>NaN</td>\n      <td>NaN</td>\n      <td>3 - a number of burial aspects consulted and c...</td>\n      <td>Cist grave</td>\n      <td>1</td>\n      <td>1</td>\n      <td>[1.5]</td>\n      <td>[[None, None]]</td>\n      <td>1.0</td>\n      <td>{'0': {'index': 439, 'MoundID': 283, 'Name': '...</td>\n    </tr>\n    <tr>\n      <th>282</th>\n      <td>284</td>\n      <td>mound VI</td>\n      <td>Gorsko Ablanovo villige area</td>\n      <td>Opaka</td>\n      <td>Targovishte</td>\n      <td>N/A</td>\n      <td>N/A</td>\n      <td>not available</td>\n      <td>N/A</td>\n      <td>the author did not specify the distance from  ...</td>\n      <td>...</td>\n      <td>300.0</td>\n      <td>300.0</td>\n      <td>3 - a number of burial aspects consulted and c...</td>\n      <td>Simple pit</td>\n      <td>4</td>\n      <td>1</td>\n      <td>[1.5, 1]</td>\n      <td>[[200.0, 300.0], [200.0, 300.0], [200.0, 300.0...</td>\n      <td>4.0</td>\n      <td>{'0': {'index': 441, 'MoundID': 284, 'Name': '...</td>\n    </tr>\n  </tbody>\n</table>\n<p>283 rows × 53 columns</p>\n</div>"
     },
     "execution_count": 5,
     "metadata": {},
     "output_type": "execute_result"
    }
   ],
   "source": [
    "Izvestia_df = s.read_file(\"Izvestia_df.json\")\n",
    "Izvestia_df"
   ],
   "metadata": {
    "collapsed": false,
    "pycharm": {
     "name": "#%%\n"
    }
   }
  },
  {
   "cell_type": "code",
   "execution_count": 6,
   "outputs": [],
   "source": [
    "import numpy as np"
   ],
   "metadata": {
    "collapsed": false,
    "pycharm": {
     "name": "#%%\n"
    }
   }
  },
  {
   "cell_type": "code",
   "execution_count": 9,
   "outputs": [
    {
     "data": {
      "text/plain": "0.1"
     },
     "execution_count": 9,
     "metadata": {},
     "output_type": "execute_result"
    }
   ],
   "source": [
    "np.mean([0, 0, 0, 0, 0, 0, 0, 0, 0, 1])"
   ],
   "metadata": {
    "collapsed": false,
    "pycharm": {
     "name": "#%%\n"
    }
   }
  },
  {
   "cell_type": "code",
   "execution_count": 11,
   "outputs": [
    {
     "data": {
      "text/plain": "0.0"
     },
     "execution_count": 11,
     "metadata": {},
     "output_type": "execute_result"
    }
   ],
   "source": [
    "np.median([0, 0, 0, 0, 0, 0, 0, 0, 0, 1])"
   ],
   "metadata": {
    "collapsed": false,
    "pycharm": {
     "name": "#%%\n"
    }
   }
  },
  {
   "cell_type": "code",
   "execution_count": null,
   "outputs": [],
   "source": [],
   "metadata": {
    "collapsed": false,
    "pycharm": {
     "name": "#%%\n"
    }
   }
  }
 ],
 "metadata": {
  "kernelspec": {
   "display_name": "Python 3",
   "language": "python",
   "name": "python3"
  },
  "language_info": {
   "codemirror_mode": {
    "name": "ipython",
    "version": 2
   },
   "file_extension": ".py",
   "mimetype": "text/x-python",
   "name": "python",
   "nbconvert_exporter": "python",
   "pygments_lexer": "ipython2",
   "version": "2.7.6"
  }
 },
 "nbformat": 4,
 "nbformat_minor": 0
}