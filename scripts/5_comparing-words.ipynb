{
 "cells": [
  {
   "cell_type": "code",
   "execution_count": 1,
   "metadata": {
    "collapsed": true
   },
   "outputs": [],
   "source": [
    "import pickle\n",
    "import pandas as pd\n",
    "import requests\n",
    "import sddk\n",
    "\n",
    "import matplotlib.pyplot as plt\n",
    "import matplotlib.colors as mcolors\n",
    "import matplotlib.patches as patches\n",
    "import seaborn as sns\n",
    "\n",
    "from sklearn.manifold import TSNE\n",
    "\n",
    "import gspread\n",
    "from gspread_dataframe import get_as_dataframe, set_with_dataframe\n",
    "from google.oauth2 import service_account # based on google-auth library"
   ]
  },
  {
   "cell_type": "code",
   "execution_count": 2,
   "outputs": [
    {
     "name": "stdout",
     "output_type": "stream",
     "text": [
      "endpoint variable has been configured to: https://sciencedata.dk/files/\n"
     ]
    }
   ],
   "source": [
    "# for exporting data to googlesheets/sciencedata\n",
    "# (feel free to skip)\n",
    "\n",
    "s = sddk.cloudSession(\"sciencedata.dk\")\n",
    "# establish connection with gogglesheets...\n",
    "file_data = s.read_file(\"https://sciencedata.dk/files/ServiceAccountsKey.json\", \"dict\") # or load it from a local storage: json.load(open(\"../../ServiceAccountsKey.json\", \"r\"))\n",
    "credentials = service_account.Credentials.from_service_account_info(file_data)\n",
    "gc = gspread.Client(auth=credentials.with_scopes(['https://spreadsheets.google.com/feeds', 'https://www.googleapis.com/auth/drive']))\n",
    "paul_results = gc.open_by_url(\"https://docs.google.com/spreadsheets/d/1h4M-gK9TPIfeTV528tUuPBfZF1wtcNCA10yIlJYqGTE/edit?usp=sharing\")"
   ],
   "metadata": {
    "collapsed": false,
    "pycharm": {
     "name": "#%%\n"
    }
   }
  },
  {
   "cell_type": "code",
   "execution_count": 3,
   "outputs": [],
   "source": [
    "data_1to3 = pickle.load(open(\"../data/large_files/embeddings_sents+bgs+tgs_ppmi2_1to3.pkl\", \"rb\"))\n",
    "data_4to5 = pickle.load(open(\"../data/large_files/embeddings_sents+bgs+tgs_ppmi2_4to5.pkl\", \"rb\"))"
   ],
   "metadata": {
    "collapsed": false,
    "pycharm": {
     "name": "#%%\n"
    }
   }
  },
  {
   "cell_type": "code",
   "execution_count": 16,
   "outputs": [
    {
     "data": {
      "text/plain": "1465"
     },
     "execution_count": 16,
     "metadata": {},
     "output_type": "execute_result"
    }
   ],
   "source": [
    "shared_vocab = list(set(data_1to3[1]) & set(data_4to5[1]))\n",
    "len(shared_vocab)"
   ],
   "metadata": {
    "collapsed": false,
    "pycharm": {
     "name": "#%%\n"
    }
   }
  },
  {
   "cell_type": "code",
   "execution_count": 17,
   "outputs": [
    {
     "data": {
      "text/plain": "               ἐλπίς     ἐσθίω  προτρέπω     φυτόν   προερέω  ἀγαπητός  \\\nεἰμί        0.724096  0.722578  0.642129  0.679684  0.705818  0.711251   \nλέγω        0.683319  0.756927  0.656932  0.630005  0.718522  0.667719   \nθεός        0.732868  0.716271  0.692056  0.655909  0.716045  0.715590   \nοὗτος       0.706066  0.713396  0.686895  0.650747  0.716244  0.702182   \nγίγνομαι    0.711481  0.674150  0.614175  0.667996  0.722014  0.697723   \n...              ...       ...       ...       ...       ...       ...   \nἀπέραντος   0.000000  0.000000  0.000000  0.000000  0.000000  0.000000   \nγήινος      0.000000  0.000000  0.000000  0.000000  0.000000  0.000000   \nφορά        0.000000  0.000000  0.000000  0.000000  0.000000  0.000000   \nἔρομαι      0.653862  0.000000  0.000000  0.000000  0.000000  0.000000   \nἀπαλλαξείω  0.000000  0.000000  0.000000  0.000000  0.000000  0.000000   \n\n            ἀνατίθημι    κρατέω   βουλεύω     τέχνη  ...      φλόξ  ἀκρίβεια  \\\nεἰμί         0.627316  0.699888  0.664706  0.740966  ...  0.625503  0.661255   \nλέγω         0.662246  0.679838  0.684603  0.685099  ...  0.682429  0.625866   \nθεός         0.744533  0.711443  0.638489  0.719664  ...  0.671303  0.658548   \nοὗτος        0.667955  0.700580  0.670929  0.733474  ...  0.607472  0.680082   \nγίγνομαι     0.619489  0.672948  0.632626  0.730903  ...  0.617676  0.594015   \n...               ...       ...       ...       ...  ...       ...       ...   \nἀπέραντος    0.000000  0.000000  0.000000  0.000000  ...  0.000000  0.000000   \nγήινος       0.000000  0.000000  0.000000  0.000000  ...  0.000000  0.000000   \nφορά         0.000000  0.000000  0.000000  0.705795  ...  0.000000  0.000000   \nἔρομαι       0.000000  0.000000  0.000000  0.681271  ...  0.000000  0.000000   \nἀπαλλαξείω   0.000000  0.000000  0.000000  0.000000  ...  0.000000  0.000000   \n\n            μιμνήσκω  καταφρονέω  ἀναβαίνω    δεσμός  ἐπιδημία    θερμός  \\\nεἰμί        0.678387    0.686799  0.727880  0.711029  0.715374  0.708014   \nλέγω        0.714699    0.691557  0.730466  0.696227  0.709576  0.656043   \nθεός        0.676072    0.729940  0.743959  0.694263  0.718369  0.577688   \nοὗτος       0.707328    0.722704  0.719990  0.686756  0.709347  0.651590   \nγίγνομαι    0.690836    0.679832  0.703877  0.710307  0.751184  0.661793   \n...              ...         ...       ...       ...       ...       ...   \nἀπέραντος   0.000000    0.000000  0.000000  0.000000  0.000000  0.000000   \nγήινος      0.000000    0.000000  0.643294  0.000000  0.000000  0.000000   \nφορά        0.000000    0.000000  0.000000  0.000000  0.000000  0.711621   \nἔρομαι      0.000000    0.000000  0.000000  0.000000  0.000000  0.000000   \nἀπαλλαξείω  0.000000    0.720169  0.000000  0.674500  0.000000  0.000000   \n\n            ἐπιγράφω   ἔπαινος  \nεἰμί        0.648341  0.692845  \nλέγω        0.674540  0.689697  \nθεός        0.674676  0.687963  \nοὗτος       0.691422  0.710812  \nγίγνομαι    0.622562  0.657846  \n...              ...       ...  \nἀπέραντος   0.000000  0.000000  \nγήινος      0.000000  0.000000  \nφορά        0.000000  0.000000  \nἔρομαι      0.000000  0.000000  \nἀπαλλαξείω  0.000000  0.000000  \n\n[2000 rows x 1465 columns]",
      "text/html": "<div>\n<style scoped>\n    .dataframe tbody tr th:only-of-type {\n        vertical-align: middle;\n    }\n\n    .dataframe tbody tr th {\n        vertical-align: top;\n    }\n\n    .dataframe thead th {\n        text-align: right;\n    }\n</style>\n<table border=\"1\" class=\"dataframe\">\n  <thead>\n    <tr style=\"text-align: right;\">\n      <th></th>\n      <th>ἐλπίς</th>\n      <th>ἐσθίω</th>\n      <th>προτρέπω</th>\n      <th>φυτόν</th>\n      <th>προερέω</th>\n      <th>ἀγαπητός</th>\n      <th>ἀνατίθημι</th>\n      <th>κρατέω</th>\n      <th>βουλεύω</th>\n      <th>τέχνη</th>\n      <th>...</th>\n      <th>φλόξ</th>\n      <th>ἀκρίβεια</th>\n      <th>μιμνήσκω</th>\n      <th>καταφρονέω</th>\n      <th>ἀναβαίνω</th>\n      <th>δεσμός</th>\n      <th>ἐπιδημία</th>\n      <th>θερμός</th>\n      <th>ἐπιγράφω</th>\n      <th>ἔπαινος</th>\n    </tr>\n  </thead>\n  <tbody>\n    <tr>\n      <th>εἰμί</th>\n      <td>0.724096</td>\n      <td>0.722578</td>\n      <td>0.642129</td>\n      <td>0.679684</td>\n      <td>0.705818</td>\n      <td>0.711251</td>\n      <td>0.627316</td>\n      <td>0.699888</td>\n      <td>0.664706</td>\n      <td>0.740966</td>\n      <td>...</td>\n      <td>0.625503</td>\n      <td>0.661255</td>\n      <td>0.678387</td>\n      <td>0.686799</td>\n      <td>0.727880</td>\n      <td>0.711029</td>\n      <td>0.715374</td>\n      <td>0.708014</td>\n      <td>0.648341</td>\n      <td>0.692845</td>\n    </tr>\n    <tr>\n      <th>λέγω</th>\n      <td>0.683319</td>\n      <td>0.756927</td>\n      <td>0.656932</td>\n      <td>0.630005</td>\n      <td>0.718522</td>\n      <td>0.667719</td>\n      <td>0.662246</td>\n      <td>0.679838</td>\n      <td>0.684603</td>\n      <td>0.685099</td>\n      <td>...</td>\n      <td>0.682429</td>\n      <td>0.625866</td>\n      <td>0.714699</td>\n      <td>0.691557</td>\n      <td>0.730466</td>\n      <td>0.696227</td>\n      <td>0.709576</td>\n      <td>0.656043</td>\n      <td>0.674540</td>\n      <td>0.689697</td>\n    </tr>\n    <tr>\n      <th>θεός</th>\n      <td>0.732868</td>\n      <td>0.716271</td>\n      <td>0.692056</td>\n      <td>0.655909</td>\n      <td>0.716045</td>\n      <td>0.715590</td>\n      <td>0.744533</td>\n      <td>0.711443</td>\n      <td>0.638489</td>\n      <td>0.719664</td>\n      <td>...</td>\n      <td>0.671303</td>\n      <td>0.658548</td>\n      <td>0.676072</td>\n      <td>0.729940</td>\n      <td>0.743959</td>\n      <td>0.694263</td>\n      <td>0.718369</td>\n      <td>0.577688</td>\n      <td>0.674676</td>\n      <td>0.687963</td>\n    </tr>\n    <tr>\n      <th>οὗτος</th>\n      <td>0.706066</td>\n      <td>0.713396</td>\n      <td>0.686895</td>\n      <td>0.650747</td>\n      <td>0.716244</td>\n      <td>0.702182</td>\n      <td>0.667955</td>\n      <td>0.700580</td>\n      <td>0.670929</td>\n      <td>0.733474</td>\n      <td>...</td>\n      <td>0.607472</td>\n      <td>0.680082</td>\n      <td>0.707328</td>\n      <td>0.722704</td>\n      <td>0.719990</td>\n      <td>0.686756</td>\n      <td>0.709347</td>\n      <td>0.651590</td>\n      <td>0.691422</td>\n      <td>0.710812</td>\n    </tr>\n    <tr>\n      <th>γίγνομαι</th>\n      <td>0.711481</td>\n      <td>0.674150</td>\n      <td>0.614175</td>\n      <td>0.667996</td>\n      <td>0.722014</td>\n      <td>0.697723</td>\n      <td>0.619489</td>\n      <td>0.672948</td>\n      <td>0.632626</td>\n      <td>0.730903</td>\n      <td>...</td>\n      <td>0.617676</td>\n      <td>0.594015</td>\n      <td>0.690836</td>\n      <td>0.679832</td>\n      <td>0.703877</td>\n      <td>0.710307</td>\n      <td>0.751184</td>\n      <td>0.661793</td>\n      <td>0.622562</td>\n      <td>0.657846</td>\n    </tr>\n    <tr>\n      <th>...</th>\n      <td>...</td>\n      <td>...</td>\n      <td>...</td>\n      <td>...</td>\n      <td>...</td>\n      <td>...</td>\n      <td>...</td>\n      <td>...</td>\n      <td>...</td>\n      <td>...</td>\n      <td>...</td>\n      <td>...</td>\n      <td>...</td>\n      <td>...</td>\n      <td>...</td>\n      <td>...</td>\n      <td>...</td>\n      <td>...</td>\n      <td>...</td>\n      <td>...</td>\n      <td>...</td>\n    </tr>\n    <tr>\n      <th>ἀπέραντος</th>\n      <td>0.000000</td>\n      <td>0.000000</td>\n      <td>0.000000</td>\n      <td>0.000000</td>\n      <td>0.000000</td>\n      <td>0.000000</td>\n      <td>0.000000</td>\n      <td>0.000000</td>\n      <td>0.000000</td>\n      <td>0.000000</td>\n      <td>...</td>\n      <td>0.000000</td>\n      <td>0.000000</td>\n      <td>0.000000</td>\n      <td>0.000000</td>\n      <td>0.000000</td>\n      <td>0.000000</td>\n      <td>0.000000</td>\n      <td>0.000000</td>\n      <td>0.000000</td>\n      <td>0.000000</td>\n    </tr>\n    <tr>\n      <th>γήινος</th>\n      <td>0.000000</td>\n      <td>0.000000</td>\n      <td>0.000000</td>\n      <td>0.000000</td>\n      <td>0.000000</td>\n      <td>0.000000</td>\n      <td>0.000000</td>\n      <td>0.000000</td>\n      <td>0.000000</td>\n      <td>0.000000</td>\n      <td>...</td>\n      <td>0.000000</td>\n      <td>0.000000</td>\n      <td>0.000000</td>\n      <td>0.000000</td>\n      <td>0.643294</td>\n      <td>0.000000</td>\n      <td>0.000000</td>\n      <td>0.000000</td>\n      <td>0.000000</td>\n      <td>0.000000</td>\n    </tr>\n    <tr>\n      <th>φορά</th>\n      <td>0.000000</td>\n      <td>0.000000</td>\n      <td>0.000000</td>\n      <td>0.000000</td>\n      <td>0.000000</td>\n      <td>0.000000</td>\n      <td>0.000000</td>\n      <td>0.000000</td>\n      <td>0.000000</td>\n      <td>0.705795</td>\n      <td>...</td>\n      <td>0.000000</td>\n      <td>0.000000</td>\n      <td>0.000000</td>\n      <td>0.000000</td>\n      <td>0.000000</td>\n      <td>0.000000</td>\n      <td>0.000000</td>\n      <td>0.711621</td>\n      <td>0.000000</td>\n      <td>0.000000</td>\n    </tr>\n    <tr>\n      <th>ἔρομαι</th>\n      <td>0.653862</td>\n      <td>0.000000</td>\n      <td>0.000000</td>\n      <td>0.000000</td>\n      <td>0.000000</td>\n      <td>0.000000</td>\n      <td>0.000000</td>\n      <td>0.000000</td>\n      <td>0.000000</td>\n      <td>0.681271</td>\n      <td>...</td>\n      <td>0.000000</td>\n      <td>0.000000</td>\n      <td>0.000000</td>\n      <td>0.000000</td>\n      <td>0.000000</td>\n      <td>0.000000</td>\n      <td>0.000000</td>\n      <td>0.000000</td>\n      <td>0.000000</td>\n      <td>0.000000</td>\n    </tr>\n    <tr>\n      <th>ἀπαλλαξείω</th>\n      <td>0.000000</td>\n      <td>0.000000</td>\n      <td>0.000000</td>\n      <td>0.000000</td>\n      <td>0.000000</td>\n      <td>0.000000</td>\n      <td>0.000000</td>\n      <td>0.000000</td>\n      <td>0.000000</td>\n      <td>0.000000</td>\n      <td>...</td>\n      <td>0.000000</td>\n      <td>0.000000</td>\n      <td>0.000000</td>\n      <td>0.720169</td>\n      <td>0.000000</td>\n      <td>0.674500</td>\n      <td>0.000000</td>\n      <td>0.000000</td>\n      <td>0.000000</td>\n      <td>0.000000</td>\n    </tr>\n  </tbody>\n</table>\n<p>2000 rows × 1465 columns</p>\n</div>"
     },
     "execution_count": 17,
     "metadata": {},
     "output_type": "execute_result"
    }
   ],
   "source": [
    "data_1to3[2][shared_vocab]"
   ],
   "metadata": {
    "collapsed": false,
    "pycharm": {
     "name": "#%%\n"
    }
   }
  },
  {
   "cell_type": "code",
   "execution_count": 19,
   "outputs": [
    {
     "data": {
      "text/plain": "             ἐλπίς     ἐσθίω  προτρέπω     φυτόν   προερέω  ἀγαπητός  \\\nεἰμί      0.733720  0.680737  0.670634  0.676192  0.723300  0.672812   \nοὗτος     0.727761  0.683607  0.675776  0.661083  0.711128  0.728196   \nλέγω      0.701195  0.734472  0.643983  0.644304  0.685676  0.687660   \nθεός      0.755811  0.683810  0.671280  0.668665  0.625387  0.743244   \nαὐτός     0.721367  0.690543  0.670925  0.669057  0.692216  0.670427   \n...            ...       ...       ...       ...       ...       ...   \nὦμος      0.000000  0.000000  0.000000  0.000000  0.000000  0.000000   \nἈράβιος   0.000000  0.000000  0.000000  0.000000  0.670838  0.000000   \nπροπάτωρ  0.674919  0.000000  0.000000  0.000000  0.000000  0.000000   \nκορυφή    0.000000  0.000000  0.000000  0.000000  0.000000  0.000000   \nλᾶας      0.000000  0.000000  0.000000  0.000000  0.000000  0.000000   \n\n          ἀνατίθημι    κρατέω   βουλεύω     τέχνη  ...      φλόξ  ἀκρίβεια  \\\nεἰμί       0.683606  0.722218  0.709864  0.725541  ...  0.666923  0.685100   \nοὗτος      0.715339  0.736422  0.706748  0.717521  ...  0.667248  0.687442   \nλέγω       0.658059  0.701303  0.679500  0.695765  ...  0.676752  0.675763   \nθεός       0.748740  0.709014  0.676053  0.669955  ...  0.642390  0.666161   \nαὐτός      0.715140  0.735333  0.713530  0.676689  ...  0.664248  0.650763   \n...             ...       ...       ...       ...  ...       ...       ...   \nὦμος       0.000000  0.000000  0.000000  0.740477  ...  0.000000  0.000000   \nἈράβιος    0.000000  0.000000  0.000000  0.000000  ...  0.000000  0.000000   \nπροπάτωρ   0.000000  0.000000  0.000000  0.656832  ...  0.000000  0.000000   \nκορυφή     0.000000  0.000000  0.000000  0.000000  ...  0.000000  0.000000   \nλᾶας       0.000000  0.000000  0.000000  0.656622  ...  0.000000  0.000000   \n\n          μιμνήσκω  καταφρονέω  ἀναβαίνω    δεσμός  ἐπιδημία    θερμός  \\\nεἰμί      0.679439    0.700415  0.698978  0.694679  0.656091  0.694413   \nοὗτος     0.703458    0.692126  0.706093  0.698076  0.702949  0.671268   \nλέγω      0.689268    0.670887  0.740743  0.691079  0.681710  0.667343   \nθεός      0.695249    0.705444  0.717437  0.707403  0.684604  0.648106   \nαὐτός     0.680516    0.689127  0.684251  0.727909  0.644803  0.666916   \n...            ...         ...       ...       ...       ...       ...   \nὦμος      0.000000    0.000000  0.000000  0.000000  0.000000  0.000000   \nἈράβιος   0.000000    0.000000  0.000000  0.000000  0.000000  0.000000   \nπροπάτωρ  0.000000    0.680243  0.667834  0.000000  0.000000  0.000000   \nκορυφή    0.000000    0.000000  0.000000  0.000000  0.000000  0.000000   \nλᾶας      0.000000    0.000000  0.000000  0.000000  0.000000  0.000000   \n\n          ἐπιγράφω   ἔπαινος  \nεἰμί      0.676865  0.656616  \nοὗτος     0.715687  0.680425  \nλέγω      0.669380  0.676499  \nθεός      0.723269  0.669339  \nαὐτός     0.692438  0.663996  \n...            ...       ...  \nὦμος      0.000000  0.000000  \nἈράβιος   0.000000  0.000000  \nπροπάτωρ  0.725271  0.000000  \nκορυφή    0.000000  0.000000  \nλᾶας      0.683344  0.000000  \n\n[2000 rows x 1465 columns]",
      "text/html": "<div>\n<style scoped>\n    .dataframe tbody tr th:only-of-type {\n        vertical-align: middle;\n    }\n\n    .dataframe tbody tr th {\n        vertical-align: top;\n    }\n\n    .dataframe thead th {\n        text-align: right;\n    }\n</style>\n<table border=\"1\" class=\"dataframe\">\n  <thead>\n    <tr style=\"text-align: right;\">\n      <th></th>\n      <th>ἐλπίς</th>\n      <th>ἐσθίω</th>\n      <th>προτρέπω</th>\n      <th>φυτόν</th>\n      <th>προερέω</th>\n      <th>ἀγαπητός</th>\n      <th>ἀνατίθημι</th>\n      <th>κρατέω</th>\n      <th>βουλεύω</th>\n      <th>τέχνη</th>\n      <th>...</th>\n      <th>φλόξ</th>\n      <th>ἀκρίβεια</th>\n      <th>μιμνήσκω</th>\n      <th>καταφρονέω</th>\n      <th>ἀναβαίνω</th>\n      <th>δεσμός</th>\n      <th>ἐπιδημία</th>\n      <th>θερμός</th>\n      <th>ἐπιγράφω</th>\n      <th>ἔπαινος</th>\n    </tr>\n  </thead>\n  <tbody>\n    <tr>\n      <th>εἰμί</th>\n      <td>0.733720</td>\n      <td>0.680737</td>\n      <td>0.670634</td>\n      <td>0.676192</td>\n      <td>0.723300</td>\n      <td>0.672812</td>\n      <td>0.683606</td>\n      <td>0.722218</td>\n      <td>0.709864</td>\n      <td>0.725541</td>\n      <td>...</td>\n      <td>0.666923</td>\n      <td>0.685100</td>\n      <td>0.679439</td>\n      <td>0.700415</td>\n      <td>0.698978</td>\n      <td>0.694679</td>\n      <td>0.656091</td>\n      <td>0.694413</td>\n      <td>0.676865</td>\n      <td>0.656616</td>\n    </tr>\n    <tr>\n      <th>οὗτος</th>\n      <td>0.727761</td>\n      <td>0.683607</td>\n      <td>0.675776</td>\n      <td>0.661083</td>\n      <td>0.711128</td>\n      <td>0.728196</td>\n      <td>0.715339</td>\n      <td>0.736422</td>\n      <td>0.706748</td>\n      <td>0.717521</td>\n      <td>...</td>\n      <td>0.667248</td>\n      <td>0.687442</td>\n      <td>0.703458</td>\n      <td>0.692126</td>\n      <td>0.706093</td>\n      <td>0.698076</td>\n      <td>0.702949</td>\n      <td>0.671268</td>\n      <td>0.715687</td>\n      <td>0.680425</td>\n    </tr>\n    <tr>\n      <th>λέγω</th>\n      <td>0.701195</td>\n      <td>0.734472</td>\n      <td>0.643983</td>\n      <td>0.644304</td>\n      <td>0.685676</td>\n      <td>0.687660</td>\n      <td>0.658059</td>\n      <td>0.701303</td>\n      <td>0.679500</td>\n      <td>0.695765</td>\n      <td>...</td>\n      <td>0.676752</td>\n      <td>0.675763</td>\n      <td>0.689268</td>\n      <td>0.670887</td>\n      <td>0.740743</td>\n      <td>0.691079</td>\n      <td>0.681710</td>\n      <td>0.667343</td>\n      <td>0.669380</td>\n      <td>0.676499</td>\n    </tr>\n    <tr>\n      <th>θεός</th>\n      <td>0.755811</td>\n      <td>0.683810</td>\n      <td>0.671280</td>\n      <td>0.668665</td>\n      <td>0.625387</td>\n      <td>0.743244</td>\n      <td>0.748740</td>\n      <td>0.709014</td>\n      <td>0.676053</td>\n      <td>0.669955</td>\n      <td>...</td>\n      <td>0.642390</td>\n      <td>0.666161</td>\n      <td>0.695249</td>\n      <td>0.705444</td>\n      <td>0.717437</td>\n      <td>0.707403</td>\n      <td>0.684604</td>\n      <td>0.648106</td>\n      <td>0.723269</td>\n      <td>0.669339</td>\n    </tr>\n    <tr>\n      <th>αὐτός</th>\n      <td>0.721367</td>\n      <td>0.690543</td>\n      <td>0.670925</td>\n      <td>0.669057</td>\n      <td>0.692216</td>\n      <td>0.670427</td>\n      <td>0.715140</td>\n      <td>0.735333</td>\n      <td>0.713530</td>\n      <td>0.676689</td>\n      <td>...</td>\n      <td>0.664248</td>\n      <td>0.650763</td>\n      <td>0.680516</td>\n      <td>0.689127</td>\n      <td>0.684251</td>\n      <td>0.727909</td>\n      <td>0.644803</td>\n      <td>0.666916</td>\n      <td>0.692438</td>\n      <td>0.663996</td>\n    </tr>\n    <tr>\n      <th>...</th>\n      <td>...</td>\n      <td>...</td>\n      <td>...</td>\n      <td>...</td>\n      <td>...</td>\n      <td>...</td>\n      <td>...</td>\n      <td>...</td>\n      <td>...</td>\n      <td>...</td>\n      <td>...</td>\n      <td>...</td>\n      <td>...</td>\n      <td>...</td>\n      <td>...</td>\n      <td>...</td>\n      <td>...</td>\n      <td>...</td>\n      <td>...</td>\n      <td>...</td>\n      <td>...</td>\n    </tr>\n    <tr>\n      <th>ὦμος</th>\n      <td>0.000000</td>\n      <td>0.000000</td>\n      <td>0.000000</td>\n      <td>0.000000</td>\n      <td>0.000000</td>\n      <td>0.000000</td>\n      <td>0.000000</td>\n      <td>0.000000</td>\n      <td>0.000000</td>\n      <td>0.740477</td>\n      <td>...</td>\n      <td>0.000000</td>\n      <td>0.000000</td>\n      <td>0.000000</td>\n      <td>0.000000</td>\n      <td>0.000000</td>\n      <td>0.000000</td>\n      <td>0.000000</td>\n      <td>0.000000</td>\n      <td>0.000000</td>\n      <td>0.000000</td>\n    </tr>\n    <tr>\n      <th>Ἀράβιος</th>\n      <td>0.000000</td>\n      <td>0.000000</td>\n      <td>0.000000</td>\n      <td>0.000000</td>\n      <td>0.670838</td>\n      <td>0.000000</td>\n      <td>0.000000</td>\n      <td>0.000000</td>\n      <td>0.000000</td>\n      <td>0.000000</td>\n      <td>...</td>\n      <td>0.000000</td>\n      <td>0.000000</td>\n      <td>0.000000</td>\n      <td>0.000000</td>\n      <td>0.000000</td>\n      <td>0.000000</td>\n      <td>0.000000</td>\n      <td>0.000000</td>\n      <td>0.000000</td>\n      <td>0.000000</td>\n    </tr>\n    <tr>\n      <th>προπάτωρ</th>\n      <td>0.674919</td>\n      <td>0.000000</td>\n      <td>0.000000</td>\n      <td>0.000000</td>\n      <td>0.000000</td>\n      <td>0.000000</td>\n      <td>0.000000</td>\n      <td>0.000000</td>\n      <td>0.000000</td>\n      <td>0.656832</td>\n      <td>...</td>\n      <td>0.000000</td>\n      <td>0.000000</td>\n      <td>0.000000</td>\n      <td>0.680243</td>\n      <td>0.667834</td>\n      <td>0.000000</td>\n      <td>0.000000</td>\n      <td>0.000000</td>\n      <td>0.725271</td>\n      <td>0.000000</td>\n    </tr>\n    <tr>\n      <th>κορυφή</th>\n      <td>0.000000</td>\n      <td>0.000000</td>\n      <td>0.000000</td>\n      <td>0.000000</td>\n      <td>0.000000</td>\n      <td>0.000000</td>\n      <td>0.000000</td>\n      <td>0.000000</td>\n      <td>0.000000</td>\n      <td>0.000000</td>\n      <td>...</td>\n      <td>0.000000</td>\n      <td>0.000000</td>\n      <td>0.000000</td>\n      <td>0.000000</td>\n      <td>0.000000</td>\n      <td>0.000000</td>\n      <td>0.000000</td>\n      <td>0.000000</td>\n      <td>0.000000</td>\n      <td>0.000000</td>\n    </tr>\n    <tr>\n      <th>λᾶας</th>\n      <td>0.000000</td>\n      <td>0.000000</td>\n      <td>0.000000</td>\n      <td>0.000000</td>\n      <td>0.000000</td>\n      <td>0.000000</td>\n      <td>0.000000</td>\n      <td>0.000000</td>\n      <td>0.000000</td>\n      <td>0.656622</td>\n      <td>...</td>\n      <td>0.000000</td>\n      <td>0.000000</td>\n      <td>0.000000</td>\n      <td>0.000000</td>\n      <td>0.000000</td>\n      <td>0.000000</td>\n      <td>0.000000</td>\n      <td>0.000000</td>\n      <td>0.683344</td>\n      <td>0.000000</td>\n    </tr>\n  </tbody>\n</table>\n<p>2000 rows × 1465 columns</p>\n</div>"
     },
     "execution_count": 19,
     "metadata": {},
     "output_type": "execute_result"
    }
   ],
   "source": [
    "data_4to5[2][shared_vocab]"
   ],
   "metadata": {
    "collapsed": false,
    "pycharm": {
     "name": "#%%\n"
    }
   }
  },
  {
   "cell_type": "code",
   "execution_count": null,
   "outputs": [],
   "source": [
    "\n",
    "\n"
   ],
   "metadata": {
    "collapsed": false,
    "pycharm": {
     "name": "#%%\n"
    }
   }
  }
 ],
 "metadata": {
  "kernelspec": {
   "name": "paul_venv",
   "language": "python",
   "display_name": "paul_venv"
  },
  "language_info": {
   "codemirror_mode": {
    "name": "ipython",
    "version": 2
   },
   "file_extension": ".py",
   "mimetype": "text/x-python",
   "name": "python",
   "nbconvert_exporter": "python",
   "pygments_lexer": "ipython2",
   "version": "2.7.6"
  }
 },
 "nbformat": 4,
 "nbformat_minor": 0
}