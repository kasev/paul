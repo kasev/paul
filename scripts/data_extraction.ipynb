{
 "cells": [
  {
   "cell_type": "code",
   "execution_count": 2,
   "metadata": {},
   "outputs": [],
   "source": [
    "import pandas as pd\n",
    "import requests"
   ]
  },
  {
   "cell_type": "code",
   "execution_count": 3,
   "outputs": [
    {
     "name": "stdout",
     "output_type": "stream",
     "text": [
      "['/Users/kasev/Projects/paul/data/large_files/LIRE_v1-0.json']\n"
     ]
    }
   ],
   "source": [
    "# find local version of the input dataset\n",
    "local_paths = !find ~/Projects -name \"LIRE_v1-0.json\"\n",
    "print(local_paths)"
   ],
   "metadata": {
    "collapsed": false,
    "pycharm": {
     "name": "#%%\n"
    }
   }
  },
  {
   "cell_type": "code",
   "execution_count": 62,
   "metadata": {},
   "outputs": [],
   "source": [
    "# LAGT (v1.0.1) dataset directly from Zenodo\n",
    "try:\n",
    "    LAGT = pd.read_json(local_paths[0])\n",
    "except:\n",
    "    resp = requests.get(\"https://zenodo.org/record/4971946/files/LAGT_v1-0.json?download=1\")\n",
    "    # save it for next time\n",
    "    LAGT = pd.DataFrame(resp.json())\n",
    "    LAGT.to_json(\"../data/large_files/LIRE_v1-0.json\")"
   ]
  },
  {
   "cell_type": "code",
   "execution_count": 63,
   "metadata": {},
   "outputs": [
    {
     "data": {
      "text/plain": "Index(['filename', 'author', 'title', 'wordcount', 'author_id', 'doc_id',\n       'raw_date', 'date_avr', 'date_probs', 'date_manual', 'provenience',\n       'tlg_epithet', 'clean_string', 'n_sentences', 'lemmatized_sentences'],\n      dtype='object')"
     },
     "execution_count": 63,
     "metadata": {},
     "output_type": "execute_result"
    }
   ],
   "source": [
    "LAGT.columns"
   ]
  },
  {
   "cell_type": "code",
   "execution_count": 64,
   "metadata": {},
   "outputs": [
    {
     "data": {
      "text/plain": "147"
     },
     "execution_count": 64,
     "metadata": {},
     "output_type": "execute_result"
    }
   ],
   "source": [
    "len(LAGT[LAGT[\"provenience\"]==\"christian\"])"
   ]
  },
  {
   "cell_type": "code",
   "execution_count": 158,
   "metadata": {},
   "outputs": [],
   "source": [
    "# upload manually updated metadata\n",
    "LAGT_metadata = pd.read_csv(\"../data/LAGT_metadata.csv\")\n",
    "\n",
    "# update provenience\n",
    "provenience_dict = dict(zip(LAGT_metadata[\"filename\"],  LAGT_metadata[\"provenience\"]))\n",
    "LAGT[\"provenience\"] = LAGT[\"filename\"].apply(lambda x: provenience_dict[x])\n",
    "\n",
    "# update author\n",
    "author_dict = dict(zip(LAGT_metadata[\"filename\"],  LAGT_metadata[\"author\"]))\n",
    "LAGT[\"author\"] = LAGT[\"filename\"].apply(lambda x: author_dict[x])\n",
    "\n",
    "# update title\n",
    "title_dict = dict(zip(LAGT_metadata[\"filename\"],  LAGT_metadata[\"title\"]))\n",
    "LAGT[\"title\"] = LAGT[\"filename\"].apply(lambda x: title_dict[x])"
   ]
  },
  {
   "cell_type": "code",
   "execution_count": 159,
   "metadata": {},
   "outputs": [
    {
     "data": {
      "text/plain": "148"
     },
     "execution_count": 159,
     "metadata": {},
     "output_type": "execute_result"
    }
   ],
   "source": [
    "len(LAGT[LAGT[\"provenience\"]==\"christian\"])"
   ]
  },
  {
   "cell_type": "code",
   "execution_count": 160,
   "metadata": {},
   "outputs": [
    {
     "data": {
      "text/plain": "Empty DataFrame\nColumns: [filename, author, title, wordcount, author_id, doc_id, raw_date, date_avr, date_probs, date_manual, provenience, tlg_epithet, clean_string, n_sentences, lemmatized_sentences, sentences_paul, sentences_paul_N]\nIndex: []",
      "text/html": "<div>\n<style scoped>\n    .dataframe tbody tr th:only-of-type {\n        vertical-align: middle;\n    }\n\n    .dataframe tbody tr th {\n        vertical-align: top;\n    }\n\n    .dataframe thead th {\n        text-align: right;\n    }\n</style>\n<table border=\"1\" class=\"dataframe\">\n  <thead>\n    <tr style=\"text-align: right;\">\n      <th></th>\n      <th>filename</th>\n      <th>author</th>\n      <th>title</th>\n      <th>wordcount</th>\n      <th>author_id</th>\n      <th>doc_id</th>\n      <th>raw_date</th>\n      <th>date_avr</th>\n      <th>date_probs</th>\n      <th>date_manual</th>\n      <th>provenience</th>\n      <th>tlg_epithet</th>\n      <th>clean_string</th>\n      <th>n_sentences</th>\n      <th>lemmatized_sentences</th>\n      <th>sentences_paul</th>\n      <th>sentences_paul_N</th>\n    </tr>\n  </thead>\n  <tbody>\n  </tbody>\n</table>\n</div>"
     },
     "execution_count": 160,
     "metadata": {},
     "output_type": "execute_result"
    }
   ],
   "source": [
    "# non-dated christian texts\n",
    "LAGT[(LAGT[\"provenience\"]==\"christian\") & (LAGT[\"date_avr\"].isnull())]"
   ]
  },
  {
   "cell_type": "code",
   "execution_count": 161,
   "outputs": [
    {
     "data": {
      "text/plain": "1277"
     },
     "execution_count": 161,
     "metadata": {},
     "output_type": "execute_result"
    }
   ],
   "source": [
    "(LAGT[\"date_avr\"] < 5).sum()"
   ],
   "metadata": {
    "collapsed": false,
    "pycharm": {
     "name": "#%%\n"
    }
   }
  },
  {
   "cell_type": "code",
   "execution_count": 162,
   "outputs": [
    {
     "name": "stdout",
     "output_type": "stream",
     "text": [
      "2 103 1642004\n",
      "2.5 104 1711991\n",
      "3 105 1714782\n",
      "3.5 137 3059696\n",
      "4 143 3361426\n",
      "4.5 148 3566823\n",
      "5 148 3566823\n"
     ]
    }
   ],
   "source": [
    "for date in [2, 2.5, 3, 3.5, 4, 4.5, 5]:\n",
    "    mask = ((LAGT[\"date_avr\"] <= date) & (LAGT[\"provenience\"]==\"christian\"))\n",
    "    print(date,\n",
    "          mask.sum(),\n",
    "          LAGT[mask][\"wordcount\"].sum()\n",
    "          )"
   ],
   "metadata": {
    "collapsed": false,
    "pycharm": {
     "name": "#%%\n"
    }
   }
  },
  {
   "cell_type": "code",
   "execution_count": 163,
   "metadata": {},
   "outputs": [],
   "source": [
    "# all texts before the end of the\n",
    "LAGT = LAGT[LAGT[\"date_avr\"] <= 5]"
   ]
  },
  {
   "cell_type": "code",
   "execution_count": 164,
   "outputs": [
    {
     "data": {
      "text/plain": "                            filename                                 author  \\\n385  tlg0031.tlg001.perseus-grc2.xml                      Gospel of Matthew   \n386  tlg0031.tlg002.perseus-grc2.xml                         Gospel of Mark   \n387  tlg0031.tlg003.perseus-grc2.xml                              Luke-Acts   \n388  tlg0031.tlg004.perseus-grc2.xml  Johnannine literature (New Testament)   \n389  tlg0031.tlg005.perseus-grc2.xml                              Luke-Acts   \n390  tlg0031.tlg006.perseus-grc2.xml                         Paul of Tarsus   \n391  tlg0031.tlg007.perseus-grc2.xml                         Paul of Tarsus   \n392  tlg0031.tlg008.perseus-grc2.xml                         Paul of Tarsus   \n393  tlg0031.tlg009.perseus-grc2.xml                         Paul of Tarsus   \n394  tlg0031.tlg010.perseus-grc2.xml                     Pauline literature   \n395  tlg0031.tlg011.perseus-grc2.xml                         Paul of Tarsus   \n396  tlg0031.tlg012.perseus-grc2.xml                     Pauline literature   \n397  tlg0031.tlg013.perseus-grc2.xml                         Paul of Tarsus   \n398  tlg0031.tlg014.perseus-grc2.xml                     Pauline literature   \n399  tlg0031.tlg015.perseus-grc2.xml                     Pauline literature   \n400  tlg0031.tlg016.perseus-grc2.xml                     Pauline literature   \n401  tlg0031.tlg017.perseus-grc2.xml                     Pauline literature   \n402  tlg0031.tlg018.perseus-grc2.xml                         Paul of Tarsus   \n403  tlg0031.tlg019.perseus-grc2.xml                Hebrews (New Testament)   \n404  tlg0031.tlg020.perseus-grc2.xml                  James (New Testament)   \n405  tlg0031.tlg021.perseus-grc2.xml                1 Peter (New Testament)   \n406  tlg0031.tlg022.perseus-grc2.xml                2 Peter (New Testament)   \n407  tlg0031.tlg023.perseus-grc2.xml  Johnannine literature (New Testament)   \n408  tlg0031.tlg024.perseus-grc2.xml  Johnannine literature (New Testament)   \n409  tlg0031.tlg025.perseus-grc2.xml  Johnannine literature (New Testament)   \n410  tlg0031.tlg026.perseus-grc2.xml                   Jude (New Testament)   \n411  tlg0031.tlg027.perseus-grc2.xml             Revelation (New Testament)   \n\n                 title  wordcount    author_id          doc_id raw_date  \\\n385  Gospel of Matthew      18288     tlg0031a  tlg0031.tlg001   A.D. 1   \n386     Gospel of Mark      11274     tlg0031b  tlg0031.tlg002   A.D. 1   \n387     Gospel of Luke      19458  tlg0031luke  tlg0031.tlg003   A.D. 1   \n388     Gospel of John      15590  tlg0031john  tlg0031.tlg004   A.D. 1   \n389               Acts      18406  tlg0031luke  tlg0031.tlg005   A.D. 1   \n390             Romans       7107  tlg0031paul  tlg0031.tlg006   A.D. 1   \n391      1 Corinthians       6814  tlg0031paul  tlg0031.tlg007   A.D. 1   \n392      2 Corinthians       4470  tlg0031paul  tlg0031.tlg008   A.D. 1   \n393          Galatians       2235  tlg0031paul  tlg0031.tlg009   A.D. 1   \n394          Ephesians       2421  tlg0031pspa  tlg0031.tlg010   A.D. 1   \n395        Philippians       1631  tlg0031paul  tlg0031.tlg011   A.D. 1   \n396         Colossians       1580  tlg0031pspa  tlg0031.tlg012   A.D. 1   \n397    1 Thessalonians       1475  tlg0031paul  tlg0031.tlg013   A.D. 1   \n398    2 Thessalonians        822  tlg0031pspa  tlg0031.tlg014   A.D. 1   \n399          1 Timothy       1597  tlg0031pspa  tlg0031.tlg015   A.D. 1   \n400          2 Timothy       1245  tlg0031pspa  tlg0031.tlg016   A.D. 1   \n401              Titus        659  tlg0031pspa  tlg0031.tlg017   A.D. 1   \n402           Philemon        334  tlg0031paul  tlg0031.tlg018   A.D. 1   \n403            Hebrews       4971     tlg0031c  tlg0031.tlg019   A.D. 1   \n404              James       1734     tlg0031d  tlg0031.tlg020   A.D. 1   \n405            1 Peter       1669     tlg0031e  tlg0031.tlg021   A.D. 1   \n406            2 Peter       1095     tlg0031f  tlg0031.tlg022   A.D. 1   \n407             1 John       2135  tlg0031john  tlg0031.tlg023   A.D. 1   \n408             2 John        245  tlg0031john  tlg0031.tlg024   A.D. 1   \n409             3 John        219  tlg0031john  tlg0031.tlg025   A.D. 1   \n410               Jude        456     tlg0031g  tlg0031.tlg026   A.D. 1   \n411         Revelation       9857     tlg0031h  tlg0031.tlg027   A.D. 1   \n\n     date_avr  date_probs  date_manual provenience tlg_epithet  \\\n385       0.5  {'0.5': 1}          0.5   christian          []   \n386       0.5  {'0.5': 1}          0.5   christian          []   \n387       0.5  {'0.5': 1}          0.5   christian          []   \n388       0.5  {'0.5': 1}          0.5   christian          []   \n389       0.5  {'0.5': 1}          0.5   christian          []   \n390       0.5  {'0.5': 1}          0.5   christian          []   \n391       0.5  {'0.5': 1}          0.5   christian          []   \n392       0.5  {'0.5': 1}          0.5   christian          []   \n393       0.5  {'0.5': 1}          0.5   christian          []   \n394       0.5  {'0.5': 1}          0.5   christian          []   \n395       0.5  {'0.5': 1}          0.5   christian          []   \n396       0.5  {'0.5': 1}          0.5   christian          []   \n397       0.5  {'0.5': 1}          0.5   christian          []   \n398       0.5  {'0.5': 1}          0.5   christian          []   \n399       0.5  {'0.5': 1}          0.5   christian          []   \n400       0.5  {'0.5': 1}          0.5   christian          []   \n401       0.5  {'0.5': 1}          0.5   christian          []   \n402       0.5  {'0.5': 1}          0.5   christian          []   \n403       0.5  {'0.5': 1}          0.5   christian          []   \n404       0.5  {'0.5': 1}          0.5   christian          []   \n405       0.5  {'0.5': 1}          0.5   christian          []   \n406       0.5  {'0.5': 1}          0.5   christian          []   \n407       0.5  {'0.5': 1}          0.5   christian          []   \n408       0.5  {'0.5': 1}          0.5   christian          []   \n409       0.5  {'0.5': 1}          0.5   christian          []   \n410       0.5  {'0.5': 1}          0.5   christian          []   \n411       0.5  {'0.5': 1}          0.5   christian          []   \n\n                                          clean_string  n_sentences  \\\n385   ΒΙΒΛΟΣ γενέσεως Ἰησοῦ Χριστοῦ υἱοῦ Δαυεὶδ υἱο...         1276   \n386   ΑΡΧΗ τοῦ εὐαγγελίου Ἰησοῦ Χριστοῦ . Καθὼς γέγ...          790   \n387   ΕΠΕΙΔΗΠΕΡ ΠΟΛΛΟΙ ἐπεχείρησαν ἀνατάξασθαι διήγ...         1274   \n388   ΕΝ ΑΡΧΗ ἦν ὁ λόγος, καὶ ὁ λόγος ἦν πρὸς τὸν θ...         1164   \n389   τὸν μὲν πρῶτον λόγον ἐποιησάμην περὶ πάντων, ...          960   \n390   ΠΑΥΛΟΣ δοῦλος Ἰησοῦ Χριστοῦ, κλητὸς ἀπόστολος...          490   \n391   ΠΑΥΛΟΣ κλητὸς ἀπόστολος Ἰησοῦ Χριστοῦ διὰ θελ...          544   \n392   ΠΑΥΛΟΣ ἀπόστολος Χριστοῦ Ἰησοῦ διὰ θελήματος ...          274   \n393   ΠΑΥΛΟΣ ἀπόστολος, οὐκ ἀπʼ ἀνθρώπων οὐδὲ διʼ ἀ...          159   \n394   ΠΑΥΛΟΣ ἀπόστολος Χριστοῦ Ἰησοῦ διὰ θελήματος ...           80   \n395   ΠΑΥΛΟΣ ΚΑΙ ΤΙΜΟΘΕΟΣ δοῦλοι Χριστοῦ Ἰησοῦ πᾶσι...           83   \n396   ΠΑΥΛΟΣ ἀπόστολος Χριστοῦ Ἰησοῦ διὰ θελήματος ...           68   \n397   ΠΑΥΛΟΣ ΚΑΙ ΣΙΛΟΥΑΝΟΣ ΚΑΙ ΤΙΜΟΘΕΟΣ τῇ ἐκκλησίᾳ...           65   \n398   ΠΑΥΛΟΣ ΚΑΙ ΣΙΛΟΥΑΝΟΣ ΚΑΙ ΤΙΜΟΘΕΟΣ τῇ ἐκκλησίᾳ...           34   \n399   ΠΑΥΛΟΣ ἀπόστολος Χριστοῦ Ἰησοῦ κατʼ ἐπιταγὴν ...           96   \n400   ΠΑΥΛΟΣ ἀπόστολος Χριστοῦ Ἰησοῦ διὰ θελήματος ...           79   \n401   ΠΑΥΛΟΣ δοῦλος θεοῦ, ἀπόστολος δὲ Ἰησοῦ Χριστο...           33   \n402   ΠΑΥΛΟΣ δέσμιος Χριστοῦ Ἰησοῦ καὶ Τιμόθεος ὁ ἀ...           17   \n403   ΠΟΛΥΜΕΡΩΣ ΚΑΙ ΠΟΛΥΤΡΟΠΩΣ πάλαι ὁ θεὸς λαλήσας...          262   \n404   ΙΑΚΩΒΟΣ θεοῦ καὶ κυρίου Ἰησοῦ Χριστοῦ δοῦλος ...          140   \n405   ΠΕΤΡΟΣ ἀπόστολος Ἰησοῦ Χριστοῦ ἐκλεκτοῖς παρε...           98   \n406   ΣΙΜΩΝ ΠΕΤΡΟΣ δοῦλος καὶ ἀπόστολος Ἰησοῦ Χριστ...           42   \n407   Ο ΗΝ ΑΠʼ ΑΡΧΗΣ, ὃ ἀκηκόαμεν, ὃ ἑωράκαμεν τοῖς...          140   \n408   Ο ΠΡΕΣΒΥΤΕΡΟΣ ἐκλεκτῇ κυρίᾳ καὶ τοῖς τέκνοις ...           15   \n409   Ο ΠΡΕΣΒΥΤΕΡΟΣ Γαίῳ τῷ ἀγαπητῷ, ὃν ἐγὼ ἀγαπῶ ἐ...           20   \n410   ΙΟΥΔΑΣ Ἰησοῦ Χριστοῦ δοῦλος, ἀδελφὸς δὲ Ἰακώβ...           20   \n411   ΑΠΟΚΑΛΥΨΙΣ ΙΗΣΟΥ ΧΡΙΣΤΟΥ, ἥν ἔδωκεν αὐτῷ ὁ θε...          475   \n\n                                  lemmatized_sentences  \\\n385  [[βίβλος, γένεσις, Ἰησοῦς, Χριστός, υἱός, Δαυί...   \n386  [[ἀρχή, εὐαγγέλιον, Ἰησοῦς, Χριστός], [γράφω, ...   \n387  [[πολύς, ἐπιχειρέω, ἀνατάσσομαι, διήγησις, πλη...   \n388  [[εἰμί, ἀρχή, εἰμί, λόγος, λόγος, εἰμί, θεός, ...   \n389  [[πρῶτος, λόγος, ποιέω, πᾶς, Θεόφιλος, ἄρχω, Ἰ...   \n390  [[Παῦλος, δοῦλος, Ἰησοῦς, Χριστός, κλητός, ἀπό...   \n391  [[Παῦλος, κλητός, ἀπόστολος, Ἰησοῦς, Χριστός, ...   \n392  [[Παῦλος, ἀπόστολος, Χριστός, Ἰησοῦς, θέλημα, ...   \n393  [[Παῦλος, ἀπόστολος, ἄνθρωπος, ἄνθρωπος, Ἰησοῦ...   \n394  [[Παῦλος, ἀπόστολος, Χριστός, Ἰησοῦς, θέλημα, ...   \n395  [[Παῦλος, Τιμόθεος, δοῦλος, Χριστός, Ἰησοῦς, ἅ...   \n396  [[Παῦλος, ἀπόστολος, Χριστός, Ἰησοῦς, θέλημα, ...   \n397  [[Παῦλος, σιλουανος, Τιμόθεος, ἐκκλησία, Θεσσα...   \n398  [[Παῦλος, σιλουανος, Τιμόθεος, ἐκκλησία, Θεσσα...   \n399  [[Παῦλος, ἀπόστολος, Χριστός, Ἰησοῦς, ἐπιταγή,...   \n400  [[Παῦλος, ἀπόστολος, Χριστός, Ἰησοῦς, θέλημα, ...   \n401  [[Παῦλος, δοῦλος, θεός, ἀπόστολος, Ἰησοῦς, Χρι...   \n402  [[Παῦλος, δέσμιος, Χριστός, Ἰησοῦς, Τιμόθεος, ...   \n403  [[πολύτροπος, θεός, λαλέω, πατήρ, προφήτης, ἔσ...   \n404  [[Ἰάκωβος, θεός, κύριος, Ἰησοῦς, Χριστός, δοῦλ...   \n405  [[πέτρος, ἀπόστολος, Ἰησοῦς, Χριστός, ἐκλεκτός...   \n406  [[σιμός, πέτρος, δοῦλος, ἀπόστολος, Ἰησοῦς, Χρ...   \n407  [[εἰμί, ἄπαις, ἀρχή, ἀκούω, ὁράω, ὀφθαλμός, θε...   \n408  [[πρέσβυς, ἐκλεκτός, κυρία, τέκνον, αὐτός, ἀγα...   \n409  [[πρέσβυς, γάιος, ἀγαπητός, ἀγαπάω, ἀλήθεια], ...   \n410  [[ιουδας, Ἰησοῦς, Χριστός, δοῦλος, ἀδελφός, Ἰά...   \n411  [[ἀποκάλυψις, Ἰησοῦς, χριστός, δίδωμι, θεός, δ...   \n\n                                        sentences_paul  sentences_paul_N  \n385                                                 []                 0  \n386                                                 []                 0  \n387                                                 []                 0  \n388                                                 []                 0  \n389  [[διέρχομαι, ὅλος, νῆσος, Πάφος, εὑρίσκω, ἀνήρ...               125  \n390  [[Παῦλος, δοῦλος, Ἰησοῦς, Χριστός, κλητός, ἀπό...                 1  \n391  [[Παῦλος, κλητός, ἀπόστολος, Ἰησοῦς, Χριστός, ...                 7  \n392  [[Παῦλος, ἀπόστολος, Χριστός, Ἰησοῦς, θέλημα, ...                 2  \n393  [[Παῦλος, ἀπόστολος, ἄνθρωπος, ἄνθρωπος, Ἰησοῦ...                 2  \n394  [[Παῦλος, ἀπόστολος, Χριστός, Ἰησοῦς, θέλημα, ...                 2  \n395  [[Παῦλος, Τιμόθεος, δοῦλος, Χριστός, Ἰησοῦς, ἅ...                 1  \n396  [[Παῦλος, ἀπόστολος, Χριστός, Ἰησοῦς, θέλημα, ...                 3  \n397  [[Παῦλος, σιλουανος, Τιμόθεος, ἐκκλησία, Θεσσα...                 2  \n398  [[Παῦλος, σιλουανος, Τιμόθεος, ἐκκλησία, Θεσσα...                 2  \n399  [[Παῦλος, ἀπόστολος, Χριστός, Ἰησοῦς, ἐπιταγή,...                 1  \n400  [[Παῦλος, ἀπόστολος, Χριστός, Ἰησοῦς, θέλημα, ...                 1  \n401  [[Παῦλος, δοῦλος, θεός, ἀπόστολος, Ἰησοῦς, Χρι...                 1  \n402  [[Παῦλος, δέσμιος, Χριστός, Ἰησοῦς, Τιμόθεος, ...                 3  \n403                                                 []                 0  \n404                                                 []                 0  \n405                                                 []                 0  \n406  [[ἀγαπητός, προσδοκάω, σπουδάζω, ἄσπιλος, ἀμώμ...                 1  \n407                                                 []                 0  \n408                                                 []                 0  \n409                                                 []                 0  \n410                                                 []                 0  \n411                                                 []                 0  ",
      "text/html": "<div>\n<style scoped>\n    .dataframe tbody tr th:only-of-type {\n        vertical-align: middle;\n    }\n\n    .dataframe tbody tr th {\n        vertical-align: top;\n    }\n\n    .dataframe thead th {\n        text-align: right;\n    }\n</style>\n<table border=\"1\" class=\"dataframe\">\n  <thead>\n    <tr style=\"text-align: right;\">\n      <th></th>\n      <th>filename</th>\n      <th>author</th>\n      <th>title</th>\n      <th>wordcount</th>\n      <th>author_id</th>\n      <th>doc_id</th>\n      <th>raw_date</th>\n      <th>date_avr</th>\n      <th>date_probs</th>\n      <th>date_manual</th>\n      <th>provenience</th>\n      <th>tlg_epithet</th>\n      <th>clean_string</th>\n      <th>n_sentences</th>\n      <th>lemmatized_sentences</th>\n      <th>sentences_paul</th>\n      <th>sentences_paul_N</th>\n    </tr>\n  </thead>\n  <tbody>\n    <tr>\n      <th>385</th>\n      <td>tlg0031.tlg001.perseus-grc2.xml</td>\n      <td>Gospel of Matthew</td>\n      <td>Gospel of Matthew</td>\n      <td>18288</td>\n      <td>tlg0031a</td>\n      <td>tlg0031.tlg001</td>\n      <td>A.D. 1</td>\n      <td>0.5</td>\n      <td>{'0.5': 1}</td>\n      <td>0.5</td>\n      <td>christian</td>\n      <td>[]</td>\n      <td>ΒΙΒΛΟΣ γενέσεως Ἰησοῦ Χριστοῦ υἱοῦ Δαυεὶδ υἱο...</td>\n      <td>1276</td>\n      <td>[[βίβλος, γένεσις, Ἰησοῦς, Χριστός, υἱός, Δαυί...</td>\n      <td>[]</td>\n      <td>0</td>\n    </tr>\n    <tr>\n      <th>386</th>\n      <td>tlg0031.tlg002.perseus-grc2.xml</td>\n      <td>Gospel of Mark</td>\n      <td>Gospel of Mark</td>\n      <td>11274</td>\n      <td>tlg0031b</td>\n      <td>tlg0031.tlg002</td>\n      <td>A.D. 1</td>\n      <td>0.5</td>\n      <td>{'0.5': 1}</td>\n      <td>0.5</td>\n      <td>christian</td>\n      <td>[]</td>\n      <td>ΑΡΧΗ τοῦ εὐαγγελίου Ἰησοῦ Χριστοῦ . Καθὼς γέγ...</td>\n      <td>790</td>\n      <td>[[ἀρχή, εὐαγγέλιον, Ἰησοῦς, Χριστός], [γράφω, ...</td>\n      <td>[]</td>\n      <td>0</td>\n    </tr>\n    <tr>\n      <th>387</th>\n      <td>tlg0031.tlg003.perseus-grc2.xml</td>\n      <td>Luke-Acts</td>\n      <td>Gospel of Luke</td>\n      <td>19458</td>\n      <td>tlg0031luke</td>\n      <td>tlg0031.tlg003</td>\n      <td>A.D. 1</td>\n      <td>0.5</td>\n      <td>{'0.5': 1}</td>\n      <td>0.5</td>\n      <td>christian</td>\n      <td>[]</td>\n      <td>ΕΠΕΙΔΗΠΕΡ ΠΟΛΛΟΙ ἐπεχείρησαν ἀνατάξασθαι διήγ...</td>\n      <td>1274</td>\n      <td>[[πολύς, ἐπιχειρέω, ἀνατάσσομαι, διήγησις, πλη...</td>\n      <td>[]</td>\n      <td>0</td>\n    </tr>\n    <tr>\n      <th>388</th>\n      <td>tlg0031.tlg004.perseus-grc2.xml</td>\n      <td>Johnannine literature (New Testament)</td>\n      <td>Gospel of John</td>\n      <td>15590</td>\n      <td>tlg0031john</td>\n      <td>tlg0031.tlg004</td>\n      <td>A.D. 1</td>\n      <td>0.5</td>\n      <td>{'0.5': 1}</td>\n      <td>0.5</td>\n      <td>christian</td>\n      <td>[]</td>\n      <td>ΕΝ ΑΡΧΗ ἦν ὁ λόγος, καὶ ὁ λόγος ἦν πρὸς τὸν θ...</td>\n      <td>1164</td>\n      <td>[[εἰμί, ἀρχή, εἰμί, λόγος, λόγος, εἰμί, θεός, ...</td>\n      <td>[]</td>\n      <td>0</td>\n    </tr>\n    <tr>\n      <th>389</th>\n      <td>tlg0031.tlg005.perseus-grc2.xml</td>\n      <td>Luke-Acts</td>\n      <td>Acts</td>\n      <td>18406</td>\n      <td>tlg0031luke</td>\n      <td>tlg0031.tlg005</td>\n      <td>A.D. 1</td>\n      <td>0.5</td>\n      <td>{'0.5': 1}</td>\n      <td>0.5</td>\n      <td>christian</td>\n      <td>[]</td>\n      <td>τὸν μὲν πρῶτον λόγον ἐποιησάμην περὶ πάντων, ...</td>\n      <td>960</td>\n      <td>[[πρῶτος, λόγος, ποιέω, πᾶς, Θεόφιλος, ἄρχω, Ἰ...</td>\n      <td>[[διέρχομαι, ὅλος, νῆσος, Πάφος, εὑρίσκω, ἀνήρ...</td>\n      <td>125</td>\n    </tr>\n    <tr>\n      <th>390</th>\n      <td>tlg0031.tlg006.perseus-grc2.xml</td>\n      <td>Paul of Tarsus</td>\n      <td>Romans</td>\n      <td>7107</td>\n      <td>tlg0031paul</td>\n      <td>tlg0031.tlg006</td>\n      <td>A.D. 1</td>\n      <td>0.5</td>\n      <td>{'0.5': 1}</td>\n      <td>0.5</td>\n      <td>christian</td>\n      <td>[]</td>\n      <td>ΠΑΥΛΟΣ δοῦλος Ἰησοῦ Χριστοῦ, κλητὸς ἀπόστολος...</td>\n      <td>490</td>\n      <td>[[Παῦλος, δοῦλος, Ἰησοῦς, Χριστός, κλητός, ἀπό...</td>\n      <td>[[Παῦλος, δοῦλος, Ἰησοῦς, Χριστός, κλητός, ἀπό...</td>\n      <td>1</td>\n    </tr>\n    <tr>\n      <th>391</th>\n      <td>tlg0031.tlg007.perseus-grc2.xml</td>\n      <td>Paul of Tarsus</td>\n      <td>1 Corinthians</td>\n      <td>6814</td>\n      <td>tlg0031paul</td>\n      <td>tlg0031.tlg007</td>\n      <td>A.D. 1</td>\n      <td>0.5</td>\n      <td>{'0.5': 1}</td>\n      <td>0.5</td>\n      <td>christian</td>\n      <td>[]</td>\n      <td>ΠΑΥΛΟΣ κλητὸς ἀπόστολος Ἰησοῦ Χριστοῦ διὰ θελ...</td>\n      <td>544</td>\n      <td>[[Παῦλος, κλητός, ἀπόστολος, Ἰησοῦς, Χριστός, ...</td>\n      <td>[[Παῦλος, κλητός, ἀπόστολος, Ἰησοῦς, Χριστός, ...</td>\n      <td>7</td>\n    </tr>\n    <tr>\n      <th>392</th>\n      <td>tlg0031.tlg008.perseus-grc2.xml</td>\n      <td>Paul of Tarsus</td>\n      <td>2 Corinthians</td>\n      <td>4470</td>\n      <td>tlg0031paul</td>\n      <td>tlg0031.tlg008</td>\n      <td>A.D. 1</td>\n      <td>0.5</td>\n      <td>{'0.5': 1}</td>\n      <td>0.5</td>\n      <td>christian</td>\n      <td>[]</td>\n      <td>ΠΑΥΛΟΣ ἀπόστολος Χριστοῦ Ἰησοῦ διὰ θελήματος ...</td>\n      <td>274</td>\n      <td>[[Παῦλος, ἀπόστολος, Χριστός, Ἰησοῦς, θέλημα, ...</td>\n      <td>[[Παῦλος, ἀπόστολος, Χριστός, Ἰησοῦς, θέλημα, ...</td>\n      <td>2</td>\n    </tr>\n    <tr>\n      <th>393</th>\n      <td>tlg0031.tlg009.perseus-grc2.xml</td>\n      <td>Paul of Tarsus</td>\n      <td>Galatians</td>\n      <td>2235</td>\n      <td>tlg0031paul</td>\n      <td>tlg0031.tlg009</td>\n      <td>A.D. 1</td>\n      <td>0.5</td>\n      <td>{'0.5': 1}</td>\n      <td>0.5</td>\n      <td>christian</td>\n      <td>[]</td>\n      <td>ΠΑΥΛΟΣ ἀπόστολος, οὐκ ἀπʼ ἀνθρώπων οὐδὲ διʼ ἀ...</td>\n      <td>159</td>\n      <td>[[Παῦλος, ἀπόστολος, ἄνθρωπος, ἄνθρωπος, Ἰησοῦ...</td>\n      <td>[[Παῦλος, ἀπόστολος, ἄνθρωπος, ἄνθρωπος, Ἰησοῦ...</td>\n      <td>2</td>\n    </tr>\n    <tr>\n      <th>394</th>\n      <td>tlg0031.tlg010.perseus-grc2.xml</td>\n      <td>Pauline literature</td>\n      <td>Ephesians</td>\n      <td>2421</td>\n      <td>tlg0031pspa</td>\n      <td>tlg0031.tlg010</td>\n      <td>A.D. 1</td>\n      <td>0.5</td>\n      <td>{'0.5': 1}</td>\n      <td>0.5</td>\n      <td>christian</td>\n      <td>[]</td>\n      <td>ΠΑΥΛΟΣ ἀπόστολος Χριστοῦ Ἰησοῦ διὰ θελήματος ...</td>\n      <td>80</td>\n      <td>[[Παῦλος, ἀπόστολος, Χριστός, Ἰησοῦς, θέλημα, ...</td>\n      <td>[[Παῦλος, ἀπόστολος, Χριστός, Ἰησοῦς, θέλημα, ...</td>\n      <td>2</td>\n    </tr>\n    <tr>\n      <th>395</th>\n      <td>tlg0031.tlg011.perseus-grc2.xml</td>\n      <td>Paul of Tarsus</td>\n      <td>Philippians</td>\n      <td>1631</td>\n      <td>tlg0031paul</td>\n      <td>tlg0031.tlg011</td>\n      <td>A.D. 1</td>\n      <td>0.5</td>\n      <td>{'0.5': 1}</td>\n      <td>0.5</td>\n      <td>christian</td>\n      <td>[]</td>\n      <td>ΠΑΥΛΟΣ ΚΑΙ ΤΙΜΟΘΕΟΣ δοῦλοι Χριστοῦ Ἰησοῦ πᾶσι...</td>\n      <td>83</td>\n      <td>[[Παῦλος, Τιμόθεος, δοῦλος, Χριστός, Ἰησοῦς, ἅ...</td>\n      <td>[[Παῦλος, Τιμόθεος, δοῦλος, Χριστός, Ἰησοῦς, ἅ...</td>\n      <td>1</td>\n    </tr>\n    <tr>\n      <th>396</th>\n      <td>tlg0031.tlg012.perseus-grc2.xml</td>\n      <td>Pauline literature</td>\n      <td>Colossians</td>\n      <td>1580</td>\n      <td>tlg0031pspa</td>\n      <td>tlg0031.tlg012</td>\n      <td>A.D. 1</td>\n      <td>0.5</td>\n      <td>{'0.5': 1}</td>\n      <td>0.5</td>\n      <td>christian</td>\n      <td>[]</td>\n      <td>ΠΑΥΛΟΣ ἀπόστολος Χριστοῦ Ἰησοῦ διὰ θελήματος ...</td>\n      <td>68</td>\n      <td>[[Παῦλος, ἀπόστολος, Χριστός, Ἰησοῦς, θέλημα, ...</td>\n      <td>[[Παῦλος, ἀπόστολος, Χριστός, Ἰησοῦς, θέλημα, ...</td>\n      <td>3</td>\n    </tr>\n    <tr>\n      <th>397</th>\n      <td>tlg0031.tlg013.perseus-grc2.xml</td>\n      <td>Paul of Tarsus</td>\n      <td>1 Thessalonians</td>\n      <td>1475</td>\n      <td>tlg0031paul</td>\n      <td>tlg0031.tlg013</td>\n      <td>A.D. 1</td>\n      <td>0.5</td>\n      <td>{'0.5': 1}</td>\n      <td>0.5</td>\n      <td>christian</td>\n      <td>[]</td>\n      <td>ΠΑΥΛΟΣ ΚΑΙ ΣΙΛΟΥΑΝΟΣ ΚΑΙ ΤΙΜΟΘΕΟΣ τῇ ἐκκλησίᾳ...</td>\n      <td>65</td>\n      <td>[[Παῦλος, σιλουανος, Τιμόθεος, ἐκκλησία, Θεσσα...</td>\n      <td>[[Παῦλος, σιλουανος, Τιμόθεος, ἐκκλησία, Θεσσα...</td>\n      <td>2</td>\n    </tr>\n    <tr>\n      <th>398</th>\n      <td>tlg0031.tlg014.perseus-grc2.xml</td>\n      <td>Pauline literature</td>\n      <td>2 Thessalonians</td>\n      <td>822</td>\n      <td>tlg0031pspa</td>\n      <td>tlg0031.tlg014</td>\n      <td>A.D. 1</td>\n      <td>0.5</td>\n      <td>{'0.5': 1}</td>\n      <td>0.5</td>\n      <td>christian</td>\n      <td>[]</td>\n      <td>ΠΑΥΛΟΣ ΚΑΙ ΣΙΛΟΥΑΝΟΣ ΚΑΙ ΤΙΜΟΘΕΟΣ τῇ ἐκκλησίᾳ...</td>\n      <td>34</td>\n      <td>[[Παῦλος, σιλουανος, Τιμόθεος, ἐκκλησία, Θεσσα...</td>\n      <td>[[Παῦλος, σιλουανος, Τιμόθεος, ἐκκλησία, Θεσσα...</td>\n      <td>2</td>\n    </tr>\n    <tr>\n      <th>399</th>\n      <td>tlg0031.tlg015.perseus-grc2.xml</td>\n      <td>Pauline literature</td>\n      <td>1 Timothy</td>\n      <td>1597</td>\n      <td>tlg0031pspa</td>\n      <td>tlg0031.tlg015</td>\n      <td>A.D. 1</td>\n      <td>0.5</td>\n      <td>{'0.5': 1}</td>\n      <td>0.5</td>\n      <td>christian</td>\n      <td>[]</td>\n      <td>ΠΑΥΛΟΣ ἀπόστολος Χριστοῦ Ἰησοῦ κατʼ ἐπιταγὴν ...</td>\n      <td>96</td>\n      <td>[[Παῦλος, ἀπόστολος, Χριστός, Ἰησοῦς, ἐπιταγή,...</td>\n      <td>[[Παῦλος, ἀπόστολος, Χριστός, Ἰησοῦς, ἐπιταγή,...</td>\n      <td>1</td>\n    </tr>\n    <tr>\n      <th>400</th>\n      <td>tlg0031.tlg016.perseus-grc2.xml</td>\n      <td>Pauline literature</td>\n      <td>2 Timothy</td>\n      <td>1245</td>\n      <td>tlg0031pspa</td>\n      <td>tlg0031.tlg016</td>\n      <td>A.D. 1</td>\n      <td>0.5</td>\n      <td>{'0.5': 1}</td>\n      <td>0.5</td>\n      <td>christian</td>\n      <td>[]</td>\n      <td>ΠΑΥΛΟΣ ἀπόστολος Χριστοῦ Ἰησοῦ διὰ θελήματος ...</td>\n      <td>79</td>\n      <td>[[Παῦλος, ἀπόστολος, Χριστός, Ἰησοῦς, θέλημα, ...</td>\n      <td>[[Παῦλος, ἀπόστολος, Χριστός, Ἰησοῦς, θέλημα, ...</td>\n      <td>1</td>\n    </tr>\n    <tr>\n      <th>401</th>\n      <td>tlg0031.tlg017.perseus-grc2.xml</td>\n      <td>Pauline literature</td>\n      <td>Titus</td>\n      <td>659</td>\n      <td>tlg0031pspa</td>\n      <td>tlg0031.tlg017</td>\n      <td>A.D. 1</td>\n      <td>0.5</td>\n      <td>{'0.5': 1}</td>\n      <td>0.5</td>\n      <td>christian</td>\n      <td>[]</td>\n      <td>ΠΑΥΛΟΣ δοῦλος θεοῦ, ἀπόστολος δὲ Ἰησοῦ Χριστο...</td>\n      <td>33</td>\n      <td>[[Παῦλος, δοῦλος, θεός, ἀπόστολος, Ἰησοῦς, Χρι...</td>\n      <td>[[Παῦλος, δοῦλος, θεός, ἀπόστολος, Ἰησοῦς, Χρι...</td>\n      <td>1</td>\n    </tr>\n    <tr>\n      <th>402</th>\n      <td>tlg0031.tlg018.perseus-grc2.xml</td>\n      <td>Paul of Tarsus</td>\n      <td>Philemon</td>\n      <td>334</td>\n      <td>tlg0031paul</td>\n      <td>tlg0031.tlg018</td>\n      <td>A.D. 1</td>\n      <td>0.5</td>\n      <td>{'0.5': 1}</td>\n      <td>0.5</td>\n      <td>christian</td>\n      <td>[]</td>\n      <td>ΠΑΥΛΟΣ δέσμιος Χριστοῦ Ἰησοῦ καὶ Τιμόθεος ὁ ἀ...</td>\n      <td>17</td>\n      <td>[[Παῦλος, δέσμιος, Χριστός, Ἰησοῦς, Τιμόθεος, ...</td>\n      <td>[[Παῦλος, δέσμιος, Χριστός, Ἰησοῦς, Τιμόθεος, ...</td>\n      <td>3</td>\n    </tr>\n    <tr>\n      <th>403</th>\n      <td>tlg0031.tlg019.perseus-grc2.xml</td>\n      <td>Hebrews (New Testament)</td>\n      <td>Hebrews</td>\n      <td>4971</td>\n      <td>tlg0031c</td>\n      <td>tlg0031.tlg019</td>\n      <td>A.D. 1</td>\n      <td>0.5</td>\n      <td>{'0.5': 1}</td>\n      <td>0.5</td>\n      <td>christian</td>\n      <td>[]</td>\n      <td>ΠΟΛΥΜΕΡΩΣ ΚΑΙ ΠΟΛΥΤΡΟΠΩΣ πάλαι ὁ θεὸς λαλήσας...</td>\n      <td>262</td>\n      <td>[[πολύτροπος, θεός, λαλέω, πατήρ, προφήτης, ἔσ...</td>\n      <td>[]</td>\n      <td>0</td>\n    </tr>\n    <tr>\n      <th>404</th>\n      <td>tlg0031.tlg020.perseus-grc2.xml</td>\n      <td>James (New Testament)</td>\n      <td>James</td>\n      <td>1734</td>\n      <td>tlg0031d</td>\n      <td>tlg0031.tlg020</td>\n      <td>A.D. 1</td>\n      <td>0.5</td>\n      <td>{'0.5': 1}</td>\n      <td>0.5</td>\n      <td>christian</td>\n      <td>[]</td>\n      <td>ΙΑΚΩΒΟΣ θεοῦ καὶ κυρίου Ἰησοῦ Χριστοῦ δοῦλος ...</td>\n      <td>140</td>\n      <td>[[Ἰάκωβος, θεός, κύριος, Ἰησοῦς, Χριστός, δοῦλ...</td>\n      <td>[]</td>\n      <td>0</td>\n    </tr>\n    <tr>\n      <th>405</th>\n      <td>tlg0031.tlg021.perseus-grc2.xml</td>\n      <td>1 Peter (New Testament)</td>\n      <td>1 Peter</td>\n      <td>1669</td>\n      <td>tlg0031e</td>\n      <td>tlg0031.tlg021</td>\n      <td>A.D. 1</td>\n      <td>0.5</td>\n      <td>{'0.5': 1}</td>\n      <td>0.5</td>\n      <td>christian</td>\n      <td>[]</td>\n      <td>ΠΕΤΡΟΣ ἀπόστολος Ἰησοῦ Χριστοῦ ἐκλεκτοῖς παρε...</td>\n      <td>98</td>\n      <td>[[πέτρος, ἀπόστολος, Ἰησοῦς, Χριστός, ἐκλεκτός...</td>\n      <td>[]</td>\n      <td>0</td>\n    </tr>\n    <tr>\n      <th>406</th>\n      <td>tlg0031.tlg022.perseus-grc2.xml</td>\n      <td>2 Peter (New Testament)</td>\n      <td>2 Peter</td>\n      <td>1095</td>\n      <td>tlg0031f</td>\n      <td>tlg0031.tlg022</td>\n      <td>A.D. 1</td>\n      <td>0.5</td>\n      <td>{'0.5': 1}</td>\n      <td>0.5</td>\n      <td>christian</td>\n      <td>[]</td>\n      <td>ΣΙΜΩΝ ΠΕΤΡΟΣ δοῦλος καὶ ἀπόστολος Ἰησοῦ Χριστ...</td>\n      <td>42</td>\n      <td>[[σιμός, πέτρος, δοῦλος, ἀπόστολος, Ἰησοῦς, Χρ...</td>\n      <td>[[ἀγαπητός, προσδοκάω, σπουδάζω, ἄσπιλος, ἀμώμ...</td>\n      <td>1</td>\n    </tr>\n    <tr>\n      <th>407</th>\n      <td>tlg0031.tlg023.perseus-grc2.xml</td>\n      <td>Johnannine literature (New Testament)</td>\n      <td>1 John</td>\n      <td>2135</td>\n      <td>tlg0031john</td>\n      <td>tlg0031.tlg023</td>\n      <td>A.D. 1</td>\n      <td>0.5</td>\n      <td>{'0.5': 1}</td>\n      <td>0.5</td>\n      <td>christian</td>\n      <td>[]</td>\n      <td>Ο ΗΝ ΑΠʼ ΑΡΧΗΣ, ὃ ἀκηκόαμεν, ὃ ἑωράκαμεν τοῖς...</td>\n      <td>140</td>\n      <td>[[εἰμί, ἄπαις, ἀρχή, ἀκούω, ὁράω, ὀφθαλμός, θε...</td>\n      <td>[]</td>\n      <td>0</td>\n    </tr>\n    <tr>\n      <th>408</th>\n      <td>tlg0031.tlg024.perseus-grc2.xml</td>\n      <td>Johnannine literature (New Testament)</td>\n      <td>2 John</td>\n      <td>245</td>\n      <td>tlg0031john</td>\n      <td>tlg0031.tlg024</td>\n      <td>A.D. 1</td>\n      <td>0.5</td>\n      <td>{'0.5': 1}</td>\n      <td>0.5</td>\n      <td>christian</td>\n      <td>[]</td>\n      <td>Ο ΠΡΕΣΒΥΤΕΡΟΣ ἐκλεκτῇ κυρίᾳ καὶ τοῖς τέκνοις ...</td>\n      <td>15</td>\n      <td>[[πρέσβυς, ἐκλεκτός, κυρία, τέκνον, αὐτός, ἀγα...</td>\n      <td>[]</td>\n      <td>0</td>\n    </tr>\n    <tr>\n      <th>409</th>\n      <td>tlg0031.tlg025.perseus-grc2.xml</td>\n      <td>Johnannine literature (New Testament)</td>\n      <td>3 John</td>\n      <td>219</td>\n      <td>tlg0031john</td>\n      <td>tlg0031.tlg025</td>\n      <td>A.D. 1</td>\n      <td>0.5</td>\n      <td>{'0.5': 1}</td>\n      <td>0.5</td>\n      <td>christian</td>\n      <td>[]</td>\n      <td>Ο ΠΡΕΣΒΥΤΕΡΟΣ Γαίῳ τῷ ἀγαπητῷ, ὃν ἐγὼ ἀγαπῶ ἐ...</td>\n      <td>20</td>\n      <td>[[πρέσβυς, γάιος, ἀγαπητός, ἀγαπάω, ἀλήθεια], ...</td>\n      <td>[]</td>\n      <td>0</td>\n    </tr>\n    <tr>\n      <th>410</th>\n      <td>tlg0031.tlg026.perseus-grc2.xml</td>\n      <td>Jude (New Testament)</td>\n      <td>Jude</td>\n      <td>456</td>\n      <td>tlg0031g</td>\n      <td>tlg0031.tlg026</td>\n      <td>A.D. 1</td>\n      <td>0.5</td>\n      <td>{'0.5': 1}</td>\n      <td>0.5</td>\n      <td>christian</td>\n      <td>[]</td>\n      <td>ΙΟΥΔΑΣ Ἰησοῦ Χριστοῦ δοῦλος, ἀδελφὸς δὲ Ἰακώβ...</td>\n      <td>20</td>\n      <td>[[ιουδας, Ἰησοῦς, Χριστός, δοῦλος, ἀδελφός, Ἰά...</td>\n      <td>[]</td>\n      <td>0</td>\n    </tr>\n    <tr>\n      <th>411</th>\n      <td>tlg0031.tlg027.perseus-grc2.xml</td>\n      <td>Revelation (New Testament)</td>\n      <td>Revelation</td>\n      <td>9857</td>\n      <td>tlg0031h</td>\n      <td>tlg0031.tlg027</td>\n      <td>A.D. 1</td>\n      <td>0.5</td>\n      <td>{'0.5': 1}</td>\n      <td>0.5</td>\n      <td>christian</td>\n      <td>[]</td>\n      <td>ΑΠΟΚΑΛΥΨΙΣ ΙΗΣΟΥ ΧΡΙΣΤΟΥ, ἥν ἔδωκεν αὐτῷ ὁ θε...</td>\n      <td>475</td>\n      <td>[[ἀποκάλυψις, Ἰησοῦς, χριστός, δίδωμι, θεός, δ...</td>\n      <td>[]</td>\n      <td>0</td>\n    </tr>\n  </tbody>\n</table>\n</div>"
     },
     "execution_count": 164,
     "metadata": {},
     "output_type": "execute_result"
    }
   ],
   "source": [
    "LAGT[LAGT[\"author_id\"].str.startswith(\"tlg0031\")]"
   ],
   "metadata": {
    "collapsed": false,
    "pycharm": {
     "name": "#%%\n"
    }
   }
  },
  {
   "cell_type": "code",
   "execution_count": 165,
   "metadata": {},
   "outputs": [
    {
     "data": {
      "text/plain": "                            filename          author   title  wordcount  \\\n390  tlg0031.tlg006.perseus-grc2.xml  Paul of Tarsus  Romans       7107   \n\n       author_id          doc_id raw_date  date_avr  date_probs  date_manual  \\\n390  tlg0031paul  tlg0031.tlg006   A.D. 1       0.5  {'0.5': 1}          0.5   \n\n    provenience tlg_epithet  \\\n390   christian          []   \n\n                                          clean_string  n_sentences  \\\n390   ΠΑΥΛΟΣ δοῦλος Ἰησοῦ Χριστοῦ, κλητὸς ἀπόστολος...          490   \n\n                                  lemmatized_sentences  \\\n390  [[Παῦλος, δοῦλος, Ἰησοῦς, Χριστός, κλητός, ἀπό...   \n\n                                        sentences_paul  sentences_paul_N  \n390  [[Παῦλος, δοῦλος, Ἰησοῦς, Χριστός, κλητός, ἀπό...                 1  ",
      "text/html": "<div>\n<style scoped>\n    .dataframe tbody tr th:only-of-type {\n        vertical-align: middle;\n    }\n\n    .dataframe tbody tr th {\n        vertical-align: top;\n    }\n\n    .dataframe thead th {\n        text-align: right;\n    }\n</style>\n<table border=\"1\" class=\"dataframe\">\n  <thead>\n    <tr style=\"text-align: right;\">\n      <th></th>\n      <th>filename</th>\n      <th>author</th>\n      <th>title</th>\n      <th>wordcount</th>\n      <th>author_id</th>\n      <th>doc_id</th>\n      <th>raw_date</th>\n      <th>date_avr</th>\n      <th>date_probs</th>\n      <th>date_manual</th>\n      <th>provenience</th>\n      <th>tlg_epithet</th>\n      <th>clean_string</th>\n      <th>n_sentences</th>\n      <th>lemmatized_sentences</th>\n      <th>sentences_paul</th>\n      <th>sentences_paul_N</th>\n    </tr>\n  </thead>\n  <tbody>\n    <tr>\n      <th>390</th>\n      <td>tlg0031.tlg006.perseus-grc2.xml</td>\n      <td>Paul of Tarsus</td>\n      <td>Romans</td>\n      <td>7107</td>\n      <td>tlg0031paul</td>\n      <td>tlg0031.tlg006</td>\n      <td>A.D. 1</td>\n      <td>0.5</td>\n      <td>{'0.5': 1}</td>\n      <td>0.5</td>\n      <td>christian</td>\n      <td>[]</td>\n      <td>ΠΑΥΛΟΣ δοῦλος Ἰησοῦ Χριστοῦ, κλητὸς ἀπόστολος...</td>\n      <td>490</td>\n      <td>[[Παῦλος, δοῦλος, Ἰησοῦς, Χριστός, κλητός, ἀπό...</td>\n      <td>[[Παῦλος, δοῦλος, Ἰησοῦς, Χριστός, κλητός, ἀπό...</td>\n      <td>1</td>\n    </tr>\n  </tbody>\n</table>\n</div>"
     },
     "execution_count": 165,
     "metadata": {},
     "output_type": "execute_result"
    }
   ],
   "source": [
    "LAGT[LAGT[\"doc_id\"].str.startswith(\"tlg0031.tlg006\")]"
   ]
  },
  {
   "cell_type": "code",
   "execution_count": 166,
   "metadata": {},
   "outputs": [
    {
     "data": {
      "text/plain": "                            filename          author            title  \\\n390  tlg0031.tlg006.perseus-grc2.xml  Paul of Tarsus           Romans   \n391  tlg0031.tlg007.perseus-grc2.xml  Paul of Tarsus    1 Corinthians   \n392  tlg0031.tlg008.perseus-grc2.xml  Paul of Tarsus    2 Corinthians   \n393  tlg0031.tlg009.perseus-grc2.xml  Paul of Tarsus        Galatians   \n395  tlg0031.tlg011.perseus-grc2.xml  Paul of Tarsus      Philippians   \n397  tlg0031.tlg013.perseus-grc2.xml  Paul of Tarsus  1 Thessalonians   \n402  tlg0031.tlg018.perseus-grc2.xml  Paul of Tarsus         Philemon   \n\n     wordcount    author_id          doc_id raw_date  date_avr  date_probs  \\\n390       7107  tlg0031paul  tlg0031.tlg006   A.D. 1       0.5  {'0.5': 1}   \n391       6814  tlg0031paul  tlg0031.tlg007   A.D. 1       0.5  {'0.5': 1}   \n392       4470  tlg0031paul  tlg0031.tlg008   A.D. 1       0.5  {'0.5': 1}   \n393       2235  tlg0031paul  tlg0031.tlg009   A.D. 1       0.5  {'0.5': 1}   \n395       1631  tlg0031paul  tlg0031.tlg011   A.D. 1       0.5  {'0.5': 1}   \n397       1475  tlg0031paul  tlg0031.tlg013   A.D. 1       0.5  {'0.5': 1}   \n402        334  tlg0031paul  tlg0031.tlg018   A.D. 1       0.5  {'0.5': 1}   \n\n     date_manual provenience tlg_epithet  \\\n390          0.5   christian          []   \n391          0.5   christian          []   \n392          0.5   christian          []   \n393          0.5   christian          []   \n395          0.5   christian          []   \n397          0.5   christian          []   \n402          0.5   christian          []   \n\n                                          clean_string  n_sentences  \\\n390   ΠΑΥΛΟΣ δοῦλος Ἰησοῦ Χριστοῦ, κλητὸς ἀπόστολος...          490   \n391   ΠΑΥΛΟΣ κλητὸς ἀπόστολος Ἰησοῦ Χριστοῦ διὰ θελ...          544   \n392   ΠΑΥΛΟΣ ἀπόστολος Χριστοῦ Ἰησοῦ διὰ θελήματος ...          274   \n393   ΠΑΥΛΟΣ ἀπόστολος, οὐκ ἀπʼ ἀνθρώπων οὐδὲ διʼ ἀ...          159   \n395   ΠΑΥΛΟΣ ΚΑΙ ΤΙΜΟΘΕΟΣ δοῦλοι Χριστοῦ Ἰησοῦ πᾶσι...           83   \n397   ΠΑΥΛΟΣ ΚΑΙ ΣΙΛΟΥΑΝΟΣ ΚΑΙ ΤΙΜΟΘΕΟΣ τῇ ἐκκλησίᾳ...           65   \n402   ΠΑΥΛΟΣ δέσμιος Χριστοῦ Ἰησοῦ καὶ Τιμόθεος ὁ ἀ...           17   \n\n                                  lemmatized_sentences  \\\n390  [[Παῦλος, δοῦλος, Ἰησοῦς, Χριστός, κλητός, ἀπό...   \n391  [[Παῦλος, κλητός, ἀπόστολος, Ἰησοῦς, Χριστός, ...   \n392  [[Παῦλος, ἀπόστολος, Χριστός, Ἰησοῦς, θέλημα, ...   \n393  [[Παῦλος, ἀπόστολος, ἄνθρωπος, ἄνθρωπος, Ἰησοῦ...   \n395  [[Παῦλος, Τιμόθεος, δοῦλος, Χριστός, Ἰησοῦς, ἅ...   \n397  [[Παῦλος, σιλουανος, Τιμόθεος, ἐκκλησία, Θεσσα...   \n402  [[Παῦλος, δέσμιος, Χριστός, Ἰησοῦς, Τιμόθεος, ...   \n\n                                        sentences_paul  sentences_paul_N  \n390  [[Παῦλος, δοῦλος, Ἰησοῦς, Χριστός, κλητός, ἀπό...                 1  \n391  [[Παῦλος, κλητός, ἀπόστολος, Ἰησοῦς, Χριστός, ...                 7  \n392  [[Παῦλος, ἀπόστολος, Χριστός, Ἰησοῦς, θέλημα, ...                 2  \n393  [[Παῦλος, ἀπόστολος, ἄνθρωπος, ἄνθρωπος, Ἰησοῦ...                 2  \n395  [[Παῦλος, Τιμόθεος, δοῦλος, Χριστός, Ἰησοῦς, ἅ...                 1  \n397  [[Παῦλος, σιλουανος, Τιμόθεος, ἐκκλησία, Θεσσα...                 2  \n402  [[Παῦλος, δέσμιος, Χριστός, Ἰησοῦς, Τιμόθεος, ...                 3  ",
      "text/html": "<div>\n<style scoped>\n    .dataframe tbody tr th:only-of-type {\n        vertical-align: middle;\n    }\n\n    .dataframe tbody tr th {\n        vertical-align: top;\n    }\n\n    .dataframe thead th {\n        text-align: right;\n    }\n</style>\n<table border=\"1\" class=\"dataframe\">\n  <thead>\n    <tr style=\"text-align: right;\">\n      <th></th>\n      <th>filename</th>\n      <th>author</th>\n      <th>title</th>\n      <th>wordcount</th>\n      <th>author_id</th>\n      <th>doc_id</th>\n      <th>raw_date</th>\n      <th>date_avr</th>\n      <th>date_probs</th>\n      <th>date_manual</th>\n      <th>provenience</th>\n      <th>tlg_epithet</th>\n      <th>clean_string</th>\n      <th>n_sentences</th>\n      <th>lemmatized_sentences</th>\n      <th>sentences_paul</th>\n      <th>sentences_paul_N</th>\n    </tr>\n  </thead>\n  <tbody>\n    <tr>\n      <th>390</th>\n      <td>tlg0031.tlg006.perseus-grc2.xml</td>\n      <td>Paul of Tarsus</td>\n      <td>Romans</td>\n      <td>7107</td>\n      <td>tlg0031paul</td>\n      <td>tlg0031.tlg006</td>\n      <td>A.D. 1</td>\n      <td>0.5</td>\n      <td>{'0.5': 1}</td>\n      <td>0.5</td>\n      <td>christian</td>\n      <td>[]</td>\n      <td>ΠΑΥΛΟΣ δοῦλος Ἰησοῦ Χριστοῦ, κλητὸς ἀπόστολος...</td>\n      <td>490</td>\n      <td>[[Παῦλος, δοῦλος, Ἰησοῦς, Χριστός, κλητός, ἀπό...</td>\n      <td>[[Παῦλος, δοῦλος, Ἰησοῦς, Χριστός, κλητός, ἀπό...</td>\n      <td>1</td>\n    </tr>\n    <tr>\n      <th>391</th>\n      <td>tlg0031.tlg007.perseus-grc2.xml</td>\n      <td>Paul of Tarsus</td>\n      <td>1 Corinthians</td>\n      <td>6814</td>\n      <td>tlg0031paul</td>\n      <td>tlg0031.tlg007</td>\n      <td>A.D. 1</td>\n      <td>0.5</td>\n      <td>{'0.5': 1}</td>\n      <td>0.5</td>\n      <td>christian</td>\n      <td>[]</td>\n      <td>ΠΑΥΛΟΣ κλητὸς ἀπόστολος Ἰησοῦ Χριστοῦ διὰ θελ...</td>\n      <td>544</td>\n      <td>[[Παῦλος, κλητός, ἀπόστολος, Ἰησοῦς, Χριστός, ...</td>\n      <td>[[Παῦλος, κλητός, ἀπόστολος, Ἰησοῦς, Χριστός, ...</td>\n      <td>7</td>\n    </tr>\n    <tr>\n      <th>392</th>\n      <td>tlg0031.tlg008.perseus-grc2.xml</td>\n      <td>Paul of Tarsus</td>\n      <td>2 Corinthians</td>\n      <td>4470</td>\n      <td>tlg0031paul</td>\n      <td>tlg0031.tlg008</td>\n      <td>A.D. 1</td>\n      <td>0.5</td>\n      <td>{'0.5': 1}</td>\n      <td>0.5</td>\n      <td>christian</td>\n      <td>[]</td>\n      <td>ΠΑΥΛΟΣ ἀπόστολος Χριστοῦ Ἰησοῦ διὰ θελήματος ...</td>\n      <td>274</td>\n      <td>[[Παῦλος, ἀπόστολος, Χριστός, Ἰησοῦς, θέλημα, ...</td>\n      <td>[[Παῦλος, ἀπόστολος, Χριστός, Ἰησοῦς, θέλημα, ...</td>\n      <td>2</td>\n    </tr>\n    <tr>\n      <th>393</th>\n      <td>tlg0031.tlg009.perseus-grc2.xml</td>\n      <td>Paul of Tarsus</td>\n      <td>Galatians</td>\n      <td>2235</td>\n      <td>tlg0031paul</td>\n      <td>tlg0031.tlg009</td>\n      <td>A.D. 1</td>\n      <td>0.5</td>\n      <td>{'0.5': 1}</td>\n      <td>0.5</td>\n      <td>christian</td>\n      <td>[]</td>\n      <td>ΠΑΥΛΟΣ ἀπόστολος, οὐκ ἀπʼ ἀνθρώπων οὐδὲ διʼ ἀ...</td>\n      <td>159</td>\n      <td>[[Παῦλος, ἀπόστολος, ἄνθρωπος, ἄνθρωπος, Ἰησοῦ...</td>\n      <td>[[Παῦλος, ἀπόστολος, ἄνθρωπος, ἄνθρωπος, Ἰησοῦ...</td>\n      <td>2</td>\n    </tr>\n    <tr>\n      <th>395</th>\n      <td>tlg0031.tlg011.perseus-grc2.xml</td>\n      <td>Paul of Tarsus</td>\n      <td>Philippians</td>\n      <td>1631</td>\n      <td>tlg0031paul</td>\n      <td>tlg0031.tlg011</td>\n      <td>A.D. 1</td>\n      <td>0.5</td>\n      <td>{'0.5': 1}</td>\n      <td>0.5</td>\n      <td>christian</td>\n      <td>[]</td>\n      <td>ΠΑΥΛΟΣ ΚΑΙ ΤΙΜΟΘΕΟΣ δοῦλοι Χριστοῦ Ἰησοῦ πᾶσι...</td>\n      <td>83</td>\n      <td>[[Παῦλος, Τιμόθεος, δοῦλος, Χριστός, Ἰησοῦς, ἅ...</td>\n      <td>[[Παῦλος, Τιμόθεος, δοῦλος, Χριστός, Ἰησοῦς, ἅ...</td>\n      <td>1</td>\n    </tr>\n    <tr>\n      <th>397</th>\n      <td>tlg0031.tlg013.perseus-grc2.xml</td>\n      <td>Paul of Tarsus</td>\n      <td>1 Thessalonians</td>\n      <td>1475</td>\n      <td>tlg0031paul</td>\n      <td>tlg0031.tlg013</td>\n      <td>A.D. 1</td>\n      <td>0.5</td>\n      <td>{'0.5': 1}</td>\n      <td>0.5</td>\n      <td>christian</td>\n      <td>[]</td>\n      <td>ΠΑΥΛΟΣ ΚΑΙ ΣΙΛΟΥΑΝΟΣ ΚΑΙ ΤΙΜΟΘΕΟΣ τῇ ἐκκλησίᾳ...</td>\n      <td>65</td>\n      <td>[[Παῦλος, σιλουανος, Τιμόθεος, ἐκκλησία, Θεσσα...</td>\n      <td>[[Παῦλος, σιλουανος, Τιμόθεος, ἐκκλησία, Θεσσα...</td>\n      <td>2</td>\n    </tr>\n    <tr>\n      <th>402</th>\n      <td>tlg0031.tlg018.perseus-grc2.xml</td>\n      <td>Paul of Tarsus</td>\n      <td>Philemon</td>\n      <td>334</td>\n      <td>tlg0031paul</td>\n      <td>tlg0031.tlg018</td>\n      <td>A.D. 1</td>\n      <td>0.5</td>\n      <td>{'0.5': 1}</td>\n      <td>0.5</td>\n      <td>christian</td>\n      <td>[]</td>\n      <td>ΠΑΥΛΟΣ δέσμιος Χριστοῦ Ἰησοῦ καὶ Τιμόθεος ὁ ἀ...</td>\n      <td>17</td>\n      <td>[[Παῦλος, δέσμιος, Χριστός, Ἰησοῦς, Τιμόθεος, ...</td>\n      <td>[[Παῦλος, δέσμιος, Χριστός, Ἰησοῦς, Τιμόθεος, ...</td>\n      <td>3</td>\n    </tr>\n  </tbody>\n</table>\n</div>"
     },
     "execution_count": 166,
     "metadata": {},
     "output_type": "execute_result"
    }
   ],
   "source": [
    "LAGT[LAGT[\"author_id\"].str.startswith(\"tlg0031paul\")]"
   ]
  },
  {
   "cell_type": "code",
   "execution_count": 167,
   "metadata": {},
   "outputs": [],
   "source": [
    "def get_word_sentences(sentences_list, word):\n",
    "    selected_sentences = [sentence for sentence in sentences_list if word in sentence]\n",
    "    return selected_sentences"
   ]
  },
  {
   "cell_type": "code",
   "execution_count": 168,
   "metadata": {},
   "outputs": [],
   "source": [
    "word = \"Παῦλος\"\n",
    "LAGT[\"sentences_paul\"] = LAGT[\"lemmatized_sentences\"].apply(lambda x: get_word_sentences(x, word))"
   ]
  },
  {
   "cell_type": "code",
   "execution_count": 169,
   "metadata": {},
   "outputs": [],
   "source": [
    "LAGT[\"sentences_paul_N\"] = LAGT[\"sentences_paul\"].apply(lambda x: len(x))"
   ]
  },
  {
   "cell_type": "code",
   "execution_count": 170,
   "metadata": {},
   "outputs": [
    {
     "data": {
      "text/plain": "121"
     },
     "execution_count": 170,
     "metadata": {},
     "output_type": "execute_result"
    }
   ],
   "source": [
    "# how many documents contain the word \"Παῦλος\"\n",
    "len(LAGT[LAGT[\"sentences_paul_N\"]>0])"
   ]
  },
  {
   "cell_type": "code",
   "execution_count": 171,
   "metadata": {},
   "outputs": [
    {
     "data": {
      "text/plain": "1138"
     },
     "execution_count": 171,
     "metadata": {},
     "output_type": "execute_result"
    }
   ],
   "source": [
    "LAGT[\"sentences_paul_N\"].sum()"
   ]
  },
  {
   "cell_type": "code",
   "execution_count": 172,
   "metadata": {},
   "outputs": [
    {
     "data": {
      "text/plain": "1045"
     },
     "execution_count": 172,
     "metadata": {},
     "output_type": "execute_result"
    }
   ],
   "source": [
    "LAGT[LAGT[\"provenience\"]==\"christian\"][\"sentences_paul_N\"].sum()"
   ]
  },
  {
   "cell_type": "markdown",
   "source": [
    "\"Acts of Paul and Thecla\"\n",
    "- http://www.patrologia-lib.ru/apocryph/novum/a_paul.htm"
   ],
   "metadata": {
    "collapsed": false,
    "pycharm": {
     "name": "#%% md\n"
    }
   }
  },
  {
   "cell_type": "code",
   "execution_count": 173,
   "metadata": {},
   "outputs": [
    {
     "data": {
      "text/plain": "1027"
     },
     "execution_count": 173,
     "metadata": {},
     "output_type": "execute_result"
    }
   ],
   "source": [
    "LAGT[(LAGT[\"provenience\"]==\"christian\") & (LAGT[\"author_id\"]!=\"tlg0031paul\")][\"sentences_paul_N\"].sum()"
   ]
  },
  {
   "cell_type": "code",
   "execution_count": 174,
   "outputs": [],
   "source": [
    "# save for future usage\n",
    "LAGT.to_json(\"../data/large_files/LAGT_paul.json\")"
   ],
   "metadata": {
    "collapsed": false,
    "pycharm": {
     "name": "#%%\n"
    }
   }
  },
  {
   "cell_type": "code",
   "execution_count": 175,
   "outputs": [],
   "source": [
    "df = LAGT[(LAGT[\"provenience\"]==\"christian\") &(LAGT[\"author_id\"]!=\"tlg0031paul\")]#  [\"sentences_paul_N\"].sum()"
   ],
   "metadata": {
    "collapsed": false,
    "pycharm": {
     "name": "#%%\n"
    }
   }
  },
  {
   "cell_type": "code",
   "execution_count": 178,
   "outputs": [
    {
     "data": {
      "text/plain": "                                               author_id  wordcount  \\\nauthor                                                                \nOrigen                                           tlg2042     931431   \nLuke-Acts                                    tlg0031luke      37864   \nEpiphanius                                       tlg2021     325038   \nSocrates of Constantinople                       tlg2057     103901   \nSozomen                                          tlg2048     112966   \nAthanasius of Alexandria                         tlg2035      94010   \nTheodoret                                        tlg4089     153333   \nBasil of Caesarea                                tlg2040     144429   \nClement of Alexandria                            tlg0555     235754   \nEusebius                                         tlg2018     620546   \npseudo-Menander                                  tlg2022      77297   \nIrenaeus                                         tlg1447      24651   \nPauline literature                           tlg0031pspa       8324   \nHippolytus of Rome                               tlg2115      69987   \nPolycarp                                         tlg1622       1804   \nClement of Rome                                  tlg1271      13936   \nDionysius of Corinth                             tlg1329        607   \nIgnatius of Antioch                              tlg1443       8396   \nMark the Deacon                                  tlg2806      24954   \nPhilostorgius                                    tlg2058      37002   \nSeniores Apud Irenaeum                           tlg1665        695   \n2 Peter (New Testament)                         tlg0031f       1095   \nZosimus                                          tlg4084      62236   \nColluthus                                        tlg4081       2336   \nPappus Alexandrinus                              tlg2032      66896   \nMarinus                                          tlg4075       2905   \nMarcianus of Heraclea                            tlg4003      13973   \nThe Passion of Saints Perpetua and Felicity      tlg2016        695   \nGospel of Matthew                               tlg0031a      18288   \nMartyrdom of Polycarp                            tlg1484       2791   \nTatianus                                         tlg1766      10189   \nTheophilus of Antioch                            tlg1725      21548   \nHebrews (New Testament)                         tlg0031c       4971   \nJames (New Testament)                           tlg0031d       1734   \n1 Peter (New Testament)                         tlg0031e       1669   \nJude (New Testament)                            tlg0031g        456   \nRevelation (New Testament)                      tlg0031h       9857   \nJohnannine literature (New Testament)        tlg0031john      18189   \nActa Joannis (recensio)                          tlg0317       2488   \nMaximus of Tyre                                  tlg0563     118960   \nJustin Martyr                                    tlg0645      73449   \nPseudo-Justin Martyr                             tlg0646       2725   \nAthenagoras                                      tlg1205      20210   \nBarnabas                                         tlg1216       7440   \nDidache                                          tlg1311       2377   \nThe Shepherd of Hermas                           tlg1419      30282   \nGospel of Mark                                  tlg0031b      11274   \nCyril of Alexandria                              tlg4090       6799   \n\n                                             n_sentences  sentences_paul_N  \nauthor                                                                      \nOrigen                                            110127               459  \nLuke-Acts                                           2234               125  \nEpiphanius                                         33079               102  \nSocrates of Constantinople                          8743                76  \nSozomen                                             7150                63  \nAthanasius of Alexandria                           10789                49  \nTheodoret                                          16094                40  \nBasil of Caesarea                                  11257                23  \nClement of Alexandria                              14753                18  \nEusebius                                           35220                17  \npseudo-Menander                                    20005                14  \nIrenaeus                                            4525                12  \nPauline literature                                   390                10  \nHippolytus of Rome                                  4394                 7  \nPolycarp                                             212                 2  \nClement of Rome                                     1410                 2  \nDionysius of Corinth                                  67                 2  \nIgnatius of Antioch                                  790                 2  \nMark the Deacon                                     2132                 1  \nPhilostorgius                                       4172                 1  \nSeniores Apud Irenaeum                               200                 1  \n2 Peter (New Testament)                               42                 1  \nZosimus                                             2265                 0  \nColluthus                                            209                 0  \nPappus Alexandrinus                                 5843                 0  \nMarinus                                              282                 0  \nMarcianus of Heraclea                                949                 0  \nThe Passion of Saints Perpetua and Felicity          355                 0  \nGospel of Matthew                                   1276                 0  \nMartyrdom of Polycarp                                217                 0  \nTatianus                                             648                 0  \nTheophilus of Antioch                               1300                 0  \nHebrews (New Testament)                              262                 0  \nJames (New Testament)                                140                 0  \n1 Peter (New Testament)                               98                 0  \nJude (New Testament)                                  20                 0  \nRevelation (New Testament)                           475                 0  \nJohnannine literature (New Testament)               1339                 0  \nActa Joannis (recensio)                              181                 0  \nMaximus of Tyre                                    22598                 0  \nJustin Martyr                                       5829                 0  \nPseudo-Justin Martyr                                 240                 0  \nAthenagoras                                          808                 0  \nBarnabas                                             875                 0  \nDidache                                              284                 0  \nThe Shepherd of Hermas                              2959                 0  \nGospel of Mark                                       790                 0  \nCyril of Alexandria                                 3659                 0  ",
      "text/html": "<div>\n<style scoped>\n    .dataframe tbody tr th:only-of-type {\n        vertical-align: middle;\n    }\n\n    .dataframe tbody tr th {\n        vertical-align: top;\n    }\n\n    .dataframe thead th {\n        text-align: right;\n    }\n</style>\n<table border=\"1\" class=\"dataframe\">\n  <thead>\n    <tr style=\"text-align: right;\">\n      <th></th>\n      <th>author_id</th>\n      <th>wordcount</th>\n      <th>n_sentences</th>\n      <th>sentences_paul_N</th>\n    </tr>\n    <tr>\n      <th>author</th>\n      <th></th>\n      <th></th>\n      <th></th>\n      <th></th>\n    </tr>\n  </thead>\n  <tbody>\n    <tr>\n      <th>Origen</th>\n      <td>tlg2042</td>\n      <td>931431</td>\n      <td>110127</td>\n      <td>459</td>\n    </tr>\n    <tr>\n      <th>Luke-Acts</th>\n      <td>tlg0031luke</td>\n      <td>37864</td>\n      <td>2234</td>\n      <td>125</td>\n    </tr>\n    <tr>\n      <th>Epiphanius</th>\n      <td>tlg2021</td>\n      <td>325038</td>\n      <td>33079</td>\n      <td>102</td>\n    </tr>\n    <tr>\n      <th>Socrates of Constantinople</th>\n      <td>tlg2057</td>\n      <td>103901</td>\n      <td>8743</td>\n      <td>76</td>\n    </tr>\n    <tr>\n      <th>Sozomen</th>\n      <td>tlg2048</td>\n      <td>112966</td>\n      <td>7150</td>\n      <td>63</td>\n    </tr>\n    <tr>\n      <th>Athanasius of Alexandria</th>\n      <td>tlg2035</td>\n      <td>94010</td>\n      <td>10789</td>\n      <td>49</td>\n    </tr>\n    <tr>\n      <th>Theodoret</th>\n      <td>tlg4089</td>\n      <td>153333</td>\n      <td>16094</td>\n      <td>40</td>\n    </tr>\n    <tr>\n      <th>Basil of Caesarea</th>\n      <td>tlg2040</td>\n      <td>144429</td>\n      <td>11257</td>\n      <td>23</td>\n    </tr>\n    <tr>\n      <th>Clement of Alexandria</th>\n      <td>tlg0555</td>\n      <td>235754</td>\n      <td>14753</td>\n      <td>18</td>\n    </tr>\n    <tr>\n      <th>Eusebius</th>\n      <td>tlg2018</td>\n      <td>620546</td>\n      <td>35220</td>\n      <td>17</td>\n    </tr>\n    <tr>\n      <th>pseudo-Menander</th>\n      <td>tlg2022</td>\n      <td>77297</td>\n      <td>20005</td>\n      <td>14</td>\n    </tr>\n    <tr>\n      <th>Irenaeus</th>\n      <td>tlg1447</td>\n      <td>24651</td>\n      <td>4525</td>\n      <td>12</td>\n    </tr>\n    <tr>\n      <th>Pauline literature</th>\n      <td>tlg0031pspa</td>\n      <td>8324</td>\n      <td>390</td>\n      <td>10</td>\n    </tr>\n    <tr>\n      <th>Hippolytus of Rome</th>\n      <td>tlg2115</td>\n      <td>69987</td>\n      <td>4394</td>\n      <td>7</td>\n    </tr>\n    <tr>\n      <th>Polycarp</th>\n      <td>tlg1622</td>\n      <td>1804</td>\n      <td>212</td>\n      <td>2</td>\n    </tr>\n    <tr>\n      <th>Clement of Rome</th>\n      <td>tlg1271</td>\n      <td>13936</td>\n      <td>1410</td>\n      <td>2</td>\n    </tr>\n    <tr>\n      <th>Dionysius of Corinth</th>\n      <td>tlg1329</td>\n      <td>607</td>\n      <td>67</td>\n      <td>2</td>\n    </tr>\n    <tr>\n      <th>Ignatius of Antioch</th>\n      <td>tlg1443</td>\n      <td>8396</td>\n      <td>790</td>\n      <td>2</td>\n    </tr>\n    <tr>\n      <th>Mark the Deacon</th>\n      <td>tlg2806</td>\n      <td>24954</td>\n      <td>2132</td>\n      <td>1</td>\n    </tr>\n    <tr>\n      <th>Philostorgius</th>\n      <td>tlg2058</td>\n      <td>37002</td>\n      <td>4172</td>\n      <td>1</td>\n    </tr>\n    <tr>\n      <th>Seniores Apud Irenaeum</th>\n      <td>tlg1665</td>\n      <td>695</td>\n      <td>200</td>\n      <td>1</td>\n    </tr>\n    <tr>\n      <th>2 Peter (New Testament)</th>\n      <td>tlg0031f</td>\n      <td>1095</td>\n      <td>42</td>\n      <td>1</td>\n    </tr>\n    <tr>\n      <th>Zosimus</th>\n      <td>tlg4084</td>\n      <td>62236</td>\n      <td>2265</td>\n      <td>0</td>\n    </tr>\n    <tr>\n      <th>Colluthus</th>\n      <td>tlg4081</td>\n      <td>2336</td>\n      <td>209</td>\n      <td>0</td>\n    </tr>\n    <tr>\n      <th>Pappus Alexandrinus</th>\n      <td>tlg2032</td>\n      <td>66896</td>\n      <td>5843</td>\n      <td>0</td>\n    </tr>\n    <tr>\n      <th>Marinus</th>\n      <td>tlg4075</td>\n      <td>2905</td>\n      <td>282</td>\n      <td>0</td>\n    </tr>\n    <tr>\n      <th>Marcianus of Heraclea</th>\n      <td>tlg4003</td>\n      <td>13973</td>\n      <td>949</td>\n      <td>0</td>\n    </tr>\n    <tr>\n      <th>The Passion of Saints Perpetua and Felicity</th>\n      <td>tlg2016</td>\n      <td>695</td>\n      <td>355</td>\n      <td>0</td>\n    </tr>\n    <tr>\n      <th>Gospel of Matthew</th>\n      <td>tlg0031a</td>\n      <td>18288</td>\n      <td>1276</td>\n      <td>0</td>\n    </tr>\n    <tr>\n      <th>Martyrdom of Polycarp</th>\n      <td>tlg1484</td>\n      <td>2791</td>\n      <td>217</td>\n      <td>0</td>\n    </tr>\n    <tr>\n      <th>Tatianus</th>\n      <td>tlg1766</td>\n      <td>10189</td>\n      <td>648</td>\n      <td>0</td>\n    </tr>\n    <tr>\n      <th>Theophilus of Antioch</th>\n      <td>tlg1725</td>\n      <td>21548</td>\n      <td>1300</td>\n      <td>0</td>\n    </tr>\n    <tr>\n      <th>Hebrews (New Testament)</th>\n      <td>tlg0031c</td>\n      <td>4971</td>\n      <td>262</td>\n      <td>0</td>\n    </tr>\n    <tr>\n      <th>James (New Testament)</th>\n      <td>tlg0031d</td>\n      <td>1734</td>\n      <td>140</td>\n      <td>0</td>\n    </tr>\n    <tr>\n      <th>1 Peter (New Testament)</th>\n      <td>tlg0031e</td>\n      <td>1669</td>\n      <td>98</td>\n      <td>0</td>\n    </tr>\n    <tr>\n      <th>Jude (New Testament)</th>\n      <td>tlg0031g</td>\n      <td>456</td>\n      <td>20</td>\n      <td>0</td>\n    </tr>\n    <tr>\n      <th>Revelation (New Testament)</th>\n      <td>tlg0031h</td>\n      <td>9857</td>\n      <td>475</td>\n      <td>0</td>\n    </tr>\n    <tr>\n      <th>Johnannine literature (New Testament)</th>\n      <td>tlg0031john</td>\n      <td>18189</td>\n      <td>1339</td>\n      <td>0</td>\n    </tr>\n    <tr>\n      <th>Acta Joannis (recensio)</th>\n      <td>tlg0317</td>\n      <td>2488</td>\n      <td>181</td>\n      <td>0</td>\n    </tr>\n    <tr>\n      <th>Maximus of Tyre</th>\n      <td>tlg0563</td>\n      <td>118960</td>\n      <td>22598</td>\n      <td>0</td>\n    </tr>\n    <tr>\n      <th>Justin Martyr</th>\n      <td>tlg0645</td>\n      <td>73449</td>\n      <td>5829</td>\n      <td>0</td>\n    </tr>\n    <tr>\n      <th>Pseudo-Justin Martyr</th>\n      <td>tlg0646</td>\n      <td>2725</td>\n      <td>240</td>\n      <td>0</td>\n    </tr>\n    <tr>\n      <th>Athenagoras</th>\n      <td>tlg1205</td>\n      <td>20210</td>\n      <td>808</td>\n      <td>0</td>\n    </tr>\n    <tr>\n      <th>Barnabas</th>\n      <td>tlg1216</td>\n      <td>7440</td>\n      <td>875</td>\n      <td>0</td>\n    </tr>\n    <tr>\n      <th>Didache</th>\n      <td>tlg1311</td>\n      <td>2377</td>\n      <td>284</td>\n      <td>0</td>\n    </tr>\n    <tr>\n      <th>The Shepherd of Hermas</th>\n      <td>tlg1419</td>\n      <td>30282</td>\n      <td>2959</td>\n      <td>0</td>\n    </tr>\n    <tr>\n      <th>Gospel of Mark</th>\n      <td>tlg0031b</td>\n      <td>11274</td>\n      <td>790</td>\n      <td>0</td>\n    </tr>\n    <tr>\n      <th>Cyril of Alexandria</th>\n      <td>tlg4090</td>\n      <td>6799</td>\n      <td>3659</td>\n      <td>0</td>\n    </tr>\n  </tbody>\n</table>\n</div>"
     },
     "execution_count": 178,
     "metadata": {},
     "output_type": "execute_result"
    }
   ],
   "source": [
    "df_authors = df.groupby(\"author_id\").sum()[[\"wordcount\", \"n_sentences\", \"sentences_paul_N\"]].sort_values(\"sentences_paul_N\", ascending=False)#\n",
    "author_dict = dict(zip(LAGT_metadata[\"author_id\"],  LAGT_metadata[\"author\"]))\n",
    "def get_author(x):\n",
    "    try:\n",
    "        return author_dict[x]\n",
    "    except:\n",
    "        return None\n",
    "df_authors.reset_index(inplace=True)\n",
    "df_authors[\"author\"] = df_authors[\"author_id\"].apply(get_author)\n",
    "df_authors.set_index(\"author\", inplace=True)\n",
    "df_authors"
   ],
   "metadata": {
    "collapsed": false,
    "pycharm": {
     "name": "#%%\n"
    }
   }
  },
  {
   "cell_type": "code",
   "execution_count": 177,
   "outputs": [
    {
     "data": {
      "text/plain": "                                               author_id  wordcount  \\\nauthor                                                                \nLuke-Acts                                    tlg0031luke      37864   \nDionysius of Corinth                             tlg1329        607   \nPauline literature                           tlg0031pspa       8324   \n2 Peter (New Testament)                         tlg0031f       1095   \nPolycarp                                         tlg1622       1804   \nSozomen                                          tlg2048     112966   \nSocrates of Constantinople                       tlg2057     103901   \nSeniores Apud Irenaeum                           tlg1665        695   \nAthanasius of Alexandria                         tlg2035      94010   \nOrigen                                           tlg2042     931431   \nEpiphanius                                       tlg2021     325038   \nIrenaeus                                         tlg1447      24651   \nIgnatius of Antioch                              tlg1443       8396   \nTheodoret                                        tlg4089     153333   \nBasil of Caesarea                                tlg2040     144429   \nHippolytus of Rome                               tlg2115      69987   \nClement of Rome                                  tlg1271      13936   \nClement of Alexandria                            tlg0555     235754   \npseudo-Menander                                  tlg2022      77297   \nEusebius                                         tlg2018     620546   \nMark the Deacon                                  tlg2806      24954   \nPhilostorgius                                    tlg2058      37002   \nPseudo-Justin Martyr                             tlg0646       2725   \nJohnannine literature (New Testament)        tlg0031john      18189   \nActa Joannis (recensio)                          tlg0317       2488   \nMaximus of Tyre                                  tlg0563     118960   \nJustin Martyr                                    tlg0645      73449   \nThe Shepherd of Hermas                           tlg1419      30282   \nAthenagoras                                      tlg1205      20210   \nBarnabas                                         tlg1216       7440   \nDidache                                          tlg1311       2377   \nGospel of Mark                                  tlg0031b      11274   \nJude (New Testament)                            tlg0031g        456   \nRevelation (New Testament)                      tlg0031h       9857   \nPappus Alexandrinus                              tlg2032      66896   \n1 Peter (New Testament)                         tlg0031e       1669   \nJames (New Testament)                           tlg0031d       1734   \nHebrews (New Testament)                         tlg0031c       4971   \nTheophilus of Antioch                            tlg1725      21548   \nTatianus                                         tlg1766      10189   \nMartyrdom of Polycarp                            tlg1484       2791   \nGospel of Matthew                               tlg0031a      18288   \nThe Passion of Saints Perpetua and Felicity      tlg2016        695   \nMarcianus of Heraclea                            tlg4003      13973   \nMarinus                                          tlg4075       2905   \nColluthus                                        tlg4081       2336   \nZosimus                                          tlg4084      62236   \nCyril of Alexandria                              tlg4090       6799   \n\n                                             n_sentences  sentences_paul_N  \\\nauthor                                                                       \nLuke-Acts                                           2234               125   \nDionysius of Corinth                                  67                 2   \nPauline literature                                   390                10   \n2 Peter (New Testament)                               42                 1   \nPolycarp                                             212                 2   \nSozomen                                             7150                63   \nSocrates of Constantinople                          8743                76   \nSeniores Apud Irenaeum                               200                 1   \nAthanasius of Alexandria                           10789                49   \nOrigen                                            110127               459   \nEpiphanius                                         33079               102   \nIrenaeus                                            4525                12   \nIgnatius of Antioch                                  790                 2   \nTheodoret                                          16094                40   \nBasil of Caesarea                                  11257                23   \nHippolytus of Rome                                  4394                 7   \nClement of Rome                                     1410                 2   \nClement of Alexandria                              14753                18   \npseudo-Menander                                    20005                14   \nEusebius                                           35220                17   \nMark the Deacon                                     2132                 1   \nPhilostorgius                                       4172                 1   \nPseudo-Justin Martyr                                 240                 0   \nJohnannine literature (New Testament)               1339                 0   \nActa Joannis (recensio)                              181                 0   \nMaximus of Tyre                                    22598                 0   \nJustin Martyr                                       5829                 0   \nThe Shepherd of Hermas                              2959                 0   \nAthenagoras                                          808                 0   \nBarnabas                                             875                 0   \nDidache                                              284                 0   \nGospel of Mark                                       790                 0   \nJude (New Testament)                                  20                 0   \nRevelation (New Testament)                           475                 0   \nPappus Alexandrinus                                 5843                 0   \n1 Peter (New Testament)                               98                 0   \nJames (New Testament)                                140                 0   \nHebrews (New Testament)                              262                 0   \nTheophilus of Antioch                               1300                 0   \nTatianus                                             648                 0   \nMartyrdom of Polycarp                                217                 0   \nGospel of Matthew                                   1276                 0   \nThe Passion of Saints Perpetua and Felicity          355                 0   \nMarcianus of Heraclea                                949                 0   \nMarinus                                              282                 0   \nColluthus                                            209                 0   \nZosimus                                             2265                 0   \nCyril of Alexandria                                 3659                 0   \n\n                                             paul_proportion  \nauthor                                                        \nLuke-Acts                                           0.055953  \nDionysius of Corinth                                0.029851  \nPauline literature                                  0.025641  \n2 Peter (New Testament)                             0.023810  \nPolycarp                                            0.009434  \nSozomen                                             0.008811  \nSocrates of Constantinople                          0.008693  \nSeniores Apud Irenaeum                              0.005000  \nAthanasius of Alexandria                            0.004542  \nOrigen                                              0.004168  \nEpiphanius                                          0.003084  \nIrenaeus                                            0.002652  \nIgnatius of Antioch                                 0.002532  \nTheodoret                                           0.002485  \nBasil of Caesarea                                   0.002043  \nHippolytus of Rome                                  0.001593  \nClement of Rome                                     0.001418  \nClement of Alexandria                               0.001220  \npseudo-Menander                                     0.000700  \nEusebius                                            0.000483  \nMark the Deacon                                     0.000469  \nPhilostorgius                                       0.000240  \nPseudo-Justin Martyr                                0.000000  \nJohnannine literature (New Testament)               0.000000  \nActa Joannis (recensio)                             0.000000  \nMaximus of Tyre                                     0.000000  \nJustin Martyr                                       0.000000  \nThe Shepherd of Hermas                              0.000000  \nAthenagoras                                         0.000000  \nBarnabas                                            0.000000  \nDidache                                             0.000000  \nGospel of Mark                                      0.000000  \nJude (New Testament)                                0.000000  \nRevelation (New Testament)                          0.000000  \nPappus Alexandrinus                                 0.000000  \n1 Peter (New Testament)                             0.000000  \nJames (New Testament)                               0.000000  \nHebrews (New Testament)                             0.000000  \nTheophilus of Antioch                               0.000000  \nTatianus                                            0.000000  \nMartyrdom of Polycarp                               0.000000  \nGospel of Matthew                                   0.000000  \nThe Passion of Saints Perpetua and Felicity         0.000000  \nMarcianus of Heraclea                               0.000000  \nMarinus                                             0.000000  \nColluthus                                           0.000000  \nZosimus                                             0.000000  \nCyril of Alexandria                                 0.000000  ",
      "text/html": "<div>\n<style scoped>\n    .dataframe tbody tr th:only-of-type {\n        vertical-align: middle;\n    }\n\n    .dataframe tbody tr th {\n        vertical-align: top;\n    }\n\n    .dataframe thead th {\n        text-align: right;\n    }\n</style>\n<table border=\"1\" class=\"dataframe\">\n  <thead>\n    <tr style=\"text-align: right;\">\n      <th></th>\n      <th>author_id</th>\n      <th>wordcount</th>\n      <th>n_sentences</th>\n      <th>sentences_paul_N</th>\n      <th>paul_proportion</th>\n    </tr>\n    <tr>\n      <th>author</th>\n      <th></th>\n      <th></th>\n      <th></th>\n      <th></th>\n      <th></th>\n    </tr>\n  </thead>\n  <tbody>\n    <tr>\n      <th>Luke-Acts</th>\n      <td>tlg0031luke</td>\n      <td>37864</td>\n      <td>2234</td>\n      <td>125</td>\n      <td>0.055953</td>\n    </tr>\n    <tr>\n      <th>Dionysius of Corinth</th>\n      <td>tlg1329</td>\n      <td>607</td>\n      <td>67</td>\n      <td>2</td>\n      <td>0.029851</td>\n    </tr>\n    <tr>\n      <th>Pauline literature</th>\n      <td>tlg0031pspa</td>\n      <td>8324</td>\n      <td>390</td>\n      <td>10</td>\n      <td>0.025641</td>\n    </tr>\n    <tr>\n      <th>2 Peter (New Testament)</th>\n      <td>tlg0031f</td>\n      <td>1095</td>\n      <td>42</td>\n      <td>1</td>\n      <td>0.023810</td>\n    </tr>\n    <tr>\n      <th>Polycarp</th>\n      <td>tlg1622</td>\n      <td>1804</td>\n      <td>212</td>\n      <td>2</td>\n      <td>0.009434</td>\n    </tr>\n    <tr>\n      <th>Sozomen</th>\n      <td>tlg2048</td>\n      <td>112966</td>\n      <td>7150</td>\n      <td>63</td>\n      <td>0.008811</td>\n    </tr>\n    <tr>\n      <th>Socrates of Constantinople</th>\n      <td>tlg2057</td>\n      <td>103901</td>\n      <td>8743</td>\n      <td>76</td>\n      <td>0.008693</td>\n    </tr>\n    <tr>\n      <th>Seniores Apud Irenaeum</th>\n      <td>tlg1665</td>\n      <td>695</td>\n      <td>200</td>\n      <td>1</td>\n      <td>0.005000</td>\n    </tr>\n    <tr>\n      <th>Athanasius of Alexandria</th>\n      <td>tlg2035</td>\n      <td>94010</td>\n      <td>10789</td>\n      <td>49</td>\n      <td>0.004542</td>\n    </tr>\n    <tr>\n      <th>Origen</th>\n      <td>tlg2042</td>\n      <td>931431</td>\n      <td>110127</td>\n      <td>459</td>\n      <td>0.004168</td>\n    </tr>\n    <tr>\n      <th>Epiphanius</th>\n      <td>tlg2021</td>\n      <td>325038</td>\n      <td>33079</td>\n      <td>102</td>\n      <td>0.003084</td>\n    </tr>\n    <tr>\n      <th>Irenaeus</th>\n      <td>tlg1447</td>\n      <td>24651</td>\n      <td>4525</td>\n      <td>12</td>\n      <td>0.002652</td>\n    </tr>\n    <tr>\n      <th>Ignatius of Antioch</th>\n      <td>tlg1443</td>\n      <td>8396</td>\n      <td>790</td>\n      <td>2</td>\n      <td>0.002532</td>\n    </tr>\n    <tr>\n      <th>Theodoret</th>\n      <td>tlg4089</td>\n      <td>153333</td>\n      <td>16094</td>\n      <td>40</td>\n      <td>0.002485</td>\n    </tr>\n    <tr>\n      <th>Basil of Caesarea</th>\n      <td>tlg2040</td>\n      <td>144429</td>\n      <td>11257</td>\n      <td>23</td>\n      <td>0.002043</td>\n    </tr>\n    <tr>\n      <th>Hippolytus of Rome</th>\n      <td>tlg2115</td>\n      <td>69987</td>\n      <td>4394</td>\n      <td>7</td>\n      <td>0.001593</td>\n    </tr>\n    <tr>\n      <th>Clement of Rome</th>\n      <td>tlg1271</td>\n      <td>13936</td>\n      <td>1410</td>\n      <td>2</td>\n      <td>0.001418</td>\n    </tr>\n    <tr>\n      <th>Clement of Alexandria</th>\n      <td>tlg0555</td>\n      <td>235754</td>\n      <td>14753</td>\n      <td>18</td>\n      <td>0.001220</td>\n    </tr>\n    <tr>\n      <th>pseudo-Menander</th>\n      <td>tlg2022</td>\n      <td>77297</td>\n      <td>20005</td>\n      <td>14</td>\n      <td>0.000700</td>\n    </tr>\n    <tr>\n      <th>Eusebius</th>\n      <td>tlg2018</td>\n      <td>620546</td>\n      <td>35220</td>\n      <td>17</td>\n      <td>0.000483</td>\n    </tr>\n    <tr>\n      <th>Mark the Deacon</th>\n      <td>tlg2806</td>\n      <td>24954</td>\n      <td>2132</td>\n      <td>1</td>\n      <td>0.000469</td>\n    </tr>\n    <tr>\n      <th>Philostorgius</th>\n      <td>tlg2058</td>\n      <td>37002</td>\n      <td>4172</td>\n      <td>1</td>\n      <td>0.000240</td>\n    </tr>\n    <tr>\n      <th>Pseudo-Justin Martyr</th>\n      <td>tlg0646</td>\n      <td>2725</td>\n      <td>240</td>\n      <td>0</td>\n      <td>0.000000</td>\n    </tr>\n    <tr>\n      <th>Johnannine literature (New Testament)</th>\n      <td>tlg0031john</td>\n      <td>18189</td>\n      <td>1339</td>\n      <td>0</td>\n      <td>0.000000</td>\n    </tr>\n    <tr>\n      <th>Acta Joannis (recensio)</th>\n      <td>tlg0317</td>\n      <td>2488</td>\n      <td>181</td>\n      <td>0</td>\n      <td>0.000000</td>\n    </tr>\n    <tr>\n      <th>Maximus of Tyre</th>\n      <td>tlg0563</td>\n      <td>118960</td>\n      <td>22598</td>\n      <td>0</td>\n      <td>0.000000</td>\n    </tr>\n    <tr>\n      <th>Justin Martyr</th>\n      <td>tlg0645</td>\n      <td>73449</td>\n      <td>5829</td>\n      <td>0</td>\n      <td>0.000000</td>\n    </tr>\n    <tr>\n      <th>The Shepherd of Hermas</th>\n      <td>tlg1419</td>\n      <td>30282</td>\n      <td>2959</td>\n      <td>0</td>\n      <td>0.000000</td>\n    </tr>\n    <tr>\n      <th>Athenagoras</th>\n      <td>tlg1205</td>\n      <td>20210</td>\n      <td>808</td>\n      <td>0</td>\n      <td>0.000000</td>\n    </tr>\n    <tr>\n      <th>Barnabas</th>\n      <td>tlg1216</td>\n      <td>7440</td>\n      <td>875</td>\n      <td>0</td>\n      <td>0.000000</td>\n    </tr>\n    <tr>\n      <th>Didache</th>\n      <td>tlg1311</td>\n      <td>2377</td>\n      <td>284</td>\n      <td>0</td>\n      <td>0.000000</td>\n    </tr>\n    <tr>\n      <th>Gospel of Mark</th>\n      <td>tlg0031b</td>\n      <td>11274</td>\n      <td>790</td>\n      <td>0</td>\n      <td>0.000000</td>\n    </tr>\n    <tr>\n      <th>Jude (New Testament)</th>\n      <td>tlg0031g</td>\n      <td>456</td>\n      <td>20</td>\n      <td>0</td>\n      <td>0.000000</td>\n    </tr>\n    <tr>\n      <th>Revelation (New Testament)</th>\n      <td>tlg0031h</td>\n      <td>9857</td>\n      <td>475</td>\n      <td>0</td>\n      <td>0.000000</td>\n    </tr>\n    <tr>\n      <th>Pappus Alexandrinus</th>\n      <td>tlg2032</td>\n      <td>66896</td>\n      <td>5843</td>\n      <td>0</td>\n      <td>0.000000</td>\n    </tr>\n    <tr>\n      <th>1 Peter (New Testament)</th>\n      <td>tlg0031e</td>\n      <td>1669</td>\n      <td>98</td>\n      <td>0</td>\n      <td>0.000000</td>\n    </tr>\n    <tr>\n      <th>James (New Testament)</th>\n      <td>tlg0031d</td>\n      <td>1734</td>\n      <td>140</td>\n      <td>0</td>\n      <td>0.000000</td>\n    </tr>\n    <tr>\n      <th>Hebrews (New Testament)</th>\n      <td>tlg0031c</td>\n      <td>4971</td>\n      <td>262</td>\n      <td>0</td>\n      <td>0.000000</td>\n    </tr>\n    <tr>\n      <th>Theophilus of Antioch</th>\n      <td>tlg1725</td>\n      <td>21548</td>\n      <td>1300</td>\n      <td>0</td>\n      <td>0.000000</td>\n    </tr>\n    <tr>\n      <th>Tatianus</th>\n      <td>tlg1766</td>\n      <td>10189</td>\n      <td>648</td>\n      <td>0</td>\n      <td>0.000000</td>\n    </tr>\n    <tr>\n      <th>Martyrdom of Polycarp</th>\n      <td>tlg1484</td>\n      <td>2791</td>\n      <td>217</td>\n      <td>0</td>\n      <td>0.000000</td>\n    </tr>\n    <tr>\n      <th>Gospel of Matthew</th>\n      <td>tlg0031a</td>\n      <td>18288</td>\n      <td>1276</td>\n      <td>0</td>\n      <td>0.000000</td>\n    </tr>\n    <tr>\n      <th>The Passion of Saints Perpetua and Felicity</th>\n      <td>tlg2016</td>\n      <td>695</td>\n      <td>355</td>\n      <td>0</td>\n      <td>0.000000</td>\n    </tr>\n    <tr>\n      <th>Marcianus of Heraclea</th>\n      <td>tlg4003</td>\n      <td>13973</td>\n      <td>949</td>\n      <td>0</td>\n      <td>0.000000</td>\n    </tr>\n    <tr>\n      <th>Marinus</th>\n      <td>tlg4075</td>\n      <td>2905</td>\n      <td>282</td>\n      <td>0</td>\n      <td>0.000000</td>\n    </tr>\n    <tr>\n      <th>Colluthus</th>\n      <td>tlg4081</td>\n      <td>2336</td>\n      <td>209</td>\n      <td>0</td>\n      <td>0.000000</td>\n    </tr>\n    <tr>\n      <th>Zosimus</th>\n      <td>tlg4084</td>\n      <td>62236</td>\n      <td>2265</td>\n      <td>0</td>\n      <td>0.000000</td>\n    </tr>\n    <tr>\n      <th>Cyril of Alexandria</th>\n      <td>tlg4090</td>\n      <td>6799</td>\n      <td>3659</td>\n      <td>0</td>\n      <td>0.000000</td>\n    </tr>\n  </tbody>\n</table>\n</div>"
     },
     "execution_count": 177,
     "metadata": {},
     "output_type": "execute_result"
    }
   ],
   "source": [
    "df_authors[\"paul_proportion\"] = df_authors[\"sentences_paul_N\"] / df_authors[\"n_sentences\"]\n",
    "df_authors.sort_values(\"paul_proportion\", ascending=False)"
   ],
   "metadata": {
    "collapsed": false,
    "pycharm": {
     "name": "#%%\n"
    }
   }
  },
  {
   "cell_type": "code",
   "execution_count": null,
   "outputs": [],
   "source": [],
   "metadata": {
    "collapsed": false,
    "pycharm": {
     "name": "#%%\n"
    }
   }
  }
 ],
 "metadata": {
  "kernelspec": {
   "display_name": "paul_venv",
   "language": "python",
   "name": "paul_venv"
  },
  "language_info": {
   "codemirror_mode": {
    "name": "ipython",
    "version": 3
   },
   "file_extension": ".py",
   "mimetype": "text/x-python",
   "name": "python",
   "nbconvert_exporter": "python",
   "pygments_lexer": "ipython3",
   "version": "3.9.7"
  }
 },
 "nbformat": 4,
 "nbformat_minor": 4
}