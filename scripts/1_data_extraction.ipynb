{
 "cells": [
  {
   "cell_type": "code",
   "execution_count": 1,
   "metadata": {},
   "outputs": [],
   "source": [
    "import pandas as pd\n",
    "import requests\n",
    "import sddk\n",
    "\n",
    "import matplotlib.pyplot as plt\n",
    "import matplotlib.colors as mcolors\n",
    "import matplotlib.patches as patches\n",
    "import seaborn as sns\n",
    "\n",
    "import gspread\n",
    "from gspread_dataframe import get_as_dataframe, set_with_dataframe\n",
    "from google.oauth2 import service_account # based on google-auth library"
   ]
  },
  {
   "cell_type": "code",
   "execution_count": 2,
   "outputs": [
    {
     "name": "stdout",
     "output_type": "stream",
     "text": [
      "endpoint variable has been configured to: https://sciencedata.dk/files/\n"
     ]
    }
   ],
   "source": [
    "# for exporting data to googlesheets/sciencedata\n",
    "# (feel free to skip)\n",
    "\n",
    "s = sddk.cloudSession(\"sciencedata.dk\")\n",
    "# establish connection with gogglesheets...\n",
    "file_data = s.read_file(\"https://sciencedata.dk/files/ServiceAccountsKey.json\", \"dict\") # or load it from a local storage: json.load(open(\"../../ServiceAccountsKey.json\", \"r\"))\n",
    "credentials = service_account.Credentials.from_service_account_info(file_data)\n",
    "gc = gspread.Client(auth=credentials.with_scopes(['https://spreadsheets.google.com/feeds', 'https://www.googleapis.com/auth/drive']))\n",
    "paul_results = gc.open_by_url(\"https://docs.google.com/spreadsheets/d/1h4M-gK9TPIfeTV528tUuPBfZF1wtcNCA10yIlJYqGTE/edit?usp=sharing\")"
   ],
   "metadata": {
    "collapsed": false,
    "pycharm": {
     "name": "#%%\n"
    }
   }
  },
  {
   "cell_type": "markdown",
   "source": [
    "# LAGTec subcorpus preparation"
   ],
   "metadata": {
    "collapsed": false,
    "pycharm": {
     "name": "#%% md\n"
    }
   }
  },
  {
   "cell_type": "code",
   "execution_count": 3,
   "outputs": [
    {
     "name": "stdout",
     "output_type": "stream",
     "text": [
      "[]\n"
     ]
    }
   ],
   "source": [
    "# find local version of the input dataset\n",
    "local_paths = !find ~/Projects -name \"LIRE_v1-0.json\"\n",
    "print(local_paths)"
   ],
   "metadata": {
    "collapsed": false,
    "pycharm": {
     "name": "#%%\n"
    }
   }
  },
  {
   "cell_type": "code",
   "execution_count": 4,
   "outputs": [],
   "source": [
    "# LAGT (v1.0.1) dataset directly from Zenodo\n",
    "try:\n",
    "    LAGT = pd.read_json(local_paths[0])\n",
    "except:\n",
    "    resp = requests.get(\"https://zenodo.org/record/4971946/files/LAGT_v1-0.json?download=1\")\n",
    "    # save it for next time\n",
    "    LAGT = pd.DataFrame(resp.json())\n",
    "    LAGT.to_json(\"../data/large_files/LIRE_v1-0.json\")"
   ],
   "metadata": {
    "collapsed": false,
    "pycharm": {
     "name": "#%%\n"
    }
   }
  },
  {
   "cell_type": "code",
   "execution_count": 5,
   "outputs": [
    {
     "data": {
      "text/plain": "Index(['filename', 'author', 'title', 'wordcount', 'author_id', 'doc_id',\n       'raw_date', 'date_avr', 'date_probs', 'date_manual', 'provenience',\n       'tlg_epithet', 'clean_string', 'n_sentences', 'lemmatized_sentences'],\n      dtype='object')"
     },
     "execution_count": 5,
     "metadata": {},
     "output_type": "execute_result"
    }
   ],
   "source": [
    "LAGT.columns"
   ],
   "metadata": {
    "collapsed": false,
    "pycharm": {
     "name": "#%%\n"
    }
   }
  },
  {
   "cell_type": "code",
   "execution_count": 6,
   "outputs": [
    {
     "data": {
      "text/plain": "147"
     },
     "execution_count": 6,
     "metadata": {},
     "output_type": "execute_result"
    }
   ],
   "source": [
    "len(LAGT[LAGT[\"provenience\"]==\"christian\"])"
   ],
   "metadata": {
    "collapsed": false,
    "pycharm": {
     "name": "#%%\n"
    }
   }
  },
  {
   "cell_type": "code",
   "execution_count": 70,
   "outputs": [],
   "source": [
    "# upload manually updated metadata\n",
    "LAGT_metadata = pd.read_csv(\"../data/LAGT_metadata.csv\")\n",
    "# update dates\n",
    "# any work cosnidered to be dated between two centuries is dated to the latter\n",
    "def update_dateavr(date_avr):\n",
    "    if \".5\" not in str(date_avr):\n",
    "        date_avr += 0.5\n",
    "    return date_avr\n",
    "LAGT_metadata[\"date_avr\"] = LAGT_metadata[\"date_avr\"].apply(update_dateavr)\n",
    "\n",
    "# update provenience\n",
    "provenience_dict = dict(zip(LAGT_metadata[\"filename\"],  LAGT_metadata[\"provenience\"]))\n",
    "LAGT[\"provenience\"] = LAGT[\"filename\"].apply(lambda x: provenience_dict[x])\n",
    "\n",
    "# update author\n",
    "author_dict = dict(zip(LAGT_metadata[\"filename\"],  LAGT_metadata[\"author\"]))\n",
    "LAGT[\"author\"] = LAGT[\"filename\"].apply(lambda x: author_dict[x])\n",
    "\n",
    "# update title\n",
    "title_dict = dict(zip(LAGT_metadata[\"filename\"],  LAGT_metadata[\"title\"]))\n",
    "LAGT[\"title\"] = LAGT[\"filename\"].apply(lambda x: title_dict[x])"
   ],
   "metadata": {
    "collapsed": false,
    "pycharm": {
     "name": "#%%\n"
    }
   }
  },
  {
   "cell_type": "code",
   "execution_count": 71,
   "outputs": [
    {
     "data": {
      "text/plain": "213"
     },
     "execution_count": 71,
     "metadata": {},
     "output_type": "execute_result"
    }
   ],
   "source": [
    "len(LAGT[LAGT[\"provenience\"]==\"christian\"])"
   ],
   "metadata": {
    "collapsed": false,
    "pycharm": {
     "name": "#%%\n"
    }
   }
  },
  {
   "cell_type": "code",
   "execution_count": 72,
   "outputs": [],
   "source": [
    "# update dates\n",
    "# any work cosnidered to be dated between two centuries is dated to the latter\n",
    "def update_dateavr(date_avr):\n",
    "    if \".5\" not in str(date_avr):\n",
    "        date_avr += 0.5\n",
    "    return date_avr\n",
    "LAGT[\"date_avr\"] = LAGT[\"date_avr\"].apply(update_dateavr)"
   ],
   "metadata": {
    "collapsed": false,
    "pycharm": {
     "name": "#%%\n"
    }
   }
  },
  {
   "cell_type": "code",
   "execution_count": 73,
   "outputs": [
    {
     "data": {
      "text/plain": "                           filename  \\\n1194  tlg1750.tlg001.1st1K-grc1.xml   \n1195  tlg1750.tlg002.1st1K-grc1.xml   \n1196  tlg1750.tlg003.1st1K-grc1.xml   \n1197  tlg1750.tlg004.1st1K-grc1.xml   \n\n                                                 author  \\\n1194                                   Pseudo-Dorotheus   \n1195    De prophetarum vita et obitu (recensio anonyma)   \n1196  De prophetarum vita et obitu (recensio scholii...   \n1197                                   Pseudo-Dorotheus   \n\n                                                  title  wordcount author_id  \\\n1194   De prophetarum vita et obitu (Dorothei recensio)       5347   tlg1750   \n1195    De prophetarum vita et obitu (recensio anonyma)       4110   tlg1750   \n1196  De prophetarum vita et obitu (recensio scholii...       1166   tlg1750   \n1197           Index apostolorum discipulorumque Domini       3616   tlg1750   \n\n              doc_id raw_date  date_avr date_probs  date_manual provenience  \\\n1194  tlg1750.tlg001    Varia       NaN         {}          NaN   christian   \n1195  tlg1750.tlg002    Varia       NaN         {}          NaN   christian   \n1196  tlg1750.tlg003    Varia       NaN         {}          NaN   christian   \n1197  tlg1750.tlg004    Varia       NaN         {}          NaN   christian   \n\n     tlg_epithet                                       clean_string  \\\n1194          []  Οὗτος Ὠσηὲ τῶν ιβʹ προφητῶν ὁ πρῶτος, ἀξιωθεὶς...   \n1195          []  αʹ. Ἡσαΐας ἀπὸ Ἱερουσαλὴμ θνήσκει ὑπὸ Μανασσῆ ...   \n1196          []  αʹ. Ὠσηὲ ἑρμηνεύεται σωζόμενος. Οὗτος ἦν ἐκ ελ...   \n1197          []  Δωροθέου ἐπισκόπου Τύρου ἀρχαίου ἀνδρὸς πνευμα...   \n\n      n_sentences                               lemmatized_sentences  \n1194          329  [[ὠσηὲ, προφήτης, πρῶτος, ἀξιωθεὶς, λέγω, δεσπ...  \n1195          329  [[], [Ἠσαΐας, Ἱεροσόλυμα, θνήσκω, Μανασσῆς, πρ...  \n1196          105  [[], [ὠσηὲ, ἑρμηνεύω, σωζόμενος], [ελεμὼθ, φυλ...  \n1197          253  [[δωροθέου, ἐπίσκοπος, Τύρος, ἀρχαῖος, ἀνήρ, π...  ",
      "text/html": "<div>\n<style scoped>\n    .dataframe tbody tr th:only-of-type {\n        vertical-align: middle;\n    }\n\n    .dataframe tbody tr th {\n        vertical-align: top;\n    }\n\n    .dataframe thead th {\n        text-align: right;\n    }\n</style>\n<table border=\"1\" class=\"dataframe\">\n  <thead>\n    <tr style=\"text-align: right;\">\n      <th></th>\n      <th>filename</th>\n      <th>author</th>\n      <th>title</th>\n      <th>wordcount</th>\n      <th>author_id</th>\n      <th>doc_id</th>\n      <th>raw_date</th>\n      <th>date_avr</th>\n      <th>date_probs</th>\n      <th>date_manual</th>\n      <th>provenience</th>\n      <th>tlg_epithet</th>\n      <th>clean_string</th>\n      <th>n_sentences</th>\n      <th>lemmatized_sentences</th>\n    </tr>\n  </thead>\n  <tbody>\n    <tr>\n      <th>1194</th>\n      <td>tlg1750.tlg001.1st1K-grc1.xml</td>\n      <td>Pseudo-Dorotheus</td>\n      <td>De prophetarum vita et obitu (Dorothei recensio)</td>\n      <td>5347</td>\n      <td>tlg1750</td>\n      <td>tlg1750.tlg001</td>\n      <td>Varia</td>\n      <td>NaN</td>\n      <td>{}</td>\n      <td>NaN</td>\n      <td>christian</td>\n      <td>[]</td>\n      <td>Οὗτος Ὠσηὲ τῶν ιβʹ προφητῶν ὁ πρῶτος, ἀξιωθεὶς...</td>\n      <td>329</td>\n      <td>[[ὠσηὲ, προφήτης, πρῶτος, ἀξιωθεὶς, λέγω, δεσπ...</td>\n    </tr>\n    <tr>\n      <th>1195</th>\n      <td>tlg1750.tlg002.1st1K-grc1.xml</td>\n      <td>De prophetarum vita et obitu (recensio anonyma)</td>\n      <td>De prophetarum vita et obitu (recensio anonyma)</td>\n      <td>4110</td>\n      <td>tlg1750</td>\n      <td>tlg1750.tlg002</td>\n      <td>Varia</td>\n      <td>NaN</td>\n      <td>{}</td>\n      <td>NaN</td>\n      <td>christian</td>\n      <td>[]</td>\n      <td>αʹ. Ἡσαΐας ἀπὸ Ἱερουσαλὴμ θνήσκει ὑπὸ Μανασσῆ ...</td>\n      <td>329</td>\n      <td>[[], [Ἠσαΐας, Ἱεροσόλυμα, θνήσκω, Μανασσῆς, πρ...</td>\n    </tr>\n    <tr>\n      <th>1196</th>\n      <td>tlg1750.tlg003.1st1K-grc1.xml</td>\n      <td>De prophetarum vita et obitu (recensio scholii...</td>\n      <td>De prophetarum vita et obitu (recensio scholii...</td>\n      <td>1166</td>\n      <td>tlg1750</td>\n      <td>tlg1750.tlg003</td>\n      <td>Varia</td>\n      <td>NaN</td>\n      <td>{}</td>\n      <td>NaN</td>\n      <td>christian</td>\n      <td>[]</td>\n      <td>αʹ. Ὠσηὲ ἑρμηνεύεται σωζόμενος. Οὗτος ἦν ἐκ ελ...</td>\n      <td>105</td>\n      <td>[[], [ὠσηὲ, ἑρμηνεύω, σωζόμενος], [ελεμὼθ, φυλ...</td>\n    </tr>\n    <tr>\n      <th>1197</th>\n      <td>tlg1750.tlg004.1st1K-grc1.xml</td>\n      <td>Pseudo-Dorotheus</td>\n      <td>Index apostolorum discipulorumque Domini</td>\n      <td>3616</td>\n      <td>tlg1750</td>\n      <td>tlg1750.tlg004</td>\n      <td>Varia</td>\n      <td>NaN</td>\n      <td>{}</td>\n      <td>NaN</td>\n      <td>christian</td>\n      <td>[]</td>\n      <td>Δωροθέου ἐπισκόπου Τύρου ἀρχαίου ἀνδρὸς πνευμα...</td>\n      <td>253</td>\n      <td>[[δωροθέου, ἐπίσκοπος, Τύρος, ἀρχαῖος, ἀνήρ, π...</td>\n    </tr>\n  </tbody>\n</table>\n</div>"
     },
     "execution_count": 73,
     "metadata": {},
     "output_type": "execute_result"
    }
   ],
   "source": [
    "# non-dated christian texts\n",
    "LAGT[(LAGT[\"provenience\"]==\"christian\") & (LAGT[\"date_avr\"].isnull())]"
   ],
   "metadata": {
    "collapsed": false,
    "pycharm": {
     "name": "#%%\n"
    }
   }
  },
  {
   "cell_type": "code",
   "execution_count": 74,
   "outputs": [
    {
     "data": {
      "text/plain": "1277"
     },
     "execution_count": 74,
     "metadata": {},
     "output_type": "execute_result"
    }
   ],
   "source": [
    "(LAGT[\"date_avr\"] < 5).sum()"
   ],
   "metadata": {
    "collapsed": false,
    "pycharm": {
     "name": "#%%\n"
    }
   }
  },
  {
   "cell_type": "code",
   "execution_count": 75,
   "outputs": [
    {
     "name": "stdout",
     "output_type": "stream",
     "text": [
      "0.5 29 151723\n",
      "1.5 51 474124\n",
      "2.5 104 1711991\n",
      "3.5 137 3059696\n",
      "4.5 148 3566823\n"
     ]
    }
   ],
   "source": [
    "for date in [0.5, 1.5, 2.5, 3.5, 4.5]:\n",
    "    mask = ((LAGT[\"date_avr\"] <= date) & (LAGT[\"provenience\"]==\"christian\"))\n",
    "    print(date,\n",
    "          mask.sum(),\n",
    "          LAGT[mask][\"wordcount\"].sum()\n",
    "          )"
   ],
   "metadata": {
    "collapsed": false,
    "pycharm": {
     "name": "#%%\n"
    }
   }
  },
  {
   "cell_type": "code",
   "execution_count": 76,
   "outputs": [],
   "source": [
    "# all texts before the end of the\n",
    "LAGTec = LAGT[(LAGT[\"date_avr\"] < 5) & (LAGT[\"provenience\"]==\"christian\")].copy()"
   ],
   "metadata": {
    "collapsed": false,
    "pycharm": {
     "name": "#%%\n"
    }
   }
  },
  {
   "cell_type": "markdown",
   "source": [
    "\"Acts of Paul and Thecla\"\n",
    "- http://www.patrologia-lib.ru/apocryph/novum/a_paul.htm"
   ],
   "metadata": {
    "collapsed": false
   }
  },
  {
   "cell_type": "code",
   "execution_count": 77,
   "outputs": [],
   "source": [
    "# to safe your ram memory:\n",
    "# del LAGT"
   ],
   "metadata": {
    "collapsed": false,
    "pycharm": {
     "name": "#%%\n"
    }
   }
  },
  {
   "cell_type": "code",
   "execution_count": 78,
   "outputs": [
    {
     "data": {
      "text/plain": "                            filename          author            title  \\\n390  tlg0031.tlg006.perseus-grc2.xml  Paul of Tarsus           Romans   \n391  tlg0031.tlg007.perseus-grc2.xml  Paul of Tarsus    1 Corinthians   \n392  tlg0031.tlg008.perseus-grc2.xml  Paul of Tarsus    2 Corinthians   \n393  tlg0031.tlg009.perseus-grc2.xml  Paul of Tarsus        Galatians   \n395  tlg0031.tlg011.perseus-grc2.xml  Paul of Tarsus      Philippians   \n397  tlg0031.tlg013.perseus-grc2.xml  Paul of Tarsus  1 Thessalonians   \n402  tlg0031.tlg018.perseus-grc2.xml  Paul of Tarsus         Philemon   \n\n     wordcount    author_id          doc_id raw_date  date_avr  date_probs  \\\n390       7107  tlg0031paul  tlg0031.tlg006   A.D. 1       0.5  {'0.5': 1}   \n391       6814  tlg0031paul  tlg0031.tlg007   A.D. 1       0.5  {'0.5': 1}   \n392       4470  tlg0031paul  tlg0031.tlg008   A.D. 1       0.5  {'0.5': 1}   \n393       2235  tlg0031paul  tlg0031.tlg009   A.D. 1       0.5  {'0.5': 1}   \n395       1631  tlg0031paul  tlg0031.tlg011   A.D. 1       0.5  {'0.5': 1}   \n397       1475  tlg0031paul  tlg0031.tlg013   A.D. 1       0.5  {'0.5': 1}   \n402        334  tlg0031paul  tlg0031.tlg018   A.D. 1       0.5  {'0.5': 1}   \n\n     date_manual provenience tlg_epithet  \\\n390          0.5   christian          []   \n391          0.5   christian          []   \n392          0.5   christian          []   \n393          0.5   christian          []   \n395          0.5   christian          []   \n397          0.5   christian          []   \n402          0.5   christian          []   \n\n                                          clean_string  n_sentences  \\\n390   ΠΑΥΛΟΣ δοῦλος Ἰησοῦ Χριστοῦ, κλητὸς ἀπόστολος...          490   \n391   ΠΑΥΛΟΣ κλητὸς ἀπόστολος Ἰησοῦ Χριστοῦ διὰ θελ...          544   \n392   ΠΑΥΛΟΣ ἀπόστολος Χριστοῦ Ἰησοῦ διὰ θελήματος ...          274   \n393   ΠΑΥΛΟΣ ἀπόστολος, οὐκ ἀπʼ ἀνθρώπων οὐδὲ διʼ ἀ...          159   \n395   ΠΑΥΛΟΣ ΚΑΙ ΤΙΜΟΘΕΟΣ δοῦλοι Χριστοῦ Ἰησοῦ πᾶσι...           83   \n397   ΠΑΥΛΟΣ ΚΑΙ ΣΙΛΟΥΑΝΟΣ ΚΑΙ ΤΙΜΟΘΕΟΣ τῇ ἐκκλησίᾳ...           65   \n402   ΠΑΥΛΟΣ δέσμιος Χριστοῦ Ἰησοῦ καὶ Τιμόθεος ὁ ἀ...           17   \n\n                                  lemmatized_sentences  \n390  [[Παῦλος, δοῦλος, Ἰησοῦς, Χριστός, κλητός, ἀπό...  \n391  [[Παῦλος, κλητός, ἀπόστολος, Ἰησοῦς, Χριστός, ...  \n392  [[Παῦλος, ἀπόστολος, Χριστός, Ἰησοῦς, θέλημα, ...  \n393  [[Παῦλος, ἀπόστολος, ἄνθρωπος, ἄνθρωπος, Ἰησοῦ...  \n395  [[Παῦλος, Τιμόθεος, δοῦλος, Χριστός, Ἰησοῦς, ἅ...  \n397  [[Παῦλος, σιλουανος, Τιμόθεος, ἐκκλησία, Θεσσα...  \n402  [[Παῦλος, δέσμιος, Χριστός, Ἰησοῦς, Τιμόθεος, ...  ",
      "text/html": "<div>\n<style scoped>\n    .dataframe tbody tr th:only-of-type {\n        vertical-align: middle;\n    }\n\n    .dataframe tbody tr th {\n        vertical-align: top;\n    }\n\n    .dataframe thead th {\n        text-align: right;\n    }\n</style>\n<table border=\"1\" class=\"dataframe\">\n  <thead>\n    <tr style=\"text-align: right;\">\n      <th></th>\n      <th>filename</th>\n      <th>author</th>\n      <th>title</th>\n      <th>wordcount</th>\n      <th>author_id</th>\n      <th>doc_id</th>\n      <th>raw_date</th>\n      <th>date_avr</th>\n      <th>date_probs</th>\n      <th>date_manual</th>\n      <th>provenience</th>\n      <th>tlg_epithet</th>\n      <th>clean_string</th>\n      <th>n_sentences</th>\n      <th>lemmatized_sentences</th>\n    </tr>\n  </thead>\n  <tbody>\n    <tr>\n      <th>390</th>\n      <td>tlg0031.tlg006.perseus-grc2.xml</td>\n      <td>Paul of Tarsus</td>\n      <td>Romans</td>\n      <td>7107</td>\n      <td>tlg0031paul</td>\n      <td>tlg0031.tlg006</td>\n      <td>A.D. 1</td>\n      <td>0.5</td>\n      <td>{'0.5': 1}</td>\n      <td>0.5</td>\n      <td>christian</td>\n      <td>[]</td>\n      <td>ΠΑΥΛΟΣ δοῦλος Ἰησοῦ Χριστοῦ, κλητὸς ἀπόστολος...</td>\n      <td>490</td>\n      <td>[[Παῦλος, δοῦλος, Ἰησοῦς, Χριστός, κλητός, ἀπό...</td>\n    </tr>\n    <tr>\n      <th>391</th>\n      <td>tlg0031.tlg007.perseus-grc2.xml</td>\n      <td>Paul of Tarsus</td>\n      <td>1 Corinthians</td>\n      <td>6814</td>\n      <td>tlg0031paul</td>\n      <td>tlg0031.tlg007</td>\n      <td>A.D. 1</td>\n      <td>0.5</td>\n      <td>{'0.5': 1}</td>\n      <td>0.5</td>\n      <td>christian</td>\n      <td>[]</td>\n      <td>ΠΑΥΛΟΣ κλητὸς ἀπόστολος Ἰησοῦ Χριστοῦ διὰ θελ...</td>\n      <td>544</td>\n      <td>[[Παῦλος, κλητός, ἀπόστολος, Ἰησοῦς, Χριστός, ...</td>\n    </tr>\n    <tr>\n      <th>392</th>\n      <td>tlg0031.tlg008.perseus-grc2.xml</td>\n      <td>Paul of Tarsus</td>\n      <td>2 Corinthians</td>\n      <td>4470</td>\n      <td>tlg0031paul</td>\n      <td>tlg0031.tlg008</td>\n      <td>A.D. 1</td>\n      <td>0.5</td>\n      <td>{'0.5': 1}</td>\n      <td>0.5</td>\n      <td>christian</td>\n      <td>[]</td>\n      <td>ΠΑΥΛΟΣ ἀπόστολος Χριστοῦ Ἰησοῦ διὰ θελήματος ...</td>\n      <td>274</td>\n      <td>[[Παῦλος, ἀπόστολος, Χριστός, Ἰησοῦς, θέλημα, ...</td>\n    </tr>\n    <tr>\n      <th>393</th>\n      <td>tlg0031.tlg009.perseus-grc2.xml</td>\n      <td>Paul of Tarsus</td>\n      <td>Galatians</td>\n      <td>2235</td>\n      <td>tlg0031paul</td>\n      <td>tlg0031.tlg009</td>\n      <td>A.D. 1</td>\n      <td>0.5</td>\n      <td>{'0.5': 1}</td>\n      <td>0.5</td>\n      <td>christian</td>\n      <td>[]</td>\n      <td>ΠΑΥΛΟΣ ἀπόστολος, οὐκ ἀπʼ ἀνθρώπων οὐδὲ διʼ ἀ...</td>\n      <td>159</td>\n      <td>[[Παῦλος, ἀπόστολος, ἄνθρωπος, ἄνθρωπος, Ἰησοῦ...</td>\n    </tr>\n    <tr>\n      <th>395</th>\n      <td>tlg0031.tlg011.perseus-grc2.xml</td>\n      <td>Paul of Tarsus</td>\n      <td>Philippians</td>\n      <td>1631</td>\n      <td>tlg0031paul</td>\n      <td>tlg0031.tlg011</td>\n      <td>A.D. 1</td>\n      <td>0.5</td>\n      <td>{'0.5': 1}</td>\n      <td>0.5</td>\n      <td>christian</td>\n      <td>[]</td>\n      <td>ΠΑΥΛΟΣ ΚΑΙ ΤΙΜΟΘΕΟΣ δοῦλοι Χριστοῦ Ἰησοῦ πᾶσι...</td>\n      <td>83</td>\n      <td>[[Παῦλος, Τιμόθεος, δοῦλος, Χριστός, Ἰησοῦς, ἅ...</td>\n    </tr>\n    <tr>\n      <th>397</th>\n      <td>tlg0031.tlg013.perseus-grc2.xml</td>\n      <td>Paul of Tarsus</td>\n      <td>1 Thessalonians</td>\n      <td>1475</td>\n      <td>tlg0031paul</td>\n      <td>tlg0031.tlg013</td>\n      <td>A.D. 1</td>\n      <td>0.5</td>\n      <td>{'0.5': 1}</td>\n      <td>0.5</td>\n      <td>christian</td>\n      <td>[]</td>\n      <td>ΠΑΥΛΟΣ ΚΑΙ ΣΙΛΟΥΑΝΟΣ ΚΑΙ ΤΙΜΟΘΕΟΣ τῇ ἐκκλησίᾳ...</td>\n      <td>65</td>\n      <td>[[Παῦλος, σιλουανος, Τιμόθεος, ἐκκλησία, Θεσσα...</td>\n    </tr>\n    <tr>\n      <th>402</th>\n      <td>tlg0031.tlg018.perseus-grc2.xml</td>\n      <td>Paul of Tarsus</td>\n      <td>Philemon</td>\n      <td>334</td>\n      <td>tlg0031paul</td>\n      <td>tlg0031.tlg018</td>\n      <td>A.D. 1</td>\n      <td>0.5</td>\n      <td>{'0.5': 1}</td>\n      <td>0.5</td>\n      <td>christian</td>\n      <td>[]</td>\n      <td>ΠΑΥΛΟΣ δέσμιος Χριστοῦ Ἰησοῦ καὶ Τιμόθεος ὁ ἀ...</td>\n      <td>17</td>\n      <td>[[Παῦλος, δέσμιος, Χριστός, Ἰησοῦς, Τιμόθεος, ...</td>\n    </tr>\n  </tbody>\n</table>\n</div>"
     },
     "execution_count": 78,
     "metadata": {},
     "output_type": "execute_result"
    }
   ],
   "source": [
    "LAGTec[LAGTec[\"author_id\"].str.startswith(\"tlg0031paul\")]"
   ],
   "metadata": {
    "collapsed": false,
    "pycharm": {
     "name": "#%%\n"
    }
   }
  },
  {
   "cell_type": "markdown",
   "source": [
    "# Additional cleaning of texts"
   ],
   "metadata": {
    "collapsed": false,
    "pycharm": {
     "name": "#%% md\n"
    }
   }
  },
  {
   "cell_type": "code",
   "execution_count": 134,
   "outputs": [
    {
     "name": "stdout",
     "output_type": "stream",
     "text": [
      " , , , ; ? , . : , . , , , : : , . , , , ; , : , , . , : , , , . , , . , , , , , : . , . , , , : , , , , , ? : . : , ? : . , , . , : , . , , . : , . : , . ! , . . , . : . , . . : ; : , . : , , . , , : . , . , , : . , , , : , , . , , . , , , . , : , : . : . , , : , . , , , , , : . , : , . , ; , : . , . , : . , : , , : , , ; , ; ; : . : : , . ; : , . , , : , . , ; , : : , . . , : . , . . . . , , : . , : , , : . . : . , ? . : . , , . , : . , : . , , , . . , , : . , , , : ; . , . , . . , , , ; , . , , , . : , . , : . , . . : - : : . . , . , , , ; , : , ; : ; , : . . . . , , , , . , , , , , . , , , . , : , . : , : . , . , . : ; , . . . , . . . , . , : . , , , : , . , : , , ; , , . . . , . : . , . , , . , ; . , . , . , : , . . : , : . : , , . , . , , , , , . , . : : : : . , , , , , . : , : , : . , , : : , ; , ; . : , , . , , ; , . , : , , : . , , ; . ; . : : , . : . , . : . : . : , , . , , , . , : , , . : , ? ? . : . , : ; , . . : ; , . . , . , . , . , , . . , . , ( ) , , ; : . , . . . , : , , ? : ; , . , . , , , , . , , ; : , , ? , ? ; , , ; . , , , , , , ; : , ? , . , . : . , , , ; . , , : . , , , , . , , , ; . : , ; , : . : , , . , . . , : , , . , . , . . , , : . . : . , , , . . , . . , , : . . , , . . , . , . , . , . , , . , . , , , , ( ) , : , , , . , , . , ; , ; , : , , , , . . , . , , , : , . , . : , , ; , . , , . . , , , : , . , : , , ; . , , ; . , , . ! ; , , , , . \n"
     ]
    }
   ],
   "source": [
    "# unfortunately we do not have The Martrdom of Perpetua and Felicita\n",
    "print(LAGTec[LAGTec[\"author_id\"]==\"tlg2016\"][\"clean_string\"].tolist()[0])"
   ],
   "metadata": {
    "collapsed": false,
    "pycharm": {
     "name": "#%%\n"
    }
   }
  },
  {
   "cell_type": "code",
   "execution_count": 140,
   "outputs": [],
   "source": [
    "LAGTec = LAGTec[LAGTec[\"author_id\"]!=\"tlg2016\"].copy()"
   ],
   "metadata": {
    "collapsed": false,
    "pycharm": {
     "name": "#%%\n"
    }
   }
  },
  {
   "cell_type": "code",
   "execution_count": 141,
   "outputs": [],
   "source": [
    "repl_dict = {\"μώσης\" : \"μωυσέως\",\n",
    "                \"ἐπισκοπή\" : \"ἐπίσκοπος\",\n",
    "                #\"μαρτύρομαι\" : \"μαρτυρία\",\n",
    "                #\"ἐκκλησιάζω\" : \"ἐκκλησία\",\n",
    "                # \"κοινωνέω\" : \"κοινωνία\"\n",
    "                }\n"
   ],
   "metadata": {
    "collapsed": false,
    "pycharm": {
     "name": "#%%\n"
    }
   }
  },
  {
   "cell_type": "code",
   "execution_count": 142,
   "outputs": [
    {
     "data": {
      "text/plain": "'μωυσέως'"
     },
     "execution_count": 142,
     "metadata": {},
     "output_type": "execute_result"
    }
   ],
   "source": [
    "repl_dict.get(\"μώσης\", \"μώσης\")"
   ],
   "metadata": {
    "collapsed": false,
    "pycharm": {
     "name": "#%%\n"
    }
   }
  },
  {
   "cell_type": "code",
   "execution_count": 143,
   "outputs": [],
   "source": [
    "def clean_sentences(sents_list):\n",
    "    # remove one-letter words:\n",
    "    sents_list = [[w for w in s if len(w) > 1] for s in sents_list]\n",
    "    sents_list = [[repl_dict.get(w, w) for w in s] for s in sents_list]\n",
    "    return sents_list\n",
    "\n",
    "LAGTec[\"lemmatized_sentences\"] = LAGTec[\"lemmatized_sentences\"].apply(clean_sentences)"
   ],
   "metadata": {
    "collapsed": false,
    "pycharm": {
     "name": "#%%\n"
    }
   }
  },
  {
   "cell_type": "code",
   "execution_count": 144,
   "outputs": [],
   "source": [
    "LAGTec[\"lemmatized_sentences\"] = LAGTec[\"lemmatized_sentences\"].apply(lambda x: [s for s in x if len(s) > 0])"
   ],
   "metadata": {
    "collapsed": false,
    "pycharm": {
     "name": "#%%\n"
    }
   }
  },
  {
   "cell_type": "markdown",
   "source": [
    "# Paul data extraction"
   ],
   "metadata": {
    "collapsed": false,
    "pycharm": {
     "name": "#%% md\n"
    }
   }
  },
  {
   "cell_type": "code",
   "execution_count": 145,
   "outputs": [],
   "source": [
    "def get_word_sentences(sentences_list, word):\n",
    "    selected_sentences = [sentence for sentence in sentences_list if word in sentence]\n",
    "    return selected_sentences"
   ],
   "metadata": {
    "collapsed": false,
    "pycharm": {
     "name": "#%%\n"
    }
   }
  },
  {
   "cell_type": "code",
   "execution_count": 146,
   "outputs": [],
   "source": [
    "word = \"Παῦλος\"\n",
    "LAGTec[\"sentences_paul\"] = LAGTec[\"lemmatized_sentences\"].apply(lambda x: get_word_sentences(x, word))"
   ],
   "metadata": {
    "collapsed": false,
    "pycharm": {
     "name": "#%%\n"
    }
   }
  },
  {
   "cell_type": "code",
   "execution_count": 147,
   "outputs": [],
   "source": [
    "LAGTec[\"sentences_paul_N\"] = LAGTec[\"sentences_paul\"].apply(lambda x: len(x))"
   ],
   "metadata": {
    "collapsed": false,
    "pycharm": {
     "name": "#%%\n"
    }
   }
  },
  {
   "cell_type": "code",
   "execution_count": 148,
   "outputs": [],
   "source": [
    "\n",
    "word = \"ἀπόστολος\"\n",
    "LAGTec[\"sentences_apostle\"] = LAGTec[\"lemmatized_sentences\"].apply(lambda x: get_word_sentences(x, word))"
   ],
   "metadata": {
    "collapsed": false,
    "pycharm": {
     "name": "#%%\n"
    }
   }
  },
  {
   "cell_type": "code",
   "execution_count": 149,
   "outputs": [],
   "source": [
    "def count_word_in_sentences(sentences_list, word):\n",
    "    selected_sentences = [sentence for sentence in sentences_list if word in sentence]\n",
    "    word_N = sum([sen.count(word) for sen in sentences_list])\n",
    "    return word_N\n",
    "\n",
    "word = \"Παῦλος\"\n",
    "LAGTec[\"paul_N\"] = LAGTec[\"lemmatized_sentences\"].apply(lambda x: count_word_in_sentences(x, word))"
   ],
   "metadata": {
    "collapsed": false,
    "pycharm": {
     "name": "#%%\n"
    }
   }
  },
  {
   "cell_type": "code",
   "execution_count": 150,
   "outputs": [
    {
     "data": {
      "text/plain": "82"
     },
     "execution_count": 150,
     "metadata": {},
     "output_type": "execute_result"
    }
   ],
   "source": [
    "# how many documents contain the word \"Παῦλος\"\n",
    "len(LAGTec[LAGTec[\"sentences_paul_N\"]>0])"
   ],
   "metadata": {
    "collapsed": false,
    "pycharm": {
     "name": "#%%\n"
    }
   }
  },
  {
   "cell_type": "code",
   "execution_count": 151,
   "outputs": [],
   "source": [
    "LAGTec[\"sentences_apostle_N\"] = LAGTec[\"sentences_apostle\"].apply(lambda x: len(x))"
   ],
   "metadata": {
    "collapsed": false,
    "pycharm": {
     "name": "#%%\n"
    }
   }
  },
  {
   "cell_type": "code",
   "execution_count": 152,
   "outputs": [
    {
     "data": {
      "text/plain": "104"
     },
     "execution_count": 152,
     "metadata": {},
     "output_type": "execute_result"
    }
   ],
   "source": [
    "len(LAGTec[LAGTec[\"sentences_apostle_N\"]>0])"
   ],
   "metadata": {
    "collapsed": false,
    "pycharm": {
     "name": "#%%\n"
    }
   }
  },
  {
   "cell_type": "code",
   "execution_count": 153,
   "outputs": [
    {
     "data": {
      "text/plain": "1045"
     },
     "execution_count": 153,
     "metadata": {},
     "output_type": "execute_result"
    }
   ],
   "source": [
    "LAGTec[\"sentences_paul_N\"].sum()"
   ],
   "metadata": {
    "collapsed": false,
    "pycharm": {
     "name": "#%%\n"
    }
   }
  },
  {
   "cell_type": "markdown",
   "source": [
    "# Overview by century"
   ],
   "metadata": {
    "collapsed": false,
    "pycharm": {
     "name": "#%% md\n"
    }
   }
  },
  {
   "cell_type": "code",
   "execution_count": 154,
   "outputs": [
    {
     "data": {
      "text/plain": "   date_avr  authors_N  wordcount  n_sentences  paul_N  paul_freq  \\\n0       0.5         13     151723        10108     160   0.001055   \n1       1.5         13     322401        41076      18   0.000056   \n2       2.5          4    1237867       129474     497   0.000401   \n3       3.5          9    1347705       117599     213   0.000158   \n4       4.5          9     506432        44706     184   0.000363   \n\n   sentences_paul_N  sentences_apostle_N  \n0               156                   84  \n1                18                   92  \n2               485                  644  \n3               205                  690  \n4               181                  146  ",
      "text/html": "<div>\n<style scoped>\n    .dataframe tbody tr th:only-of-type {\n        vertical-align: middle;\n    }\n\n    .dataframe tbody tr th {\n        vertical-align: top;\n    }\n\n    .dataframe thead th {\n        text-align: right;\n    }\n</style>\n<table border=\"1\" class=\"dataframe\">\n  <thead>\n    <tr style=\"text-align: right;\">\n      <th></th>\n      <th>date_avr</th>\n      <th>authors_N</th>\n      <th>wordcount</th>\n      <th>n_sentences</th>\n      <th>paul_N</th>\n      <th>paul_freq</th>\n      <th>sentences_paul_N</th>\n      <th>sentences_apostle_N</th>\n    </tr>\n  </thead>\n  <tbody>\n    <tr>\n      <th>0</th>\n      <td>0.5</td>\n      <td>13</td>\n      <td>151723</td>\n      <td>10108</td>\n      <td>160</td>\n      <td>0.001055</td>\n      <td>156</td>\n      <td>84</td>\n    </tr>\n    <tr>\n      <th>1</th>\n      <td>1.5</td>\n      <td>13</td>\n      <td>322401</td>\n      <td>41076</td>\n      <td>18</td>\n      <td>0.000056</td>\n      <td>18</td>\n      <td>92</td>\n    </tr>\n    <tr>\n      <th>2</th>\n      <td>2.5</td>\n      <td>4</td>\n      <td>1237867</td>\n      <td>129474</td>\n      <td>497</td>\n      <td>0.000401</td>\n      <td>485</td>\n      <td>644</td>\n    </tr>\n    <tr>\n      <th>3</th>\n      <td>3.5</td>\n      <td>9</td>\n      <td>1347705</td>\n      <td>117599</td>\n      <td>213</td>\n      <td>0.000158</td>\n      <td>205</td>\n      <td>690</td>\n    </tr>\n    <tr>\n      <th>4</th>\n      <td>4.5</td>\n      <td>9</td>\n      <td>506432</td>\n      <td>44706</td>\n      <td>184</td>\n      <td>0.000363</td>\n      <td>181</td>\n      <td>146</td>\n    </tr>\n  </tbody>\n</table>\n</div>"
     },
     "execution_count": 154,
     "metadata": {},
     "output_type": "execute_result"
    }
   ],
   "source": [
    "LAGTec_by_date = pd.DataFrame(LAGTec.groupby(\"date_avr\").sum())\n",
    "LAGTec_by_date.reset_index(inplace=True)\n",
    "\n",
    "LAGTec_by_date[\"authors_N\"] = LAGTec_by_date[\"date_avr\"].apply(lambda x: len(LAGTec[LAGTec[\"date_avr\"]==x][\"author\"].unique()))\n",
    "\n",
    "LAGTec_by_date[\"works_N\"] = LAGTec_by_date[\"date_avr\"].apply(lambda x: (LAGTec[\"date_avr\"]==x).sum())\n",
    "\n",
    "LAGTec_by_date[\"paul_freq\"] = LAGTec_by_date[\"paul_N\"] / LAGTec_by_date[\"wordcount\"]\n",
    "\n",
    "LAGTec_by_date[[\"date_avr\", \"authors_N\", \"wordcount\", \"n_sentences\", \"paul_N\", \"paul_freq\", \"sentences_paul_N\", \"sentences_apostle_N\"]]\n"
   ],
   "metadata": {
    "collapsed": false,
    "pycharm": {
     "name": "#%%\n"
    }
   }
  },
  {
   "cell_type": "code",
   "execution_count": 155,
   "outputs": [
    {
     "data": {
      "text/plain": "   date_avr  authors_N  wordcount  n_sentences  paul_N  paul_freq  \\\n0       0.5         13     151723        10108     160   0.001055   \n1       1.5         13     322401        41076      18   0.000056   \n2       2.5          4    1237867       129474     497   0.000401   \n3       3.5          9    1347705       117599     213   0.000158   \n4       4.5          9     506432        44706     184   0.000363   \n\n   sentences_paul_N  sentences_apostle_N  \n0               156                   84  \n1                18                   92  \n2               485                  644  \n3               205                  690  \n4               181                  146  ",
      "text/html": "<div>\n<style scoped>\n    .dataframe tbody tr th:only-of-type {\n        vertical-align: middle;\n    }\n\n    .dataframe tbody tr th {\n        vertical-align: top;\n    }\n\n    .dataframe thead th {\n        text-align: right;\n    }\n</style>\n<table border=\"1\" class=\"dataframe\">\n  <thead>\n    <tr style=\"text-align: right;\">\n      <th></th>\n      <th>date_avr</th>\n      <th>authors_N</th>\n      <th>wordcount</th>\n      <th>n_sentences</th>\n      <th>paul_N</th>\n      <th>paul_freq</th>\n      <th>sentences_paul_N</th>\n      <th>sentences_apostle_N</th>\n    </tr>\n  </thead>\n  <tbody>\n    <tr>\n      <th>0</th>\n      <td>0.5</td>\n      <td>13</td>\n      <td>151723</td>\n      <td>10108</td>\n      <td>160</td>\n      <td>0.001055</td>\n      <td>156</td>\n      <td>84</td>\n    </tr>\n    <tr>\n      <th>1</th>\n      <td>1.5</td>\n      <td>13</td>\n      <td>322401</td>\n      <td>41076</td>\n      <td>18</td>\n      <td>0.000056</td>\n      <td>18</td>\n      <td>92</td>\n    </tr>\n    <tr>\n      <th>2</th>\n      <td>2.5</td>\n      <td>4</td>\n      <td>1237867</td>\n      <td>129474</td>\n      <td>497</td>\n      <td>0.000401</td>\n      <td>485</td>\n      <td>644</td>\n    </tr>\n    <tr>\n      <th>3</th>\n      <td>3.5</td>\n      <td>9</td>\n      <td>1347705</td>\n      <td>117599</td>\n      <td>213</td>\n      <td>0.000158</td>\n      <td>205</td>\n      <td>690</td>\n    </tr>\n    <tr>\n      <th>4</th>\n      <td>4.5</td>\n      <td>9</td>\n      <td>506432</td>\n      <td>44706</td>\n      <td>184</td>\n      <td>0.000363</td>\n      <td>181</td>\n      <td>146</td>\n    </tr>\n  </tbody>\n</table>\n</div>"
     },
     "execution_count": 155,
     "metadata": {},
     "output_type": "execute_result"
    }
   ],
   "source": [
    "LAGTec_by_date = pd.DataFrame(LAGTec.groupby(\"date_avr\").sum())\n",
    "LAGTec_by_date.reset_index(inplace=True)\n",
    "\n",
    "LAGTec_by_date[\"authors_N\"] = LAGTec_by_date[\"date_avr\"].apply(lambda x: len(LAGTec[LAGTec[\"date_avr\"]==x][\"author\"].unique()))\n",
    "\n",
    "LAGTec_by_date[\"works_N\"] = LAGTec_by_date[\"date_avr\"].apply(lambda x: (LAGTec[\"date_avr\"]==x).sum())\n",
    "\n",
    "LAGTec_by_date[\"paul_freq\"] = LAGTec_by_date[\"paul_N\"] / LAGTec_by_date[\"wordcount\"]\n",
    "\n",
    "LAGTec_by_date[[\"date_avr\", \"authors_N\", \"wordcount\", \"n_sentences\", \"paul_N\", \"paul_freq\", \"sentences_paul_N\", \"sentences_apostle_N\"]]\n"
   ],
   "metadata": {
    "collapsed": false,
    "pycharm": {
     "name": "#%%\n"
    }
   }
  },
  {
   "cell_type": "code",
   "execution_count": 156,
   "outputs": [
    {
     "data": {
      "text/plain": "<Figure size 432x288 with 1 Axes>",
      "image/png": "[encoded data removed]"
     },
     "metadata": {},
     "output_type": "display_data"
    }
   ],
   "source": [
    "fig, ax = plt.subplots()\n",
    "LAGTec_by_date.plot.bar(x=\"date_avr\", y=\"wordcount\", ax=ax, legend=False)\n",
    "xticklabels = [\"1CE\", \"2CE\", \"3CE\", \"4CE\", \"5CE\"]\n",
    "ax.set_xticklabels(xticklabels)\n",
    "ax.set_xlabel(\"century\")\n",
    "xticks=[n for n in range(200000, 1600000, 200000)]\n",
    "ax.set_yticks(xticks)\n",
    "xticklabels = [str(n) + \"K\" for n in range(200, 1600, 200)]\n",
    "ax.set_yticklabels(xticklabels)\n",
    "ax.set_ylabel(\"wordcount\")\n",
    "plt.show()"
   ],
   "metadata": {
    "collapsed": false,
    "pycharm": {
     "name": "#%%\n"
    }
   }
  },
  {
   "cell_type": "code",
   "execution_count": 157,
   "outputs": [
    {
     "data": {
      "text/plain": "<Figure size 432x288 with 3 Axes>",
      "image/png": "[encoded data removed]"
     },
     "metadata": {},
     "output_type": "display_data"
    }
   ],
   "source": [
    "fig, [ax1, ax2, ax3] = plt.subplots(3,1, tight_layout=True)\n",
    "\n",
    "# ax1\n",
    "LAGTec_by_date.plot.bar(x=\"date_avr\", y=\"wordcount\", color=\"tab:blue\", ax=ax1, legend=False)\n",
    "ax1.set_xticks([])\n",
    "ax1.set_xlabel(\"\")\n",
    "\n",
    "yticks=[n for n in range(300000, 1500000, 300000)]\n",
    "ax1.set_yticks(yticks)\n",
    "yticklabels = [str(n) + \"K\" for n in range(300, 1500, 300)]\n",
    "ax1.set_yticklabels(yticklabels)\n",
    "ax1.set_ylabel(\"wordcount\")\n",
    "\n",
    "# ax2\n",
    "LAGTec_by_date.plot.bar(x=\"date_avr\", y=\"paul_N\", color=\"tab:green\", ax=ax2, legend=False)\n",
    "\n",
    "ax2.set_xticks([])\n",
    "ax2.set_xlabel(\"\")\n",
    "\n",
    "ax2.set_ylabel(\"Paul (N)\")\n",
    "\n",
    "# ax3\n",
    "LAGTec_by_date.plot.bar(x=\"date_avr\", y=\"paul_freq\", color=\"tab:red\", ax=ax3, legend=False)\n",
    "\n",
    "xticklabels = [\"1CE\", \"2CE\", \"3CE\", \"4CE\", \"5CE\"]\n",
    "ax3.set_xticklabels(xticklabels)\n",
    "ax3.set_xlabel(\"century\")\n",
    "\n",
    "ax3.set_ylabel(\"Paul (freq.)\")\n",
    "\n",
    "plt.show()"
   ],
   "metadata": {
    "collapsed": false,
    "pycharm": {
     "name": "#%%\n"
    }
   }
  },
  {
   "cell_type": "markdown",
   "source": [
    "# Overview by author"
   ],
   "metadata": {
    "collapsed": false,
    "pycharm": {
     "name": "#%% md\n"
    }
   }
  },
  {
   "cell_type": "code",
   "execution_count": 158,
   "outputs": [
    {
     "data": {
      "text/plain": "                                   author    author_id  wordcount  \\\n0                                  Origen      tlg2042     931431   \n1                               Luke-Acts  tlg0031luke      37864   \n2                              Epiphanius      tlg2021     325038   \n3              Socrates of Constantinople      tlg2057     103901   \n4                                 Sozomen      tlg2048     112966   \n5                Athanasius of Alexandria      tlg2035      94010   \n6                               Theodoret      tlg4089     153333   \n7                       Basil of Caesarea      tlg2040     144429   \n8                   Clement of Alexandria      tlg0555     235754   \n9                                Eusebius      tlg2018     620546   \n10                   Gregory of Nazianzus      tlg2022      77297   \n11                               Irenaeus      tlg1447      24651   \n12                     Pauline literature  tlg0031pspa       8324   \n13                     Hippolytus of Rome      tlg2115      69987   \n14                        Clement of Rome      tlg1271      13936   \n15                   Dionysius of Corinth      tlg1329        607   \n16                    Ignatius of Antioch      tlg1443       8396   \n17                               Polycarp      tlg1622       1804   \n18                          Philostorgius      tlg2058      37002   \n19                2 Peter (New Testament)     tlg0031f       1095   \n20                        Mark the Deacon      tlg2806      24954   \n21                 Seniores Apud Irenaeum      tlg1665        695   \n22                               Tatianus      tlg1766      10189   \n23                  Marcianus of Heraclea      tlg4003      13973   \n24                                Marinus      tlg4075       2905   \n25                    Pappus Alexandrinus      tlg2032      66896   \n26                                Zosimus      tlg4084      62236   \n27                              Colluthus      tlg4081       2336   \n28                      Gospel of Matthew     tlg0031a      18288   \n29                  Theophilus of Antioch      tlg1725      21548   \n30                  Martyrdom of Polycarp      tlg1484       2791   \n31                Hebrews (New Testament)     tlg0031c       4971   \n32                  James (New Testament)     tlg0031d       1734   \n33                1 Peter (New Testament)     tlg0031e       1669   \n34                   Jude (New Testament)     tlg0031g        456   \n35             Revelation (New Testament)     tlg0031h       9857   \n36  Johnannine literature (New Testament)  tlg0031john      18189   \n37                Acta Joannis (recensio)      tlg0317       2488   \n38                        Maximus of Tyre      tlg0563     118960   \n39                          Justin Martyr      tlg0645      73449   \n40                   Pseudo-Justin Martyr      tlg0646       2725   \n41                            Athenagoras      tlg1205      20210   \n42                               Barnabas      tlg1216       7440   \n43                                Didache      tlg1311       2377   \n44                 The Shepherd of Hermas      tlg1419      30282   \n45                         Gospel of Mark     tlg0031b      11274   \n46                    Cyril of Alexandria      tlg4090       6799   \n\n    n_sentences  paul_N  sentences_paul_N  sentences_apostle_N  \\\n0        110127     471               459                  526   \n1          2234     128               125                   32   \n2         33079     108               102                  357   \n3          8743      77                76                   64   \n4          7150      63                63                   30   \n5         10789      49                49                   90   \n6         16094      42                40                   36   \n7         11257      25                23                   36   \n8         14753      18                18                  101   \n9         35220      17                17                  199   \n10        20005      14                14                    2   \n11         4525      12                12                   17   \n12          390      10                10                   10   \n13         4394       7                 7                   15   \n14         1410       2                 2                    7   \n15           67       2                 2                    2   \n16          790       2                 2                   14   \n17          212       2                 2                    2   \n18         4172       1                 1                   10   \n19           42       1                 1                    2   \n20         2132       1                 1                    6   \n21          200       1                 1                    2   \n22          648       0                 0                    0   \n23          949       0                 0                    0   \n24          282       0                 0                    0   \n25         5843       0                 0                    0   \n26         2265       0                 0                    0   \n27          209       0                 0                    0   \n28         1276       0                 0                    1   \n29         1300       0                 0                    0   \n30          217       0                 0                    1   \n31          262       0                 0                    1   \n32          140       0                 0                    0   \n33           98       0                 0                    1   \n34           20       0                 0                    1   \n35          475       0                 0                    3   \n36         1339       0                 0                    1   \n37          181       0                 0                   14   \n38        22598       0                 0                    0   \n39         5829       0                 0                   33   \n40          240       0                 0                    5   \n41          808       0                 0                    1   \n42          875       0                 0                    1   \n43          284       0                 0                    3   \n44         2959       0                 0                    5   \n45          790       0                 0                    2   \n46         3659       0                 0                    0   \n\n                                                works  works_N  date_avr  \\\n0   [Contra Celsum, Commentarii in Evangelium Joan...       44       2.5   \n1                              [Gospel of Luke, Acts]        2       0.5   \n2   [Ancoratus, Panarion (Adversus haereses), Anac...        3       3.5   \n3                            [Historia Ecclesiastica]        1       4.5   \n4                            [Historia Ecclesiastica]        1       4.5   \n5   [De decretis Nicaenae synodi (Chapters 41 and ...        5       3.5   \n6       [Historia ecclesiastica , Historia Religiosa]        2       4.5   \n7   [To Young Men, On How They Might Dervice Profi...        2       3.5   \n8   [Protrepticus, Paedagogus, Stromata (Books I-V...        7       2.5   \n9   [Praeperatio Evangelica, Historia ecclesiastic...       10       3.5   \n10  [Christus patiens [Dub.] (fort. auctore Consta...        7       3.5   \n11                 [Libros quinque adversus haereses]        1       1.5   \n12  [Ephesians, Colossians, 2 Thessalonians, 1 Tim...        6       0.5   \n13                       [Refutatio Omnium Haeresium]        1       2.5   \n14  [Epistula I ad Corinthios, Epistula II ad Cori...        2       0.5   \n15                                        [Fragmenta]        1       1.5   \n16  [Ad Ephesios (epist. 1), Ad Magnesios (epist. ...        7       1.5   \n17                         [Epistula ad Philippenses]        1       1.5   \n18   [Historia ecclesiastica (fragmenta ap. Photium)]        1       4.5   \n19                                          [2 Peter]        1       0.5   \n20                 [Vita Porphyrii episcopi Gazensis]        1       4.5   \n21                     [Reliquiae plurium anonymorum]        1       2.5   \n22                                [Oratio ad Graecos]        1       1.5   \n23  [Periplus Maris Exteri, Menippi periplus maris...        3       3.5   \n24                    [Commentarium in Euclidis data]        1       4.5   \n25                                         [Synagoge]        1       3.5   \n26                                    [Historia Nova]        1       4.5   \n27                                    [Rape of Helen]        1       4.5   \n28                                [Gospel of Matthew]        1       0.5   \n29                                     [Ad Autolycum]        1       1.5   \n30                            [Martyrdom of Polycarp]        1       3.5   \n31                                          [Hebrews]        1       0.5   \n32                                            [James]        1       0.5   \n33                                          [1 Peter]        1       0.5   \n34                                             [Jude]        1       0.5   \n35                                       [Revelation]        1       0.5   \n36           [Gospel of John, 1 John, 2 John, 3 John]        4       0.5   \n37            [Acta Joannis, Acta Joannis (recensio)]        2       1.5   \n38                                        [Dialexeis]        1       1.5   \n39      [Apologia, Apology II, Dialogus cum Tryphone]        3       1.5   \n40                            [Epistula ad Diognetum]        1       3.5   \n41   [Supplication pro Christianis, De resurrectione]        2       1.5   \n42                          [The Epistle of Barnabas]        1       1.5   \n43                                          [Didache]        1       1.5   \n44                           [The Shepherd of Hermas]        1       1.5   \n45                                   [Gospel of Mark]        1       0.5   \n46                        [Index In In XII Prophetas]        1       4.5   \n\n    paul_proportion  \n0          0.004168  \n1          0.055953  \n2          0.003084  \n3          0.008693  \n4          0.008811  \n5          0.004542  \n6          0.002485  \n7          0.002043  \n8          0.001220  \n9          0.000483  \n10         0.000700  \n11         0.002652  \n12         0.025641  \n13         0.001593  \n14         0.001418  \n15         0.029851  \n16         0.002532  \n17         0.009434  \n18         0.000240  \n19         0.023810  \n20         0.000469  \n21         0.005000  \n22         0.000000  \n23         0.000000  \n24         0.000000  \n25         0.000000  \n26         0.000000  \n27         0.000000  \n28         0.000000  \n29         0.000000  \n30         0.000000  \n31         0.000000  \n32         0.000000  \n33         0.000000  \n34         0.000000  \n35         0.000000  \n36         0.000000  \n37         0.000000  \n38         0.000000  \n39         0.000000  \n40         0.000000  \n41         0.000000  \n42         0.000000  \n43         0.000000  \n44         0.000000  \n45         0.000000  \n46         0.000000  ",
      "text/html": "<div>\n<style scoped>\n    .dataframe tbody tr th:only-of-type {\n        vertical-align: middle;\n    }\n\n    .dataframe tbody tr th {\n        vertical-align: top;\n    }\n\n    .dataframe thead th {\n        text-align: right;\n    }\n</style>\n<table border=\"1\" class=\"dataframe\">\n  <thead>\n    <tr style=\"text-align: right;\">\n      <th></th>\n      <th>author</th>\n      <th>author_id</th>\n      <th>wordcount</th>\n      <th>n_sentences</th>\n      <th>paul_N</th>\n      <th>sentences_paul_N</th>\n      <th>sentences_apostle_N</th>\n      <th>works</th>\n      <th>works_N</th>\n      <th>date_avr</th>\n      <th>paul_proportion</th>\n    </tr>\n  </thead>\n  <tbody>\n    <tr>\n      <th>0</th>\n      <td>Origen</td>\n      <td>tlg2042</td>\n      <td>931431</td>\n      <td>110127</td>\n      <td>471</td>\n      <td>459</td>\n      <td>526</td>\n      <td>[Contra Celsum, Commentarii in Evangelium Joan...</td>\n      <td>44</td>\n      <td>2.5</td>\n      <td>0.004168</td>\n    </tr>\n    <tr>\n      <th>1</th>\n      <td>Luke-Acts</td>\n      <td>tlg0031luke</td>\n      <td>37864</td>\n      <td>2234</td>\n      <td>128</td>\n      <td>125</td>\n      <td>32</td>\n      <td>[Gospel of Luke, Acts]</td>\n      <td>2</td>\n      <td>0.5</td>\n      <td>0.055953</td>\n    </tr>\n    <tr>\n      <th>2</th>\n      <td>Epiphanius</td>\n      <td>tlg2021</td>\n      <td>325038</td>\n      <td>33079</td>\n      <td>108</td>\n      <td>102</td>\n      <td>357</td>\n      <td>[Ancoratus, Panarion (Adversus haereses), Anac...</td>\n      <td>3</td>\n      <td>3.5</td>\n      <td>0.003084</td>\n    </tr>\n    <tr>\n      <th>3</th>\n      <td>Socrates of Constantinople</td>\n      <td>tlg2057</td>\n      <td>103901</td>\n      <td>8743</td>\n      <td>77</td>\n      <td>76</td>\n      <td>64</td>\n      <td>[Historia Ecclesiastica]</td>\n      <td>1</td>\n      <td>4.5</td>\n      <td>0.008693</td>\n    </tr>\n    <tr>\n      <th>4</th>\n      <td>Sozomen</td>\n      <td>tlg2048</td>\n      <td>112966</td>\n      <td>7150</td>\n      <td>63</td>\n      <td>63</td>\n      <td>30</td>\n      <td>[Historia Ecclesiastica]</td>\n      <td>1</td>\n      <td>4.5</td>\n      <td>0.008811</td>\n    </tr>\n    <tr>\n      <th>5</th>\n      <td>Athanasius of Alexandria</td>\n      <td>tlg2035</td>\n      <td>94010</td>\n      <td>10789</td>\n      <td>49</td>\n      <td>49</td>\n      <td>90</td>\n      <td>[De decretis Nicaenae synodi (Chapters 41 and ...</td>\n      <td>5</td>\n      <td>3.5</td>\n      <td>0.004542</td>\n    </tr>\n    <tr>\n      <th>6</th>\n      <td>Theodoret</td>\n      <td>tlg4089</td>\n      <td>153333</td>\n      <td>16094</td>\n      <td>42</td>\n      <td>40</td>\n      <td>36</td>\n      <td>[Historia ecclesiastica , Historia Religiosa]</td>\n      <td>2</td>\n      <td>4.5</td>\n      <td>0.002485</td>\n    </tr>\n    <tr>\n      <th>7</th>\n      <td>Basil of Caesarea</td>\n      <td>tlg2040</td>\n      <td>144429</td>\n      <td>11257</td>\n      <td>25</td>\n      <td>23</td>\n      <td>36</td>\n      <td>[To Young Men, On How They Might Dervice Profi...</td>\n      <td>2</td>\n      <td>3.5</td>\n      <td>0.002043</td>\n    </tr>\n    <tr>\n      <th>8</th>\n      <td>Clement of Alexandria</td>\n      <td>tlg0555</td>\n      <td>235754</td>\n      <td>14753</td>\n      <td>18</td>\n      <td>18</td>\n      <td>101</td>\n      <td>[Protrepticus, Paedagogus, Stromata (Books I-V...</td>\n      <td>7</td>\n      <td>2.5</td>\n      <td>0.001220</td>\n    </tr>\n    <tr>\n      <th>9</th>\n      <td>Eusebius</td>\n      <td>tlg2018</td>\n      <td>620546</td>\n      <td>35220</td>\n      <td>17</td>\n      <td>17</td>\n      <td>199</td>\n      <td>[Praeperatio Evangelica, Historia ecclesiastic...</td>\n      <td>10</td>\n      <td>3.5</td>\n      <td>0.000483</td>\n    </tr>\n    <tr>\n      <th>10</th>\n      <td>Gregory of Nazianzus</td>\n      <td>tlg2022</td>\n      <td>77297</td>\n      <td>20005</td>\n      <td>14</td>\n      <td>14</td>\n      <td>2</td>\n      <td>[Christus patiens [Dub.] (fort. auctore Consta...</td>\n      <td>7</td>\n      <td>3.5</td>\n      <td>0.000700</td>\n    </tr>\n    <tr>\n      <th>11</th>\n      <td>Irenaeus</td>\n      <td>tlg1447</td>\n      <td>24651</td>\n      <td>4525</td>\n      <td>12</td>\n      <td>12</td>\n      <td>17</td>\n      <td>[Libros quinque adversus haereses]</td>\n      <td>1</td>\n      <td>1.5</td>\n      <td>0.002652</td>\n    </tr>\n    <tr>\n      <th>12</th>\n      <td>Pauline literature</td>\n      <td>tlg0031pspa</td>\n      <td>8324</td>\n      <td>390</td>\n      <td>10</td>\n      <td>10</td>\n      <td>10</td>\n      <td>[Ephesians, Colossians, 2 Thessalonians, 1 Tim...</td>\n      <td>6</td>\n      <td>0.5</td>\n      <td>0.025641</td>\n    </tr>\n    <tr>\n      <th>13</th>\n      <td>Hippolytus of Rome</td>\n      <td>tlg2115</td>\n      <td>69987</td>\n      <td>4394</td>\n      <td>7</td>\n      <td>7</td>\n      <td>15</td>\n      <td>[Refutatio Omnium Haeresium]</td>\n      <td>1</td>\n      <td>2.5</td>\n      <td>0.001593</td>\n    </tr>\n    <tr>\n      <th>14</th>\n      <td>Clement of Rome</td>\n      <td>tlg1271</td>\n      <td>13936</td>\n      <td>1410</td>\n      <td>2</td>\n      <td>2</td>\n      <td>7</td>\n      <td>[Epistula I ad Corinthios, Epistula II ad Cori...</td>\n      <td>2</td>\n      <td>0.5</td>\n      <td>0.001418</td>\n    </tr>\n    <tr>\n      <th>15</th>\n      <td>Dionysius of Corinth</td>\n      <td>tlg1329</td>\n      <td>607</td>\n      <td>67</td>\n      <td>2</td>\n      <td>2</td>\n      <td>2</td>\n      <td>[Fragmenta]</td>\n      <td>1</td>\n      <td>1.5</td>\n      <td>0.029851</td>\n    </tr>\n    <tr>\n      <th>16</th>\n      <td>Ignatius of Antioch</td>\n      <td>tlg1443</td>\n      <td>8396</td>\n      <td>790</td>\n      <td>2</td>\n      <td>2</td>\n      <td>14</td>\n      <td>[Ad Ephesios (epist. 1), Ad Magnesios (epist. ...</td>\n      <td>7</td>\n      <td>1.5</td>\n      <td>0.002532</td>\n    </tr>\n    <tr>\n      <th>17</th>\n      <td>Polycarp</td>\n      <td>tlg1622</td>\n      <td>1804</td>\n      <td>212</td>\n      <td>2</td>\n      <td>2</td>\n      <td>2</td>\n      <td>[Epistula ad Philippenses]</td>\n      <td>1</td>\n      <td>1.5</td>\n      <td>0.009434</td>\n    </tr>\n    <tr>\n      <th>18</th>\n      <td>Philostorgius</td>\n      <td>tlg2058</td>\n      <td>37002</td>\n      <td>4172</td>\n      <td>1</td>\n      <td>1</td>\n      <td>10</td>\n      <td>[Historia ecclesiastica (fragmenta ap. Photium)]</td>\n      <td>1</td>\n      <td>4.5</td>\n      <td>0.000240</td>\n    </tr>\n    <tr>\n      <th>19</th>\n      <td>2 Peter (New Testament)</td>\n      <td>tlg0031f</td>\n      <td>1095</td>\n      <td>42</td>\n      <td>1</td>\n      <td>1</td>\n      <td>2</td>\n      <td>[2 Peter]</td>\n      <td>1</td>\n      <td>0.5</td>\n      <td>0.023810</td>\n    </tr>\n    <tr>\n      <th>20</th>\n      <td>Mark the Deacon</td>\n      <td>tlg2806</td>\n      <td>24954</td>\n      <td>2132</td>\n      <td>1</td>\n      <td>1</td>\n      <td>6</td>\n      <td>[Vita Porphyrii episcopi Gazensis]</td>\n      <td>1</td>\n      <td>4.5</td>\n      <td>0.000469</td>\n    </tr>\n    <tr>\n      <th>21</th>\n      <td>Seniores Apud Irenaeum</td>\n      <td>tlg1665</td>\n      <td>695</td>\n      <td>200</td>\n      <td>1</td>\n      <td>1</td>\n      <td>2</td>\n      <td>[Reliquiae plurium anonymorum]</td>\n      <td>1</td>\n      <td>2.5</td>\n      <td>0.005000</td>\n    </tr>\n    <tr>\n      <th>22</th>\n      <td>Tatianus</td>\n      <td>tlg1766</td>\n      <td>10189</td>\n      <td>648</td>\n      <td>0</td>\n      <td>0</td>\n      <td>0</td>\n      <td>[Oratio ad Graecos]</td>\n      <td>1</td>\n      <td>1.5</td>\n      <td>0.000000</td>\n    </tr>\n    <tr>\n      <th>23</th>\n      <td>Marcianus of Heraclea</td>\n      <td>tlg4003</td>\n      <td>13973</td>\n      <td>949</td>\n      <td>0</td>\n      <td>0</td>\n      <td>0</td>\n      <td>[Periplus Maris Exteri, Menippi periplus maris...</td>\n      <td>3</td>\n      <td>3.5</td>\n      <td>0.000000</td>\n    </tr>\n    <tr>\n      <th>24</th>\n      <td>Marinus</td>\n      <td>tlg4075</td>\n      <td>2905</td>\n      <td>282</td>\n      <td>0</td>\n      <td>0</td>\n      <td>0</td>\n      <td>[Commentarium in Euclidis data]</td>\n      <td>1</td>\n      <td>4.5</td>\n      <td>0.000000</td>\n    </tr>\n    <tr>\n      <th>25</th>\n      <td>Pappus Alexandrinus</td>\n      <td>tlg2032</td>\n      <td>66896</td>\n      <td>5843</td>\n      <td>0</td>\n      <td>0</td>\n      <td>0</td>\n      <td>[Synagoge]</td>\n      <td>1</td>\n      <td>3.5</td>\n      <td>0.000000</td>\n    </tr>\n    <tr>\n      <th>26</th>\n      <td>Zosimus</td>\n      <td>tlg4084</td>\n      <td>62236</td>\n      <td>2265</td>\n      <td>0</td>\n      <td>0</td>\n      <td>0</td>\n      <td>[Historia Nova]</td>\n      <td>1</td>\n      <td>4.5</td>\n      <td>0.000000</td>\n    </tr>\n    <tr>\n      <th>27</th>\n      <td>Colluthus</td>\n      <td>tlg4081</td>\n      <td>2336</td>\n      <td>209</td>\n      <td>0</td>\n      <td>0</td>\n      <td>0</td>\n      <td>[Rape of Helen]</td>\n      <td>1</td>\n      <td>4.5</td>\n      <td>0.000000</td>\n    </tr>\n    <tr>\n      <th>28</th>\n      <td>Gospel of Matthew</td>\n      <td>tlg0031a</td>\n      <td>18288</td>\n      <td>1276</td>\n      <td>0</td>\n      <td>0</td>\n      <td>1</td>\n      <td>[Gospel of Matthew]</td>\n      <td>1</td>\n      <td>0.5</td>\n      <td>0.000000</td>\n    </tr>\n    <tr>\n      <th>29</th>\n      <td>Theophilus of Antioch</td>\n      <td>tlg1725</td>\n      <td>21548</td>\n      <td>1300</td>\n      <td>0</td>\n      <td>0</td>\n      <td>0</td>\n      <td>[Ad Autolycum]</td>\n      <td>1</td>\n      <td>1.5</td>\n      <td>0.000000</td>\n    </tr>\n    <tr>\n      <th>30</th>\n      <td>Martyrdom of Polycarp</td>\n      <td>tlg1484</td>\n      <td>2791</td>\n      <td>217</td>\n      <td>0</td>\n      <td>0</td>\n      <td>1</td>\n      <td>[Martyrdom of Polycarp]</td>\n      <td>1</td>\n      <td>3.5</td>\n      <td>0.000000</td>\n    </tr>\n    <tr>\n      <th>31</th>\n      <td>Hebrews (New Testament)</td>\n      <td>tlg0031c</td>\n      <td>4971</td>\n      <td>262</td>\n      <td>0</td>\n      <td>0</td>\n      <td>1</td>\n      <td>[Hebrews]</td>\n      <td>1</td>\n      <td>0.5</td>\n      <td>0.000000</td>\n    </tr>\n    <tr>\n      <th>32</th>\n      <td>James (New Testament)</td>\n      <td>tlg0031d</td>\n      <td>1734</td>\n      <td>140</td>\n      <td>0</td>\n      <td>0</td>\n      <td>0</td>\n      <td>[James]</td>\n      <td>1</td>\n      <td>0.5</td>\n      <td>0.000000</td>\n    </tr>\n    <tr>\n      <th>33</th>\n      <td>1 Peter (New Testament)</td>\n      <td>tlg0031e</td>\n      <td>1669</td>\n      <td>98</td>\n      <td>0</td>\n      <td>0</td>\n      <td>1</td>\n      <td>[1 Peter]</td>\n      <td>1</td>\n      <td>0.5</td>\n      <td>0.000000</td>\n    </tr>\n    <tr>\n      <th>34</th>\n      <td>Jude (New Testament)</td>\n      <td>tlg0031g</td>\n      <td>456</td>\n      <td>20</td>\n      <td>0</td>\n      <td>0</td>\n      <td>1</td>\n      <td>[Jude]</td>\n      <td>1</td>\n      <td>0.5</td>\n      <td>0.000000</td>\n    </tr>\n    <tr>\n      <th>35</th>\n      <td>Revelation (New Testament)</td>\n      <td>tlg0031h</td>\n      <td>9857</td>\n      <td>475</td>\n      <td>0</td>\n      <td>0</td>\n      <td>3</td>\n      <td>[Revelation]</td>\n      <td>1</td>\n      <td>0.5</td>\n      <td>0.000000</td>\n    </tr>\n    <tr>\n      <th>36</th>\n      <td>Johnannine literature (New Testament)</td>\n      <td>tlg0031john</td>\n      <td>18189</td>\n      <td>1339</td>\n      <td>0</td>\n      <td>0</td>\n      <td>1</td>\n      <td>[Gospel of John, 1 John, 2 John, 3 John]</td>\n      <td>4</td>\n      <td>0.5</td>\n      <td>0.000000</td>\n    </tr>\n    <tr>\n      <th>37</th>\n      <td>Acta Joannis (recensio)</td>\n      <td>tlg0317</td>\n      <td>2488</td>\n      <td>181</td>\n      <td>0</td>\n      <td>0</td>\n      <td>14</td>\n      <td>[Acta Joannis, Acta Joannis (recensio)]</td>\n      <td>2</td>\n      <td>1.5</td>\n      <td>0.000000</td>\n    </tr>\n    <tr>\n      <th>38</th>\n      <td>Maximus of Tyre</td>\n      <td>tlg0563</td>\n      <td>118960</td>\n      <td>22598</td>\n      <td>0</td>\n      <td>0</td>\n      <td>0</td>\n      <td>[Dialexeis]</td>\n      <td>1</td>\n      <td>1.5</td>\n      <td>0.000000</td>\n    </tr>\n    <tr>\n      <th>39</th>\n      <td>Justin Martyr</td>\n      <td>tlg0645</td>\n      <td>73449</td>\n      <td>5829</td>\n      <td>0</td>\n      <td>0</td>\n      <td>33</td>\n      <td>[Apologia, Apology II, Dialogus cum Tryphone]</td>\n      <td>3</td>\n      <td>1.5</td>\n      <td>0.000000</td>\n    </tr>\n    <tr>\n      <th>40</th>\n      <td>Pseudo-Justin Martyr</td>\n      <td>tlg0646</td>\n      <td>2725</td>\n      <td>240</td>\n      <td>0</td>\n      <td>0</td>\n      <td>5</td>\n      <td>[Epistula ad Diognetum]</td>\n      <td>1</td>\n      <td>3.5</td>\n      <td>0.000000</td>\n    </tr>\n    <tr>\n      <th>41</th>\n      <td>Athenagoras</td>\n      <td>tlg1205</td>\n      <td>20210</td>\n      <td>808</td>\n      <td>0</td>\n      <td>0</td>\n      <td>1</td>\n      <td>[Supplication pro Christianis, De resurrectione]</td>\n      <td>2</td>\n      <td>1.5</td>\n      <td>0.000000</td>\n    </tr>\n    <tr>\n      <th>42</th>\n      <td>Barnabas</td>\n      <td>tlg1216</td>\n      <td>7440</td>\n      <td>875</td>\n      <td>0</td>\n      <td>0</td>\n      <td>1</td>\n      <td>[The Epistle of Barnabas]</td>\n      <td>1</td>\n      <td>1.5</td>\n      <td>0.000000</td>\n    </tr>\n    <tr>\n      <th>43</th>\n      <td>Didache</td>\n      <td>tlg1311</td>\n      <td>2377</td>\n      <td>284</td>\n      <td>0</td>\n      <td>0</td>\n      <td>3</td>\n      <td>[Didache]</td>\n      <td>1</td>\n      <td>1.5</td>\n      <td>0.000000</td>\n    </tr>\n    <tr>\n      <th>44</th>\n      <td>The Shepherd of Hermas</td>\n      <td>tlg1419</td>\n      <td>30282</td>\n      <td>2959</td>\n      <td>0</td>\n      <td>0</td>\n      <td>5</td>\n      <td>[The Shepherd of Hermas]</td>\n      <td>1</td>\n      <td>1.5</td>\n      <td>0.000000</td>\n    </tr>\n    <tr>\n      <th>45</th>\n      <td>Gospel of Mark</td>\n      <td>tlg0031b</td>\n      <td>11274</td>\n      <td>790</td>\n      <td>0</td>\n      <td>0</td>\n      <td>2</td>\n      <td>[Gospel of Mark]</td>\n      <td>1</td>\n      <td>0.5</td>\n      <td>0.000000</td>\n    </tr>\n    <tr>\n      <th>46</th>\n      <td>Cyril of Alexandria</td>\n      <td>tlg4090</td>\n      <td>6799</td>\n      <td>3659</td>\n      <td>0</td>\n      <td>0</td>\n      <td>0</td>\n      <td>[Index In In XII Prophetas]</td>\n      <td>1</td>\n      <td>4.5</td>\n      <td>0.000000</td>\n    </tr>\n  </tbody>\n</table>\n</div>"
     },
     "execution_count": 158,
     "metadata": {},
     "output_type": "execute_result"
    }
   ],
   "source": [
    "df = LAGTec[(LAGTec[\"author_id\"]!=\"tlg0031paul\")]#  [\"sentences_paul_N\"].sum()\n",
    "\n",
    "df_authors = df.groupby(\"author_id\").sum()[[\"wordcount\", \"n_sentences\", \"paul_N\",\"sentences_paul_N\", \"sentences_apostle_N\"]].sort_values(\"sentences_paul_N\", ascending=False)#\n",
    "author_dict = dict(zip(LAGT_metadata[\"author_id\"],  LAGT_metadata[\"author\"]))\n",
    "def get_author(x):\n",
    "    try:\n",
    "        return author_dict[x]\n",
    "    except:\n",
    "        return None\n",
    "\n",
    "date_dict = dict(zip(LAGT_metadata[\"author_id\"],  LAGT_metadata[\"date_avr\"]))\n",
    "\n",
    "def get_list_of_works(author_id):\n",
    "    works = LAGT[LAGT[\"author_id\"]==author_id][\"title\"].tolist()\n",
    "    return works\n",
    "\n",
    "\n",
    "df_authors.reset_index(inplace=True)\n",
    "df_authors[\"author\"] = df_authors[\"author_id\"].apply(get_author)\n",
    "df_authors[\"works\"] = df_authors[\"author_id\"].apply(get_list_of_works)\n",
    "df_authors[\"works_N\"] = df_authors[\"works\"].apply(len)\n",
    "df_authors[\"date_avr\"] = df_authors[\"author_id\"].apply(lambda x: date_dict[x])\n",
    "df_authors.set_index(\"author\", inplace=True)\n",
    "df_authors.reset_index(inplace=True)\n",
    "\n",
    "df_authors[\"paul_proportion\"] = df_authors[\"sentences_paul_N\"] / df_authors[\"n_sentences\"]\n",
    "df_authors"
   ],
   "metadata": {
    "collapsed": false,
    "pycharm": {
     "name": "#%%\n"
    }
   }
  },
  {
   "cell_type": "code",
   "execution_count": 159,
   "outputs": [
    {
     "data": {
      "text/plain": "Index(['author', 'author_id', 'wordcount', 'n_sentences', 'paul_N',\n       'sentences_paul_N', 'sentences_apostle_N', 'works', 'works_N',\n       'date_avr', 'paul_proportion'],\n      dtype='object')"
     },
     "execution_count": 159,
     "metadata": {},
     "output_type": "execute_result"
    }
   ],
   "source": [
    "df_authors.columns"
   ],
   "metadata": {
    "collapsed": false,
    "pycharm": {
     "name": "#%%\n"
    }
   }
  },
  {
   "cell_type": "code",
   "execution_count": 160,
   "outputs": [],
   "source": [
    "columns = ['author', 'author_id', 'works_N', 'works', 'wordcount', 'n_sentences',\n",
    "        'date_avr','paul_N', 'sentences_apostle_N', 'sentences_paul_N', 'paul_proportion']"
   ],
   "metadata": {
    "collapsed": false,
    "pycharm": {
     "name": "#%%\n"
    }
   }
  },
  {
   "cell_type": "code",
   "execution_count": 161,
   "outputs": [],
   "source": [
    "set_with_dataframe(paul_results.worksheet(\"christian_authors_overview\"), df_authors[columns])"
   ],
   "metadata": {
    "collapsed": false,
    "pycharm": {
     "name": "#%%\n"
    }
   }
  },
  {
   "cell_type": "code",
   "execution_count": 162,
   "outputs": [],
   "source": [
    "# save for future usage\n",
    "LAGTec.to_json(\"../data/large_files/LAGTec.json\")"
   ],
   "metadata": {
    "collapsed": false,
    "pycharm": {
     "name": "#%%\n"
    }
   }
  },
  {
   "cell_type": "code",
   "execution_count": null,
   "outputs": [],
   "source": [],
   "metadata": {
    "collapsed": false,
    "pycharm": {
     "name": "#%%\n"
    }
   }
  }
 ],
 "metadata": {
  "kernelspec": {
   "display_name": "paul_venv",
   "language": "python",
   "name": "paul_venv"
  },
  "language_info": {
   "codemirror_mode": {
    "name": "ipython",
    "version": 3
   },
   "file_extension": ".py",
   "mimetype": "text/x-python",
   "name": "python",
   "nbconvert_exporter": "python",
   "pygments_lexer": "ipython3",
   "version": "3.9.7"
  }
 },
 "nbformat": 4,
 "nbformat_minor": 4
}