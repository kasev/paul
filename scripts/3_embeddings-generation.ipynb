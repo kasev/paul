{
 "cells": [
  {
   "cell_type": "code",
   "execution_count": 228,
   "outputs": [],
   "source": [
    "import math\n",
    "import numpy as np\n",
    "import pandas as pd\n",
    "import pickle\n",
    "import nltk\n",
    "\n",
    "import matplotlib.pyplot as plt\n",
    "import matplotlib.colors as mcolors\n",
    "import matplotlib.patches as patches\n",
    "import seaborn as sns\n",
    "\n",
    "from sklearn.feature_extraction.text import CountVectorizer\n",
    "from sklearn.decomposition import TruncatedSVD\n",
    "from scipy import spatial\n",
    "\n",
    "from sklearn.manifold import TSNE\n",
    "from sklearn.metrics.pairwise import cosine_similarity\n",
    "from gensim import corpora\n",
    "import sddk\n",
    "\n",
    "import gspread\n",
    "from gspread_dataframe import get_as_dataframe, set_with_dataframe\n",
    "from google.oauth2 import service_account # based on google-auth library"
   ],
   "metadata": {
    "collapsed": false,
    "pycharm": {
     "name": "#%%\n"
    }
   }
  },
  {
   "cell_type": "code",
   "execution_count": 229,
   "outputs": [
    {
     "name": "stdout",
     "output_type": "stream",
     "text": [
      "endpoint variable has been configured to: https://sciencedata.dk/files/\n"
     ]
    }
   ],
   "source": [
    "# for exporting data to googlesheets/sciencedata\n",
    "# (feel free to skip)\n",
    "\n",
    "s = sddk.cloudSession(\"sciencedata.dk\")\n",
    "# establish connection with gogglesheets...\n",
    "file_data = s.read_file(\"https://sciencedata.dk/files/ServiceAccountsKey.json\", \"dict\") # or load it from a local storage: json.load(open(\"../../ServiceAccountsKey.json\", \"r\"))\n",
    "credentials = service_account.Credentials.from_service_account_info(file_data)\n",
    "gc = gspread.Client(auth=credentials.with_scopes(['https://spreadsheets.google.com/feeds', 'https://www.googleapis.com/auth/drive']))\n",
    "paul_results = gc.open_by_url(\"https://docs.google.com/spreadsheets/d/1h4M-gK9TPIfeTV528tUuPBfZF1wtcNCA10yIlJYqGTE/edit?usp=sharing\")"
   ],
   "metadata": {
    "collapsed": false,
    "pycharm": {
     "name": "#%%\n"
    }
   }
  },
  {
   "cell_type": "code",
   "execution_count": 230,
   "outputs": [],
   "source": [
    "LAGTec = pd.read_json(\"../data/large_files/LAGTec.json\")"
   ],
   "metadata": {
    "collapsed": false,
    "pycharm": {
     "name": "#%%\n"
    }
   }
  },
  {
   "cell_type": "code",
   "execution_count": 231,
   "outputs": [
    {
     "data": {
      "text/plain": "49"
     },
     "execution_count": 231,
     "metadata": {},
     "output_type": "execute_result"
    }
   ],
   "source": [
    "len(LAGTec[\"author\"].unique().tolist())"
   ],
   "metadata": {
    "collapsed": false,
    "pycharm": {
     "name": "#%%\n"
    }
   }
  },
  {
   "cell_type": "code",
   "execution_count": 232,
   "outputs": [
    {
     "data": {
      "text/plain": "148"
     },
     "execution_count": 232,
     "metadata": {},
     "output_type": "execute_result"
    }
   ],
   "source": [
    "len(LAGTec)"
   ],
   "metadata": {
    "collapsed": false,
    "pycharm": {
     "name": "#%%\n"
    }
   }
  },
  {
   "cell_type": "code",
   "execution_count": 233,
   "outputs": [
    {
     "data": {
      "text/plain": "3566823"
     },
     "execution_count": 233,
     "metadata": {},
     "output_type": "execute_result"
    }
   ],
   "source": [
    "LAGTec[\"wordcount\"].sum()"
   ],
   "metadata": {
    "collapsed": false,
    "pycharm": {
     "name": "#%%\n"
    }
   }
  },
  {
   "cell_type": "code",
   "execution_count": 234,
   "outputs": [
    {
     "data": {
      "text/plain": "1498327"
     },
     "execution_count": 234,
     "metadata": {},
     "output_type": "execute_result"
    }
   ],
   "source": [
    "LAGTec[\"lemmatized_sentences\"].apply(lambda x: len([w for s in x for w in s])).sum()"
   ],
   "metadata": {
    "collapsed": false,
    "pycharm": {
     "name": "#%%\n"
    }
   }
  },
  {
   "cell_type": "code",
   "execution_count": 235,
   "outputs": [
    {
     "data": {
      "text/plain": "                             filename                                 author  \\\n385   tlg0031.tlg001.perseus-grc2.xml                      Gospel of Matthew   \n386   tlg0031.tlg002.perseus-grc2.xml                         Gospel of Mark   \n387   tlg0031.tlg003.perseus-grc2.xml                              Luke-Acts   \n388   tlg0031.tlg004.perseus-grc2.xml  Johnannine literature (New Testament)   \n389   tlg0031.tlg005.perseus-grc2.xml                              Luke-Acts   \n...                               ...                                    ...   \n1417  tlg4081.tlg001.perseus-grc1.xml                              Colluthus   \n1418      tlg4084.tlg001.opp-grc1.xml                                Zosimus   \n1421      tlg4089.tlg003.opp-grc1.xml                              Theodoret   \n1422    tlg4089.tlg004.1st1K-grc1.xml                              Theodoret   \n1423    tlg4090.tlg001.1st1K-lat3.xml                    Cyril of Alexandria   \n\n                          title  wordcount    author_id          doc_id  \\\n385           Gospel of Matthew      18288     tlg0031a  tlg0031.tlg001   \n386              Gospel of Mark      11274     tlg0031b  tlg0031.tlg002   \n387              Gospel of Luke      19458  tlg0031luke  tlg0031.tlg003   \n388              Gospel of John      15590  tlg0031john  tlg0031.tlg004   \n389                        Acts      18406  tlg0031luke  tlg0031.tlg005   \n...                         ...        ...          ...             ...   \n1417              Rape of Helen       2336      tlg4081  tlg4081.tlg001   \n1418              Historia Nova      62236      tlg4084  tlg4084.tlg001   \n1421    Historia ecclesiastica      108815      tlg4089  tlg4089.tlg003   \n1422         Historia Religiosa      44518      tlg4089  tlg4089.tlg004   \n1423  Index In In XII Prophetas       6799      tlg4090  tlg4090.tlg001   \n\n      raw_date  date_avr                date_probs  date_manual provenience  \\\n385     A.D. 1       0.5                {'0.5': 1}          0.5   christian   \n386     A.D. 1       0.5                {'0.5': 1}          0.5   christian   \n387     A.D. 1       0.5                {'0.5': 1}          0.5   christian   \n388     A.D. 1       0.5                {'0.5': 1}          0.5   christian   \n389     A.D. 1       0.5                {'0.5': 1}          0.5   christian   \n...        ...       ...                       ...          ...         ...   \n1417    A.D. 5       4.5                {'4.5': 1}          NaN   christian   \n1418   A.D. 5?       4.5                {'4.5': 1}          4.5   christian   \n1421  A.D. 4-5       4.5  {'3.5': 0.5, '4.5': 0.5}          4.5   christian   \n1422  A.D. 4-5       4.5  {'3.5': 0.5, '4.5': 0.5}          4.5   christian   \n1423  A.D. 4-5       4.5  {'3.5': 0.5, '4.5': 0.5}          4.5   christian   \n\n        tlg_epithet                                       clean_string  \\\n385              []   ΒΙΒΛΟΣ γενέσεως Ἰησοῦ Χριστοῦ υἱοῦ Δαυεὶδ υἱο...   \n386              []   ΑΡΧΗ τοῦ εὐαγγελίου Ἰησοῦ Χριστοῦ . Καθὼς γέγ...   \n387              []   ΕΠΕΙΔΗΠΕΡ ΠΟΛΛΟΙ ἐπεχείρησαν ἀνατάξασθαι διήγ...   \n388              []   ΕΝ ΑΡΧΗ ἦν ὁ λόγος, καὶ ὁ λόγος ἦν πρὸς τὸν θ...   \n389              []   τὸν μὲν πρῶτον λόγον ἐποιησάμην περὶ πάντων, ...   \n...             ...                                                ...   \n1417      Epici/-ae  νύμφαι Τρωιάδες, ποταμοῦ Ξάνθοιο γενέθλη, αἳ π...   \n1418  Historici/-ae   Πολυβίῳ τῷ Μεγαλοπολίτῃ, μνήμῃ παραδοῦναι τὰ ...   \n1421     Theologici  Τάδε ἔνεστιν ἐν τῷ πρώτῳ τόμῳ τῆς Θεοδωρήτου ἐ...   \n1422     Theologici   Τῶν ἀρίστων ἀνδρῶν, καὶ τῆς ἀρετῆς ἀθλητῶν, κ...   \n1423     Theologici  , ; , , ; , ; ; . , , ; ; ; , ; , ; ; , ; ; , ...   \n\n      n_sentences                               lemmatized_sentences  \\\n385          1276  [[βίβλος, γένεσις, Ἰησοῦς, Χριστός, υἱός, Δαυί...   \n386           790  [[ἀρχή, εὐαγγέλιον, Ἰησοῦς, Χριστός], [γράφω, ...   \n387          1274  [[πολύς, ἐπιχειρέω, ἀνατάσσομαι, διήγησις, πλη...   \n388          1164  [[εἰμί, ἀρχή, εἰμί, λόγος, λόγος, εἰμί, θεός, ...   \n389           960  [[πρῶτος, λόγος, ποιέω, πᾶς, Θεόφιλος, ἄρχω, Ἰ...   \n...           ...                                                ...   \n1417          209  [[νύμφη, Τρῳάς, ποταμός, Ξάνθος, γενέθλη, πλόκ...   \n1418         2265  [[πολυβίῳ, μεγαλοπολίτῃ, μνήμη, παραδίδωμι, ἀξ...   \n1421        13146  [[ἔνειμι, πρῶτος, τόμῳ, θεοδωρήτου, ἐκκλησιαστ...   \n1422         2948  [[ἄριστος, ἀνήρ, ἀρετή, ἀθλητής, καλός, ὁράω, ...   \n1423         3659  [[], [], [], [], [], [], [], [], [], [], [], [...   \n\n                                         sentences_paul  sentences_paul_N  \\\n385                                                  []                 0   \n386                                                  []                 0   \n387                                                  []                 0   \n388                                                  []                 0   \n389   [[διέρχομαι, ὅλος, νῆσος, Πάφος, εὑρίσκω, ἀνήρ...               125   \n...                                                 ...               ...   \n1417                                                 []                 0   \n1418                                                 []                 0   \n1421  [[προτρεπόμενον, Παῦλος, οὗτος, βιάζω, Πέτρος,...                31   \n1422  [[τοιοῦτος, παντευχία, φάλαγξ, στρατηγός, πρόμ...                 9   \n1423                                                 []                 0   \n\n                                      sentences_apostle  paul_N  \\\n385                          [[ἀπόστολος, ὄνομα, εἰμί]]       0   \n386   [[ποιέω, ἀπόστολος, ὀνομάζω, ἀποστέλλω, κηρύσσ...       0   \n387   [[γίγνομαι, ἡμέρα, προσφωνέω, μαθητής, ἐκλεξάμ...       0   \n388   [[λέγω, εἰμί, δοῦλος, μέγας, κύριος, ἀπόστολος...       0   \n389   [[πρῶτος, λόγος, ποιέω, πᾶς, Θεόφιλος, ἄρχω, Ἰ...     128   \n...                                                 ...     ...   \n1417                                                 []       0   \n1418                                                 []       0   \n1421  [[εὐσεβίος, παλαιστῖνος, ἱερόν, ἀπόστολος, ἱστ...      33   \n1422  [[ῥηθησομένων, ἀπιστέω, εὔδηλος, μωσέως, Ἰησοῦ...       9   \n1423                                                 []       0   \n\n      sentences_apostle_N  \n385                     1  \n386                     2  \n387                     6  \n388                     1  \n389                    26  \n...                   ...  \n1417                    0  \n1418                    0  \n1421                   23  \n1422                   13  \n1423                    0  \n\n[148 rows x 20 columns]",
      "text/html": "<div>\n<style scoped>\n    .dataframe tbody tr th:only-of-type {\n        vertical-align: middle;\n    }\n\n    .dataframe tbody tr th {\n        vertical-align: top;\n    }\n\n    .dataframe thead th {\n        text-align: right;\n    }\n</style>\n<table border=\"1\" class=\"dataframe\">\n  <thead>\n    <tr style=\"text-align: right;\">\n      <th></th>\n      <th>filename</th>\n      <th>author</th>\n      <th>title</th>\n      <th>wordcount</th>\n      <th>author_id</th>\n      <th>doc_id</th>\n      <th>raw_date</th>\n      <th>date_avr</th>\n      <th>date_probs</th>\n      <th>date_manual</th>\n      <th>provenience</th>\n      <th>tlg_epithet</th>\n      <th>clean_string</th>\n      <th>n_sentences</th>\n      <th>lemmatized_sentences</th>\n      <th>sentences_paul</th>\n      <th>sentences_paul_N</th>\n      <th>sentences_apostle</th>\n      <th>paul_N</th>\n      <th>sentences_apostle_N</th>\n    </tr>\n  </thead>\n  <tbody>\n    <tr>\n      <th>385</th>\n      <td>tlg0031.tlg001.perseus-grc2.xml</td>\n      <td>Gospel of Matthew</td>\n      <td>Gospel of Matthew</td>\n      <td>18288</td>\n      <td>tlg0031a</td>\n      <td>tlg0031.tlg001</td>\n      <td>A.D. 1</td>\n      <td>0.5</td>\n      <td>{'0.5': 1}</td>\n      <td>0.5</td>\n      <td>christian</td>\n      <td>[]</td>\n      <td>ΒΙΒΛΟΣ γενέσεως Ἰησοῦ Χριστοῦ υἱοῦ Δαυεὶδ υἱο...</td>\n      <td>1276</td>\n      <td>[[βίβλος, γένεσις, Ἰησοῦς, Χριστός, υἱός, Δαυί...</td>\n      <td>[]</td>\n      <td>0</td>\n      <td>[[ἀπόστολος, ὄνομα, εἰμί]]</td>\n      <td>0</td>\n      <td>1</td>\n    </tr>\n    <tr>\n      <th>386</th>\n      <td>tlg0031.tlg002.perseus-grc2.xml</td>\n      <td>Gospel of Mark</td>\n      <td>Gospel of Mark</td>\n      <td>11274</td>\n      <td>tlg0031b</td>\n      <td>tlg0031.tlg002</td>\n      <td>A.D. 1</td>\n      <td>0.5</td>\n      <td>{'0.5': 1}</td>\n      <td>0.5</td>\n      <td>christian</td>\n      <td>[]</td>\n      <td>ΑΡΧΗ τοῦ εὐαγγελίου Ἰησοῦ Χριστοῦ . Καθὼς γέγ...</td>\n      <td>790</td>\n      <td>[[ἀρχή, εὐαγγέλιον, Ἰησοῦς, Χριστός], [γράφω, ...</td>\n      <td>[]</td>\n      <td>0</td>\n      <td>[[ποιέω, ἀπόστολος, ὀνομάζω, ἀποστέλλω, κηρύσσ...</td>\n      <td>0</td>\n      <td>2</td>\n    </tr>\n    <tr>\n      <th>387</th>\n      <td>tlg0031.tlg003.perseus-grc2.xml</td>\n      <td>Luke-Acts</td>\n      <td>Gospel of Luke</td>\n      <td>19458</td>\n      <td>tlg0031luke</td>\n      <td>tlg0031.tlg003</td>\n      <td>A.D. 1</td>\n      <td>0.5</td>\n      <td>{'0.5': 1}</td>\n      <td>0.5</td>\n      <td>christian</td>\n      <td>[]</td>\n      <td>ΕΠΕΙΔΗΠΕΡ ΠΟΛΛΟΙ ἐπεχείρησαν ἀνατάξασθαι διήγ...</td>\n      <td>1274</td>\n      <td>[[πολύς, ἐπιχειρέω, ἀνατάσσομαι, διήγησις, πλη...</td>\n      <td>[]</td>\n      <td>0</td>\n      <td>[[γίγνομαι, ἡμέρα, προσφωνέω, μαθητής, ἐκλεξάμ...</td>\n      <td>0</td>\n      <td>6</td>\n    </tr>\n    <tr>\n      <th>388</th>\n      <td>tlg0031.tlg004.perseus-grc2.xml</td>\n      <td>Johnannine literature (New Testament)</td>\n      <td>Gospel of John</td>\n      <td>15590</td>\n      <td>tlg0031john</td>\n      <td>tlg0031.tlg004</td>\n      <td>A.D. 1</td>\n      <td>0.5</td>\n      <td>{'0.5': 1}</td>\n      <td>0.5</td>\n      <td>christian</td>\n      <td>[]</td>\n      <td>ΕΝ ΑΡΧΗ ἦν ὁ λόγος, καὶ ὁ λόγος ἦν πρὸς τὸν θ...</td>\n      <td>1164</td>\n      <td>[[εἰμί, ἀρχή, εἰμί, λόγος, λόγος, εἰμί, θεός, ...</td>\n      <td>[]</td>\n      <td>0</td>\n      <td>[[λέγω, εἰμί, δοῦλος, μέγας, κύριος, ἀπόστολος...</td>\n      <td>0</td>\n      <td>1</td>\n    </tr>\n    <tr>\n      <th>389</th>\n      <td>tlg0031.tlg005.perseus-grc2.xml</td>\n      <td>Luke-Acts</td>\n      <td>Acts</td>\n      <td>18406</td>\n      <td>tlg0031luke</td>\n      <td>tlg0031.tlg005</td>\n      <td>A.D. 1</td>\n      <td>0.5</td>\n      <td>{'0.5': 1}</td>\n      <td>0.5</td>\n      <td>christian</td>\n      <td>[]</td>\n      <td>τὸν μὲν πρῶτον λόγον ἐποιησάμην περὶ πάντων, ...</td>\n      <td>960</td>\n      <td>[[πρῶτος, λόγος, ποιέω, πᾶς, Θεόφιλος, ἄρχω, Ἰ...</td>\n      <td>[[διέρχομαι, ὅλος, νῆσος, Πάφος, εὑρίσκω, ἀνήρ...</td>\n      <td>125</td>\n      <td>[[πρῶτος, λόγος, ποιέω, πᾶς, Θεόφιλος, ἄρχω, Ἰ...</td>\n      <td>128</td>\n      <td>26</td>\n    </tr>\n    <tr>\n      <th>...</th>\n      <td>...</td>\n      <td>...</td>\n      <td>...</td>\n      <td>...</td>\n      <td>...</td>\n      <td>...</td>\n      <td>...</td>\n      <td>...</td>\n      <td>...</td>\n      <td>...</td>\n      <td>...</td>\n      <td>...</td>\n      <td>...</td>\n      <td>...</td>\n      <td>...</td>\n      <td>...</td>\n      <td>...</td>\n      <td>...</td>\n      <td>...</td>\n      <td>...</td>\n    </tr>\n    <tr>\n      <th>1417</th>\n      <td>tlg4081.tlg001.perseus-grc1.xml</td>\n      <td>Colluthus</td>\n      <td>Rape of Helen</td>\n      <td>2336</td>\n      <td>tlg4081</td>\n      <td>tlg4081.tlg001</td>\n      <td>A.D. 5</td>\n      <td>4.5</td>\n      <td>{'4.5': 1}</td>\n      <td>NaN</td>\n      <td>christian</td>\n      <td>Epici/-ae</td>\n      <td>νύμφαι Τρωιάδες, ποταμοῦ Ξάνθοιο γενέθλη, αἳ π...</td>\n      <td>209</td>\n      <td>[[νύμφη, Τρῳάς, ποταμός, Ξάνθος, γενέθλη, πλόκ...</td>\n      <td>[]</td>\n      <td>0</td>\n      <td>[]</td>\n      <td>0</td>\n      <td>0</td>\n    </tr>\n    <tr>\n      <th>1418</th>\n      <td>tlg4084.tlg001.opp-grc1.xml</td>\n      <td>Zosimus</td>\n      <td>Historia Nova</td>\n      <td>62236</td>\n      <td>tlg4084</td>\n      <td>tlg4084.tlg001</td>\n      <td>A.D. 5?</td>\n      <td>4.5</td>\n      <td>{'4.5': 1}</td>\n      <td>4.5</td>\n      <td>christian</td>\n      <td>Historici/-ae</td>\n      <td>Πολυβίῳ τῷ Μεγαλοπολίτῃ, μνήμῃ παραδοῦναι τὰ ...</td>\n      <td>2265</td>\n      <td>[[πολυβίῳ, μεγαλοπολίτῃ, μνήμη, παραδίδωμι, ἀξ...</td>\n      <td>[]</td>\n      <td>0</td>\n      <td>[]</td>\n      <td>0</td>\n      <td>0</td>\n    </tr>\n    <tr>\n      <th>1421</th>\n      <td>tlg4089.tlg003.opp-grc1.xml</td>\n      <td>Theodoret</td>\n      <td>Historia ecclesiastica</td>\n      <td>108815</td>\n      <td>tlg4089</td>\n      <td>tlg4089.tlg003</td>\n      <td>A.D. 4-5</td>\n      <td>4.5</td>\n      <td>{'3.5': 0.5, '4.5': 0.5}</td>\n      <td>4.5</td>\n      <td>christian</td>\n      <td>Theologici</td>\n      <td>Τάδε ἔνεστιν ἐν τῷ πρώτῳ τόμῳ τῆς Θεοδωρήτου ἐ...</td>\n      <td>13146</td>\n      <td>[[ἔνειμι, πρῶτος, τόμῳ, θεοδωρήτου, ἐκκλησιαστ...</td>\n      <td>[[προτρεπόμενον, Παῦλος, οὗτος, βιάζω, Πέτρος,...</td>\n      <td>31</td>\n      <td>[[εὐσεβίος, παλαιστῖνος, ἱερόν, ἀπόστολος, ἱστ...</td>\n      <td>33</td>\n      <td>23</td>\n    </tr>\n    <tr>\n      <th>1422</th>\n      <td>tlg4089.tlg004.1st1K-grc1.xml</td>\n      <td>Theodoret</td>\n      <td>Historia Religiosa</td>\n      <td>44518</td>\n      <td>tlg4089</td>\n      <td>tlg4089.tlg004</td>\n      <td>A.D. 4-5</td>\n      <td>4.5</td>\n      <td>{'3.5': 0.5, '4.5': 0.5}</td>\n      <td>4.5</td>\n      <td>christian</td>\n      <td>Theologici</td>\n      <td>Τῶν ἀρίστων ἀνδρῶν, καὶ τῆς ἀρετῆς ἀθλητῶν, κ...</td>\n      <td>2948</td>\n      <td>[[ἄριστος, ἀνήρ, ἀρετή, ἀθλητής, καλός, ὁράω, ...</td>\n      <td>[[τοιοῦτος, παντευχία, φάλαγξ, στρατηγός, πρόμ...</td>\n      <td>9</td>\n      <td>[[ῥηθησομένων, ἀπιστέω, εὔδηλος, μωσέως, Ἰησοῦ...</td>\n      <td>9</td>\n      <td>13</td>\n    </tr>\n    <tr>\n      <th>1423</th>\n      <td>tlg4090.tlg001.1st1K-lat3.xml</td>\n      <td>Cyril of Alexandria</td>\n      <td>Index In In XII Prophetas</td>\n      <td>6799</td>\n      <td>tlg4090</td>\n      <td>tlg4090.tlg001</td>\n      <td>A.D. 4-5</td>\n      <td>4.5</td>\n      <td>{'3.5': 0.5, '4.5': 0.5}</td>\n      <td>4.5</td>\n      <td>christian</td>\n      <td>Theologici</td>\n      <td>, ; , , ; , ; ; . , , ; ; ; , ; , ; ; , ; ; , ...</td>\n      <td>3659</td>\n      <td>[[], [], [], [], [], [], [], [], [], [], [], [...</td>\n      <td>[]</td>\n      <td>0</td>\n      <td>[]</td>\n      <td>0</td>\n      <td>0</td>\n    </tr>\n  </tbody>\n</table>\n<p>148 rows × 20 columns</p>\n</div>"
     },
     "execution_count": 235,
     "metadata": {},
     "output_type": "execute_result"
    }
   ],
   "source": [
    "LAGTec"
   ],
   "metadata": {
    "collapsed": false,
    "pycharm": {
     "name": "#%%\n"
    }
   }
  },
  {
   "cell_type": "code",
   "execution_count": 236,
   "outputs": [
    {
     "data": {
      "text/plain": "   date_avr  authors_N  wordcount  n_sentences  paul_N  paul_freq  \\\n0       0.5         13     151723        10108     160   0.001055   \n1       1.5         13     322401        41076      18   0.000056   \n2       2.5          4    1237867       129474     497   0.000401   \n3       3.5          9    1347705       117599     213   0.000158   \n4       4.5         10     507127        45061     184   0.000363   \n\n   sentences_paul_N  sentences_apostle_N  \n0               156                   84  \n1                18                   92  \n2               485                  644  \n3               205                  690  \n4               181                  146  ",
      "text/html": "<div>\n<style scoped>\n    .dataframe tbody tr th:only-of-type {\n        vertical-align: middle;\n    }\n\n    .dataframe tbody tr th {\n        vertical-align: top;\n    }\n\n    .dataframe thead th {\n        text-align: right;\n    }\n</style>\n<table border=\"1\" class=\"dataframe\">\n  <thead>\n    <tr style=\"text-align: right;\">\n      <th></th>\n      <th>date_avr</th>\n      <th>authors_N</th>\n      <th>wordcount</th>\n      <th>n_sentences</th>\n      <th>paul_N</th>\n      <th>paul_freq</th>\n      <th>sentences_paul_N</th>\n      <th>sentences_apostle_N</th>\n    </tr>\n  </thead>\n  <tbody>\n    <tr>\n      <th>0</th>\n      <td>0.5</td>\n      <td>13</td>\n      <td>151723</td>\n      <td>10108</td>\n      <td>160</td>\n      <td>0.001055</td>\n      <td>156</td>\n      <td>84</td>\n    </tr>\n    <tr>\n      <th>1</th>\n      <td>1.5</td>\n      <td>13</td>\n      <td>322401</td>\n      <td>41076</td>\n      <td>18</td>\n      <td>0.000056</td>\n      <td>18</td>\n      <td>92</td>\n    </tr>\n    <tr>\n      <th>2</th>\n      <td>2.5</td>\n      <td>4</td>\n      <td>1237867</td>\n      <td>129474</td>\n      <td>497</td>\n      <td>0.000401</td>\n      <td>485</td>\n      <td>644</td>\n    </tr>\n    <tr>\n      <th>3</th>\n      <td>3.5</td>\n      <td>9</td>\n      <td>1347705</td>\n      <td>117599</td>\n      <td>213</td>\n      <td>0.000158</td>\n      <td>205</td>\n      <td>690</td>\n    </tr>\n    <tr>\n      <th>4</th>\n      <td>4.5</td>\n      <td>10</td>\n      <td>507127</td>\n      <td>45061</td>\n      <td>184</td>\n      <td>0.000363</td>\n      <td>181</td>\n      <td>146</td>\n    </tr>\n  </tbody>\n</table>\n</div>"
     },
     "execution_count": 236,
     "metadata": {},
     "output_type": "execute_result"
    }
   ],
   "source": [
    "LAGTec_by_date = pd.DataFrame(LAGTec.groupby(\"date_avr\").sum())\n",
    "LAGTec_by_date.reset_index(inplace=True)\n",
    "\n",
    "LAGTec_by_date[\"authors_N\"] = LAGTec_by_date[\"date_avr\"].apply(lambda x: len(LAGTec[LAGTec[\"date_avr\"]==x][\"author\"].unique()))\n",
    "\n",
    "LAGTec_by_date[\"works_N\"] = LAGTec_by_date[\"date_avr\"].apply(lambda x: (LAGTec[\"date_avr\"]==x).sum())\n",
    "\n",
    "LAGTec_by_date[\"paul_freq\"] = LAGTec_by_date[\"paul_N\"] / LAGTec_by_date[\"wordcount\"]\n",
    "\n",
    "LAGTec_by_date[[\"date_avr\", \"authors_N\", \"wordcount\", \"n_sentences\", \"paul_N\", \"paul_freq\", \"sentences_paul_N\", \"sentences_apostle_N\"]]"
   ],
   "metadata": {
    "collapsed": false,
    "pycharm": {
     "name": "#%%\n"
    }
   }
  },
  {
   "cell_type": "code",
   "execution_count": 237,
   "outputs": [],
   "source": [
    "sents_1to3 = [sen for work in LAGTec[LAGTec[\"date_avr\"]<3][\"lemmatized_sentences\"] for sen in work]\n",
    "sents_4to5 = [sen for work in LAGTec[LAGTec[\"date_avr\"]>3][\"lemmatized_sentences\"] for sen in work]"
   ],
   "metadata": {
    "collapsed": false,
    "pycharm": {
     "name": "#%%\n"
    }
   }
  },
  {
   "cell_type": "code",
   "execution_count": 238,
   "outputs": [
    {
     "data": {
      "text/plain": "180658"
     },
     "execution_count": 238,
     "metadata": {},
     "output_type": "execute_result"
    }
   ],
   "source": [
    "len(sents_1to3)"
   ],
   "metadata": {
    "collapsed": false,
    "pycharm": {
     "name": "#%%\n"
    }
   }
  },
  {
   "cell_type": "code",
   "execution_count": 239,
   "outputs": [
    {
     "name": "stdout",
     "output_type": "stream",
     "text": [
      "[['βίβλος', 'γένεσις', 'Ἰησοῦς', 'Χριστός', 'υἱός', 'Δαυίδ', 'υἱός', 'Ἀβραάμ'], ['Ἀβραάμ', 'γεννάω', 'Ἰσαάκ', 'Ἰσαάκ', 'γεννάω', 'Ἰακώβ', 'Ἰακώβ', 'γεννάω', 'Ἰούδας', 'ἀδελφός', 'Ἰούδας', 'γεννάω', 'Φάρες', 'Ζάρα', 'Θαμάρ', 'Φάρες', 'γεννάω', 'Ἑσρώμ', 'Ἑσρώμ', 'γεννάω', 'Ἀράμ', 'Ἀράμ', 'γεννάω', 'Ἀμιναδάβ', 'Ἀμιναδάβ', 'γεννάω', 'Ναασσών', 'Ναασσών', 'γεννάω', 'Σαλμών', 'Σαλμών', 'γεννάω', 'βοῦς', 'Ῥαχάβ', 'βοῦς', 'γεννάω', 'Ἰωβήδ', 'Ῥούθ', 'Ἰωβήδ', 'γεννάω', 'Ἰεσσαί', 'Ἰεσσαί', 'γεννάω', 'Δαυίδ', 'βασιλεύς'], ['Δαυίδ', 'γεννάω', 'Σολομών', 'Οὐρίας', 'Σολομών', 'γεννάω', 'Ῥοβοάμ', 'Ῥοβοάμ', 'γεννάω', 'Ἀβιά', 'Ἀβιά', 'γεννάω', 'Ἀσάφ', 'Ἀσάφ', 'γεννάω', 'Ἰωσαφάτ', 'Ἰωσαφάτ', 'γεννάω', 'Ἰωράμ', 'Ἰωράμ', 'γεννάω', 'Ὀζίας', 'Ὀζίας', 'γεννάω', 'Ἰωαθάμ', 'Ἰωαθάμ', 'γεννάω', 'ἄχας', 'ἄχας', 'γεννάω', 'Ἑζεκίας', 'Ἑζεκίας', 'γεννάω', 'Μανασσῆς', 'Μανασσῆς', 'γεννάω', 'Ἀμώς', 'Ἀμώς', 'γεννάω', 'Ἰωσίας', 'Ἰωσίας', 'γεννάω', 'Ἰεχονίας', 'ἀδελφός', 'μετοικεσία', 'Βαβυλών']]\n"
     ]
    }
   ],
   "source": [
    "print(sents_1to3[:3])"
   ],
   "metadata": {
    "collapsed": false,
    "pycharm": {
     "name": "#%%\n"
    }
   }
  },
  {
   "cell_type": "code",
   "execution_count": 240,
   "outputs": [],
   "source": [
    "min_freq = 5\n",
    "\n",
    "def get_vocab(docs, min_freq=5):\n",
    "    words_flat = [item for sublist in docs for item in sublist]\n",
    "    word_freq_tups = nltk.FreqDist(words_flat).most_common()\n",
    "    vocabulary = [tup[0] for tup in word_freq_tups if tup[1] >= min_freq]\n",
    "    #vocab_freqs = [len([doc for doc in docs if word in doc]) for word in vocabulary]\n",
    "    return words_flat, vocabulary # , vocab_freqs"
   ],
   "metadata": {
    "collapsed": false,
    "pycharm": {
     "name": "#%%\n"
    }
   }
  },
  {
   "cell_type": "code",
   "execution_count": 241,
   "outputs": [],
   "source": [
    "words_flat_1to3, vocabulary_1to3 = get_vocab(sents_1to3)\n",
    "words_flat_4to5, vocabulary_4to5 = get_vocab(sents_4to5)"
   ],
   "metadata": {
    "collapsed": false,
    "pycharm": {
     "name": "#%%\n"
    }
   }
  },
  {
   "cell_type": "code",
   "execution_count": 242,
   "outputs": [
    {
     "name": "stdout",
     "output_type": "stream",
     "text": [
      "True\n",
      "True\n",
      "True\n",
      "True\n"
     ]
    }
   ],
   "source": [
    "print(\"Παῦλος\" in vocabulary_1to3)\n",
    "print(\"Παῦλος\" in vocabulary_4to5)\n",
    "print(\"ἀπόστολος\" in vocabulary_1to3)\n",
    "print(\"ἀπόστολος\" in vocabulary_4to5)"
   ],
   "metadata": {
    "collapsed": false,
    "pycharm": {
     "name": "#%%\n"
    }
   }
  },
  {
   "cell_type": "code",
   "execution_count": 243,
   "outputs": [
    {
     "data": {
      "text/plain": "['ὄμμα',\n 'μένω',\n 'ἀπειλή',\n 'σκώληξ',\n 'σῶμα',\n 'ἀπουσία',\n 'ἐπιστρεφόμενον',\n 'ἐκβράσαν',\n 'σῶμα',\n 'ἐπιστρεφής',\n 'οὗτος',\n 'ἐκφεύγω',\n 'θεός',\n 'εἰμί',\n 'διδαχθείς',\n 'ἔχω',\n 'ἀθάνατος',\n 'σῶμα',\n 'ἄφθαρτ',\n 'ψυχή',\n 'βασιλεία',\n 'οὐρανός',\n 'ἀπόληψις',\n 'γῆ',\n 'βίος',\n 'ἐπουράνιος',\n 'βασιλεύς',\n 'ἐπιγνούς',\n 'εἰμί',\n 'ὁμιλητής',\n 'θεός',\n 'συγκληρονόμος',\n 'Χριστός',\n 'ἐπιθυμία',\n 'πάθος',\n 'νόσος',\n 'δουλούμενος',\n 'γίγνομαι',\n 'θεός',\n 'ὑπομένω',\n 'πάθος',\n 'ἄνθρωπος',\n 'εἰμί',\n 'δίδωμι',\n 'ἄνθρωπος',\n 'εἷς',\n 'ὅσος',\n 'παρακολουθέω',\n 'θεός',\n 'παρέχω',\n 'ἐπαγγέλλομαι',\n 'θεός',\n 'ἐθεοποιήθης',\n 'ἀθάνατος',\n 'γεννηθείς',\n 'τουτέστι',\n 'γιγνώσκω',\n 'ἐπιγιγνώσκω',\n 'πεποιηκότα',\n 'θεός',\n 'ἐπιγιγνώσκω',\n 'ἐπιγνωσθῆναι',\n 'συμβαίνω',\n 'καλουμένῳ',\n 'φιλεχθρήσητε',\n 'ἄνθρωπος',\n 'παλινδρομεῖν',\n 'διστάσητε',\n 'Χριστός',\n 'πᾶς',\n 'θεός',\n 'ἁμαρτία',\n 'ἄνθρωπος',\n 'ἀποπλύνω',\n 'προστάσσω',\n 'νέος',\n 'παλαιός',\n 'ἄνθρωπος',\n 'ἀποτελῶν',\n 'εἰκών',\n 'καλέω',\n 'ἀρχή',\n 'τύπος',\n 'ἐπιδεικνύμενος',\n 'στοργή',\n 'πρόσταγμα',\n 'ὑπακούω',\n 'σεμνός',\n 'ἀγαθός',\n 'ἀγαθός',\n 'γίγνομαι',\n 'μιμητής',\n 'εἰμί',\n 'ὅμοιος',\n 'τιμηθείς',\n 'πτωχεύει',\n 'θεός',\n 'θεός',\n 'ποιέω',\n 'δόξα']"
     },
     "execution_count": 243,
     "metadata": {},
     "output_type": "execute_result"
    }
   ],
   "source": [
    "words_flat_1to3[-100:]"
   ],
   "metadata": {
    "collapsed": false,
    "pycharm": {
     "name": "#%%\n"
    }
   }
  },
  {
   "cell_type": "code",
   "execution_count": 244,
   "outputs": [
    {
     "name": "stdout",
     "output_type": "stream",
     "text": [
      "693604\n",
      "804723\n"
     ]
    }
   ],
   "source": [
    "print(len(words_flat_1to3))\n",
    "print(len(words_flat_4to5))"
   ],
   "metadata": {
    "collapsed": false,
    "pycharm": {
     "name": "#%%\n"
    }
   }
  },
  {
   "cell_type": "code",
   "execution_count": 245,
   "outputs": [],
   "source": [
    "# continuous bigrams & trigrams, crossing sentence divisions\n",
    "bigrams_1to3 = [list(ngram) for ngram in nltk.bigrams(words_flat_1to3)]\n",
    "bigrams_4to5 = [list(ngram) for ngram in nltk.bigrams(words_flat_4to5)]\n",
    "\n",
    "trigrams_1to3 = [list(ngram) for ngram in nltk.trigrams(words_flat_1to3)]\n",
    "trigrams_4to5 = [list(ngram) for ngram in nltk.trigrams(words_flat_4to5)]"
   ],
   "metadata": {
    "collapsed": false,
    "pycharm": {
     "name": "#%%\n"
    }
   }
  },
  {
   "cell_type": "code",
   "execution_count": 246,
   "outputs": [],
   "source": [
    "# continuous bigrams & trigrams, within sentences only\n",
    "\n",
    "sents_bigrams_1to3 = [list(el) for sublist in [[ng for ng in nltk.bigrams(sent)] for sent in sents_1to3] for el in sublist]\n",
    "sents_bigrams_4to5 = [list(el) for sublist in [[ng for ng in nltk.bigrams(sent)] for sent in sents_4to5] for el in sublist]\n",
    "\n",
    "sents_trigrams_1to3 = [list(el) for sublist in [[ng for ng in nltk.trigrams(sent)] for sent in sents_1to3] for el in sublist]\n",
    "sents_trigrams_4to5 = [list(el) for sublist in [[ng for ng in nltk.trigrams(sent)] for sent in sents_4to5] for el in sublist]"
   ],
   "metadata": {
    "collapsed": false,
    "pycharm": {
     "name": "#%%\n"
    }
   }
  },
  {
   "cell_type": "code",
   "execution_count": 247,
   "outputs": [],
   "source": [
    "def get_cooc(docs, vocabulary=None, min_freq=5):\n",
    "    if vocabulary==None:\n",
    "        lemmata, vocabulary = get_vocab(docs, min_freq)\n",
    "    vec_bow = CountVectorizer(vocabulary=vocabulary, lowercase=False)\n",
    "    bow = vec_bow.fit_transform([\" \".join(list(set(sentence))) for sentence in docs])\n",
    "    cooc  = bow.T * bow\n",
    "    cooc = cooc / len(docs)\n",
    "    return cooc, vocabulary"
   ],
   "metadata": {
    "collapsed": false,
    "pycharm": {
     "name": "#%%\n"
    }
   }
  },
  {
   "cell_type": "code",
   "execution_count": 248,
   "outputs": [],
   "source": [
    "cooc_1to3, vocabulary_1to3 = get_cooc(sents_1to3 + sents_bigrams_1to3 + sents_trigrams_1to3, vocabulary=vocabulary_1to3[:2000])\n",
    "cooc_4to5, vocabulary_4to5 = get_cooc(sents_4to5 + sents_bigrams_4to5 + sents_trigrams_4to5, vocabulary=vocabulary_4to5[:2000])"
   ],
   "metadata": {
    "collapsed": false,
    "pycharm": {
     "name": "#%%\n"
    }
   }
  },
  {
   "cell_type": "code",
   "execution_count": 249,
   "outputs": [
    {
     "data": {
      "text/plain": "(2000, 2000)"
     },
     "execution_count": 249,
     "metadata": {},
     "output_type": "execute_result"
    }
   ],
   "source": [
    "cooc_4to5.todense().shape"
   ],
   "metadata": {
    "collapsed": false,
    "pycharm": {
     "name": "#%%\n"
    }
   }
  },
  {
   "cell_type": "code",
   "execution_count": 250,
   "outputs": [
    {
     "data": {
      "text/plain": "          0         1         2         3         4         5         6     \\\n0     0.051753  0.002478  0.002941  0.002899  0.002043  0.001316  0.001782   \n1     0.002478  0.037633  0.002254  0.001486  0.001196  0.001482  0.001197   \n2     0.002941  0.002254  0.035753  0.001970  0.001334  0.001110  0.001106   \n3     0.002899  0.001486  0.001970  0.035827  0.001158  0.001047  0.001493   \n4     0.002043  0.001196  0.001334  0.001158  0.027645  0.000940  0.000894   \n...        ...       ...       ...       ...       ...       ...       ...   \n1995  0.000009  0.000001  0.000001  0.000005  0.000004  0.000007  0.000003   \n1996  0.000003  0.000006  0.000003  0.000002  0.000000  0.000002  0.000009   \n1997  0.000006  0.000020  0.000005  0.000012  0.000010  0.000007  0.000008   \n1998  0.000007  0.000007  0.000004  0.000003  0.000003  0.000005  0.000000   \n1999  0.000010  0.000004  0.000001  0.000007  0.000003  0.000007  0.000007   \n\n              7         8         9     ...      1990      1991      1992  \\\n0     1.944769e-03  0.000853  0.001017  ...  0.000007  0.000007  0.000009   \n1     1.032084e-03  0.001139  0.001009  ...  0.000005  0.000009  0.000008   \n2     9.653018e-04  0.000860  0.000654  ...  0.000002  0.000003  0.000006   \n3     2.068889e-03  0.000650  0.000535  ...  0.000000  0.000007  0.000005   \n4     8.364599e-04  0.000716  0.000523  ...  0.000005  0.000005  0.000003   \n...            ...       ...       ...  ...       ...       ...       ...   \n1995  2.023693e-06  0.000004  0.000001  ...  0.000000  0.000000  0.000001   \n1996  6.745645e-07  0.000004  0.000002  ...  0.000000  0.000000  0.000001   \n1997  3.372822e-06  0.000003  0.000006  ...  0.000000  0.000000  0.000000   \n1998  2.698258e-06  0.000006  0.000006  ...  0.000000  0.000000  0.000000   \n1999  6.745645e-06  0.000003  0.000000  ...  0.000000  0.000000  0.000000   \n\n          1993      1994      1995      1996      1997      1998      1999  \n0     0.000006  0.000008  0.000009  0.000003  0.000006  0.000007  0.000010  \n1     0.000005  0.000004  0.000001  0.000006  0.000020  0.000007  0.000004  \n2     0.000006  0.000011  0.000001  0.000003  0.000005  0.000004  0.000001  \n3     0.000004  0.000005  0.000005  0.000002  0.000012  0.000003  0.000007  \n4     0.000004  0.000011  0.000004  0.000000  0.000010  0.000003  0.000003  \n...        ...       ...       ...       ...       ...       ...       ...  \n1995  0.000000  0.000000  0.000172  0.000000  0.000000  0.000000  0.000000  \n1996  0.000000  0.000000  0.000000  0.000175  0.000000  0.000000  0.000000  \n1997  0.000000  0.000000  0.000000  0.000000  0.000179  0.000000  0.000000  \n1998  0.000000  0.000000  0.000000  0.000000  0.000000  0.000171  0.000000  \n1999  0.000000  0.000000  0.000000  0.000000  0.000000  0.000000  0.000136  \n\n[2000 rows x 2000 columns]",
      "text/html": "<div>\n<style scoped>\n    .dataframe tbody tr th:only-of-type {\n        vertical-align: middle;\n    }\n\n    .dataframe tbody tr th {\n        vertical-align: top;\n    }\n\n    .dataframe thead th {\n        text-align: right;\n    }\n</style>\n<table border=\"1\" class=\"dataframe\">\n  <thead>\n    <tr style=\"text-align: right;\">\n      <th></th>\n      <th>0</th>\n      <th>1</th>\n      <th>2</th>\n      <th>3</th>\n      <th>4</th>\n      <th>5</th>\n      <th>6</th>\n      <th>7</th>\n      <th>8</th>\n      <th>9</th>\n      <th>...</th>\n      <th>1990</th>\n      <th>1991</th>\n      <th>1992</th>\n      <th>1993</th>\n      <th>1994</th>\n      <th>1995</th>\n      <th>1996</th>\n      <th>1997</th>\n      <th>1998</th>\n      <th>1999</th>\n    </tr>\n  </thead>\n  <tbody>\n    <tr>\n      <th>0</th>\n      <td>0.051753</td>\n      <td>0.002478</td>\n      <td>0.002941</td>\n      <td>0.002899</td>\n      <td>0.002043</td>\n      <td>0.001316</td>\n      <td>0.001782</td>\n      <td>1.944769e-03</td>\n      <td>0.000853</td>\n      <td>0.001017</td>\n      <td>...</td>\n      <td>0.000007</td>\n      <td>0.000007</td>\n      <td>0.000009</td>\n      <td>0.000006</td>\n      <td>0.000008</td>\n      <td>0.000009</td>\n      <td>0.000003</td>\n      <td>0.000006</td>\n      <td>0.000007</td>\n      <td>0.000010</td>\n    </tr>\n    <tr>\n      <th>1</th>\n      <td>0.002478</td>\n      <td>0.037633</td>\n      <td>0.002254</td>\n      <td>0.001486</td>\n      <td>0.001196</td>\n      <td>0.001482</td>\n      <td>0.001197</td>\n      <td>1.032084e-03</td>\n      <td>0.001139</td>\n      <td>0.001009</td>\n      <td>...</td>\n      <td>0.000005</td>\n      <td>0.000009</td>\n      <td>0.000008</td>\n      <td>0.000005</td>\n      <td>0.000004</td>\n      <td>0.000001</td>\n      <td>0.000006</td>\n      <td>0.000020</td>\n      <td>0.000007</td>\n      <td>0.000004</td>\n    </tr>\n    <tr>\n      <th>2</th>\n      <td>0.002941</td>\n      <td>0.002254</td>\n      <td>0.035753</td>\n      <td>0.001970</td>\n      <td>0.001334</td>\n      <td>0.001110</td>\n      <td>0.001106</td>\n      <td>9.653018e-04</td>\n      <td>0.000860</td>\n      <td>0.000654</td>\n      <td>...</td>\n      <td>0.000002</td>\n      <td>0.000003</td>\n      <td>0.000006</td>\n      <td>0.000006</td>\n      <td>0.000011</td>\n      <td>0.000001</td>\n      <td>0.000003</td>\n      <td>0.000005</td>\n      <td>0.000004</td>\n      <td>0.000001</td>\n    </tr>\n    <tr>\n      <th>3</th>\n      <td>0.002899</td>\n      <td>0.001486</td>\n      <td>0.001970</td>\n      <td>0.035827</td>\n      <td>0.001158</td>\n      <td>0.001047</td>\n      <td>0.001493</td>\n      <td>2.068889e-03</td>\n      <td>0.000650</td>\n      <td>0.000535</td>\n      <td>...</td>\n      <td>0.000000</td>\n      <td>0.000007</td>\n      <td>0.000005</td>\n      <td>0.000004</td>\n      <td>0.000005</td>\n      <td>0.000005</td>\n      <td>0.000002</td>\n      <td>0.000012</td>\n      <td>0.000003</td>\n      <td>0.000007</td>\n    </tr>\n    <tr>\n      <th>4</th>\n      <td>0.002043</td>\n      <td>0.001196</td>\n      <td>0.001334</td>\n      <td>0.001158</td>\n      <td>0.027645</td>\n      <td>0.000940</td>\n      <td>0.000894</td>\n      <td>8.364599e-04</td>\n      <td>0.000716</td>\n      <td>0.000523</td>\n      <td>...</td>\n      <td>0.000005</td>\n      <td>0.000005</td>\n      <td>0.000003</td>\n      <td>0.000004</td>\n      <td>0.000011</td>\n      <td>0.000004</td>\n      <td>0.000000</td>\n      <td>0.000010</td>\n      <td>0.000003</td>\n      <td>0.000003</td>\n    </tr>\n    <tr>\n      <th>...</th>\n      <td>...</td>\n      <td>...</td>\n      <td>...</td>\n      <td>...</td>\n      <td>...</td>\n      <td>...</td>\n      <td>...</td>\n      <td>...</td>\n      <td>...</td>\n      <td>...</td>\n      <td>...</td>\n      <td>...</td>\n      <td>...</td>\n      <td>...</td>\n      <td>...</td>\n      <td>...</td>\n      <td>...</td>\n      <td>...</td>\n      <td>...</td>\n      <td>...</td>\n      <td>...</td>\n    </tr>\n    <tr>\n      <th>1995</th>\n      <td>0.000009</td>\n      <td>0.000001</td>\n      <td>0.000001</td>\n      <td>0.000005</td>\n      <td>0.000004</td>\n      <td>0.000007</td>\n      <td>0.000003</td>\n      <td>2.023693e-06</td>\n      <td>0.000004</td>\n      <td>0.000001</td>\n      <td>...</td>\n      <td>0.000000</td>\n      <td>0.000000</td>\n      <td>0.000001</td>\n      <td>0.000000</td>\n      <td>0.000000</td>\n      <td>0.000172</td>\n      <td>0.000000</td>\n      <td>0.000000</td>\n      <td>0.000000</td>\n      <td>0.000000</td>\n    </tr>\n    <tr>\n      <th>1996</th>\n      <td>0.000003</td>\n      <td>0.000006</td>\n      <td>0.000003</td>\n      <td>0.000002</td>\n      <td>0.000000</td>\n      <td>0.000002</td>\n      <td>0.000009</td>\n      <td>6.745645e-07</td>\n      <td>0.000004</td>\n      <td>0.000002</td>\n      <td>...</td>\n      <td>0.000000</td>\n      <td>0.000000</td>\n      <td>0.000001</td>\n      <td>0.000000</td>\n      <td>0.000000</td>\n      <td>0.000000</td>\n      <td>0.000175</td>\n      <td>0.000000</td>\n      <td>0.000000</td>\n      <td>0.000000</td>\n    </tr>\n    <tr>\n      <th>1997</th>\n      <td>0.000006</td>\n      <td>0.000020</td>\n      <td>0.000005</td>\n      <td>0.000012</td>\n      <td>0.000010</td>\n      <td>0.000007</td>\n      <td>0.000008</td>\n      <td>3.372822e-06</td>\n      <td>0.000003</td>\n      <td>0.000006</td>\n      <td>...</td>\n      <td>0.000000</td>\n      <td>0.000000</td>\n      <td>0.000000</td>\n      <td>0.000000</td>\n      <td>0.000000</td>\n      <td>0.000000</td>\n      <td>0.000000</td>\n      <td>0.000179</td>\n      <td>0.000000</td>\n      <td>0.000000</td>\n    </tr>\n    <tr>\n      <th>1998</th>\n      <td>0.000007</td>\n      <td>0.000007</td>\n      <td>0.000004</td>\n      <td>0.000003</td>\n      <td>0.000003</td>\n      <td>0.000005</td>\n      <td>0.000000</td>\n      <td>2.698258e-06</td>\n      <td>0.000006</td>\n      <td>0.000006</td>\n      <td>...</td>\n      <td>0.000000</td>\n      <td>0.000000</td>\n      <td>0.000000</td>\n      <td>0.000000</td>\n      <td>0.000000</td>\n      <td>0.000000</td>\n      <td>0.000000</td>\n      <td>0.000000</td>\n      <td>0.000171</td>\n      <td>0.000000</td>\n    </tr>\n    <tr>\n      <th>1999</th>\n      <td>0.000010</td>\n      <td>0.000004</td>\n      <td>0.000001</td>\n      <td>0.000007</td>\n      <td>0.000003</td>\n      <td>0.000007</td>\n      <td>0.000007</td>\n      <td>6.745645e-06</td>\n      <td>0.000003</td>\n      <td>0.000000</td>\n      <td>...</td>\n      <td>0.000000</td>\n      <td>0.000000</td>\n      <td>0.000000</td>\n      <td>0.000000</td>\n      <td>0.000000</td>\n      <td>0.000000</td>\n      <td>0.000000</td>\n      <td>0.000000</td>\n      <td>0.000000</td>\n      <td>0.000136</td>\n    </tr>\n  </tbody>\n</table>\n<p>2000 rows × 2000 columns</p>\n</div>"
     },
     "execution_count": 250,
     "metadata": {},
     "output_type": "execute_result"
    }
   ],
   "source": [
    "pd.DataFrame(cooc_4to5.todense())"
   ],
   "metadata": {
    "collapsed": false,
    "pycharm": {
     "name": "#%%\n"
    }
   }
  },
  {
   "cell_type": "code",
   "execution_count": 251,
   "outputs": [
    {
     "data": {
      "text/plain": "1"
     },
     "execution_count": 251,
     "metadata": {},
     "output_type": "execute_result"
    }
   ],
   "source": [
    "abs(1-2)"
   ],
   "metadata": {
    "collapsed": false,
    "pycharm": {
     "name": "#%%\n"
    }
   }
  },
  {
   "cell_type": "code",
   "execution_count": 252,
   "outputs": [],
   "source": [
    "def normalize_ppmi3_matrix(pmi_matrix_df):\n",
    "    minval, maxval = pmi_matrix_df.min().min(), pmi_matrix_df.max().max()\n",
    "    diff = abs(maxval-minval)\n",
    "    minval_doubled = minval - diff\n",
    "    pmi_matrix_df.fillna(minval_doubled, inplace=True)\n",
    "    pmi_matrix_norm_df = (pmi_matrix_df - minval_doubled) / (maxval - minval_doubled)\n",
    "    return pmi_matrix_norm_df"
   ],
   "metadata": {
    "collapsed": false,
    "pycharm": {
     "name": "#%%\n"
    }
   }
  },
  {
   "cell_type": "code",
   "execution_count": 253,
   "outputs": [],
   "source": [
    "def get_ppmi_df(cooc, vocabulary, normalize=True, exp=2):\n",
    "    pmi_rows_list = []\n",
    "    for i in range(cooc.shape[1]):\n",
    "        ab = np.array([row_el for row_el in list(cooc[i].toarray()[0])], dtype=float)\n",
    "        ab_exp = np.power(ab, exp)\n",
    "        axb = np.array([cooc[row_el[0], row_el[0]] * cooc[i, i] for row_el in enumerate(list(cooc[i].toarray()[0]))], dtype=float)\n",
    "        pmi_row = np.divide(ab_exp, axb, out=np.zeros_like(ab_exp), where=axb!=0)\n",
    "        pmi_row = [np.log(n) if n>0 else None for n in pmi_row]\n",
    "        pmi_rows_list.append(pmi_row)\n",
    "    pmi_matrix_df = pd.DataFrame(pmi_rows_list, columns=vocabulary, index=vocabulary)\n",
    "    if normalize == True:\n",
    "        pmi_matrix_df = normalize_ppmi3_matrix(pmi_matrix_df)\n",
    "        np.fill_diagonal(pmi_matrix_df.to_numpy(), 1)\n",
    "    return pmi_matrix_df #pmi_matrix_norm_df"
   ],
   "metadata": {
    "collapsed": false,
    "pycharm": {
     "name": "#%%\n"
    }
   }
  },
  {
   "cell_type": "code",
   "execution_count": 254,
   "outputs": [
    {
     "data": {
      "text/plain": "                εἰμί      λέγω      θεός     οὗτος  γίγνομαι     λόγος  \\\nεἰμί        1.000000  0.841726  0.852706  0.839353  0.813065  0.826493   \nλέγω        0.841726  1.000000  0.836828  0.851705  0.811609  0.817048   \nθεός        0.852706  0.836828  1.000000  0.817288  0.825953  0.848359   \nοὗτος       0.839353  0.851705  0.817288  1.000000  0.814568  0.814458   \nγίγνομαι    0.813065  0.811609  0.825953  0.814568  1.000000  0.815570   \n...              ...       ...       ...       ...       ...       ...   \nἀπέραντος   0.718115  0.697325  0.574906  0.650704  0.664673  0.594190   \nγήινος      0.634958  0.627975  0.575217  0.611559  0.715492  0.665812   \nφορά        0.667352  0.659324  0.670147  0.657681  0.591564  0.678008   \nἔρομαι      0.579889  0.606365  0.668301  0.692985  0.653298  0.000000   \nἀπαλλαξείω  0.672080  0.601516  0.577836  0.697646  0.681908  0.676032   \n\n                 πᾶς  ἄνθρωπος     αὐτός       ἔχω  ...    ἡσυχία  λαμπρότης  \\\nεἰμί        0.828477  0.824406  0.826109  0.798337  ...  0.689735   0.658195   \nλέγω        0.811355  0.806890  0.811251  0.804505  ...  0.617892   0.638510   \nθεός        0.825664  0.831713  0.802677  0.802690  ...  0.640372   0.672413   \nοὗτος       0.805414  0.799429  0.790974  0.803763  ...  0.551642   0.628092   \nγίγνομαι    0.812350  0.823752  0.795756  0.768458  ...  0.556836   0.633286   \n...              ...       ...       ...       ...  ...       ...        ...   \nἀπέραντος   0.619277  0.670634  0.664665  0.673144  ...  0.000000   0.000000   \nγήινος      0.667819  0.622714  0.000000  0.602145  ...  0.000000   0.000000   \nφορά        0.665710  0.620605  0.600331  0.662572  ...  0.000000   0.000000   \nἔρομαι      0.000000  0.567646  0.695524  0.632692  ...  0.000000   0.000000   \nἀπαλλαξείω  0.622207  0.625333  0.711607  0.683676  ...  0.000000   0.000000   \n\n             προνοέω  πανοῦργος  εἰλικρινής  ἀπέραντος    γήινος      φορά  \\\nεἰμί        0.664509   0.694085    0.654930   0.718115  0.634958  0.667352   \nλέγω        0.628448   0.697480    0.669748   0.697325  0.627975  0.659324   \nθεός        0.719462   0.535605    0.682876   0.574906  0.575217  0.670147   \nοὗτος       0.660263   0.611403    0.647907   0.650704  0.611559  0.657681   \nγίγνομαι    0.656682   0.664828    0.613645   0.664673  0.715492  0.591564   \n...              ...        ...         ...        ...       ...       ...   \nἀπέραντος   0.000000   0.000000    0.000000   1.000000  0.000000  0.000000   \nγήινος      0.000000   0.000000    0.000000   0.000000  1.000000  0.701664   \nφορά        0.000000   0.000000    0.000000   0.000000  0.701664  1.000000   \nἔρομαι      0.000000   0.000000    0.000000   0.000000  0.000000  0.000000   \nἀπαλλαξείω  0.000000   0.000000    0.000000   0.000000  0.000000  0.000000   \n\n              ἔρομαι  ἀπαλλαξείω  \nεἰμί        0.579889    0.672080  \nλέγω        0.606365    0.601516  \nθεός        0.668301    0.577836  \nοὗτος       0.692985    0.697646  \nγίγνομαι    0.653298    0.681908  \n...              ...         ...  \nἀπέραντος   0.000000    0.000000  \nγήινος      0.000000    0.000000  \nφορά        0.000000    0.000000  \nἔρομαι      1.000000    0.000000  \nἀπαλλαξείω  0.000000    1.000000  \n\n[2000 rows x 2000 columns]",
      "text/html": "<div>\n<style scoped>\n    .dataframe tbody tr th:only-of-type {\n        vertical-align: middle;\n    }\n\n    .dataframe tbody tr th {\n        vertical-align: top;\n    }\n\n    .dataframe thead th {\n        text-align: right;\n    }\n</style>\n<table border=\"1\" class=\"dataframe\">\n  <thead>\n    <tr style=\"text-align: right;\">\n      <th></th>\n      <th>εἰμί</th>\n      <th>λέγω</th>\n      <th>θεός</th>\n      <th>οὗτος</th>\n      <th>γίγνομαι</th>\n      <th>λόγος</th>\n      <th>πᾶς</th>\n      <th>ἄνθρωπος</th>\n      <th>αὐτός</th>\n      <th>ἔχω</th>\n      <th>...</th>\n      <th>ἡσυχία</th>\n      <th>λαμπρότης</th>\n      <th>προνοέω</th>\n      <th>πανοῦργος</th>\n      <th>εἰλικρινής</th>\n      <th>ἀπέραντος</th>\n      <th>γήινος</th>\n      <th>φορά</th>\n      <th>ἔρομαι</th>\n      <th>ἀπαλλαξείω</th>\n    </tr>\n  </thead>\n  <tbody>\n    <tr>\n      <th>εἰμί</th>\n      <td>1.000000</td>\n      <td>0.841726</td>\n      <td>0.852706</td>\n      <td>0.839353</td>\n      <td>0.813065</td>\n      <td>0.826493</td>\n      <td>0.828477</td>\n      <td>0.824406</td>\n      <td>0.826109</td>\n      <td>0.798337</td>\n      <td>...</td>\n      <td>0.689735</td>\n      <td>0.658195</td>\n      <td>0.664509</td>\n      <td>0.694085</td>\n      <td>0.654930</td>\n      <td>0.718115</td>\n      <td>0.634958</td>\n      <td>0.667352</td>\n      <td>0.579889</td>\n      <td>0.672080</td>\n    </tr>\n    <tr>\n      <th>λέγω</th>\n      <td>0.841726</td>\n      <td>1.000000</td>\n      <td>0.836828</td>\n      <td>0.851705</td>\n      <td>0.811609</td>\n      <td>0.817048</td>\n      <td>0.811355</td>\n      <td>0.806890</td>\n      <td>0.811251</td>\n      <td>0.804505</td>\n      <td>...</td>\n      <td>0.617892</td>\n      <td>0.638510</td>\n      <td>0.628448</td>\n      <td>0.697480</td>\n      <td>0.669748</td>\n      <td>0.697325</td>\n      <td>0.627975</td>\n      <td>0.659324</td>\n      <td>0.606365</td>\n      <td>0.601516</td>\n    </tr>\n    <tr>\n      <th>θεός</th>\n      <td>0.852706</td>\n      <td>0.836828</td>\n      <td>1.000000</td>\n      <td>0.817288</td>\n      <td>0.825953</td>\n      <td>0.848359</td>\n      <td>0.825664</td>\n      <td>0.831713</td>\n      <td>0.802677</td>\n      <td>0.802690</td>\n      <td>...</td>\n      <td>0.640372</td>\n      <td>0.672413</td>\n      <td>0.719462</td>\n      <td>0.535605</td>\n      <td>0.682876</td>\n      <td>0.574906</td>\n      <td>0.575217</td>\n      <td>0.670147</td>\n      <td>0.668301</td>\n      <td>0.577836</td>\n    </tr>\n    <tr>\n      <th>οὗτος</th>\n      <td>0.839353</td>\n      <td>0.851705</td>\n      <td>0.817288</td>\n      <td>1.000000</td>\n      <td>0.814568</td>\n      <td>0.814458</td>\n      <td>0.805414</td>\n      <td>0.799429</td>\n      <td>0.790974</td>\n      <td>0.803763</td>\n      <td>...</td>\n      <td>0.551642</td>\n      <td>0.628092</td>\n      <td>0.660263</td>\n      <td>0.611403</td>\n      <td>0.647907</td>\n      <td>0.650704</td>\n      <td>0.611559</td>\n      <td>0.657681</td>\n      <td>0.692985</td>\n      <td>0.697646</td>\n    </tr>\n    <tr>\n      <th>γίγνομαι</th>\n      <td>0.813065</td>\n      <td>0.811609</td>\n      <td>0.825953</td>\n      <td>0.814568</td>\n      <td>1.000000</td>\n      <td>0.815570</td>\n      <td>0.812350</td>\n      <td>0.823752</td>\n      <td>0.795756</td>\n      <td>0.768458</td>\n      <td>...</td>\n      <td>0.556836</td>\n      <td>0.633286</td>\n      <td>0.656682</td>\n      <td>0.664828</td>\n      <td>0.613645</td>\n      <td>0.664673</td>\n      <td>0.715492</td>\n      <td>0.591564</td>\n      <td>0.653298</td>\n      <td>0.681908</td>\n    </tr>\n    <tr>\n      <th>...</th>\n      <td>...</td>\n      <td>...</td>\n      <td>...</td>\n      <td>...</td>\n      <td>...</td>\n      <td>...</td>\n      <td>...</td>\n      <td>...</td>\n      <td>...</td>\n      <td>...</td>\n      <td>...</td>\n      <td>...</td>\n      <td>...</td>\n      <td>...</td>\n      <td>...</td>\n      <td>...</td>\n      <td>...</td>\n      <td>...</td>\n      <td>...</td>\n      <td>...</td>\n      <td>...</td>\n    </tr>\n    <tr>\n      <th>ἀπέραντος</th>\n      <td>0.718115</td>\n      <td>0.697325</td>\n      <td>0.574906</td>\n      <td>0.650704</td>\n      <td>0.664673</td>\n      <td>0.594190</td>\n      <td>0.619277</td>\n      <td>0.670634</td>\n      <td>0.664665</td>\n      <td>0.673144</td>\n      <td>...</td>\n      <td>0.000000</td>\n      <td>0.000000</td>\n      <td>0.000000</td>\n      <td>0.000000</td>\n      <td>0.000000</td>\n      <td>1.000000</td>\n      <td>0.000000</td>\n      <td>0.000000</td>\n      <td>0.000000</td>\n      <td>0.000000</td>\n    </tr>\n    <tr>\n      <th>γήινος</th>\n      <td>0.634958</td>\n      <td>0.627975</td>\n      <td>0.575217</td>\n      <td>0.611559</td>\n      <td>0.715492</td>\n      <td>0.665812</td>\n      <td>0.667819</td>\n      <td>0.622714</td>\n      <td>0.000000</td>\n      <td>0.602145</td>\n      <td>...</td>\n      <td>0.000000</td>\n      <td>0.000000</td>\n      <td>0.000000</td>\n      <td>0.000000</td>\n      <td>0.000000</td>\n      <td>0.000000</td>\n      <td>1.000000</td>\n      <td>0.701664</td>\n      <td>0.000000</td>\n      <td>0.000000</td>\n    </tr>\n    <tr>\n      <th>φορά</th>\n      <td>0.667352</td>\n      <td>0.659324</td>\n      <td>0.670147</td>\n      <td>0.657681</td>\n      <td>0.591564</td>\n      <td>0.678008</td>\n      <td>0.665710</td>\n      <td>0.620605</td>\n      <td>0.600331</td>\n      <td>0.662572</td>\n      <td>...</td>\n      <td>0.000000</td>\n      <td>0.000000</td>\n      <td>0.000000</td>\n      <td>0.000000</td>\n      <td>0.000000</td>\n      <td>0.000000</td>\n      <td>0.701664</td>\n      <td>1.000000</td>\n      <td>0.000000</td>\n      <td>0.000000</td>\n    </tr>\n    <tr>\n      <th>ἔρομαι</th>\n      <td>0.579889</td>\n      <td>0.606365</td>\n      <td>0.668301</td>\n      <td>0.692985</td>\n      <td>0.653298</td>\n      <td>0.000000</td>\n      <td>0.000000</td>\n      <td>0.567646</td>\n      <td>0.695524</td>\n      <td>0.632692</td>\n      <td>...</td>\n      <td>0.000000</td>\n      <td>0.000000</td>\n      <td>0.000000</td>\n      <td>0.000000</td>\n      <td>0.000000</td>\n      <td>0.000000</td>\n      <td>0.000000</td>\n      <td>0.000000</td>\n      <td>1.000000</td>\n      <td>0.000000</td>\n    </tr>\n    <tr>\n      <th>ἀπαλλαξείω</th>\n      <td>0.672080</td>\n      <td>0.601516</td>\n      <td>0.577836</td>\n      <td>0.697646</td>\n      <td>0.681908</td>\n      <td>0.676032</td>\n      <td>0.622207</td>\n      <td>0.625333</td>\n      <td>0.711607</td>\n      <td>0.683676</td>\n      <td>...</td>\n      <td>0.000000</td>\n      <td>0.000000</td>\n      <td>0.000000</td>\n      <td>0.000000</td>\n      <td>0.000000</td>\n      <td>0.000000</td>\n      <td>0.000000</td>\n      <td>0.000000</td>\n      <td>0.000000</td>\n      <td>1.000000</td>\n    </tr>\n  </tbody>\n</table>\n<p>2000 rows × 2000 columns</p>\n</div>"
     },
     "execution_count": 254,
     "metadata": {},
     "output_type": "execute_result"
    }
   ],
   "source": [
    "# test...\n",
    "ppmi_matrix = get_ppmi_df(cooc_1to3, vocabulary_1to3, exp=2)\n",
    "ppmi_matrix"
   ],
   "metadata": {
    "collapsed": false,
    "pycharm": {
     "name": "#%%\n"
    }
   }
  },
  {
   "cell_type": "code",
   "execution_count": 255,
   "outputs": [
    {
     "data": {
      "text/plain": "[1.0,\n 0.8417259347902348,\n 0.8527064171708297,\n 0.8393525199736201,\n 0.8130654985445351,\n 0.8264932484085157,\n 0.8284765916530872,\n 0.8244058473787145,\n 0.8261088618438038,\n 0.7983369610810938,\n 0.8351656507158969,\n 0.8039144636261258,\n 0.7906642889500162,\n 0.8040370659577757,\n 0.8008991498471497,\n 0.788098176006272,\n 0.8114132676723685,\n 0.8147423291113063,\n 0.7940725729168044,\n 0.7846359744460222,\n 0.7905814534980671,\n 0.8123283204054113,\n 0.7872898111546219,\n 0.7997746752061847,\n 0.7837119476887718,\n 0.7966395780806336,\n 0.7721317599388023,\n 0.7690495743734247,\n 0.7996291678765748,\n 0.7543331673117533,\n 0.7844520812972746,\n 0.8052786564531657,\n 0.8146428340224805,\n 0.7773320687268881,\n 0.7624446944143198,\n 0.7780829103601266,\n 0.7861191275106968,\n 0.7802573760055215,\n 0.7819100708081018,\n 0.7929088873639389,\n 0.8007409940803454,\n 0.7683264735716682,\n 0.7785972361199373,\n 0.7771794007549592,\n 0.7923990850238581,\n 0.7855423699128902,\n 0.7621844377016366,\n 0.767075442251016,\n 0.762235315876592,\n 0.7987251759153968,\n 0.7709923948215828,\n 0.7812475858757599,\n 0.7902689486476558,\n 0.7621882877582895,\n 0.7869539879691088,\n 0.773376175805531,\n 0.7743015186016287,\n 0.7601731144534697,\n 0.7575445034974333,\n 0.8056882340381696,\n 0.7860070999526922,\n 0.8050910356580823,\n 0.7746013189187734,\n 0.7877659889070904,\n 0.7922948212871419,\n 0.7662194128600373,\n 0.7863020619284125,\n 0.7893926141060875,\n 0.786865265576682,\n 0.7742126598719223,\n 0.7697047058277298,\n 0.770063875485807,\n 0.7612273298904819,\n 0.7622469422420953,\n 0.7495482793748587,\n 0.7978671601821753,\n 0.7765155329311801,\n 0.7824343162268512,\n 0.7620624231191139,\n 0.7641874743758494,\n 0.8055520841826508,\n 0.7683384363797305,\n 0.7606758766672538,\n 0.7406278034883137,\n 0.7477503798864552,\n 0.7654996337209399,\n 0.7485498085739481,\n 0.7763205806672464,\n 0.7676677760305851,\n 0.7799737629237729,\n 0.7605724920265906,\n 0.7554652947038578,\n 0.7628837087500298,\n 0.7608648927096674,\n 0.762910365566197,\n 0.7687524730532432,\n 0.7799918849594306,\n 0.7509417513528721,\n 0.7621206878240392,\n 0.7622021883394119,\n 0.7486166416179589,\n 0.7331901738601202,\n 0.7458317783763456,\n 0.7601230136142932,\n 0.7739440143028655,\n 0.744472423756296,\n 0.76878596338717,\n 0.7688723084528857,\n 0.7681226241495892,\n 0.7562788137187155,\n 0.7310544536037165,\n 0.7691931190898895,\n 0.7991512553466961,\n 0.7565600770166941,\n 0.7627700347037358,\n 0.7510146151181569,\n 0.7716042762668067,\n 0.7440514969207548,\n 0.7559844510160572,\n 0.7611000864615451,\n 0.7466517602141001,\n 0.7631135946446842,\n 0.766769907052343,\n 0.7564974822806937,\n 0.7409180513036833,\n 0.7606478267729714,\n 0.7440181554278105,\n 0.7491400316184463,\n 0.7553739124114333,\n 0.0,\n 0.7252315838310134,\n 0.7367222437070651,\n 0.8009051452919881,\n 0.7502852404615491,\n 0.7488262391524481,\n 0.7486939204000318,\n 0.7587036284724041,\n 0.7997802578704708,\n 0.7549189043042313,\n 0.7317872870712718,\n 0.7624696944241145,\n 0.7733565179865582,\n 0.7304038457037266,\n 0.7632452472063102,\n 0.7614582875658109,\n 0.7730417758006528,\n 0.7618743141020123,\n 0.713529053038115,\n 0.7530534364193067,\n 0.7719081613344589,\n 0.7870482162650778,\n 0.7594344537545991,\n 0.7755350925298558,\n 0.7721182603514676,\n 0.7473942155504854,\n 0.7291828232963189,\n 0.7951059622491906,\n 0.7219049443125922,\n 0.7277244095650518,\n 0.7393065392717665,\n 0.7192681874820651,\n 0.7688559467750296,\n 0.7329563427388803,\n 0.7281626304676087,\n 0.746889126689835,\n 0.7628531786910282,\n 0.7466206452693961,\n 0.7483640622893548,\n 0.7452749002584842,\n 0.7694407014725424,\n 0.7433541663801848,\n 0.752373257423561,\n 0.7483233681064702,\n 0.7372188221204127,\n 0.7381558973592732,\n 0.7469399618263127,\n 0.7809079741610785,\n 0.7377802658380983,\n 0.7322417011616063,\n 0.7462011634882809,\n 0.7445386169804634,\n 0.7650665445973449,\n 0.7418461867732855,\n 0.7631697087688367,\n 0.7600306753281518,\n 0.7391260638708173,\n 0.7279497071637915,\n 0.7950477213822926,\n 0.7191220723030508,\n 0.7471416860150253,\n 0.7353739632592001,\n 0.7676340855181913,\n 0.7454787981716681,\n 0.735993653640655,\n 0.7490903897604245,\n 0.7306791332395512,\n 0.7570442157128876,\n 0.7481448136465709,\n 0.7117617260904558,\n 0.7497071685654412,\n 0.7686413882925571,\n 0.7127868365940794,\n 0.7261030989421474,\n 0.7158737318141595,\n 0.7469432482878228,\n 0.7481038088143266,\n 0.7341905618410012,\n 0.7679360807181745,\n 0.7895690243758738,\n 0.7330661429002278,\n 0.6987786387340329,\n 0.7796454883919058,\n 0.7225779191530481,\n 0.7285790156738179,\n 0.73108123866415,\n 0.7439011302579613,\n 0.7243035623614299,\n 0.7555377459902246,\n 0.7438252543920413,\n 0.7443883877619444,\n 0.7308537480612828,\n 0.7500482625633347,\n 0.742314185547907,\n 0.7467908456733973,\n 0.7520884523322875,\n 0.7718969719467016,\n 0.7227781946914208,\n 0.7401980425670236,\n 0.7319486798272559,\n 0.7368756334624336,\n 0.7497389523891186,\n 0.7286044503945148,\n 0.735444669445896,\n 0.7243752669339631,\n 0.7101289638152387,\n 0.7104058151568299,\n 0.7232515913305446,\n 0.7515501416091964,\n 0.7614681572535124,\n 0.7251308885859814,\n 0.6869227746257243,\n 0.7233315140173879,\n 0.7421816977495868,\n 0.7811354378157679,\n 0.7391436996216435,\n 0.7046649745506353,\n 0.7544418150471203,\n 0.729444888419344,\n 0.7651871536086043,\n 0.7598790616200349,\n 0.7655532001584601,\n 0.7593670673739527,\n 0.7550601006720354,\n 0.7440968072024154,\n 0.7755667522525757,\n 0.7427066774088815,\n 0.7013605056041007,\n 0.7356801632767908,\n 0.7613190680368715,\n 0.755258376966373,\n 0.7287746511651005,\n 0.7671834046955909,\n 0.7365785438033597,\n 0.7258767883648504,\n 0.7062142378389776,\n 0.7681015956308217,\n 0.7616553206158592,\n 0.7181762289369229,\n 0.6938092391467976,\n 0.7001508866294213,\n 0.7293762580050158,\n 0.713099716352237,\n 0.7609261398254966,\n 0.7230210332136257,\n 0.7691886064129053,\n 0.7224844689827958,\n 0.7328367766410007,\n 0.7575548624757512,\n 0.741914026808948,\n 0.7222973782548939,\n 0.7306577367269568,\n 0.7558949762075459,\n 0.7250621549216035,\n 0.7438726082555871,\n 0.7172182634825476,\n 0.7387905368243293,\n 0.7287876756431175,\n 0.7286160137803581,\n 0.7279956623864973,\n 0.7281524654134898,\n 0.72312770987398,\n 0.7131820939801239,\n 0.7418566531747524,\n 0.7506983252317715,\n 0.7262607695567103,\n 0.7694726878955948,\n 0.7366824162495874,\n 0.726800215572965,\n 0.7577253620932254,\n 0.755354008449191,\n 0.7005544429400372,\n 0.5541372037873048,\n 0.7428552204914443,\n 0.7398282636389141,\n 0.7187959576474953,\n 0.7407583004086962,\n 0.7135224187814058,\n 0.6893188144747456,\n 0.7286810471433686,\n 0.7206478279674882,\n 0.7364470249041234,\n 0.7272515642413712,\n 0.7351341484386972,\n 0.717901615980928,\n 0.7217630539227708,\n 0.7052648766481644,\n 0.7515179222054494,\n 0.7157881145759407,\n 0.7357200006856924,\n 0.6960580110890185,\n 0.739807289933779,\n 0.7054887437825778,\n 0.7117739665846035,\n 0.7382396144522285,\n 0.7017738673353198,\n 0.7279497244728577,\n 0.7306117951340602,\n 0.7524057447310193,\n 0.7325432725544122,\n 0.6844948838648166,\n 0.7375306989557467,\n 0.7207551540042156,\n 0.7174182758607216,\n 0.7220992432099824,\n 0.6978489768053545,\n 0.7369212622129027,\n 0.747953735466863,\n 0.7268903550619242,\n 0.7163527141405589,\n 0.7244784933104621,\n 0.6994708939018642,\n 0.7384550488548878,\n 0.6998551040423968,\n 0.7368927984718826,\n 0.7116960286766227,\n 0.7318120341368533,\n 0.7224040876969676,\n 0.7448232123089082,\n 0.6919727161535508,\n 0.7465499146350721,\n 0.7346210340573303,\n 0.7275520936388438,\n 0.6907690384203448,\n 0.7046078548848829,\n 0.7137430711755527,\n 0.7007090452197907,\n 0.7335594183240941,\n 0.7285281985142571,\n 0.7458067935145964,\n 0.6798035192874551,\n 0.702508768538737,\n 0.749027069690274,\n 0.7251575544629391,\n 0.7230046355503887,\n 0.7247659851545413,\n 0.6985064296696453,\n 0.722167484701517,\n 0.7673108879617023,\n 0.7090585248858506,\n 0.7592801489230604,\n 0.7461765003721599,\n 0.6907721250035237,\n 0.6904601433883949,\n 0.7474259521324907,\n 0.730047208178023,\n 0.712429362834046,\n 0.6735392313207618,\n 0.6847338377777137,\n 0.7092443060002059,\n 0.7290690485878135,\n 0.7560930998240767,\n 0.7321432628506342,\n 0.7160761449747435,\n 0.6989013287537201,\n 0.7310066913315735,\n 0.719914831684319,\n 0.7183558537083693,\n 0.7097771412296847,\n 0.7247099543302796,\n 0.7078849355099741,\n 0.6959480767193091,\n 0.7330275105617334,\n 0.730538076912587,\n 0.7126622592729703,\n 0.7229400202193524,\n 0.730057691365532,\n 0.7078599144529203,\n 0.7369927479954855,\n 0.7079730991966322,\n 0.6863474694990689,\n 0.7172617564084144,\n 0.739716704599032,\n 0.7477418664594138,\n 0.7291631533487429,\n 0.6982108874793878,\n 0.7582818154853521,\n 0.7267184064741005,\n 0.7079937534407034,\n 0.6751360855186861,\n 0.7071681090260796,\n 0.7215282739664048,\n 0.7311642543835533,\n 0.7002205029313104,\n 0.7458879059309782,\n 0.7314057450107005,\n 0.7142096531320743,\n 0.7676067592664049,\n 0.7254555483688276,\n 0.7602960460163837,\n 0.6911694527763819,\n 0.7231104552808079,\n 0.7139484265386958,\n 0.7413137525340666,\n 0.7552999881704332,\n 0.7591479627341102,\n 0.7265343198985932,\n 0.7099954042016241,\n 0.7115548659867211,\n 0.7017105893778549,\n 0.7168665400741678,\n 0.730993407759666,\n 0.7040295376031921,\n 0.7464023097998338,\n 0.7213909692722633,\n 0.7190460311945412,\n 0.7591233527450579,\n 0.6806928981565883,\n 0.7271884993142054,\n 0.7139484265386958,\n 0.7704726194566208,\n 0.730058504645949,\n 0.7485522042253215,\n 0.7368316919751083,\n 0.6761816190775464,\n 0.7117965053520703,\n 0.7248678343188356,\n 0.714081161308015,\n 0.6999626601535593,\n 0.7110501805613012,\n 0.7081108964636282,\n 0.6801757695328655,\n 0.7363417821496862,\n 0.7068166404384842,\n 0.7483861599188717,\n 0.7087490101925721,\n 0.722436485170209,\n 0.7605692912829091,\n 0.721945535884133,\n 0.7144176346987876,\n 0.6784005800965383,\n 0.6988202084079729,\n 0.7145599896818794,\n 0.7612805522263884,\n 0.7379761291839683,\n 0.7709021893760591,\n 0.7625288858769821,\n 0.710135677775689,\n 0.6917351982961804,\n 0.724845075304501,\n 0.7035738770067319,\n 0.7043499325502054,\n 0.7139239743112159,\n 0.7314227099587397,\n 0.737545294837068,\n 0.6934223091917163,\n 0.7143618484997677,\n 0.7089391251443181,\n 0.7313275219284378,\n 0.683194635811724,\n 0.7410293364305175,\n 0.7258035728202583,\n 0.7384687435103758,\n 0.7162974604808006,\n 0.713814490053567,\n 0.661222624262287,\n 0.7173612362931956,\n 0.7132011236463945,\n 0.6888313672825583,\n 0.7406779444301684,\n 0.7094177911705397,\n 0.7352617634391899,\n 0.6969846337975493,\n 0.7144176346987876,\n 0.6934212926931871,\n 0.7280046785839318,\n 0.7049201532364073,\n 0.7560161190151962,\n 0.6867985082856303,\n 0.7021930565196963,\n 0.7288111608772259,\n 0.73313341282308,\n 0.733047131989489,\n 0.7298181230853351,\n 0.7458944700371278,\n 0.6812874577350526,\n 0.7210734846720169,\n 0.7116074034709929,\n 0.7411221960579661,\n 0.7142540528196604,\n 0.6893713726985443,\n 0.6883752379066327,\n 0.644333321780034,\n 0.7065396676696611,\n 0.7530622571609585,\n 0.7008535739227738,\n 0.7029000283797736,\n 0.7440032245317492,\n 0.6630474868548393,\n 0.7229597952243058,\n 0.6863470339124027,\n 0.6798711005786052,\n 0.7155526593093796,\n 0.6754936914899605,\n 0.6949154342064,\n 0.7411593335053351,\n 0.7460575743983879,\n 0.7324524354659042,\n 0.6815916010345604,\n 0.7203423722430059,\n 0.7753052042755695,\n 0.7128483437465974,\n 0.6825725728313128,\n 0.7259606639108083,\n 0.7072078020923591,\n 0.702708829403964,\n 0.7915015425737615,\n 0.7024713979730793,\n 0.7226678803518202,\n 0.661154987217652,\n 0.7035340822344787,\n 0.6707162137796311,\n 0.7170367820847586,\n 0.7200574869312072,\n 0.6742275934784786,\n 0.736440582226069,\n 0.7468601561807218,\n 0.7128776300047102,\n 0.6881724264739685,\n 0.6696650749419215,\n 0.7014455685115475,\n 0.7287132193954904,\n 0.7002323593991203,\n 0.7344443222481601,\n 0.7196687571668136,\n 0.7296402286843946,\n 0.7128108190572099,\n 0.7257312051800845,\n 0.6976742337685417,\n 0.711384872555276,\n 0.6777917192139518,\n 0.693064410828267,\n 0.7341498270345873,\n 0.6804435339786203,\n 0.7335873157584147,\n 0.7070629494095135,\n 0.720943636949508,\n 0.7073345793646303,\n 0.7284292564036821,\n 0.732319276176898,\n 0.7173124263747688,\n 0.6910183300019467,\n 0.7083743341223901,\n 0.6903716955622745,\n 0.7147284253433409,\n 0.7405665102023526,\n 0.6834525450813783,\n 0.72644504948512,\n 0.6943776370129073,\n 0.7122005034704946,\n 0.6740533876357786,\n 0.7407224775941559,\n 0.7122565516559531,\n 0.7257896989257345,\n 0.6820781334045648,\n 0.6972417311649552,\n 0.7218831190054169,\n 0.732075457099527,\n 0.7014062080825283,\n 0.7420756634858795,\n 0.691807925560913,\n 0.7146721581272834,\n 0.7191536087960199,\n 0.7215798181752471,\n 0.7124958685662138,\n 0.7248279701893476,\n 0.678256902887615,\n 0.7700785002944739,\n 0.678292280705179,\n 0.7486846781688853,\n 0.73269791099021,\n 0.7125120955509984,\n 0.7183710565082546,\n 0.7590019408329132,\n 0.7380165790324242,\n 0.7035135706135918,\n 0.6934311426502211,\n 0.6912794484306949,\n 0.7062591254400096,\n 0.7272762101052819,\n 0.7123237847568658,\n 0.7129108666924345,\n 0.6778009487650848,\n 0.6970288300973535,\n 0.7091596564531762,\n 0.7400953915335766,\n 0.665290540196444,\n 0.7110381007935563,\n 0.6916180552732554,\n 0.7003065568475223,\n 0.7019649784331129,\n 0.7047835719534224,\n 0.6818148624643682,\n 0.7160216404466373,\n 0.7035234101793966,\n 0.7181762289369229,\n 0.6932776062113902,\n 0.7044148951588975,\n 0.6988201683502813,\n 0.6987912086372107,\n 0.7495859075716916,\n 0.7020113448431091,\n 0.7306606948463416,\n 0.6966088681435753,\n 0.7021551126434523,\n 0.7000680577325449,\n 0.7079559309094684,\n 0.6965331727517079,\n 0.7113938417996304,\n 0.6945914448810442,\n 0.701601011095363,\n 0.717619824701106,\n 0.7199486691614017,\n 0.7349670979971186,\n 0.6748472315126802,\n 0.6781251762282231,\n 0.7233571154559159,\n 0.7249565464495391,\n 0.7234551888405062,\n 0.7065884283856513,\n 0.6855005980210191,\n 0.7477158763595969,\n 0.7236879920715602,\n 0.7045860944407959,\n 0.7301017823561323,\n 0.7061601278396243,\n 0.6841540952264852,\n 0.7088876600686749,\n 0.7330887026891942,\n 0.7037853846180296,\n 0.687748381037884,\n 0.7054747681129793,\n 0.7279741522830179,\n 0.7523569249833988,\n 0.7327498366067484,\n 0.7485488109042262,\n 0.6861806650341764,\n 0.7218731921203627,\n 0.668462723718618,\n 0.7183090663848896,\n 0.6746102746325888,\n 0.718968250842538,\n 0.7009258650067182,\n 0.6699737928132488,\n 0.7184293645061061,\n 0.7128675786836625,\n 0.709962517561037,\n 0.7225325916792109,\n 0.7249581363161048,\n 0.7625674168860256,\n 0.7425064961487092,\n 0.7149861268363874,\n 0.7921522386563276,\n 0.6931525627547551,\n 0.6208180631235556,\n 0.7385999166685133,\n 0.7150268151214667,\n 0.7407878593753024,\n 0.66460503206605,\n 0.6893915926854949,\n 0.7149861268363874,\n 0.6876767937200128,\n 0.7020645347011771,\n 0.7138691405272639,\n 0.6924394161463693,\n 0.705409984445109,\n 0.6894554245611983,\n 0.7183943642840547,\n 0.6742968548211797,\n 0.6577052086303662,\n 0.7210774712285153,\n 0.7125166450508007,\n 0.6946763788192647,\n 0.6830851546510291,\n 0.7351129196356295,\n 0.7551086691834517,\n 0.7123205944084768,\n 0.6939713437619526,\n 0.6832698064082517,\n 0.666102427461369,\n 0.6928098869765956,\n 0.6898960751030476,\n 0.6476226541187092,\n 0.7076301394024085,\n 0.6988964758060026,\n 0.7098710128804234,\n 0.7417644951323358,\n 0.6689291792273593,\n 0.6740313444304178,\n 0.6871683863774126,\n 0.6478065096170607,\n 0.7190986163373546,\n 0.7066020793545574,\n 0.7228590383270539,\n 0.6475461102657117,\n 0.7389244977277922,\n 0.6934944461516874,\n 0.6637800047183107,\n 0.7108775977035142,\n 0.7242943703145859,\n 0.6910507334610105,\n 0.7049761606068521,\n 0.7048680886052364,\n 0.7361096117523339,\n 0.7042830895801123,\n 0.7104550884010181,\n 0.6857346431252623,\n 0.7292374509266842,\n 0.7238876080158032,\n 0.6946504306566658,\n 0.6989951291129758,\n 0.6732614571397683,\n 0.6959631002974773,\n 0.7003693032907408,\n 0.6906402590445191,\n 0.6872101872309515,\n 0.6626085862726573,\n 0.687933977252203,\n 0.6817707888091327,\n 0.6808074567850328,\n 0.666242516918432,\n 0.7273529877363185,\n 0.6757025595044717,\n 0.6844601352780685,\n 0.724539516266053,\n 0.6778056218898384,\n 0.6798320468210246,\n 0.6619485245955289,\n 0.7211801173245824,\n 0.731143166564996,\n 0.6483949994512854,\n 0.7104743432183797,\n 0.6746147756696673,\n 0.7223609667151529,\n 0.7253896234877127,\n 0.6830851546510291,\n 0.7325786287278631,\n 0.7319335044333662,\n 0.7147206444261742,\n 0.6655054693952032,\n 0.6948680391433019,\n 0.7020177622198044,\n 0.7054225495221926,\n 0.6972958118431272,\n 0.6695392584099351,\n 0.6970625037519128,\n 0.683394598436525,\n 0.66460503206605,\n 0.7228590383270539,\n 0.7145632029915916,\n 0.7019118206928107,\n 0.6616307192279332,\n 0.7000781602974092,\n 0.6903023085309554,\n 0.6639238708236175,\n 0.663129240992239,\n 0.7289665806502819,\n 0.6909610910229194,\n 0.6823696418851924,\n 0.6903525494099603,\n 0.7127817804758989,\n 0.7295083743133843,\n 0.7153363969053246,\n 0.6834031629936583,\n 0.7126393977577525,\n 0.6800947697686686,\n 0.7041306063124735,\n 0.7380757873969551,\n 0.6624558722642906,\n 0.7176114461618515,\n 0.7312088822973496,\n 0.7129699560411485,\n 0.6983256175988557,\n 0.7262748700728306,\n 0.6854877946519157,\n 0.7298074595717635,\n 0.7118199598543685,\n 0.6909610910229194,\n 0.6863359637434369,\n 0.6765746646141235,\n 0.6685323537917917,\n 0.6839903879486284,\n 0.6900027115480921,\n 0.7090538298263603,\n 0.7019630564412388,\n 0.6679796869010892,\n 0.6852918458533857,\n 0.7143007497272581,\n 0.7281365182451256,\n 0.7095702051940659,\n 0.7050325357620268,\n 0.7064702682283059,\n 0.7527990048539484,\n 0.6706517421913915,\n 0.7141456460705635,\n 0.6919010423586471,\n 0.6875869697921817,\n 0.7067441170311516,\n 0.690260405638939,\n 0.7114631725104403,\n 0.6932698888177994,\n 0.652928564396621,\n 0.6579569993700527,\n 0.6945334758383886,\n 0.7211333978259854,\n 0.6395814995104213,\n 0.6728027311068081,\n 0.7211706318263476,\n 0.6539736432734928,\n 0.7308662639656681,\n 0.6955984842951326,\n 0.7218080380654335,\n 0.7102579794731062,\n 0.6928098869765956,\n 0.7111923669415768,\n 0.7076088780817779,\n 0.6898540874476157,\n 0.6943404358507892,\n 0.7162866137554997,\n 0.7066900591790682,\n 0.6887386015846548,\n 0.6869560848698002,\n 0.694936708811059,\n 0.6723802899480212,\n 0.7082943422718948,\n 0.6811332368215635,\n 0.6541284475796051,\n 0.7064230680021367,\n 0.6620868882501083,\n 0.6633396778146076,\n 0.6767197043655162,\n 0.6901219950788346,\n 0.6476499842881847,\n 0.6623124632131832,\n 0.6923845128251409,\n 0.756267076106815,\n 0.722968496787278,\n 0.6716950125445411,\n 0.7049902737584688,\n 0.6846548877948682,\n 0.7311596835805773,\n 0.7414643894864338,\n 0.6974129477985727,\n 0.7056868507985083,\n 0.7014149106274343,\n 0.7095197600305065,\n 0.6762801365462259,\n 0.6847695019171045,\n 0.6775626519769324,\n 0.6763347126905916,\n 0.6985000499154209,\n 0.6692443184590001,\n 0.6759548592850115,\n 0.6916975997147959,\n 0.6537806925074446,\n 0.6523406074201007,\n 0.7035775797625761,\n 0.7095685504104633,\n 0.7057415840986162,\n 0.6349892451074779,\n 0.7509986071879333,\n 0.6778492752508881,\n 0.6733940195232846,\n 0.7178976068553575,\n 0.6918681983308599,\n 0.6941132527605459,\n 0.7397673535468628,\n 0.6884373939417192,\n 0.6823328133405007,\n 0.6594694193204426,\n 0.6814940217873886,\n 0.6975818589801903,\n 0.672152234434561,\n 0.6872601142579239,\n 0.6933911906802641,\n 0.7081957329051985,\n 0.6867907626193515,\n 0.7281183420242343,\n 0.6969814901425261,\n 0.7054502668105214,\n 0.6611299183207244,\n 0.6951025799632667,\n 0.7334513927757288,\n 0.6972499868432047,\n 0.7290868780313867,\n 0.7103796879964337,\n 0.7192113048436831,\n 0.7089952068384552,\n 0.7288920922343327,\n 0.6776197461797611,\n 0.732606777367639,\n 0.7316684426985927,\n 0.7539601919061287,\n 0.6522113065301528,\n 0.6271291026691672,\n 0.7066974226567763,\n 0.6929297680175829,\n 0.676225664853875,\n 0.6882972859233513,\n 0.6885515927368504,\n 0.6842484857630737,\n 0.6771015559265947,\n 0.6795343627049293,\n 0.6641531565922694,\n 0.74443428059166,\n 0.6832590479690513,\n 0.6873167539792348,\n 0.692444360730174,\n 0.7132601526855503,\n 0.6959468374309737,\n 0.6679450004583717,\n 0.6835344780651019,\n 0.7149149112094562,\n 0.6390404342881646,\n 0.7145279459882069,\n 0.6816774493974656,\n 0.7322516895546425,\n 0.7163835819889225,\n 0.7030022280716287,\n 0.7070600343745745,\n 0.7025258746833736,\n 0.67518745999214,\n 0.7207946636088788,\n 0.661797622617898,\n 0.6560053940652647,\n 0.7042184992838832,\n 0.6514281907627921,\n 0.6910252507194437,\n 0.7062735893183091,\n 0.677163495995798,\n 0.7534758174741744,\n 0.7061695121998729,\n 0.6878504255315498,\n 0.6804460989342163,\n 0.6474117816528272,\n 0.651298919490877,\n 0.6870429543376925,\n 0.7060435763724292,\n 0.6896060634183682,\n 0.6839867694309749,\n 0.6963379355789764,\n 0.7001921094415248,\n 0.7012551087388765,\n 0.6963379355789764,\n 0.7360841588930969,\n 0.731723019986939,\n 0.6800650596948313,\n 0.7078640388599282,\n 0.6717296812777158,\n 0.7065506980391776,\n 0.6680367330478479,\n 0.6611622960020922,\n 0.6721758945694024,\n 0.7066943576025801,\n 0.6995697083909144,\n 0.6659364110363578,\n 0.6848107901295899,\n 0.6780806704324994,\n 0.7164462616496261,\n 0.6711660697798546,\n 0.695127939881417,\n 0.6671779172266005,\n 0.7416820789126254,\n 0.6789549200314486,\n 0.6865665478997551,\n 0.6820361610469128,\n 0.6664618681252119,\n 0.7323079693144621,\n 0.6921601062446473,\n 0.6723046796333266,\n 0.6928520208859421,\n ...]"
     },
     "execution_count": 255,
     "metadata": {},
     "output_type": "execute_result"
    }
   ],
   "source": [
    "ppmi_matrix.iloc[0].tolist()"
   ],
   "metadata": {
    "collapsed": false,
    "pycharm": {
     "name": "#%%\n"
    }
   }
  },
  {
   "cell_type": "code",
   "execution_count": 256,
   "outputs": [],
   "source": [
    "def svd_reduction(cooc_matrix, n_components=150, random_state=1, n_iter=10):\n",
    "    svd = TruncatedSVD(n_components=n_components, random_state=random_state, n_iter=n_iter)\n",
    "    svd_matrix = svd.fit_transform(cooc_matrix)\n",
    "    return svd_matrix"
   ],
   "metadata": {
    "collapsed": false,
    "pycharm": {
     "name": "#%%\n"
    }
   }
  },
  {
   "cell_type": "code",
   "execution_count": 257,
   "outputs": [],
   "source": [
    "svd_matrix = pd.DataFrame(svd_reduction(ppmi_matrix))"
   ],
   "metadata": {
    "collapsed": false,
    "pycharm": {
     "name": "#%%\n"
    }
   }
  },
  {
   "cell_type": "code",
   "execution_count": 258,
   "outputs": [
    {
     "name": "stdout",
     "output_type": "stream",
     "text": [
      "0.8041770380588669\n",
      "0.8960039757859282\n"
     ]
    }
   ],
   "source": [
    "# test compare random two vectors, both raw and SVD factorized\n",
    "rows = [0,98]\n",
    "print(1 - spatial.distance.cosine(ppmi_matrix.iloc[rows[0]].tolist(), ppmi_matrix.iloc[rows[1]].tolist()))\n",
    "print(1 - spatial.distance.cosine(svd_matrix.iloc[rows[0]].tolist(), svd_matrix.iloc[rows[1]].tolist()))"
   ],
   "metadata": {
    "collapsed": false,
    "pycharm": {
     "name": "#%%\n"
    }
   }
  },
  {
   "cell_type": "code",
   "execution_count": 259,
   "outputs": [
    {
     "name": "stdout",
     "output_type": "stream",
     "text": [
      "0.32822187615061504\n",
      "0.49072821378686116\n"
     ]
    }
   ],
   "source": [
    "# test compare random two vectors, both raw and SVD factorized\n",
    "rows = [0,1902]\n",
    "print(1 - spatial.distance.cosine(ppmi_matrix.iloc[rows[0]].tolist(), ppmi_matrix.iloc[rows[1]].tolist()))\n",
    "print(1 - spatial.distance.cosine(svd_matrix.iloc[rows[0]].tolist(), svd_matrix.iloc[rows[1]].tolist()))"
   ],
   "metadata": {
    "collapsed": false,
    "pycharm": {
     "name": "#%%\n"
    }
   }
  },
  {
   "cell_type": "code",
   "execution_count": 260,
   "outputs": [
    {
     "name": "stdout",
     "output_type": "stream",
     "text": [
      "0.19737694418771112\n",
      "0.4725889256130317\n"
     ]
    }
   ],
   "source": [
    "# test compare random two vectors, both raw and SVD factorized\n",
    "rows = [1900,1902]\n",
    "print(1 - spatial.distance.cosine(ppmi_matrix.iloc[rows[0]].tolist(), ppmi_matrix.iloc[rows[1]].tolist()))\n",
    "print(1 - spatial.distance.cosine(svd_matrix.iloc[rows[0]].tolist(), svd_matrix.iloc[rows[1]].tolist()))"
   ],
   "metadata": {
    "collapsed": false,
    "pycharm": {
     "name": "#%%\n"
    }
   }
  },
  {
   "cell_type": "code",
   "execution_count": 261,
   "outputs": [
    {
     "data": {
      "text/plain": "εἰμί          0.841726\nλέγω          1.000000\nθεός          0.836828\nοὗτος         0.851705\nγίγνομαι      0.811609\n                ...   \nἀπέραντος     0.697325\nγήινος        0.627975\nφορά          0.659324\nἔρομαι        0.606365\nἀπαλλαξείω    0.601516\nName: λέγω, Length: 2000, dtype: float64"
     },
     "execution_count": 261,
     "metadata": {},
     "output_type": "execute_result"
    }
   ],
   "source": [
    "ppmi_matrix.iloc[1]"
   ],
   "metadata": {
    "collapsed": false,
    "pycharm": {
     "name": "#%%\n"
    }
   }
  },
  {
   "cell_type": "code",
   "execution_count": 262,
   "outputs": [],
   "source": [
    "def from_docs_to_embeddings(docs, vocabulary=None, min_freq=5):\n",
    "    cooc, vocabulary = get_cooc(docs, vocabulary=vocabulary, min_freq=min_freq)\n",
    "    pmi_matrix = get_ppmi_df(cooc, vocabulary)\n",
    "    word_vectors_array = svd_reduction(pmi_matrix, n_components=150, random_state=1, n_iter=10)\n",
    "    word_vectors_df = pd.DataFrame(word_vectors_array, index=vocabulary)\n",
    "    pmi_svd_cos = pd.DataFrame(cosine_similarity(word_vectors_array), columns=vocabulary, index=vocabulary)\n",
    "    return [cooc, vocabulary, pmi_matrix, word_vectors_df, pmi_svd_cos]"
   ],
   "metadata": {
    "collapsed": false,
    "pycharm": {
     "name": "#%%\n"
    }
   }
  },
  {
   "cell_type": "code",
   "execution_count": 263,
   "outputs": [
    {
     "name": "stdout",
     "output_type": "stream",
     "text": [
      "CPU times: user 3min 32s, sys: 6.95 s, total: 3min 39s\n",
      "Wall time: 2min 31s\n"
     ]
    }
   ],
   "source": [
    "%%time\n",
    "data_1to3 = from_docs_to_embeddings(sents_1to3 + bigrams_1to3, vocabulary=vocabulary_1to3[:2000])\n",
    "data_4to5 = from_docs_to_embeddings(sents_4to5 + bigrams_4to5, vocabulary=vocabulary_4to5[:2000])"
   ],
   "metadata": {
    "collapsed": false,
    "pycharm": {
     "name": "#%%\n"
    }
   }
  },
  {
   "cell_type": "code",
   "execution_count": 265,
   "outputs": [
    {
     "data": {
      "text/plain": "                εἰμί      λέγω      θεός     οὗτος  γίγνομαι     λόγος  \\\nεἰμί        1.000000  0.999288  0.999294  0.999722  0.999305  0.998164   \nλέγω        0.999288  1.000000  0.998873  0.999411  0.998778  0.997648   \nθεός        0.999294  0.998873  1.000000  0.999209  0.998947  0.997723   \nοὗτος       0.999722  0.999411  0.999209  1.000000  0.999138  0.998462   \nγίγνομαι    0.999305  0.998778  0.998947  0.999138  1.000000  0.997912   \n...              ...       ...       ...       ...       ...       ...   \nἀπέραντος   0.440152  0.436899  0.440680  0.436753  0.445533  0.443051   \nγήινος      0.459184  0.458371  0.459301  0.457072  0.459473  0.463842   \nφορά        0.509297  0.504757  0.507311  0.508451  0.514109  0.515548   \nἔρομαι      0.421453  0.420709  0.419764  0.425188  0.421363  0.429373   \nἀπαλλαξείω  0.496696  0.494920  0.498160  0.497860  0.503012  0.506988   \n\n                 πᾶς  ἄνθρωπος     αὐτός       ἔχω  ...    ἡσυχία  λαμπρότης  \\\nεἰμί        0.999014  0.997279  0.998943  0.998773  ...  0.474521   0.470391   \nλέγω        0.998308  0.996880  0.998803  0.998188  ...  0.477698   0.467932   \nθεός        0.999193  0.997571  0.998519  0.998238  ...  0.476814   0.472447   \nοὗτος       0.998884  0.997453  0.999089  0.998700  ...  0.476563   0.469958   \nγίγνομαι    0.998775  0.997369  0.998252  0.998238  ...  0.475307   0.471920   \n...              ...       ...       ...       ...  ...       ...        ...   \nἀπέραντος   0.448155  0.444374  0.443021  0.448384  ...  0.572712   0.557937   \nγήινος      0.461795  0.467277  0.455580  0.466384  ...  0.515431   0.565640   \nφορά        0.515383  0.522376  0.514686  0.512192  ...  0.483606   0.517621   \nἔρομαι      0.423847  0.430688  0.429064  0.429997  ...  0.580804   0.431847   \nἀπαλλαξείω  0.500968  0.507705  0.500714  0.502956  ...  0.567568   0.565808   \n\n             προνοέω  πανοῦργος  εἰλικρινής  ἀπέραντος    γήινος      φορά  \\\nεἰμί        0.445691   0.477666    0.532048   0.440152  0.459184  0.509297   \nλέγω        0.445569   0.479577    0.530469   0.436899  0.458371  0.504757   \nθεός        0.448881   0.477274    0.534937   0.440680  0.459301  0.507311   \nοὗτος       0.446959   0.479029    0.533680   0.436753  0.457072  0.508451   \nγίγνομαι    0.450354   0.478051    0.534432   0.445533  0.459473  0.514109   \n...              ...        ...         ...        ...       ...       ...   \nἀπέραντος   0.556021   0.505647    0.583232   1.000000  0.538857  0.552904   \nγήινος      0.591590   0.536741    0.565233   0.538857  1.000000  0.534928   \nφορά        0.559529   0.546601    0.590235   0.552904  0.534928  1.000000   \nἔρομαι      0.580482   0.556738    0.516872   0.438155  0.486651  0.528138   \nἀπαλλαξείω  0.595689   0.580544    0.597968   0.541146  0.569768  0.619039   \n\n              ἔρομαι  ἀπαλλαξείω  \nεἰμί        0.421453    0.496696  \nλέγω        0.420709    0.494920  \nθεός        0.419764    0.498160  \nοὗτος       0.425188    0.497860  \nγίγνομαι    0.421363    0.503012  \n...              ...         ...  \nἀπέραντος   0.438155    0.541146  \nγήινος      0.486651    0.569768  \nφορά        0.528138    0.619039  \nἔρομαι      1.000000    0.638222  \nἀπαλλαξείω  0.638222    1.000000  \n\n[2000 rows x 2000 columns]",
      "text/html": "<div>\n<style scoped>\n    .dataframe tbody tr th:only-of-type {\n        vertical-align: middle;\n    }\n\n    .dataframe tbody tr th {\n        vertical-align: top;\n    }\n\n    .dataframe thead th {\n        text-align: right;\n    }\n</style>\n<table border=\"1\" class=\"dataframe\">\n  <thead>\n    <tr style=\"text-align: right;\">\n      <th></th>\n      <th>εἰμί</th>\n      <th>λέγω</th>\n      <th>θεός</th>\n      <th>οὗτος</th>\n      <th>γίγνομαι</th>\n      <th>λόγος</th>\n      <th>πᾶς</th>\n      <th>ἄνθρωπος</th>\n      <th>αὐτός</th>\n      <th>ἔχω</th>\n      <th>...</th>\n      <th>ἡσυχία</th>\n      <th>λαμπρότης</th>\n      <th>προνοέω</th>\n      <th>πανοῦργος</th>\n      <th>εἰλικρινής</th>\n      <th>ἀπέραντος</th>\n      <th>γήινος</th>\n      <th>φορά</th>\n      <th>ἔρομαι</th>\n      <th>ἀπαλλαξείω</th>\n    </tr>\n  </thead>\n  <tbody>\n    <tr>\n      <th>εἰμί</th>\n      <td>1.000000</td>\n      <td>0.999288</td>\n      <td>0.999294</td>\n      <td>0.999722</td>\n      <td>0.999305</td>\n      <td>0.998164</td>\n      <td>0.999014</td>\n      <td>0.997279</td>\n      <td>0.998943</td>\n      <td>0.998773</td>\n      <td>...</td>\n      <td>0.474521</td>\n      <td>0.470391</td>\n      <td>0.445691</td>\n      <td>0.477666</td>\n      <td>0.532048</td>\n      <td>0.440152</td>\n      <td>0.459184</td>\n      <td>0.509297</td>\n      <td>0.421453</td>\n      <td>0.496696</td>\n    </tr>\n    <tr>\n      <th>λέγω</th>\n      <td>0.999288</td>\n      <td>1.000000</td>\n      <td>0.998873</td>\n      <td>0.999411</td>\n      <td>0.998778</td>\n      <td>0.997648</td>\n      <td>0.998308</td>\n      <td>0.996880</td>\n      <td>0.998803</td>\n      <td>0.998188</td>\n      <td>...</td>\n      <td>0.477698</td>\n      <td>0.467932</td>\n      <td>0.445569</td>\n      <td>0.479577</td>\n      <td>0.530469</td>\n      <td>0.436899</td>\n      <td>0.458371</td>\n      <td>0.504757</td>\n      <td>0.420709</td>\n      <td>0.494920</td>\n    </tr>\n    <tr>\n      <th>θεός</th>\n      <td>0.999294</td>\n      <td>0.998873</td>\n      <td>1.000000</td>\n      <td>0.999209</td>\n      <td>0.998947</td>\n      <td>0.997723</td>\n      <td>0.999193</td>\n      <td>0.997571</td>\n      <td>0.998519</td>\n      <td>0.998238</td>\n      <td>...</td>\n      <td>0.476814</td>\n      <td>0.472447</td>\n      <td>0.448881</td>\n      <td>0.477274</td>\n      <td>0.534937</td>\n      <td>0.440680</td>\n      <td>0.459301</td>\n      <td>0.507311</td>\n      <td>0.419764</td>\n      <td>0.498160</td>\n    </tr>\n    <tr>\n      <th>οὗτος</th>\n      <td>0.999722</td>\n      <td>0.999411</td>\n      <td>0.999209</td>\n      <td>1.000000</td>\n      <td>0.999138</td>\n      <td>0.998462</td>\n      <td>0.998884</td>\n      <td>0.997453</td>\n      <td>0.999089</td>\n      <td>0.998700</td>\n      <td>...</td>\n      <td>0.476563</td>\n      <td>0.469958</td>\n      <td>0.446959</td>\n      <td>0.479029</td>\n      <td>0.533680</td>\n      <td>0.436753</td>\n      <td>0.457072</td>\n      <td>0.508451</td>\n      <td>0.425188</td>\n      <td>0.497860</td>\n    </tr>\n    <tr>\n      <th>γίγνομαι</th>\n      <td>0.999305</td>\n      <td>0.998778</td>\n      <td>0.998947</td>\n      <td>0.999138</td>\n      <td>1.000000</td>\n      <td>0.997912</td>\n      <td>0.998775</td>\n      <td>0.997369</td>\n      <td>0.998252</td>\n      <td>0.998238</td>\n      <td>...</td>\n      <td>0.475307</td>\n      <td>0.471920</td>\n      <td>0.450354</td>\n      <td>0.478051</td>\n      <td>0.534432</td>\n      <td>0.445533</td>\n      <td>0.459473</td>\n      <td>0.514109</td>\n      <td>0.421363</td>\n      <td>0.503012</td>\n    </tr>\n    <tr>\n      <th>...</th>\n      <td>...</td>\n      <td>...</td>\n      <td>...</td>\n      <td>...</td>\n      <td>...</td>\n      <td>...</td>\n      <td>...</td>\n      <td>...</td>\n      <td>...</td>\n      <td>...</td>\n      <td>...</td>\n      <td>...</td>\n      <td>...</td>\n      <td>...</td>\n      <td>...</td>\n      <td>...</td>\n      <td>...</td>\n      <td>...</td>\n      <td>...</td>\n      <td>...</td>\n      <td>...</td>\n    </tr>\n    <tr>\n      <th>ἀπέραντος</th>\n      <td>0.440152</td>\n      <td>0.436899</td>\n      <td>0.440680</td>\n      <td>0.436753</td>\n      <td>0.445533</td>\n      <td>0.443051</td>\n      <td>0.448155</td>\n      <td>0.444374</td>\n      <td>0.443021</td>\n      <td>0.448384</td>\n      <td>...</td>\n      <td>0.572712</td>\n      <td>0.557937</td>\n      <td>0.556021</td>\n      <td>0.505647</td>\n      <td>0.583232</td>\n      <td>1.000000</td>\n      <td>0.538857</td>\n      <td>0.552904</td>\n      <td>0.438155</td>\n      <td>0.541146</td>\n    </tr>\n    <tr>\n      <th>γήινος</th>\n      <td>0.459184</td>\n      <td>0.458371</td>\n      <td>0.459301</td>\n      <td>0.457072</td>\n      <td>0.459473</td>\n      <td>0.463842</td>\n      <td>0.461795</td>\n      <td>0.467277</td>\n      <td>0.455580</td>\n      <td>0.466384</td>\n      <td>...</td>\n      <td>0.515431</td>\n      <td>0.565640</td>\n      <td>0.591590</td>\n      <td>0.536741</td>\n      <td>0.565233</td>\n      <td>0.538857</td>\n      <td>1.000000</td>\n      <td>0.534928</td>\n      <td>0.486651</td>\n      <td>0.569768</td>\n    </tr>\n    <tr>\n      <th>φορά</th>\n      <td>0.509297</td>\n      <td>0.504757</td>\n      <td>0.507311</td>\n      <td>0.508451</td>\n      <td>0.514109</td>\n      <td>0.515548</td>\n      <td>0.515383</td>\n      <td>0.522376</td>\n      <td>0.514686</td>\n      <td>0.512192</td>\n      <td>...</td>\n      <td>0.483606</td>\n      <td>0.517621</td>\n      <td>0.559529</td>\n      <td>0.546601</td>\n      <td>0.590235</td>\n      <td>0.552904</td>\n      <td>0.534928</td>\n      <td>1.000000</td>\n      <td>0.528138</td>\n      <td>0.619039</td>\n    </tr>\n    <tr>\n      <th>ἔρομαι</th>\n      <td>0.421453</td>\n      <td>0.420709</td>\n      <td>0.419764</td>\n      <td>0.425188</td>\n      <td>0.421363</td>\n      <td>0.429373</td>\n      <td>0.423847</td>\n      <td>0.430688</td>\n      <td>0.429064</td>\n      <td>0.429997</td>\n      <td>...</td>\n      <td>0.580804</td>\n      <td>0.431847</td>\n      <td>0.580482</td>\n      <td>0.556738</td>\n      <td>0.516872</td>\n      <td>0.438155</td>\n      <td>0.486651</td>\n      <td>0.528138</td>\n      <td>1.000000</td>\n      <td>0.638222</td>\n    </tr>\n    <tr>\n      <th>ἀπαλλαξείω</th>\n      <td>0.496696</td>\n      <td>0.494920</td>\n      <td>0.498160</td>\n      <td>0.497860</td>\n      <td>0.503012</td>\n      <td>0.506988</td>\n      <td>0.500968</td>\n      <td>0.507705</td>\n      <td>0.500714</td>\n      <td>0.502956</td>\n      <td>...</td>\n      <td>0.567568</td>\n      <td>0.565808</td>\n      <td>0.595689</td>\n      <td>0.580544</td>\n      <td>0.597968</td>\n      <td>0.541146</td>\n      <td>0.569768</td>\n      <td>0.619039</td>\n      <td>0.638222</td>\n      <td>1.000000</td>\n    </tr>\n  </tbody>\n</table>\n<p>2000 rows × 2000 columns</p>\n</div>"
     },
     "execution_count": 265,
     "metadata": {},
     "output_type": "execute_result"
    }
   ],
   "source": [
    "data_1to3[-1]"
   ],
   "metadata": {
    "collapsed": false,
    "pycharm": {
     "name": "#%%\n"
    }
   }
  },
  {
   "cell_type": "code",
   "execution_count": 266,
   "outputs": [],
   "source": [
    "pickle.dump(data_1to3, open(\"../data/large_files/embeddings_sents+bgs+tgs_ppmi2_1to3.pkl\", \"wb\"), pickle.HIGHEST_PROTOCOL)\n",
    "pickle.dump(data_4to5, open(\"../data/large_files/embeddings_sents+bgs+tgs_ppmi2_4to5.pkl\", \"wb\"), pickle.HIGHEST_PROTOCOL)"
   ],
   "metadata": {
    "collapsed": false,
    "pycharm": {
     "name": "#%%\n"
    }
   }
  },
  {
   "cell_type": "code",
   "execution_count": null,
   "outputs": [],
   "source": [],
   "metadata": {
    "collapsed": false,
    "pycharm": {
     "name": "#%%\n"
    }
   }
  }
 ],
 "metadata": {
  "kernelspec": {
   "name": "paul_venv",
   "language": "python",
   "display_name": "paul_venv"
  },
  "language_info": {
   "codemirror_mode": {
    "name": "ipython",
    "version": 2
   },
   "file_extension": ".py",
   "mimetype": "text/x-python",
   "name": "python",
   "nbconvert_exporter": "python",
   "pygments_lexer": "ipython2",
   "version": "2.7.6"
  }
 },
 "nbformat": 4,
 "nbformat_minor": 0
}