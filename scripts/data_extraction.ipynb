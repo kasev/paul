{
 "cells": [
  {
   "cell_type": "code",
   "execution_count": 184,
   "metadata": {},
   "outputs": [],
   "source": [
    "import pandas as pd\n",
    "import requests\n",
    "import sddk\n",
    "\n",
    "import gspread\n",
    "from gspread_dataframe import get_as_dataframe, set_with_dataframe\n",
    "from google.oauth2 import service_account # based on google-auth library"
   ]
  },
  {
   "cell_type": "code",
   "execution_count": 237,
   "outputs": [],
   "source": [
    "# for exporting data to googlesheets/sciencedata\n",
    "# (feel free to skip)\n",
    "\n",
    "s = sddk.cloudSession(\"sciencedata.dk\")\n",
    "# establish connection with gogglesheets...\n",
    "file_data = s.read_file(\"https://sciencedata.dk/files/ServiceAccountsKey.json\", \"dict\") # or load it from a local storage: json.load(open(\"../../ServiceAccountsKey.json\", \"r\"))\n",
    "credentials = service_account.Credentials.from_service_account_info(file_data)\n",
    "gc = gspread.Client(auth=credentials.with_scopes(['https://spreadsheets.google.com/feeds', 'https://www.googleapis.com/auth/drive']))\n",
    "paul_results = gc.open_by_url(\"https://docs.google.com/spreadsheets/d/1h4M-gK9TPIfeTV528tUuPBfZF1wtcNCA10yIlJYqGTE/edit?usp=sharing\")"
   ],
   "metadata": {
    "collapsed": false,
    "pycharm": {
     "name": "#%%\n"
    }
   }
  },
  {
   "cell_type": "code",
   "execution_count": 3,
   "outputs": [
    {
     "name": "stdout",
     "output_type": "stream",
     "text": [
      "['/Users/kasev/Projects/paul/data/large_files/LIRE_v1-0.json']\n"
     ]
    }
   ],
   "source": [
    "# find local version of the input dataset\n",
    "local_paths = !find ~/Projects -name \"LIRE_v1-0.json\"\n",
    "print(local_paths)"
   ],
   "metadata": {
    "collapsed": false,
    "pycharm": {
     "name": "#%%\n"
    }
   }
  },
  {
   "cell_type": "code",
   "execution_count": 62,
   "outputs": [],
   "source": [
    "# LAGT (v1.0.1) dataset directly from Zenodo\n",
    "try:\n",
    "    LAGT = pd.read_json(local_paths[0])\n",
    "except:\n",
    "    resp = requests.get(\"https://zenodo.org/record/4971946/files/LAGT_v1-0.json?download=1\")\n",
    "    # save it for next time\n",
    "    LAGT = pd.DataFrame(resp.json())\n",
    "    LAGT.to_json(\"../data/large_files/LIRE_v1-0.json\")"
   ],
   "metadata": {
    "collapsed": false,
    "pycharm": {
     "name": "#%%\n"
    }
   }
  },
  {
   "cell_type": "code",
   "execution_count": 63,
   "outputs": [
    {
     "data": {
      "text/plain": "Index(['filename', 'author', 'title', 'wordcount', 'author_id', 'doc_id',\n       'raw_date', 'date_avr', 'date_probs', 'date_manual', 'provenience',\n       'tlg_epithet', 'clean_string', 'n_sentences', 'lemmatized_sentences'],\n      dtype='object')"
     },
     "execution_count": 63,
     "metadata": {},
     "output_type": "execute_result"
    }
   ],
   "source": [
    "LAGT.columns"
   ],
   "metadata": {
    "collapsed": false,
    "pycharm": {
     "name": "#%%\n"
    }
   }
  },
  {
   "cell_type": "code",
   "execution_count": 64,
   "outputs": [
    {
     "data": {
      "text/plain": "147"
     },
     "execution_count": 64,
     "metadata": {},
     "output_type": "execute_result"
    }
   ],
   "source": [
    "len(LAGT[LAGT[\"provenience\"]==\"christian\"])"
   ],
   "metadata": {
    "collapsed": false,
    "pycharm": {
     "name": "#%%\n"
    }
   }
  },
  {
   "cell_type": "code",
   "execution_count": 158,
   "outputs": [],
   "source": [
    "# upload manually updated metadata\n",
    "LAGT_metadata = pd.read_csv(\"../data/LAGT_metadata.csv\")\n",
    "\n",
    "# update provenience\n",
    "provenience_dict = dict(zip(LAGT_metadata[\"filename\"],  LAGT_metadata[\"provenience\"]))\n",
    "LAGT[\"provenience\"] = LAGT[\"filename\"].apply(lambda x: provenience_dict[x])\n",
    "\n",
    "# update author\n",
    "author_dict = dict(zip(LAGT_metadata[\"filename\"],  LAGT_metadata[\"author\"]))\n",
    "LAGT[\"author\"] = LAGT[\"filename\"].apply(lambda x: author_dict[x])\n",
    "\n",
    "# update title\n",
    "title_dict = dict(zip(LAGT_metadata[\"filename\"],  LAGT_metadata[\"title\"]))\n",
    "LAGT[\"title\"] = LAGT[\"filename\"].apply(lambda x: title_dict[x])"
   ],
   "metadata": {
    "collapsed": false,
    "pycharm": {
     "name": "#%%\n"
    }
   }
  },
  {
   "cell_type": "code",
   "execution_count": 159,
   "outputs": [
    {
     "data": {
      "text/plain": "148"
     },
     "execution_count": 159,
     "metadata": {},
     "output_type": "execute_result"
    }
   ],
   "source": [
    "len(LAGT[LAGT[\"provenience\"]==\"christian\"])"
   ],
   "metadata": {
    "collapsed": false,
    "pycharm": {
     "name": "#%%\n"
    }
   }
  },
  {
   "cell_type": "code",
   "execution_count": 160,
   "outputs": [
    {
     "data": {
      "text/plain": "Empty DataFrame\nColumns: [filename, author, title, wordcount, author_id, doc_id, raw_date, date_avr, date_probs, date_manual, provenience, tlg_epithet, clean_string, n_sentences, lemmatized_sentences, sentences_paul, sentences_paul_N]\nIndex: []",
      "text/html": "<div>\n<style scoped>\n    .dataframe tbody tr th:only-of-type {\n        vertical-align: middle;\n    }\n\n    .dataframe tbody tr th {\n        vertical-align: top;\n    }\n\n    .dataframe thead th {\n        text-align: right;\n    }\n</style>\n<table border=\"1\" class=\"dataframe\">\n  <thead>\n    <tr style=\"text-align: right;\">\n      <th></th>\n      <th>filename</th>\n      <th>author</th>\n      <th>title</th>\n      <th>wordcount</th>\n      <th>author_id</th>\n      <th>doc_id</th>\n      <th>raw_date</th>\n      <th>date_avr</th>\n      <th>date_probs</th>\n      <th>date_manual</th>\n      <th>provenience</th>\n      <th>tlg_epithet</th>\n      <th>clean_string</th>\n      <th>n_sentences</th>\n      <th>lemmatized_sentences</th>\n      <th>sentences_paul</th>\n      <th>sentences_paul_N</th>\n    </tr>\n  </thead>\n  <tbody>\n  </tbody>\n</table>\n</div>"
     },
     "execution_count": 160,
     "metadata": {},
     "output_type": "execute_result"
    }
   ],
   "source": [
    "# non-dated christian texts\n",
    "LAGT[(LAGT[\"provenience\"]==\"christian\") & (LAGT[\"date_avr\"].isnull())]"
   ],
   "metadata": {
    "collapsed": false,
    "pycharm": {
     "name": "#%%\n"
    }
   }
  },
  {
   "cell_type": "code",
   "execution_count": 161,
   "outputs": [
    {
     "data": {
      "text/plain": "1277"
     },
     "execution_count": 161,
     "metadata": {},
     "output_type": "execute_result"
    }
   ],
   "source": [
    "(LAGT[\"date_avr\"] < 5).sum()"
   ],
   "metadata": {
    "collapsed": false,
    "pycharm": {
     "name": "#%%\n"
    }
   }
  },
  {
   "cell_type": "code",
   "execution_count": 162,
   "outputs": [
    {
     "name": "stdout",
     "output_type": "stream",
     "text": [
      "2 103 1642004\n",
      "2.5 104 1711991\n",
      "3 105 1714782\n",
      "3.5 137 3059696\n",
      "4 143 3361426\n",
      "4.5 148 3566823\n",
      "5 148 3566823\n"
     ]
    }
   ],
   "source": [
    "for date in [2, 2.5, 3, 3.5, 4, 4.5, 5]:\n",
    "    mask = ((LAGT[\"date_avr\"] <= date) & (LAGT[\"provenience\"]==\"christian\"))\n",
    "    print(date,\n",
    "          mask.sum(),\n",
    "          LAGT[mask][\"wordcount\"].sum()\n",
    "          )"
   ],
   "metadata": {
    "collapsed": false,
    "pycharm": {
     "name": "#%%\n"
    }
   }
  },
  {
   "cell_type": "code",
   "execution_count": 218,
   "outputs": [],
   "source": [
    "# all texts before the end of the\n",
    "LAGT = LAGT[(LAGT[\"date_avr\"] <= 5) & (LAGT[\"provenience\"]==\"christian\")]"
   ],
   "metadata": {
    "collapsed": false,
    "pycharm": {
     "name": "#%%\n"
    }
   }
  },
  {
   "cell_type": "code",
   "execution_count": 219,
   "outputs": [
    {
     "data": {
      "text/plain": "                            filename                                 author  \\\n385  tlg0031.tlg001.perseus-grc2.xml                      Gospel of Matthew   \n386  tlg0031.tlg002.perseus-grc2.xml                         Gospel of Mark   \n387  tlg0031.tlg003.perseus-grc2.xml                              Luke-Acts   \n388  tlg0031.tlg004.perseus-grc2.xml  Johnannine literature (New Testament)   \n389  tlg0031.tlg005.perseus-grc2.xml                              Luke-Acts   \n390  tlg0031.tlg006.perseus-grc2.xml                         Paul of Tarsus   \n391  tlg0031.tlg007.perseus-grc2.xml                         Paul of Tarsus   \n392  tlg0031.tlg008.perseus-grc2.xml                         Paul of Tarsus   \n393  tlg0031.tlg009.perseus-grc2.xml                         Paul of Tarsus   \n394  tlg0031.tlg010.perseus-grc2.xml                     Pauline literature   \n395  tlg0031.tlg011.perseus-grc2.xml                         Paul of Tarsus   \n396  tlg0031.tlg012.perseus-grc2.xml                     Pauline literature   \n397  tlg0031.tlg013.perseus-grc2.xml                         Paul of Tarsus   \n398  tlg0031.tlg014.perseus-grc2.xml                     Pauline literature   \n399  tlg0031.tlg015.perseus-grc2.xml                     Pauline literature   \n400  tlg0031.tlg016.perseus-grc2.xml                     Pauline literature   \n401  tlg0031.tlg017.perseus-grc2.xml                     Pauline literature   \n402  tlg0031.tlg018.perseus-grc2.xml                         Paul of Tarsus   \n403  tlg0031.tlg019.perseus-grc2.xml                Hebrews (New Testament)   \n404  tlg0031.tlg020.perseus-grc2.xml                  James (New Testament)   \n405  tlg0031.tlg021.perseus-grc2.xml                1 Peter (New Testament)   \n406  tlg0031.tlg022.perseus-grc2.xml                2 Peter (New Testament)   \n407  tlg0031.tlg023.perseus-grc2.xml  Johnannine literature (New Testament)   \n408  tlg0031.tlg024.perseus-grc2.xml  Johnannine literature (New Testament)   \n409  tlg0031.tlg025.perseus-grc2.xml  Johnannine literature (New Testament)   \n410  tlg0031.tlg026.perseus-grc2.xml                   Jude (New Testament)   \n411  tlg0031.tlg027.perseus-grc2.xml             Revelation (New Testament)   \n\n                 title  wordcount    author_id          doc_id raw_date  \\\n385  Gospel of Matthew      18288     tlg0031a  tlg0031.tlg001   A.D. 1   \n386     Gospel of Mark      11274     tlg0031b  tlg0031.tlg002   A.D. 1   \n387     Gospel of Luke      19458  tlg0031luke  tlg0031.tlg003   A.D. 1   \n388     Gospel of John      15590  tlg0031john  tlg0031.tlg004   A.D. 1   \n389               Acts      18406  tlg0031luke  tlg0031.tlg005   A.D. 1   \n390             Romans       7107  tlg0031paul  tlg0031.tlg006   A.D. 1   \n391      1 Corinthians       6814  tlg0031paul  tlg0031.tlg007   A.D. 1   \n392      2 Corinthians       4470  tlg0031paul  tlg0031.tlg008   A.D. 1   \n393          Galatians       2235  tlg0031paul  tlg0031.tlg009   A.D. 1   \n394          Ephesians       2421  tlg0031pspa  tlg0031.tlg010   A.D. 1   \n395        Philippians       1631  tlg0031paul  tlg0031.tlg011   A.D. 1   \n396         Colossians       1580  tlg0031pspa  tlg0031.tlg012   A.D. 1   \n397    1 Thessalonians       1475  tlg0031paul  tlg0031.tlg013   A.D. 1   \n398    2 Thessalonians        822  tlg0031pspa  tlg0031.tlg014   A.D. 1   \n399          1 Timothy       1597  tlg0031pspa  tlg0031.tlg015   A.D. 1   \n400          2 Timothy       1245  tlg0031pspa  tlg0031.tlg016   A.D. 1   \n401              Titus        659  tlg0031pspa  tlg0031.tlg017   A.D. 1   \n402           Philemon        334  tlg0031paul  tlg0031.tlg018   A.D. 1   \n403            Hebrews       4971     tlg0031c  tlg0031.tlg019   A.D. 1   \n404              James       1734     tlg0031d  tlg0031.tlg020   A.D. 1   \n405            1 Peter       1669     tlg0031e  tlg0031.tlg021   A.D. 1   \n406            2 Peter       1095     tlg0031f  tlg0031.tlg022   A.D. 1   \n407             1 John       2135  tlg0031john  tlg0031.tlg023   A.D. 1   \n408             2 John        245  tlg0031john  tlg0031.tlg024   A.D. 1   \n409             3 John        219  tlg0031john  tlg0031.tlg025   A.D. 1   \n410               Jude        456     tlg0031g  tlg0031.tlg026   A.D. 1   \n411         Revelation       9857     tlg0031h  tlg0031.tlg027   A.D. 1   \n\n     date_avr  date_probs  date_manual provenience tlg_epithet  \\\n385       0.5  {'0.5': 1}          0.5   christian          []   \n386       0.5  {'0.5': 1}          0.5   christian          []   \n387       0.5  {'0.5': 1}          0.5   christian          []   \n388       0.5  {'0.5': 1}          0.5   christian          []   \n389       0.5  {'0.5': 1}          0.5   christian          []   \n390       0.5  {'0.5': 1}          0.5   christian          []   \n391       0.5  {'0.5': 1}          0.5   christian          []   \n392       0.5  {'0.5': 1}          0.5   christian          []   \n393       0.5  {'0.5': 1}          0.5   christian          []   \n394       0.5  {'0.5': 1}          0.5   christian          []   \n395       0.5  {'0.5': 1}          0.5   christian          []   \n396       0.5  {'0.5': 1}          0.5   christian          []   \n397       0.5  {'0.5': 1}          0.5   christian          []   \n398       0.5  {'0.5': 1}          0.5   christian          []   \n399       0.5  {'0.5': 1}          0.5   christian          []   \n400       0.5  {'0.5': 1}          0.5   christian          []   \n401       0.5  {'0.5': 1}          0.5   christian          []   \n402       0.5  {'0.5': 1}          0.5   christian          []   \n403       0.5  {'0.5': 1}          0.5   christian          []   \n404       0.5  {'0.5': 1}          0.5   christian          []   \n405       0.5  {'0.5': 1}          0.5   christian          []   \n406       0.5  {'0.5': 1}          0.5   christian          []   \n407       0.5  {'0.5': 1}          0.5   christian          []   \n408       0.5  {'0.5': 1}          0.5   christian          []   \n409       0.5  {'0.5': 1}          0.5   christian          []   \n410       0.5  {'0.5': 1}          0.5   christian          []   \n411       0.5  {'0.5': 1}          0.5   christian          []   \n\n                                          clean_string  n_sentences  \\\n385   ΒΙΒΛΟΣ γενέσεως Ἰησοῦ Χριστοῦ υἱοῦ Δαυεὶδ υἱο...         1276   \n386   ΑΡΧΗ τοῦ εὐαγγελίου Ἰησοῦ Χριστοῦ . Καθὼς γέγ...          790   \n387   ΕΠΕΙΔΗΠΕΡ ΠΟΛΛΟΙ ἐπεχείρησαν ἀνατάξασθαι διήγ...         1274   \n388   ΕΝ ΑΡΧΗ ἦν ὁ λόγος, καὶ ὁ λόγος ἦν πρὸς τὸν θ...         1164   \n389   τὸν μὲν πρῶτον λόγον ἐποιησάμην περὶ πάντων, ...          960   \n390   ΠΑΥΛΟΣ δοῦλος Ἰησοῦ Χριστοῦ, κλητὸς ἀπόστολος...          490   \n391   ΠΑΥΛΟΣ κλητὸς ἀπόστολος Ἰησοῦ Χριστοῦ διὰ θελ...          544   \n392   ΠΑΥΛΟΣ ἀπόστολος Χριστοῦ Ἰησοῦ διὰ θελήματος ...          274   \n393   ΠΑΥΛΟΣ ἀπόστολος, οὐκ ἀπʼ ἀνθρώπων οὐδὲ διʼ ἀ...          159   \n394   ΠΑΥΛΟΣ ἀπόστολος Χριστοῦ Ἰησοῦ διὰ θελήματος ...           80   \n395   ΠΑΥΛΟΣ ΚΑΙ ΤΙΜΟΘΕΟΣ δοῦλοι Χριστοῦ Ἰησοῦ πᾶσι...           83   \n396   ΠΑΥΛΟΣ ἀπόστολος Χριστοῦ Ἰησοῦ διὰ θελήματος ...           68   \n397   ΠΑΥΛΟΣ ΚΑΙ ΣΙΛΟΥΑΝΟΣ ΚΑΙ ΤΙΜΟΘΕΟΣ τῇ ἐκκλησίᾳ...           65   \n398   ΠΑΥΛΟΣ ΚΑΙ ΣΙΛΟΥΑΝΟΣ ΚΑΙ ΤΙΜΟΘΕΟΣ τῇ ἐκκλησίᾳ...           34   \n399   ΠΑΥΛΟΣ ἀπόστολος Χριστοῦ Ἰησοῦ κατʼ ἐπιταγὴν ...           96   \n400   ΠΑΥΛΟΣ ἀπόστολος Χριστοῦ Ἰησοῦ διὰ θελήματος ...           79   \n401   ΠΑΥΛΟΣ δοῦλος θεοῦ, ἀπόστολος δὲ Ἰησοῦ Χριστο...           33   \n402   ΠΑΥΛΟΣ δέσμιος Χριστοῦ Ἰησοῦ καὶ Τιμόθεος ὁ ἀ...           17   \n403   ΠΟΛΥΜΕΡΩΣ ΚΑΙ ΠΟΛΥΤΡΟΠΩΣ πάλαι ὁ θεὸς λαλήσας...          262   \n404   ΙΑΚΩΒΟΣ θεοῦ καὶ κυρίου Ἰησοῦ Χριστοῦ δοῦλος ...          140   \n405   ΠΕΤΡΟΣ ἀπόστολος Ἰησοῦ Χριστοῦ ἐκλεκτοῖς παρε...           98   \n406   ΣΙΜΩΝ ΠΕΤΡΟΣ δοῦλος καὶ ἀπόστολος Ἰησοῦ Χριστ...           42   \n407   Ο ΗΝ ΑΠʼ ΑΡΧΗΣ, ὃ ἀκηκόαμεν, ὃ ἑωράκαμεν τοῖς...          140   \n408   Ο ΠΡΕΣΒΥΤΕΡΟΣ ἐκλεκτῇ κυρίᾳ καὶ τοῖς τέκνοις ...           15   \n409   Ο ΠΡΕΣΒΥΤΕΡΟΣ Γαίῳ τῷ ἀγαπητῷ, ὃν ἐγὼ ἀγαπῶ ἐ...           20   \n410   ΙΟΥΔΑΣ Ἰησοῦ Χριστοῦ δοῦλος, ἀδελφὸς δὲ Ἰακώβ...           20   \n411   ΑΠΟΚΑΛΥΨΙΣ ΙΗΣΟΥ ΧΡΙΣΤΟΥ, ἥν ἔδωκεν αὐτῷ ὁ θε...          475   \n\n                                  lemmatized_sentences  \\\n385  [[βίβλος, γένεσις, Ἰησοῦς, Χριστός, υἱός, Δαυί...   \n386  [[ἀρχή, εὐαγγέλιον, Ἰησοῦς, Χριστός], [γράφω, ...   \n387  [[πολύς, ἐπιχειρέω, ἀνατάσσομαι, διήγησις, πλη...   \n388  [[εἰμί, ἀρχή, εἰμί, λόγος, λόγος, εἰμί, θεός, ...   \n389  [[πρῶτος, λόγος, ποιέω, πᾶς, Θεόφιλος, ἄρχω, Ἰ...   \n390  [[Παῦλος, δοῦλος, Ἰησοῦς, Χριστός, κλητός, ἀπό...   \n391  [[Παῦλος, κλητός, ἀπόστολος, Ἰησοῦς, Χριστός, ...   \n392  [[Παῦλος, ἀπόστολος, Χριστός, Ἰησοῦς, θέλημα, ...   \n393  [[Παῦλος, ἀπόστολος, ἄνθρωπος, ἄνθρωπος, Ἰησοῦ...   \n394  [[Παῦλος, ἀπόστολος, Χριστός, Ἰησοῦς, θέλημα, ...   \n395  [[Παῦλος, Τιμόθεος, δοῦλος, Χριστός, Ἰησοῦς, ἅ...   \n396  [[Παῦλος, ἀπόστολος, Χριστός, Ἰησοῦς, θέλημα, ...   \n397  [[Παῦλος, σιλουανος, Τιμόθεος, ἐκκλησία, Θεσσα...   \n398  [[Παῦλος, σιλουανος, Τιμόθεος, ἐκκλησία, Θεσσα...   \n399  [[Παῦλος, ἀπόστολος, Χριστός, Ἰησοῦς, ἐπιταγή,...   \n400  [[Παῦλος, ἀπόστολος, Χριστός, Ἰησοῦς, θέλημα, ...   \n401  [[Παῦλος, δοῦλος, θεός, ἀπόστολος, Ἰησοῦς, Χρι...   \n402  [[Παῦλος, δέσμιος, Χριστός, Ἰησοῦς, Τιμόθεος, ...   \n403  [[πολύτροπος, θεός, λαλέω, πατήρ, προφήτης, ἔσ...   \n404  [[Ἰάκωβος, θεός, κύριος, Ἰησοῦς, Χριστός, δοῦλ...   \n405  [[πέτρος, ἀπόστολος, Ἰησοῦς, Χριστός, ἐκλεκτός...   \n406  [[σιμός, πέτρος, δοῦλος, ἀπόστολος, Ἰησοῦς, Χρ...   \n407  [[εἰμί, ἄπαις, ἀρχή, ἀκούω, ὁράω, ὀφθαλμός, θε...   \n408  [[πρέσβυς, ἐκλεκτός, κυρία, τέκνον, αὐτός, ἀγα...   \n409  [[πρέσβυς, γάιος, ἀγαπητός, ἀγαπάω, ἀλήθεια], ...   \n410  [[ιουδας, Ἰησοῦς, Χριστός, δοῦλος, ἀδελφός, Ἰά...   \n411  [[ἀποκάλυψις, Ἰησοῦς, χριστός, δίδωμι, θεός, δ...   \n\n                                        sentences_paul  sentences_paul_N  \\\n385                                                 []                 0   \n386                                                 []                 0   \n387                                                 []                 0   \n388                                                 []                 0   \n389  [[διέρχομαι, ὅλος, νῆσος, Πάφος, εὑρίσκω, ἀνήρ...               125   \n390  [[Παῦλος, δοῦλος, Ἰησοῦς, Χριστός, κλητός, ἀπό...                 1   \n391  [[Παῦλος, κλητός, ἀπόστολος, Ἰησοῦς, Χριστός, ...                 7   \n392  [[Παῦλος, ἀπόστολος, Χριστός, Ἰησοῦς, θέλημα, ...                 2   \n393  [[Παῦλος, ἀπόστολος, ἄνθρωπος, ἄνθρωπος, Ἰησοῦ...                 2   \n394  [[Παῦλος, ἀπόστολος, Χριστός, Ἰησοῦς, θέλημα, ...                 2   \n395  [[Παῦλος, Τιμόθεος, δοῦλος, Χριστός, Ἰησοῦς, ἅ...                 1   \n396  [[Παῦλος, ἀπόστολος, Χριστός, Ἰησοῦς, θέλημα, ...                 3   \n397  [[Παῦλος, σιλουανος, Τιμόθεος, ἐκκλησία, Θεσσα...                 2   \n398  [[Παῦλος, σιλουανος, Τιμόθεος, ἐκκλησία, Θεσσα...                 2   \n399  [[Παῦλος, ἀπόστολος, Χριστός, Ἰησοῦς, ἐπιταγή,...                 1   \n400  [[Παῦλος, ἀπόστολος, Χριστός, Ἰησοῦς, θέλημα, ...                 1   \n401  [[Παῦλος, δοῦλος, θεός, ἀπόστολος, Ἰησοῦς, Χρι...                 1   \n402  [[Παῦλος, δέσμιος, Χριστός, Ἰησοῦς, Τιμόθεος, ...                 3   \n403                                                 []                 0   \n404                                                 []                 0   \n405                                                 []                 0   \n406  [[ἀγαπητός, προσδοκάω, σπουδάζω, ἄσπιλος, ἀμώμ...                 1   \n407                                                 []                 0   \n408                                                 []                 0   \n409                                                 []                 0   \n410                                                 []                 0   \n411                                                 []                 0   \n\n                                     sentences_apostle  sentences_apostle_N  \n385                         [[ἀπόστολος, ὄνομα, εἰμί]]                    1  \n386  [[ποιέω, ἀπόστολος, ὀνομάζω, ἀποστέλλω, κηρύσσ...                    2  \n387  [[γίγνομαι, ἡμέρα, προσφωνέω, μαθητής, ἐκλεξάμ...                    6  \n388  [[λέγω, εἰμί, δοῦλος, μέγας, κύριος, ἀπόστολος...                    1  \n389  [[πρῶτος, λόγος, ποιέω, πᾶς, Θεόφιλος, ἄρχω, Ἰ...                   26  \n390  [[Παῦλος, δοῦλος, Ἰησοῦς, Χριστός, κλητός, ἀπό...                    3  \n391  [[Παῦλος, κλητός, ἀπόστολος, Ἰησοῦς, Χριστός, ...                    9  \n392  [[Παῦλος, ἀπόστολος, Χριστός, Ἰησοῦς, θέλημα, ...                    6  \n393  [[Παῦλος, ἀπόστολος, ἄνθρωπος, ἄνθρωπος, Ἰησοῦ...                    3  \n394  [[Παῦλος, ἀπόστολος, Χριστός, Ἰησοῦς, θέλημα, ...                    4  \n395  [[ἀναγκαῖος, ἡγέομαι, Ἐπαφρόδιτος, ἀδελφός, συ...                    1  \n396  [[Παῦλος, ἀπόστολος, Χριστός, Ἰησοῦς, θέλημα, ...                    1  \n397  [[λόγος, κολακεία, γίγνομαι, οἶδα, πρόφασις, π...                    1  \n398                                                 []                    0  \n399  [[Παῦλος, ἀπόστολος, Χριστός, Ἰησοῦς, ἐπιταγή,...                    2  \n400  [[Παῦλος, ἀπόστολος, Χριστός, Ἰησοῦς, θέλημα, ...                    2  \n401  [[Παῦλος, δοῦλος, θεός, ἀπόστολος, Ἰησοῦς, Χρι...                    1  \n402                                                 []                    0  \n403  [[ἀδελφός, ἅγιος, κλῆσις, ἐπουράνιος, μέτοχος,...                    1  \n404                                                 []                    0  \n405  [[πέτρος, ἀπόστολος, Ἰησοῦς, Χριστός, ἐκλεκτός...                    1  \n406  [[σιμός, πέτρος, δοῦλος, ἀπόστολος, Ἰησοῦς, Χρ...                    2  \n407                                                 []                    0  \n408                                                 []                    0  \n409                                                 []                    0  \n410  [[ἀγαπητός, μιμνῄσκω, ῥῆμα, προερέω, ἀπόστολος...                    1  \n411  [[ἄγγελος, Ἔφεσος, ἐκκλησία, γράφω, λέγω, κρατ...                    3  ",
      "text/html": "<div>\n<style scoped>\n    .dataframe tbody tr th:only-of-type {\n        vertical-align: middle;\n    }\n\n    .dataframe tbody tr th {\n        vertical-align: top;\n    }\n\n    .dataframe thead th {\n        text-align: right;\n    }\n</style>\n<table border=\"1\" class=\"dataframe\">\n  <thead>\n    <tr style=\"text-align: right;\">\n      <th></th>\n      <th>filename</th>\n      <th>author</th>\n      <th>title</th>\n      <th>wordcount</th>\n      <th>author_id</th>\n      <th>doc_id</th>\n      <th>raw_date</th>\n      <th>date_avr</th>\n      <th>date_probs</th>\n      <th>date_manual</th>\n      <th>provenience</th>\n      <th>tlg_epithet</th>\n      <th>clean_string</th>\n      <th>n_sentences</th>\n      <th>lemmatized_sentences</th>\n      <th>sentences_paul</th>\n      <th>sentences_paul_N</th>\n      <th>sentences_apostle</th>\n      <th>sentences_apostle_N</th>\n    </tr>\n  </thead>\n  <tbody>\n    <tr>\n      <th>385</th>\n      <td>tlg0031.tlg001.perseus-grc2.xml</td>\n      <td>Gospel of Matthew</td>\n      <td>Gospel of Matthew</td>\n      <td>18288</td>\n      <td>tlg0031a</td>\n      <td>tlg0031.tlg001</td>\n      <td>A.D. 1</td>\n      <td>0.5</td>\n      <td>{'0.5': 1}</td>\n      <td>0.5</td>\n      <td>christian</td>\n      <td>[]</td>\n      <td>ΒΙΒΛΟΣ γενέσεως Ἰησοῦ Χριστοῦ υἱοῦ Δαυεὶδ υἱο...</td>\n      <td>1276</td>\n      <td>[[βίβλος, γένεσις, Ἰησοῦς, Χριστός, υἱός, Δαυί...</td>\n      <td>[]</td>\n      <td>0</td>\n      <td>[[ἀπόστολος, ὄνομα, εἰμί]]</td>\n      <td>1</td>\n    </tr>\n    <tr>\n      <th>386</th>\n      <td>tlg0031.tlg002.perseus-grc2.xml</td>\n      <td>Gospel of Mark</td>\n      <td>Gospel of Mark</td>\n      <td>11274</td>\n      <td>tlg0031b</td>\n      <td>tlg0031.tlg002</td>\n      <td>A.D. 1</td>\n      <td>0.5</td>\n      <td>{'0.5': 1}</td>\n      <td>0.5</td>\n      <td>christian</td>\n      <td>[]</td>\n      <td>ΑΡΧΗ τοῦ εὐαγγελίου Ἰησοῦ Χριστοῦ . Καθὼς γέγ...</td>\n      <td>790</td>\n      <td>[[ἀρχή, εὐαγγέλιον, Ἰησοῦς, Χριστός], [γράφω, ...</td>\n      <td>[]</td>\n      <td>0</td>\n      <td>[[ποιέω, ἀπόστολος, ὀνομάζω, ἀποστέλλω, κηρύσσ...</td>\n      <td>2</td>\n    </tr>\n    <tr>\n      <th>387</th>\n      <td>tlg0031.tlg003.perseus-grc2.xml</td>\n      <td>Luke-Acts</td>\n      <td>Gospel of Luke</td>\n      <td>19458</td>\n      <td>tlg0031luke</td>\n      <td>tlg0031.tlg003</td>\n      <td>A.D. 1</td>\n      <td>0.5</td>\n      <td>{'0.5': 1}</td>\n      <td>0.5</td>\n      <td>christian</td>\n      <td>[]</td>\n      <td>ΕΠΕΙΔΗΠΕΡ ΠΟΛΛΟΙ ἐπεχείρησαν ἀνατάξασθαι διήγ...</td>\n      <td>1274</td>\n      <td>[[πολύς, ἐπιχειρέω, ἀνατάσσομαι, διήγησις, πλη...</td>\n      <td>[]</td>\n      <td>0</td>\n      <td>[[γίγνομαι, ἡμέρα, προσφωνέω, μαθητής, ἐκλεξάμ...</td>\n      <td>6</td>\n    </tr>\n    <tr>\n      <th>388</th>\n      <td>tlg0031.tlg004.perseus-grc2.xml</td>\n      <td>Johnannine literature (New Testament)</td>\n      <td>Gospel of John</td>\n      <td>15590</td>\n      <td>tlg0031john</td>\n      <td>tlg0031.tlg004</td>\n      <td>A.D. 1</td>\n      <td>0.5</td>\n      <td>{'0.5': 1}</td>\n      <td>0.5</td>\n      <td>christian</td>\n      <td>[]</td>\n      <td>ΕΝ ΑΡΧΗ ἦν ὁ λόγος, καὶ ὁ λόγος ἦν πρὸς τὸν θ...</td>\n      <td>1164</td>\n      <td>[[εἰμί, ἀρχή, εἰμί, λόγος, λόγος, εἰμί, θεός, ...</td>\n      <td>[]</td>\n      <td>0</td>\n      <td>[[λέγω, εἰμί, δοῦλος, μέγας, κύριος, ἀπόστολος...</td>\n      <td>1</td>\n    </tr>\n    <tr>\n      <th>389</th>\n      <td>tlg0031.tlg005.perseus-grc2.xml</td>\n      <td>Luke-Acts</td>\n      <td>Acts</td>\n      <td>18406</td>\n      <td>tlg0031luke</td>\n      <td>tlg0031.tlg005</td>\n      <td>A.D. 1</td>\n      <td>0.5</td>\n      <td>{'0.5': 1}</td>\n      <td>0.5</td>\n      <td>christian</td>\n      <td>[]</td>\n      <td>τὸν μὲν πρῶτον λόγον ἐποιησάμην περὶ πάντων, ...</td>\n      <td>960</td>\n      <td>[[πρῶτος, λόγος, ποιέω, πᾶς, Θεόφιλος, ἄρχω, Ἰ...</td>\n      <td>[[διέρχομαι, ὅλος, νῆσος, Πάφος, εὑρίσκω, ἀνήρ...</td>\n      <td>125</td>\n      <td>[[πρῶτος, λόγος, ποιέω, πᾶς, Θεόφιλος, ἄρχω, Ἰ...</td>\n      <td>26</td>\n    </tr>\n    <tr>\n      <th>390</th>\n      <td>tlg0031.tlg006.perseus-grc2.xml</td>\n      <td>Paul of Tarsus</td>\n      <td>Romans</td>\n      <td>7107</td>\n      <td>tlg0031paul</td>\n      <td>tlg0031.tlg006</td>\n      <td>A.D. 1</td>\n      <td>0.5</td>\n      <td>{'0.5': 1}</td>\n      <td>0.5</td>\n      <td>christian</td>\n      <td>[]</td>\n      <td>ΠΑΥΛΟΣ δοῦλος Ἰησοῦ Χριστοῦ, κλητὸς ἀπόστολος...</td>\n      <td>490</td>\n      <td>[[Παῦλος, δοῦλος, Ἰησοῦς, Χριστός, κλητός, ἀπό...</td>\n      <td>[[Παῦλος, δοῦλος, Ἰησοῦς, Χριστός, κλητός, ἀπό...</td>\n      <td>1</td>\n      <td>[[Παῦλος, δοῦλος, Ἰησοῦς, Χριστός, κλητός, ἀπό...</td>\n      <td>3</td>\n    </tr>\n    <tr>\n      <th>391</th>\n      <td>tlg0031.tlg007.perseus-grc2.xml</td>\n      <td>Paul of Tarsus</td>\n      <td>1 Corinthians</td>\n      <td>6814</td>\n      <td>tlg0031paul</td>\n      <td>tlg0031.tlg007</td>\n      <td>A.D. 1</td>\n      <td>0.5</td>\n      <td>{'0.5': 1}</td>\n      <td>0.5</td>\n      <td>christian</td>\n      <td>[]</td>\n      <td>ΠΑΥΛΟΣ κλητὸς ἀπόστολος Ἰησοῦ Χριστοῦ διὰ θελ...</td>\n      <td>544</td>\n      <td>[[Παῦλος, κλητός, ἀπόστολος, Ἰησοῦς, Χριστός, ...</td>\n      <td>[[Παῦλος, κλητός, ἀπόστολος, Ἰησοῦς, Χριστός, ...</td>\n      <td>7</td>\n      <td>[[Παῦλος, κλητός, ἀπόστολος, Ἰησοῦς, Χριστός, ...</td>\n      <td>9</td>\n    </tr>\n    <tr>\n      <th>392</th>\n      <td>tlg0031.tlg008.perseus-grc2.xml</td>\n      <td>Paul of Tarsus</td>\n      <td>2 Corinthians</td>\n      <td>4470</td>\n      <td>tlg0031paul</td>\n      <td>tlg0031.tlg008</td>\n      <td>A.D. 1</td>\n      <td>0.5</td>\n      <td>{'0.5': 1}</td>\n      <td>0.5</td>\n      <td>christian</td>\n      <td>[]</td>\n      <td>ΠΑΥΛΟΣ ἀπόστολος Χριστοῦ Ἰησοῦ διὰ θελήματος ...</td>\n      <td>274</td>\n      <td>[[Παῦλος, ἀπόστολος, Χριστός, Ἰησοῦς, θέλημα, ...</td>\n      <td>[[Παῦλος, ἀπόστολος, Χριστός, Ἰησοῦς, θέλημα, ...</td>\n      <td>2</td>\n      <td>[[Παῦλος, ἀπόστολος, Χριστός, Ἰησοῦς, θέλημα, ...</td>\n      <td>6</td>\n    </tr>\n    <tr>\n      <th>393</th>\n      <td>tlg0031.tlg009.perseus-grc2.xml</td>\n      <td>Paul of Tarsus</td>\n      <td>Galatians</td>\n      <td>2235</td>\n      <td>tlg0031paul</td>\n      <td>tlg0031.tlg009</td>\n      <td>A.D. 1</td>\n      <td>0.5</td>\n      <td>{'0.5': 1}</td>\n      <td>0.5</td>\n      <td>christian</td>\n      <td>[]</td>\n      <td>ΠΑΥΛΟΣ ἀπόστολος, οὐκ ἀπʼ ἀνθρώπων οὐδὲ διʼ ἀ...</td>\n      <td>159</td>\n      <td>[[Παῦλος, ἀπόστολος, ἄνθρωπος, ἄνθρωπος, Ἰησοῦ...</td>\n      <td>[[Παῦλος, ἀπόστολος, ἄνθρωπος, ἄνθρωπος, Ἰησοῦ...</td>\n      <td>2</td>\n      <td>[[Παῦλος, ἀπόστολος, ἄνθρωπος, ἄνθρωπος, Ἰησοῦ...</td>\n      <td>3</td>\n    </tr>\n    <tr>\n      <th>394</th>\n      <td>tlg0031.tlg010.perseus-grc2.xml</td>\n      <td>Pauline literature</td>\n      <td>Ephesians</td>\n      <td>2421</td>\n      <td>tlg0031pspa</td>\n      <td>tlg0031.tlg010</td>\n      <td>A.D. 1</td>\n      <td>0.5</td>\n      <td>{'0.5': 1}</td>\n      <td>0.5</td>\n      <td>christian</td>\n      <td>[]</td>\n      <td>ΠΑΥΛΟΣ ἀπόστολος Χριστοῦ Ἰησοῦ διὰ θελήματος ...</td>\n      <td>80</td>\n      <td>[[Παῦλος, ἀπόστολος, Χριστός, Ἰησοῦς, θέλημα, ...</td>\n      <td>[[Παῦλος, ἀπόστολος, Χριστός, Ἰησοῦς, θέλημα, ...</td>\n      <td>2</td>\n      <td>[[Παῦλος, ἀπόστολος, Χριστός, Ἰησοῦς, θέλημα, ...</td>\n      <td>4</td>\n    </tr>\n    <tr>\n      <th>395</th>\n      <td>tlg0031.tlg011.perseus-grc2.xml</td>\n      <td>Paul of Tarsus</td>\n      <td>Philippians</td>\n      <td>1631</td>\n      <td>tlg0031paul</td>\n      <td>tlg0031.tlg011</td>\n      <td>A.D. 1</td>\n      <td>0.5</td>\n      <td>{'0.5': 1}</td>\n      <td>0.5</td>\n      <td>christian</td>\n      <td>[]</td>\n      <td>ΠΑΥΛΟΣ ΚΑΙ ΤΙΜΟΘΕΟΣ δοῦλοι Χριστοῦ Ἰησοῦ πᾶσι...</td>\n      <td>83</td>\n      <td>[[Παῦλος, Τιμόθεος, δοῦλος, Χριστός, Ἰησοῦς, ἅ...</td>\n      <td>[[Παῦλος, Τιμόθεος, δοῦλος, Χριστός, Ἰησοῦς, ἅ...</td>\n      <td>1</td>\n      <td>[[ἀναγκαῖος, ἡγέομαι, Ἐπαφρόδιτος, ἀδελφός, συ...</td>\n      <td>1</td>\n    </tr>\n    <tr>\n      <th>396</th>\n      <td>tlg0031.tlg012.perseus-grc2.xml</td>\n      <td>Pauline literature</td>\n      <td>Colossians</td>\n      <td>1580</td>\n      <td>tlg0031pspa</td>\n      <td>tlg0031.tlg012</td>\n      <td>A.D. 1</td>\n      <td>0.5</td>\n      <td>{'0.5': 1}</td>\n      <td>0.5</td>\n      <td>christian</td>\n      <td>[]</td>\n      <td>ΠΑΥΛΟΣ ἀπόστολος Χριστοῦ Ἰησοῦ διὰ θελήματος ...</td>\n      <td>68</td>\n      <td>[[Παῦλος, ἀπόστολος, Χριστός, Ἰησοῦς, θέλημα, ...</td>\n      <td>[[Παῦλος, ἀπόστολος, Χριστός, Ἰησοῦς, θέλημα, ...</td>\n      <td>3</td>\n      <td>[[Παῦλος, ἀπόστολος, Χριστός, Ἰησοῦς, θέλημα, ...</td>\n      <td>1</td>\n    </tr>\n    <tr>\n      <th>397</th>\n      <td>tlg0031.tlg013.perseus-grc2.xml</td>\n      <td>Paul of Tarsus</td>\n      <td>1 Thessalonians</td>\n      <td>1475</td>\n      <td>tlg0031paul</td>\n      <td>tlg0031.tlg013</td>\n      <td>A.D. 1</td>\n      <td>0.5</td>\n      <td>{'0.5': 1}</td>\n      <td>0.5</td>\n      <td>christian</td>\n      <td>[]</td>\n      <td>ΠΑΥΛΟΣ ΚΑΙ ΣΙΛΟΥΑΝΟΣ ΚΑΙ ΤΙΜΟΘΕΟΣ τῇ ἐκκλησίᾳ...</td>\n      <td>65</td>\n      <td>[[Παῦλος, σιλουανος, Τιμόθεος, ἐκκλησία, Θεσσα...</td>\n      <td>[[Παῦλος, σιλουανος, Τιμόθεος, ἐκκλησία, Θεσσα...</td>\n      <td>2</td>\n      <td>[[λόγος, κολακεία, γίγνομαι, οἶδα, πρόφασις, π...</td>\n      <td>1</td>\n    </tr>\n    <tr>\n      <th>398</th>\n      <td>tlg0031.tlg014.perseus-grc2.xml</td>\n      <td>Pauline literature</td>\n      <td>2 Thessalonians</td>\n      <td>822</td>\n      <td>tlg0031pspa</td>\n      <td>tlg0031.tlg014</td>\n      <td>A.D. 1</td>\n      <td>0.5</td>\n      <td>{'0.5': 1}</td>\n      <td>0.5</td>\n      <td>christian</td>\n      <td>[]</td>\n      <td>ΠΑΥΛΟΣ ΚΑΙ ΣΙΛΟΥΑΝΟΣ ΚΑΙ ΤΙΜΟΘΕΟΣ τῇ ἐκκλησίᾳ...</td>\n      <td>34</td>\n      <td>[[Παῦλος, σιλουανος, Τιμόθεος, ἐκκλησία, Θεσσα...</td>\n      <td>[[Παῦλος, σιλουανος, Τιμόθεος, ἐκκλησία, Θεσσα...</td>\n      <td>2</td>\n      <td>[]</td>\n      <td>0</td>\n    </tr>\n    <tr>\n      <th>399</th>\n      <td>tlg0031.tlg015.perseus-grc2.xml</td>\n      <td>Pauline literature</td>\n      <td>1 Timothy</td>\n      <td>1597</td>\n      <td>tlg0031pspa</td>\n      <td>tlg0031.tlg015</td>\n      <td>A.D. 1</td>\n      <td>0.5</td>\n      <td>{'0.5': 1}</td>\n      <td>0.5</td>\n      <td>christian</td>\n      <td>[]</td>\n      <td>ΠΑΥΛΟΣ ἀπόστολος Χριστοῦ Ἰησοῦ κατʼ ἐπιταγὴν ...</td>\n      <td>96</td>\n      <td>[[Παῦλος, ἀπόστολος, Χριστός, Ἰησοῦς, ἐπιταγή,...</td>\n      <td>[[Παῦλος, ἀπόστολος, Χριστός, Ἰησοῦς, ἐπιταγή,...</td>\n      <td>1</td>\n      <td>[[Παῦλος, ἀπόστολος, Χριστός, Ἰησοῦς, ἐπιταγή,...</td>\n      <td>2</td>\n    </tr>\n    <tr>\n      <th>400</th>\n      <td>tlg0031.tlg016.perseus-grc2.xml</td>\n      <td>Pauline literature</td>\n      <td>2 Timothy</td>\n      <td>1245</td>\n      <td>tlg0031pspa</td>\n      <td>tlg0031.tlg016</td>\n      <td>A.D. 1</td>\n      <td>0.5</td>\n      <td>{'0.5': 1}</td>\n      <td>0.5</td>\n      <td>christian</td>\n      <td>[]</td>\n      <td>ΠΑΥΛΟΣ ἀπόστολος Χριστοῦ Ἰησοῦ διὰ θελήματος ...</td>\n      <td>79</td>\n      <td>[[Παῦλος, ἀπόστολος, Χριστός, Ἰησοῦς, θέλημα, ...</td>\n      <td>[[Παῦλος, ἀπόστολος, Χριστός, Ἰησοῦς, θέλημα, ...</td>\n      <td>1</td>\n      <td>[[Παῦλος, ἀπόστολος, Χριστός, Ἰησοῦς, θέλημα, ...</td>\n      <td>2</td>\n    </tr>\n    <tr>\n      <th>401</th>\n      <td>tlg0031.tlg017.perseus-grc2.xml</td>\n      <td>Pauline literature</td>\n      <td>Titus</td>\n      <td>659</td>\n      <td>tlg0031pspa</td>\n      <td>tlg0031.tlg017</td>\n      <td>A.D. 1</td>\n      <td>0.5</td>\n      <td>{'0.5': 1}</td>\n      <td>0.5</td>\n      <td>christian</td>\n      <td>[]</td>\n      <td>ΠΑΥΛΟΣ δοῦλος θεοῦ, ἀπόστολος δὲ Ἰησοῦ Χριστο...</td>\n      <td>33</td>\n      <td>[[Παῦλος, δοῦλος, θεός, ἀπόστολος, Ἰησοῦς, Χρι...</td>\n      <td>[[Παῦλος, δοῦλος, θεός, ἀπόστολος, Ἰησοῦς, Χρι...</td>\n      <td>1</td>\n      <td>[[Παῦλος, δοῦλος, θεός, ἀπόστολος, Ἰησοῦς, Χρι...</td>\n      <td>1</td>\n    </tr>\n    <tr>\n      <th>402</th>\n      <td>tlg0031.tlg018.perseus-grc2.xml</td>\n      <td>Paul of Tarsus</td>\n      <td>Philemon</td>\n      <td>334</td>\n      <td>tlg0031paul</td>\n      <td>tlg0031.tlg018</td>\n      <td>A.D. 1</td>\n      <td>0.5</td>\n      <td>{'0.5': 1}</td>\n      <td>0.5</td>\n      <td>christian</td>\n      <td>[]</td>\n      <td>ΠΑΥΛΟΣ δέσμιος Χριστοῦ Ἰησοῦ καὶ Τιμόθεος ὁ ἀ...</td>\n      <td>17</td>\n      <td>[[Παῦλος, δέσμιος, Χριστός, Ἰησοῦς, Τιμόθεος, ...</td>\n      <td>[[Παῦλος, δέσμιος, Χριστός, Ἰησοῦς, Τιμόθεος, ...</td>\n      <td>3</td>\n      <td>[]</td>\n      <td>0</td>\n    </tr>\n    <tr>\n      <th>403</th>\n      <td>tlg0031.tlg019.perseus-grc2.xml</td>\n      <td>Hebrews (New Testament)</td>\n      <td>Hebrews</td>\n      <td>4971</td>\n      <td>tlg0031c</td>\n      <td>tlg0031.tlg019</td>\n      <td>A.D. 1</td>\n      <td>0.5</td>\n      <td>{'0.5': 1}</td>\n      <td>0.5</td>\n      <td>christian</td>\n      <td>[]</td>\n      <td>ΠΟΛΥΜΕΡΩΣ ΚΑΙ ΠΟΛΥΤΡΟΠΩΣ πάλαι ὁ θεὸς λαλήσας...</td>\n      <td>262</td>\n      <td>[[πολύτροπος, θεός, λαλέω, πατήρ, προφήτης, ἔσ...</td>\n      <td>[]</td>\n      <td>0</td>\n      <td>[[ἀδελφός, ἅγιος, κλῆσις, ἐπουράνιος, μέτοχος,...</td>\n      <td>1</td>\n    </tr>\n    <tr>\n      <th>404</th>\n      <td>tlg0031.tlg020.perseus-grc2.xml</td>\n      <td>James (New Testament)</td>\n      <td>James</td>\n      <td>1734</td>\n      <td>tlg0031d</td>\n      <td>tlg0031.tlg020</td>\n      <td>A.D. 1</td>\n      <td>0.5</td>\n      <td>{'0.5': 1}</td>\n      <td>0.5</td>\n      <td>christian</td>\n      <td>[]</td>\n      <td>ΙΑΚΩΒΟΣ θεοῦ καὶ κυρίου Ἰησοῦ Χριστοῦ δοῦλος ...</td>\n      <td>140</td>\n      <td>[[Ἰάκωβος, θεός, κύριος, Ἰησοῦς, Χριστός, δοῦλ...</td>\n      <td>[]</td>\n      <td>0</td>\n      <td>[]</td>\n      <td>0</td>\n    </tr>\n    <tr>\n      <th>405</th>\n      <td>tlg0031.tlg021.perseus-grc2.xml</td>\n      <td>1 Peter (New Testament)</td>\n      <td>1 Peter</td>\n      <td>1669</td>\n      <td>tlg0031e</td>\n      <td>tlg0031.tlg021</td>\n      <td>A.D. 1</td>\n      <td>0.5</td>\n      <td>{'0.5': 1}</td>\n      <td>0.5</td>\n      <td>christian</td>\n      <td>[]</td>\n      <td>ΠΕΤΡΟΣ ἀπόστολος Ἰησοῦ Χριστοῦ ἐκλεκτοῖς παρε...</td>\n      <td>98</td>\n      <td>[[πέτρος, ἀπόστολος, Ἰησοῦς, Χριστός, ἐκλεκτός...</td>\n      <td>[]</td>\n      <td>0</td>\n      <td>[[πέτρος, ἀπόστολος, Ἰησοῦς, Χριστός, ἐκλεκτός...</td>\n      <td>1</td>\n    </tr>\n    <tr>\n      <th>406</th>\n      <td>tlg0031.tlg022.perseus-grc2.xml</td>\n      <td>2 Peter (New Testament)</td>\n      <td>2 Peter</td>\n      <td>1095</td>\n      <td>tlg0031f</td>\n      <td>tlg0031.tlg022</td>\n      <td>A.D. 1</td>\n      <td>0.5</td>\n      <td>{'0.5': 1}</td>\n      <td>0.5</td>\n      <td>christian</td>\n      <td>[]</td>\n      <td>ΣΙΜΩΝ ΠΕΤΡΟΣ δοῦλος καὶ ἀπόστολος Ἰησοῦ Χριστ...</td>\n      <td>42</td>\n      <td>[[σιμός, πέτρος, δοῦλος, ἀπόστολος, Ἰησοῦς, Χρ...</td>\n      <td>[[ἀγαπητός, προσδοκάω, σπουδάζω, ἄσπιλος, ἀμώμ...</td>\n      <td>1</td>\n      <td>[[σιμός, πέτρος, δοῦλος, ἀπόστολος, Ἰησοῦς, Χρ...</td>\n      <td>2</td>\n    </tr>\n    <tr>\n      <th>407</th>\n      <td>tlg0031.tlg023.perseus-grc2.xml</td>\n      <td>Johnannine literature (New Testament)</td>\n      <td>1 John</td>\n      <td>2135</td>\n      <td>tlg0031john</td>\n      <td>tlg0031.tlg023</td>\n      <td>A.D. 1</td>\n      <td>0.5</td>\n      <td>{'0.5': 1}</td>\n      <td>0.5</td>\n      <td>christian</td>\n      <td>[]</td>\n      <td>Ο ΗΝ ΑΠʼ ΑΡΧΗΣ, ὃ ἀκηκόαμεν, ὃ ἑωράκαμεν τοῖς...</td>\n      <td>140</td>\n      <td>[[εἰμί, ἄπαις, ἀρχή, ἀκούω, ὁράω, ὀφθαλμός, θε...</td>\n      <td>[]</td>\n      <td>0</td>\n      <td>[]</td>\n      <td>0</td>\n    </tr>\n    <tr>\n      <th>408</th>\n      <td>tlg0031.tlg024.perseus-grc2.xml</td>\n      <td>Johnannine literature (New Testament)</td>\n      <td>2 John</td>\n      <td>245</td>\n      <td>tlg0031john</td>\n      <td>tlg0031.tlg024</td>\n      <td>A.D. 1</td>\n      <td>0.5</td>\n      <td>{'0.5': 1}</td>\n      <td>0.5</td>\n      <td>christian</td>\n      <td>[]</td>\n      <td>Ο ΠΡΕΣΒΥΤΕΡΟΣ ἐκλεκτῇ κυρίᾳ καὶ τοῖς τέκνοις ...</td>\n      <td>15</td>\n      <td>[[πρέσβυς, ἐκλεκτός, κυρία, τέκνον, αὐτός, ἀγα...</td>\n      <td>[]</td>\n      <td>0</td>\n      <td>[]</td>\n      <td>0</td>\n    </tr>\n    <tr>\n      <th>409</th>\n      <td>tlg0031.tlg025.perseus-grc2.xml</td>\n      <td>Johnannine literature (New Testament)</td>\n      <td>3 John</td>\n      <td>219</td>\n      <td>tlg0031john</td>\n      <td>tlg0031.tlg025</td>\n      <td>A.D. 1</td>\n      <td>0.5</td>\n      <td>{'0.5': 1}</td>\n      <td>0.5</td>\n      <td>christian</td>\n      <td>[]</td>\n      <td>Ο ΠΡΕΣΒΥΤΕΡΟΣ Γαίῳ τῷ ἀγαπητῷ, ὃν ἐγὼ ἀγαπῶ ἐ...</td>\n      <td>20</td>\n      <td>[[πρέσβυς, γάιος, ἀγαπητός, ἀγαπάω, ἀλήθεια], ...</td>\n      <td>[]</td>\n      <td>0</td>\n      <td>[]</td>\n      <td>0</td>\n    </tr>\n    <tr>\n      <th>410</th>\n      <td>tlg0031.tlg026.perseus-grc2.xml</td>\n      <td>Jude (New Testament)</td>\n      <td>Jude</td>\n      <td>456</td>\n      <td>tlg0031g</td>\n      <td>tlg0031.tlg026</td>\n      <td>A.D. 1</td>\n      <td>0.5</td>\n      <td>{'0.5': 1}</td>\n      <td>0.5</td>\n      <td>christian</td>\n      <td>[]</td>\n      <td>ΙΟΥΔΑΣ Ἰησοῦ Χριστοῦ δοῦλος, ἀδελφὸς δὲ Ἰακώβ...</td>\n      <td>20</td>\n      <td>[[ιουδας, Ἰησοῦς, Χριστός, δοῦλος, ἀδελφός, Ἰά...</td>\n      <td>[]</td>\n      <td>0</td>\n      <td>[[ἀγαπητός, μιμνῄσκω, ῥῆμα, προερέω, ἀπόστολος...</td>\n      <td>1</td>\n    </tr>\n    <tr>\n      <th>411</th>\n      <td>tlg0031.tlg027.perseus-grc2.xml</td>\n      <td>Revelation (New Testament)</td>\n      <td>Revelation</td>\n      <td>9857</td>\n      <td>tlg0031h</td>\n      <td>tlg0031.tlg027</td>\n      <td>A.D. 1</td>\n      <td>0.5</td>\n      <td>{'0.5': 1}</td>\n      <td>0.5</td>\n      <td>christian</td>\n      <td>[]</td>\n      <td>ΑΠΟΚΑΛΥΨΙΣ ΙΗΣΟΥ ΧΡΙΣΤΟΥ, ἥν ἔδωκεν αὐτῷ ὁ θε...</td>\n      <td>475</td>\n      <td>[[ἀποκάλυψις, Ἰησοῦς, χριστός, δίδωμι, θεός, δ...</td>\n      <td>[]</td>\n      <td>0</td>\n      <td>[[ἄγγελος, Ἔφεσος, ἐκκλησία, γράφω, λέγω, κρατ...</td>\n      <td>3</td>\n    </tr>\n  </tbody>\n</table>\n</div>"
     },
     "execution_count": 219,
     "metadata": {},
     "output_type": "execute_result"
    }
   ],
   "source": [
    "LAGT[LAGT[\"author_id\"].str.startswith(\"tlg0031\")]"
   ],
   "metadata": {
    "collapsed": false,
    "pycharm": {
     "name": "#%%\n"
    }
   }
  },
  {
   "cell_type": "code",
   "execution_count": 220,
   "outputs": [
    {
     "data": {
      "text/plain": "                            filename          author   title  wordcount  \\\n390  tlg0031.tlg006.perseus-grc2.xml  Paul of Tarsus  Romans       7107   \n\n       author_id          doc_id raw_date  date_avr  date_probs  date_manual  \\\n390  tlg0031paul  tlg0031.tlg006   A.D. 1       0.5  {'0.5': 1}          0.5   \n\n    provenience tlg_epithet  \\\n390   christian          []   \n\n                                          clean_string  n_sentences  \\\n390   ΠΑΥΛΟΣ δοῦλος Ἰησοῦ Χριστοῦ, κλητὸς ἀπόστολος...          490   \n\n                                  lemmatized_sentences  \\\n390  [[Παῦλος, δοῦλος, Ἰησοῦς, Χριστός, κλητός, ἀπό...   \n\n                                        sentences_paul  sentences_paul_N  \\\n390  [[Παῦλος, δοῦλος, Ἰησοῦς, Χριστός, κλητός, ἀπό...                 1   \n\n                                     sentences_apostle  sentences_apostle_N  \n390  [[Παῦλος, δοῦλος, Ἰησοῦς, Χριστός, κλητός, ἀπό...                    3  ",
      "text/html": "<div>\n<style scoped>\n    .dataframe tbody tr th:only-of-type {\n        vertical-align: middle;\n    }\n\n    .dataframe tbody tr th {\n        vertical-align: top;\n    }\n\n    .dataframe thead th {\n        text-align: right;\n    }\n</style>\n<table border=\"1\" class=\"dataframe\">\n  <thead>\n    <tr style=\"text-align: right;\">\n      <th></th>\n      <th>filename</th>\n      <th>author</th>\n      <th>title</th>\n      <th>wordcount</th>\n      <th>author_id</th>\n      <th>doc_id</th>\n      <th>raw_date</th>\n      <th>date_avr</th>\n      <th>date_probs</th>\n      <th>date_manual</th>\n      <th>provenience</th>\n      <th>tlg_epithet</th>\n      <th>clean_string</th>\n      <th>n_sentences</th>\n      <th>lemmatized_sentences</th>\n      <th>sentences_paul</th>\n      <th>sentences_paul_N</th>\n      <th>sentences_apostle</th>\n      <th>sentences_apostle_N</th>\n    </tr>\n  </thead>\n  <tbody>\n    <tr>\n      <th>390</th>\n      <td>tlg0031.tlg006.perseus-grc2.xml</td>\n      <td>Paul of Tarsus</td>\n      <td>Romans</td>\n      <td>7107</td>\n      <td>tlg0031paul</td>\n      <td>tlg0031.tlg006</td>\n      <td>A.D. 1</td>\n      <td>0.5</td>\n      <td>{'0.5': 1}</td>\n      <td>0.5</td>\n      <td>christian</td>\n      <td>[]</td>\n      <td>ΠΑΥΛΟΣ δοῦλος Ἰησοῦ Χριστοῦ, κλητὸς ἀπόστολος...</td>\n      <td>490</td>\n      <td>[[Παῦλος, δοῦλος, Ἰησοῦς, Χριστός, κλητός, ἀπό...</td>\n      <td>[[Παῦλος, δοῦλος, Ἰησοῦς, Χριστός, κλητός, ἀπό...</td>\n      <td>1</td>\n      <td>[[Παῦλος, δοῦλος, Ἰησοῦς, Χριστός, κλητός, ἀπό...</td>\n      <td>3</td>\n    </tr>\n  </tbody>\n</table>\n</div>"
     },
     "execution_count": 220,
     "metadata": {},
     "output_type": "execute_result"
    }
   ],
   "source": [
    "LAGT[LAGT[\"doc_id\"].str.startswith(\"tlg0031.tlg006\")]"
   ],
   "metadata": {
    "collapsed": false,
    "pycharm": {
     "name": "#%%\n"
    }
   }
  },
  {
   "cell_type": "code",
   "execution_count": 221,
   "outputs": [
    {
     "data": {
      "text/plain": "                            filename          author            title  \\\n390  tlg0031.tlg006.perseus-grc2.xml  Paul of Tarsus           Romans   \n391  tlg0031.tlg007.perseus-grc2.xml  Paul of Tarsus    1 Corinthians   \n392  tlg0031.tlg008.perseus-grc2.xml  Paul of Tarsus    2 Corinthians   \n393  tlg0031.tlg009.perseus-grc2.xml  Paul of Tarsus        Galatians   \n395  tlg0031.tlg011.perseus-grc2.xml  Paul of Tarsus      Philippians   \n397  tlg0031.tlg013.perseus-grc2.xml  Paul of Tarsus  1 Thessalonians   \n402  tlg0031.tlg018.perseus-grc2.xml  Paul of Tarsus         Philemon   \n\n     wordcount    author_id          doc_id raw_date  date_avr  date_probs  \\\n390       7107  tlg0031paul  tlg0031.tlg006   A.D. 1       0.5  {'0.5': 1}   \n391       6814  tlg0031paul  tlg0031.tlg007   A.D. 1       0.5  {'0.5': 1}   \n392       4470  tlg0031paul  tlg0031.tlg008   A.D. 1       0.5  {'0.5': 1}   \n393       2235  tlg0031paul  tlg0031.tlg009   A.D. 1       0.5  {'0.5': 1}   \n395       1631  tlg0031paul  tlg0031.tlg011   A.D. 1       0.5  {'0.5': 1}   \n397       1475  tlg0031paul  tlg0031.tlg013   A.D. 1       0.5  {'0.5': 1}   \n402        334  tlg0031paul  tlg0031.tlg018   A.D. 1       0.5  {'0.5': 1}   \n\n     date_manual provenience tlg_epithet  \\\n390          0.5   christian          []   \n391          0.5   christian          []   \n392          0.5   christian          []   \n393          0.5   christian          []   \n395          0.5   christian          []   \n397          0.5   christian          []   \n402          0.5   christian          []   \n\n                                          clean_string  n_sentences  \\\n390   ΠΑΥΛΟΣ δοῦλος Ἰησοῦ Χριστοῦ, κλητὸς ἀπόστολος...          490   \n391   ΠΑΥΛΟΣ κλητὸς ἀπόστολος Ἰησοῦ Χριστοῦ διὰ θελ...          544   \n392   ΠΑΥΛΟΣ ἀπόστολος Χριστοῦ Ἰησοῦ διὰ θελήματος ...          274   \n393   ΠΑΥΛΟΣ ἀπόστολος, οὐκ ἀπʼ ἀνθρώπων οὐδὲ διʼ ἀ...          159   \n395   ΠΑΥΛΟΣ ΚΑΙ ΤΙΜΟΘΕΟΣ δοῦλοι Χριστοῦ Ἰησοῦ πᾶσι...           83   \n397   ΠΑΥΛΟΣ ΚΑΙ ΣΙΛΟΥΑΝΟΣ ΚΑΙ ΤΙΜΟΘΕΟΣ τῇ ἐκκλησίᾳ...           65   \n402   ΠΑΥΛΟΣ δέσμιος Χριστοῦ Ἰησοῦ καὶ Τιμόθεος ὁ ἀ...           17   \n\n                                  lemmatized_sentences  \\\n390  [[Παῦλος, δοῦλος, Ἰησοῦς, Χριστός, κλητός, ἀπό...   \n391  [[Παῦλος, κλητός, ἀπόστολος, Ἰησοῦς, Χριστός, ...   \n392  [[Παῦλος, ἀπόστολος, Χριστός, Ἰησοῦς, θέλημα, ...   \n393  [[Παῦλος, ἀπόστολος, ἄνθρωπος, ἄνθρωπος, Ἰησοῦ...   \n395  [[Παῦλος, Τιμόθεος, δοῦλος, Χριστός, Ἰησοῦς, ἅ...   \n397  [[Παῦλος, σιλουανος, Τιμόθεος, ἐκκλησία, Θεσσα...   \n402  [[Παῦλος, δέσμιος, Χριστός, Ἰησοῦς, Τιμόθεος, ...   \n\n                                        sentences_paul  sentences_paul_N  \\\n390  [[Παῦλος, δοῦλος, Ἰησοῦς, Χριστός, κλητός, ἀπό...                 1   \n391  [[Παῦλος, κλητός, ἀπόστολος, Ἰησοῦς, Χριστός, ...                 7   \n392  [[Παῦλος, ἀπόστολος, Χριστός, Ἰησοῦς, θέλημα, ...                 2   \n393  [[Παῦλος, ἀπόστολος, ἄνθρωπος, ἄνθρωπος, Ἰησοῦ...                 2   \n395  [[Παῦλος, Τιμόθεος, δοῦλος, Χριστός, Ἰησοῦς, ἅ...                 1   \n397  [[Παῦλος, σιλουανος, Τιμόθεος, ἐκκλησία, Θεσσα...                 2   \n402  [[Παῦλος, δέσμιος, Χριστός, Ἰησοῦς, Τιμόθεος, ...                 3   \n\n                                     sentences_apostle  sentences_apostle_N  \n390  [[Παῦλος, δοῦλος, Ἰησοῦς, Χριστός, κλητός, ἀπό...                    3  \n391  [[Παῦλος, κλητός, ἀπόστολος, Ἰησοῦς, Χριστός, ...                    9  \n392  [[Παῦλος, ἀπόστολος, Χριστός, Ἰησοῦς, θέλημα, ...                    6  \n393  [[Παῦλος, ἀπόστολος, ἄνθρωπος, ἄνθρωπος, Ἰησοῦ...                    3  \n395  [[ἀναγκαῖος, ἡγέομαι, Ἐπαφρόδιτος, ἀδελφός, συ...                    1  \n397  [[λόγος, κολακεία, γίγνομαι, οἶδα, πρόφασις, π...                    1  \n402                                                 []                    0  ",
      "text/html": "<div>\n<style scoped>\n    .dataframe tbody tr th:only-of-type {\n        vertical-align: middle;\n    }\n\n    .dataframe tbody tr th {\n        vertical-align: top;\n    }\n\n    .dataframe thead th {\n        text-align: right;\n    }\n</style>\n<table border=\"1\" class=\"dataframe\">\n  <thead>\n    <tr style=\"text-align: right;\">\n      <th></th>\n      <th>filename</th>\n      <th>author</th>\n      <th>title</th>\n      <th>wordcount</th>\n      <th>author_id</th>\n      <th>doc_id</th>\n      <th>raw_date</th>\n      <th>date_avr</th>\n      <th>date_probs</th>\n      <th>date_manual</th>\n      <th>provenience</th>\n      <th>tlg_epithet</th>\n      <th>clean_string</th>\n      <th>n_sentences</th>\n      <th>lemmatized_sentences</th>\n      <th>sentences_paul</th>\n      <th>sentences_paul_N</th>\n      <th>sentences_apostle</th>\n      <th>sentences_apostle_N</th>\n    </tr>\n  </thead>\n  <tbody>\n    <tr>\n      <th>390</th>\n      <td>tlg0031.tlg006.perseus-grc2.xml</td>\n      <td>Paul of Tarsus</td>\n      <td>Romans</td>\n      <td>7107</td>\n      <td>tlg0031paul</td>\n      <td>tlg0031.tlg006</td>\n      <td>A.D. 1</td>\n      <td>0.5</td>\n      <td>{'0.5': 1}</td>\n      <td>0.5</td>\n      <td>christian</td>\n      <td>[]</td>\n      <td>ΠΑΥΛΟΣ δοῦλος Ἰησοῦ Χριστοῦ, κλητὸς ἀπόστολος...</td>\n      <td>490</td>\n      <td>[[Παῦλος, δοῦλος, Ἰησοῦς, Χριστός, κλητός, ἀπό...</td>\n      <td>[[Παῦλος, δοῦλος, Ἰησοῦς, Χριστός, κλητός, ἀπό...</td>\n      <td>1</td>\n      <td>[[Παῦλος, δοῦλος, Ἰησοῦς, Χριστός, κλητός, ἀπό...</td>\n      <td>3</td>\n    </tr>\n    <tr>\n      <th>391</th>\n      <td>tlg0031.tlg007.perseus-grc2.xml</td>\n      <td>Paul of Tarsus</td>\n      <td>1 Corinthians</td>\n      <td>6814</td>\n      <td>tlg0031paul</td>\n      <td>tlg0031.tlg007</td>\n      <td>A.D. 1</td>\n      <td>0.5</td>\n      <td>{'0.5': 1}</td>\n      <td>0.5</td>\n      <td>christian</td>\n      <td>[]</td>\n      <td>ΠΑΥΛΟΣ κλητὸς ἀπόστολος Ἰησοῦ Χριστοῦ διὰ θελ...</td>\n      <td>544</td>\n      <td>[[Παῦλος, κλητός, ἀπόστολος, Ἰησοῦς, Χριστός, ...</td>\n      <td>[[Παῦλος, κλητός, ἀπόστολος, Ἰησοῦς, Χριστός, ...</td>\n      <td>7</td>\n      <td>[[Παῦλος, κλητός, ἀπόστολος, Ἰησοῦς, Χριστός, ...</td>\n      <td>9</td>\n    </tr>\n    <tr>\n      <th>392</th>\n      <td>tlg0031.tlg008.perseus-grc2.xml</td>\n      <td>Paul of Tarsus</td>\n      <td>2 Corinthians</td>\n      <td>4470</td>\n      <td>tlg0031paul</td>\n      <td>tlg0031.tlg008</td>\n      <td>A.D. 1</td>\n      <td>0.5</td>\n      <td>{'0.5': 1}</td>\n      <td>0.5</td>\n      <td>christian</td>\n      <td>[]</td>\n      <td>ΠΑΥΛΟΣ ἀπόστολος Χριστοῦ Ἰησοῦ διὰ θελήματος ...</td>\n      <td>274</td>\n      <td>[[Παῦλος, ἀπόστολος, Χριστός, Ἰησοῦς, θέλημα, ...</td>\n      <td>[[Παῦλος, ἀπόστολος, Χριστός, Ἰησοῦς, θέλημα, ...</td>\n      <td>2</td>\n      <td>[[Παῦλος, ἀπόστολος, Χριστός, Ἰησοῦς, θέλημα, ...</td>\n      <td>6</td>\n    </tr>\n    <tr>\n      <th>393</th>\n      <td>tlg0031.tlg009.perseus-grc2.xml</td>\n      <td>Paul of Tarsus</td>\n      <td>Galatians</td>\n      <td>2235</td>\n      <td>tlg0031paul</td>\n      <td>tlg0031.tlg009</td>\n      <td>A.D. 1</td>\n      <td>0.5</td>\n      <td>{'0.5': 1}</td>\n      <td>0.5</td>\n      <td>christian</td>\n      <td>[]</td>\n      <td>ΠΑΥΛΟΣ ἀπόστολος, οὐκ ἀπʼ ἀνθρώπων οὐδὲ διʼ ἀ...</td>\n      <td>159</td>\n      <td>[[Παῦλος, ἀπόστολος, ἄνθρωπος, ἄνθρωπος, Ἰησοῦ...</td>\n      <td>[[Παῦλος, ἀπόστολος, ἄνθρωπος, ἄνθρωπος, Ἰησοῦ...</td>\n      <td>2</td>\n      <td>[[Παῦλος, ἀπόστολος, ἄνθρωπος, ἄνθρωπος, Ἰησοῦ...</td>\n      <td>3</td>\n    </tr>\n    <tr>\n      <th>395</th>\n      <td>tlg0031.tlg011.perseus-grc2.xml</td>\n      <td>Paul of Tarsus</td>\n      <td>Philippians</td>\n      <td>1631</td>\n      <td>tlg0031paul</td>\n      <td>tlg0031.tlg011</td>\n      <td>A.D. 1</td>\n      <td>0.5</td>\n      <td>{'0.5': 1}</td>\n      <td>0.5</td>\n      <td>christian</td>\n      <td>[]</td>\n      <td>ΠΑΥΛΟΣ ΚΑΙ ΤΙΜΟΘΕΟΣ δοῦλοι Χριστοῦ Ἰησοῦ πᾶσι...</td>\n      <td>83</td>\n      <td>[[Παῦλος, Τιμόθεος, δοῦλος, Χριστός, Ἰησοῦς, ἅ...</td>\n      <td>[[Παῦλος, Τιμόθεος, δοῦλος, Χριστός, Ἰησοῦς, ἅ...</td>\n      <td>1</td>\n      <td>[[ἀναγκαῖος, ἡγέομαι, Ἐπαφρόδιτος, ἀδελφός, συ...</td>\n      <td>1</td>\n    </tr>\n    <tr>\n      <th>397</th>\n      <td>tlg0031.tlg013.perseus-grc2.xml</td>\n      <td>Paul of Tarsus</td>\n      <td>1 Thessalonians</td>\n      <td>1475</td>\n      <td>tlg0031paul</td>\n      <td>tlg0031.tlg013</td>\n      <td>A.D. 1</td>\n      <td>0.5</td>\n      <td>{'0.5': 1}</td>\n      <td>0.5</td>\n      <td>christian</td>\n      <td>[]</td>\n      <td>ΠΑΥΛΟΣ ΚΑΙ ΣΙΛΟΥΑΝΟΣ ΚΑΙ ΤΙΜΟΘΕΟΣ τῇ ἐκκλησίᾳ...</td>\n      <td>65</td>\n      <td>[[Παῦλος, σιλουανος, Τιμόθεος, ἐκκλησία, Θεσσα...</td>\n      <td>[[Παῦλος, σιλουανος, Τιμόθεος, ἐκκλησία, Θεσσα...</td>\n      <td>2</td>\n      <td>[[λόγος, κολακεία, γίγνομαι, οἶδα, πρόφασις, π...</td>\n      <td>1</td>\n    </tr>\n    <tr>\n      <th>402</th>\n      <td>tlg0031.tlg018.perseus-grc2.xml</td>\n      <td>Paul of Tarsus</td>\n      <td>Philemon</td>\n      <td>334</td>\n      <td>tlg0031paul</td>\n      <td>tlg0031.tlg018</td>\n      <td>A.D. 1</td>\n      <td>0.5</td>\n      <td>{'0.5': 1}</td>\n      <td>0.5</td>\n      <td>christian</td>\n      <td>[]</td>\n      <td>ΠΑΥΛΟΣ δέσμιος Χριστοῦ Ἰησοῦ καὶ Τιμόθεος ὁ ἀ...</td>\n      <td>17</td>\n      <td>[[Παῦλος, δέσμιος, Χριστός, Ἰησοῦς, Τιμόθεος, ...</td>\n      <td>[[Παῦλος, δέσμιος, Χριστός, Ἰησοῦς, Τιμόθεος, ...</td>\n      <td>3</td>\n      <td>[]</td>\n      <td>0</td>\n    </tr>\n  </tbody>\n</table>\n</div>"
     },
     "execution_count": 221,
     "metadata": {},
     "output_type": "execute_result"
    }
   ],
   "source": [
    "LAGT[LAGT[\"author_id\"].str.startswith(\"tlg0031paul\")]"
   ],
   "metadata": {
    "collapsed": false,
    "pycharm": {
     "name": "#%%\n"
    }
   }
  },
  {
   "cell_type": "code",
   "execution_count": 222,
   "outputs": [],
   "source": [
    "def get_word_sentences(sentences_list, word):\n",
    "    selected_sentences = [sentence for sentence in sentences_list if word in sentence]\n",
    "    return selected_sentences"
   ],
   "metadata": {
    "collapsed": false,
    "pycharm": {
     "name": "#%%\n"
    }
   }
  },
  {
   "cell_type": "code",
   "execution_count": 223,
   "outputs": [],
   "source": [
    "word = \"Παῦλος\"\n",
    "LAGT[\"sentences_paul\"] = LAGT[\"lemmatized_sentences\"].apply(lambda x: get_word_sentences(x, word))"
   ],
   "metadata": {
    "collapsed": false,
    "pycharm": {
     "name": "#%%\n"
    }
   }
  },
  {
   "cell_type": "code",
   "execution_count": 224,
   "outputs": [],
   "source": [
    "LAGT[\"sentences_paul_N\"] = LAGT[\"sentences_paul\"].apply(lambda x: len(x))"
   ],
   "metadata": {
    "collapsed": false,
    "pycharm": {
     "name": "#%%\n"
    }
   }
  },
  {
   "cell_type": "code",
   "execution_count": 225,
   "outputs": [],
   "source": [
    "\n",
    "word = \"ἀπόστολος\"\n",
    "LAGT[\"sentences_apostle\"] = LAGT[\"lemmatized_sentences\"].apply(lambda x: get_word_sentences(x, word))"
   ],
   "metadata": {
    "collapsed": false,
    "pycharm": {
     "name": "#%%\n"
    }
   }
  },
  {
   "cell_type": "code",
   "execution_count": 226,
   "outputs": [],
   "source": [
    "LAGT[\"sentences_apostle_N\"] = LAGT[\"sentences_apostle\"].apply(lambda x: len(x))\n"
   ],
   "metadata": {
    "collapsed": false,
    "pycharm": {
     "name": "#%%\n"
    }
   }
  },
  {
   "cell_type": "code",
   "execution_count": 227,
   "outputs": [
    {
     "data": {
      "text/plain": "82"
     },
     "execution_count": 227,
     "metadata": {},
     "output_type": "execute_result"
    }
   ],
   "source": [
    "# how many documents contain the word \"Παῦλος\"\n",
    "len(LAGT[LAGT[\"sentences_paul_N\"]>0])"
   ],
   "metadata": {
    "collapsed": false,
    "pycharm": {
     "name": "#%%\n"
    }
   }
  },
  {
   "cell_type": "code",
   "execution_count": 228,
   "outputs": [
    {
     "data": {
      "text/plain": "104"
     },
     "execution_count": 228,
     "metadata": {},
     "output_type": "execute_result"
    }
   ],
   "source": [
    "len(LAGT[LAGT[\"sentences_apostle_N\"]>0])"
   ],
   "metadata": {
    "collapsed": false,
    "pycharm": {
     "name": "#%%\n"
    }
   }
  },
  {
   "cell_type": "code",
   "execution_count": 229,
   "outputs": [
    {
     "data": {
      "text/plain": "1045"
     },
     "execution_count": 229,
     "metadata": {},
     "output_type": "execute_result"
    }
   ],
   "source": [
    "LAGT[\"sentences_paul_N\"].sum()"
   ],
   "metadata": {
    "collapsed": false,
    "pycharm": {
     "name": "#%%\n"
    }
   }
  },
  {
   "cell_type": "markdown",
   "source": [
    "\"Acts of Paul and Thecla\"\n",
    "- http://www.patrologia-lib.ru/apocryph/novum/a_paul.htm"
   ],
   "metadata": {
    "collapsed": false
   }
  },
  {
   "cell_type": "code",
   "execution_count": 231,
   "outputs": [
    {
     "data": {
      "text/plain": "1027"
     },
     "execution_count": 231,
     "metadata": {},
     "output_type": "execute_result"
    }
   ],
   "source": [
    "LAGT[(LAGT[\"provenience\"]==\"christian\") & (LAGT[\"author_id\"]!=\"tlg0031paul\")][\"sentences_paul_N\"].sum()"
   ],
   "metadata": {
    "collapsed": false,
    "pycharm": {
     "name": "#%%\n"
    }
   }
  },
  {
   "cell_type": "code",
   "execution_count": 232,
   "outputs": [],
   "source": [
    "# save for future usage\n",
    "LAGT.to_json(\"../data/large_files/LAGT_paul.json\")"
   ],
   "metadata": {
    "collapsed": false,
    "pycharm": {
     "name": "#%%\n"
    }
   }
  },
  {
   "cell_type": "code",
   "execution_count": 234,
   "outputs": [],
   "source": [
    "df = LAGT[(LAGT[\"author_id\"]!=\"tlg0031paul\")]#  [\"sentences_paul_N\"].sum()"
   ],
   "metadata": {
    "collapsed": false,
    "pycharm": {
     "name": "#%%\n"
    }
   }
  },
  {
   "cell_type": "code",
   "execution_count": 213,
   "outputs": [
    {
     "data": {
      "text/plain": "                                         author    author_id  wordcount  \\\n0                                        Origen      tlg2042     931431   \n1                                     Luke-Acts  tlg0031luke      37864   \n2                                    Epiphanius      tlg2021     325038   \n3                    Socrates of Constantinople      tlg2057     103901   \n4                                       Sozomen      tlg2048     112966   \n5                      Athanasius of Alexandria      tlg2035      94010   \n6                                     Theodoret      tlg4089     153333   \n7                             Basil of Caesarea      tlg2040     144429   \n8                         Clement of Alexandria      tlg0555     235754   \n9                                      Eusebius      tlg2018     620546   \n10                              pseudo-Menander      tlg2022      77297   \n11                                     Irenaeus      tlg1447      24651   \n12                           Pauline literature  tlg0031pspa       8324   \n13                           Hippolytus of Rome      tlg2115      69987   \n14                                     Polycarp      tlg1622       1804   \n15                              Clement of Rome      tlg1271      13936   \n16                         Dionysius of Corinth      tlg1329        607   \n17                          Ignatius of Antioch      tlg1443       8396   \n18                              Mark the Deacon      tlg2806      24954   \n19                                Philostorgius      tlg2058      37002   \n20                       Seniores Apud Irenaeum      tlg1665        695   \n21                      2 Peter (New Testament)     tlg0031f       1095   \n22                                      Zosimus      tlg4084      62236   \n23                                    Colluthus      tlg4081       2336   \n24                          Pappus Alexandrinus      tlg2032      66896   \n25                                      Marinus      tlg4075       2905   \n26                        Marcianus of Heraclea      tlg4003      13973   \n27  The Passion of Saints Perpetua and Felicity      tlg2016        695   \n28                            Gospel of Matthew     tlg0031a      18288   \n29                        Martyrdom of Polycarp      tlg1484       2791   \n30                                     Tatianus      tlg1766      10189   \n31                        Theophilus of Antioch      tlg1725      21548   \n32                      Hebrews (New Testament)     tlg0031c       4971   \n33                        James (New Testament)     tlg0031d       1734   \n34                      1 Peter (New Testament)     tlg0031e       1669   \n35                         Jude (New Testament)     tlg0031g        456   \n36                   Revelation (New Testament)     tlg0031h       9857   \n37        Johnannine literature (New Testament)  tlg0031john      18189   \n38                      Acta Joannis (recensio)      tlg0317       2488   \n39                              Maximus of Tyre      tlg0563     118960   \n40                                Justin Martyr      tlg0645      73449   \n41                         Pseudo-Justin Martyr      tlg0646       2725   \n42                                  Athenagoras      tlg1205      20210   \n43                                     Barnabas      tlg1216       7440   \n44                                      Didache      tlg1311       2377   \n45                       The Shepherd of Hermas      tlg1419      30282   \n46                               Gospel of Mark     tlg0031b      11274   \n47                          Cyril of Alexandria      tlg4090       6799   \n\n    n_sentences  sentences_paul_N  sentences_apostle_N  \\\n0        110127               459                  526   \n1          2234               125                   32   \n2         33079               102                  357   \n3          8743                76                   64   \n4          7150                63                   30   \n5         10789                49                   90   \n6         16094                40                   36   \n7         11257                23                   36   \n8         14753                18                  101   \n9         35220                17                  199   \n10        20005                14                    2   \n11         4525                12                   17   \n12          390                10                   10   \n13         4394                 7                   15   \n14          212                 2                    2   \n15         1410                 2                    7   \n16           67                 2                    2   \n17          790                 2                   14   \n18         2132                 1                    6   \n19         4172                 1                   10   \n20          200                 1                    2   \n21           42                 1                    2   \n22         2265                 0                    0   \n23          209                 0                    0   \n24         5843                 0                    0   \n25          282                 0                    0   \n26          949                 0                    0   \n27          355                 0                    0   \n28         1276                 0                    1   \n29          217                 0                    1   \n30          648                 0                    0   \n31         1300                 0                    0   \n32          262                 0                    1   \n33          140                 0                    0   \n34           98                 0                    1   \n35           20                 0                    1   \n36          475                 0                    3   \n37         1339                 0                    1   \n38          181                 0                   14   \n39        22598                 0                    0   \n40         5829                 0                   33   \n41          240                 0                    5   \n42          808                 0                    1   \n43          875                 0                    1   \n44          284                 0                    3   \n45         2959                 0                    5   \n46          790                 0                    2   \n47         3659                 0                    0   \n\n                                                works  works_N  date_avr  \\\n0   [Contra Celsum, Commentarii in Evangelium Joan...       44       2.0   \n1                              [Gospel of Luke, Acts]        2       0.5   \n2   [Ancoratus, Panarion (Adversus haereses), Anac...        3       3.5   \n3                            [Historia Ecclesiastica]        1       4.0   \n4                            [Historia Ecclesiastica]        1       4.5   \n5   [De decretis Nicaenae synodi (Chapters 41 and ...        5       3.5   \n6       [Historia ecclesiastica , Historia Religiosa]        2       4.0   \n7   [To Young Men, On How They Might Dervice Profi...        2       3.5   \n8   [Protrepticus, Paedagogus, Stromata (Books I-V...        7       2.0   \n9   [Praeperatio Evangelica, Historia ecclesiastic...       10       3.5   \n10  [Christus patiens [Dub.] (fort. auctore Consta...        7       3.5   \n11                 [Libros quinque adversus haereses]        1       1.5   \n12  [Ephesians, Colossians, 2 Thessalonians, 1 Tim...        6       0.5   \n13                       [Refutatio Omnium Haeresium]        1       2.5   \n14                         [Epistula ad Philippenses]        1       1.0   \n15  [Epistula I ad Corinthios, Epistula II ad Cori...        2       0.5   \n16                                        [Fragmenta]        1       1.5   \n17  [Ad Ephesios (epist. 1), Ad Magnesios (epist. ...        7       1.0   \n18                 [Vita Porphyrii episcopi Gazensis]        1       4.5   \n19   [Historia ecclesiastica (fragmenta ap. Photium)]        1       4.0   \n20                     [Reliquiae plurium anonymorum]        1       2.0   \n21                                          [2 Peter]        1       0.5   \n22                                    [Historia Nova]        1       4.5   \n23                                    [Rape of Helen]        1       4.5   \n24                                         [Synagoge]        1       3.5   \n25                    [Commentarium in Euclidis data]        1       4.5   \n26  [Periplus Maris Exteri, Menippi periplus maris...        3       3.5   \n27      [The Passion of Saints Perpetua and Felicity]        1       4.0   \n28                                [Gospel of Matthew]        1       0.5   \n29                            [Martyrdom of Polycarp]        1       3.0   \n30                                [Oratio ad Graecos]        1       1.5   \n31                                     [Ad Autolycum]        1       1.5   \n32                                          [Hebrews]        1       0.5   \n33                                            [James]        1       0.5   \n34                                          [1 Peter]        1       0.5   \n35                                             [Jude]        1       0.5   \n36                                       [Revelation]        1       0.5   \n37           [Gospel of John, 1 John, 2 John, 3 John]        4       0.5   \n38            [Acta Joannis, Acta Joannis (recensio)]        2       1.5   \n39                                        [Dialexeis]        1       1.5   \n40      [Apologia, Apology II, Dialogus cum Tryphone]        3       1.5   \n41                            [Epistula ad Diognetum]        1       3.5   \n42   [Supplication pro Christianis, De resurrectione]        2       1.5   \n43                          [The Epistle of Barnabas]        1       1.0   \n44                                          [Didache]        1       1.5   \n45                           [The Shepherd of Hermas]        1       1.5   \n46                                   [Gospel of Mark]        1       0.5   \n47                        [Index In In XII Prophetas]        1       4.0   \n\n    paul_proportion  \n0          0.004168  \n1          0.055953  \n2          0.003084  \n3          0.008693  \n4          0.008811  \n5          0.004542  \n6          0.002485  \n7          0.002043  \n8          0.001220  \n9          0.000483  \n10         0.000700  \n11         0.002652  \n12         0.025641  \n13         0.001593  \n14         0.009434  \n15         0.001418  \n16         0.029851  \n17         0.002532  \n18         0.000469  \n19         0.000240  \n20         0.005000  \n21         0.023810  \n22         0.000000  \n23         0.000000  \n24         0.000000  \n25         0.000000  \n26         0.000000  \n27         0.000000  \n28         0.000000  \n29         0.000000  \n30         0.000000  \n31         0.000000  \n32         0.000000  \n33         0.000000  \n34         0.000000  \n35         0.000000  \n36         0.000000  \n37         0.000000  \n38         0.000000  \n39         0.000000  \n40         0.000000  \n41         0.000000  \n42         0.000000  \n43         0.000000  \n44         0.000000  \n45         0.000000  \n46         0.000000  \n47         0.000000  ",
      "text/html": "<div>\n<style scoped>\n    .dataframe tbody tr th:only-of-type {\n        vertical-align: middle;\n    }\n\n    .dataframe tbody tr th {\n        vertical-align: top;\n    }\n\n    .dataframe thead th {\n        text-align: right;\n    }\n</style>\n<table border=\"1\" class=\"dataframe\">\n  <thead>\n    <tr style=\"text-align: right;\">\n      <th></th>\n      <th>author</th>\n      <th>author_id</th>\n      <th>wordcount</th>\n      <th>n_sentences</th>\n      <th>sentences_paul_N</th>\n      <th>sentences_apostle_N</th>\n      <th>works</th>\n      <th>works_N</th>\n      <th>date_avr</th>\n      <th>paul_proportion</th>\n    </tr>\n  </thead>\n  <tbody>\n    <tr>\n      <th>0</th>\n      <td>Origen</td>\n      <td>tlg2042</td>\n      <td>931431</td>\n      <td>110127</td>\n      <td>459</td>\n      <td>526</td>\n      <td>[Contra Celsum, Commentarii in Evangelium Joan...</td>\n      <td>44</td>\n      <td>2.0</td>\n      <td>0.004168</td>\n    </tr>\n    <tr>\n      <th>1</th>\n      <td>Luke-Acts</td>\n      <td>tlg0031luke</td>\n      <td>37864</td>\n      <td>2234</td>\n      <td>125</td>\n      <td>32</td>\n      <td>[Gospel of Luke, Acts]</td>\n      <td>2</td>\n      <td>0.5</td>\n      <td>0.055953</td>\n    </tr>\n    <tr>\n      <th>2</th>\n      <td>Epiphanius</td>\n      <td>tlg2021</td>\n      <td>325038</td>\n      <td>33079</td>\n      <td>102</td>\n      <td>357</td>\n      <td>[Ancoratus, Panarion (Adversus haereses), Anac...</td>\n      <td>3</td>\n      <td>3.5</td>\n      <td>0.003084</td>\n    </tr>\n    <tr>\n      <th>3</th>\n      <td>Socrates of Constantinople</td>\n      <td>tlg2057</td>\n      <td>103901</td>\n      <td>8743</td>\n      <td>76</td>\n      <td>64</td>\n      <td>[Historia Ecclesiastica]</td>\n      <td>1</td>\n      <td>4.0</td>\n      <td>0.008693</td>\n    </tr>\n    <tr>\n      <th>4</th>\n      <td>Sozomen</td>\n      <td>tlg2048</td>\n      <td>112966</td>\n      <td>7150</td>\n      <td>63</td>\n      <td>30</td>\n      <td>[Historia Ecclesiastica]</td>\n      <td>1</td>\n      <td>4.5</td>\n      <td>0.008811</td>\n    </tr>\n    <tr>\n      <th>5</th>\n      <td>Athanasius of Alexandria</td>\n      <td>tlg2035</td>\n      <td>94010</td>\n      <td>10789</td>\n      <td>49</td>\n      <td>90</td>\n      <td>[De decretis Nicaenae synodi (Chapters 41 and ...</td>\n      <td>5</td>\n      <td>3.5</td>\n      <td>0.004542</td>\n    </tr>\n    <tr>\n      <th>6</th>\n      <td>Theodoret</td>\n      <td>tlg4089</td>\n      <td>153333</td>\n      <td>16094</td>\n      <td>40</td>\n      <td>36</td>\n      <td>[Historia ecclesiastica , Historia Religiosa]</td>\n      <td>2</td>\n      <td>4.0</td>\n      <td>0.002485</td>\n    </tr>\n    <tr>\n      <th>7</th>\n      <td>Basil of Caesarea</td>\n      <td>tlg2040</td>\n      <td>144429</td>\n      <td>11257</td>\n      <td>23</td>\n      <td>36</td>\n      <td>[To Young Men, On How They Might Dervice Profi...</td>\n      <td>2</td>\n      <td>3.5</td>\n      <td>0.002043</td>\n    </tr>\n    <tr>\n      <th>8</th>\n      <td>Clement of Alexandria</td>\n      <td>tlg0555</td>\n      <td>235754</td>\n      <td>14753</td>\n      <td>18</td>\n      <td>101</td>\n      <td>[Protrepticus, Paedagogus, Stromata (Books I-V...</td>\n      <td>7</td>\n      <td>2.0</td>\n      <td>0.001220</td>\n    </tr>\n    <tr>\n      <th>9</th>\n      <td>Eusebius</td>\n      <td>tlg2018</td>\n      <td>620546</td>\n      <td>35220</td>\n      <td>17</td>\n      <td>199</td>\n      <td>[Praeperatio Evangelica, Historia ecclesiastic...</td>\n      <td>10</td>\n      <td>3.5</td>\n      <td>0.000483</td>\n    </tr>\n    <tr>\n      <th>10</th>\n      <td>pseudo-Menander</td>\n      <td>tlg2022</td>\n      <td>77297</td>\n      <td>20005</td>\n      <td>14</td>\n      <td>2</td>\n      <td>[Christus patiens [Dub.] (fort. auctore Consta...</td>\n      <td>7</td>\n      <td>3.5</td>\n      <td>0.000700</td>\n    </tr>\n    <tr>\n      <th>11</th>\n      <td>Irenaeus</td>\n      <td>tlg1447</td>\n      <td>24651</td>\n      <td>4525</td>\n      <td>12</td>\n      <td>17</td>\n      <td>[Libros quinque adversus haereses]</td>\n      <td>1</td>\n      <td>1.5</td>\n      <td>0.002652</td>\n    </tr>\n    <tr>\n      <th>12</th>\n      <td>Pauline literature</td>\n      <td>tlg0031pspa</td>\n      <td>8324</td>\n      <td>390</td>\n      <td>10</td>\n      <td>10</td>\n      <td>[Ephesians, Colossians, 2 Thessalonians, 1 Tim...</td>\n      <td>6</td>\n      <td>0.5</td>\n      <td>0.025641</td>\n    </tr>\n    <tr>\n      <th>13</th>\n      <td>Hippolytus of Rome</td>\n      <td>tlg2115</td>\n      <td>69987</td>\n      <td>4394</td>\n      <td>7</td>\n      <td>15</td>\n      <td>[Refutatio Omnium Haeresium]</td>\n      <td>1</td>\n      <td>2.5</td>\n      <td>0.001593</td>\n    </tr>\n    <tr>\n      <th>14</th>\n      <td>Polycarp</td>\n      <td>tlg1622</td>\n      <td>1804</td>\n      <td>212</td>\n      <td>2</td>\n      <td>2</td>\n      <td>[Epistula ad Philippenses]</td>\n      <td>1</td>\n      <td>1.0</td>\n      <td>0.009434</td>\n    </tr>\n    <tr>\n      <th>15</th>\n      <td>Clement of Rome</td>\n      <td>tlg1271</td>\n      <td>13936</td>\n      <td>1410</td>\n      <td>2</td>\n      <td>7</td>\n      <td>[Epistula I ad Corinthios, Epistula II ad Cori...</td>\n      <td>2</td>\n      <td>0.5</td>\n      <td>0.001418</td>\n    </tr>\n    <tr>\n      <th>16</th>\n      <td>Dionysius of Corinth</td>\n      <td>tlg1329</td>\n      <td>607</td>\n      <td>67</td>\n      <td>2</td>\n      <td>2</td>\n      <td>[Fragmenta]</td>\n      <td>1</td>\n      <td>1.5</td>\n      <td>0.029851</td>\n    </tr>\n    <tr>\n      <th>17</th>\n      <td>Ignatius of Antioch</td>\n      <td>tlg1443</td>\n      <td>8396</td>\n      <td>790</td>\n      <td>2</td>\n      <td>14</td>\n      <td>[Ad Ephesios (epist. 1), Ad Magnesios (epist. ...</td>\n      <td>7</td>\n      <td>1.0</td>\n      <td>0.002532</td>\n    </tr>\n    <tr>\n      <th>18</th>\n      <td>Mark the Deacon</td>\n      <td>tlg2806</td>\n      <td>24954</td>\n      <td>2132</td>\n      <td>1</td>\n      <td>6</td>\n      <td>[Vita Porphyrii episcopi Gazensis]</td>\n      <td>1</td>\n      <td>4.5</td>\n      <td>0.000469</td>\n    </tr>\n    <tr>\n      <th>19</th>\n      <td>Philostorgius</td>\n      <td>tlg2058</td>\n      <td>37002</td>\n      <td>4172</td>\n      <td>1</td>\n      <td>10</td>\n      <td>[Historia ecclesiastica (fragmenta ap. Photium)]</td>\n      <td>1</td>\n      <td>4.0</td>\n      <td>0.000240</td>\n    </tr>\n    <tr>\n      <th>20</th>\n      <td>Seniores Apud Irenaeum</td>\n      <td>tlg1665</td>\n      <td>695</td>\n      <td>200</td>\n      <td>1</td>\n      <td>2</td>\n      <td>[Reliquiae plurium anonymorum]</td>\n      <td>1</td>\n      <td>2.0</td>\n      <td>0.005000</td>\n    </tr>\n    <tr>\n      <th>21</th>\n      <td>2 Peter (New Testament)</td>\n      <td>tlg0031f</td>\n      <td>1095</td>\n      <td>42</td>\n      <td>1</td>\n      <td>2</td>\n      <td>[2 Peter]</td>\n      <td>1</td>\n      <td>0.5</td>\n      <td>0.023810</td>\n    </tr>\n    <tr>\n      <th>22</th>\n      <td>Zosimus</td>\n      <td>tlg4084</td>\n      <td>62236</td>\n      <td>2265</td>\n      <td>0</td>\n      <td>0</td>\n      <td>[Historia Nova]</td>\n      <td>1</td>\n      <td>4.5</td>\n      <td>0.000000</td>\n    </tr>\n    <tr>\n      <th>23</th>\n      <td>Colluthus</td>\n      <td>tlg4081</td>\n      <td>2336</td>\n      <td>209</td>\n      <td>0</td>\n      <td>0</td>\n      <td>[Rape of Helen]</td>\n      <td>1</td>\n      <td>4.5</td>\n      <td>0.000000</td>\n    </tr>\n    <tr>\n      <th>24</th>\n      <td>Pappus Alexandrinus</td>\n      <td>tlg2032</td>\n      <td>66896</td>\n      <td>5843</td>\n      <td>0</td>\n      <td>0</td>\n      <td>[Synagoge]</td>\n      <td>1</td>\n      <td>3.5</td>\n      <td>0.000000</td>\n    </tr>\n    <tr>\n      <th>25</th>\n      <td>Marinus</td>\n      <td>tlg4075</td>\n      <td>2905</td>\n      <td>282</td>\n      <td>0</td>\n      <td>0</td>\n      <td>[Commentarium in Euclidis data]</td>\n      <td>1</td>\n      <td>4.5</td>\n      <td>0.000000</td>\n    </tr>\n    <tr>\n      <th>26</th>\n      <td>Marcianus of Heraclea</td>\n      <td>tlg4003</td>\n      <td>13973</td>\n      <td>949</td>\n      <td>0</td>\n      <td>0</td>\n      <td>[Periplus Maris Exteri, Menippi periplus maris...</td>\n      <td>3</td>\n      <td>3.5</td>\n      <td>0.000000</td>\n    </tr>\n    <tr>\n      <th>27</th>\n      <td>The Passion of Saints Perpetua and Felicity</td>\n      <td>tlg2016</td>\n      <td>695</td>\n      <td>355</td>\n      <td>0</td>\n      <td>0</td>\n      <td>[The Passion of Saints Perpetua and Felicity]</td>\n      <td>1</td>\n      <td>4.0</td>\n      <td>0.000000</td>\n    </tr>\n    <tr>\n      <th>28</th>\n      <td>Gospel of Matthew</td>\n      <td>tlg0031a</td>\n      <td>18288</td>\n      <td>1276</td>\n      <td>0</td>\n      <td>1</td>\n      <td>[Gospel of Matthew]</td>\n      <td>1</td>\n      <td>0.5</td>\n      <td>0.000000</td>\n    </tr>\n    <tr>\n      <th>29</th>\n      <td>Martyrdom of Polycarp</td>\n      <td>tlg1484</td>\n      <td>2791</td>\n      <td>217</td>\n      <td>0</td>\n      <td>1</td>\n      <td>[Martyrdom of Polycarp]</td>\n      <td>1</td>\n      <td>3.0</td>\n      <td>0.000000</td>\n    </tr>\n    <tr>\n      <th>30</th>\n      <td>Tatianus</td>\n      <td>tlg1766</td>\n      <td>10189</td>\n      <td>648</td>\n      <td>0</td>\n      <td>0</td>\n      <td>[Oratio ad Graecos]</td>\n      <td>1</td>\n      <td>1.5</td>\n      <td>0.000000</td>\n    </tr>\n    <tr>\n      <th>31</th>\n      <td>Theophilus of Antioch</td>\n      <td>tlg1725</td>\n      <td>21548</td>\n      <td>1300</td>\n      <td>0</td>\n      <td>0</td>\n      <td>[Ad Autolycum]</td>\n      <td>1</td>\n      <td>1.5</td>\n      <td>0.000000</td>\n    </tr>\n    <tr>\n      <th>32</th>\n      <td>Hebrews (New Testament)</td>\n      <td>tlg0031c</td>\n      <td>4971</td>\n      <td>262</td>\n      <td>0</td>\n      <td>1</td>\n      <td>[Hebrews]</td>\n      <td>1</td>\n      <td>0.5</td>\n      <td>0.000000</td>\n    </tr>\n    <tr>\n      <th>33</th>\n      <td>James (New Testament)</td>\n      <td>tlg0031d</td>\n      <td>1734</td>\n      <td>140</td>\n      <td>0</td>\n      <td>0</td>\n      <td>[James]</td>\n      <td>1</td>\n      <td>0.5</td>\n      <td>0.000000</td>\n    </tr>\n    <tr>\n      <th>34</th>\n      <td>1 Peter (New Testament)</td>\n      <td>tlg0031e</td>\n      <td>1669</td>\n      <td>98</td>\n      <td>0</td>\n      <td>1</td>\n      <td>[1 Peter]</td>\n      <td>1</td>\n      <td>0.5</td>\n      <td>0.000000</td>\n    </tr>\n    <tr>\n      <th>35</th>\n      <td>Jude (New Testament)</td>\n      <td>tlg0031g</td>\n      <td>456</td>\n      <td>20</td>\n      <td>0</td>\n      <td>1</td>\n      <td>[Jude]</td>\n      <td>1</td>\n      <td>0.5</td>\n      <td>0.000000</td>\n    </tr>\n    <tr>\n      <th>36</th>\n      <td>Revelation (New Testament)</td>\n      <td>tlg0031h</td>\n      <td>9857</td>\n      <td>475</td>\n      <td>0</td>\n      <td>3</td>\n      <td>[Revelation]</td>\n      <td>1</td>\n      <td>0.5</td>\n      <td>0.000000</td>\n    </tr>\n    <tr>\n      <th>37</th>\n      <td>Johnannine literature (New Testament)</td>\n      <td>tlg0031john</td>\n      <td>18189</td>\n      <td>1339</td>\n      <td>0</td>\n      <td>1</td>\n      <td>[Gospel of John, 1 John, 2 John, 3 John]</td>\n      <td>4</td>\n      <td>0.5</td>\n      <td>0.000000</td>\n    </tr>\n    <tr>\n      <th>38</th>\n      <td>Acta Joannis (recensio)</td>\n      <td>tlg0317</td>\n      <td>2488</td>\n      <td>181</td>\n      <td>0</td>\n      <td>14</td>\n      <td>[Acta Joannis, Acta Joannis (recensio)]</td>\n      <td>2</td>\n      <td>1.5</td>\n      <td>0.000000</td>\n    </tr>\n    <tr>\n      <th>39</th>\n      <td>Maximus of Tyre</td>\n      <td>tlg0563</td>\n      <td>118960</td>\n      <td>22598</td>\n      <td>0</td>\n      <td>0</td>\n      <td>[Dialexeis]</td>\n      <td>1</td>\n      <td>1.5</td>\n      <td>0.000000</td>\n    </tr>\n    <tr>\n      <th>40</th>\n      <td>Justin Martyr</td>\n      <td>tlg0645</td>\n      <td>73449</td>\n      <td>5829</td>\n      <td>0</td>\n      <td>33</td>\n      <td>[Apologia, Apology II, Dialogus cum Tryphone]</td>\n      <td>3</td>\n      <td>1.5</td>\n      <td>0.000000</td>\n    </tr>\n    <tr>\n      <th>41</th>\n      <td>Pseudo-Justin Martyr</td>\n      <td>tlg0646</td>\n      <td>2725</td>\n      <td>240</td>\n      <td>0</td>\n      <td>5</td>\n      <td>[Epistula ad Diognetum]</td>\n      <td>1</td>\n      <td>3.5</td>\n      <td>0.000000</td>\n    </tr>\n    <tr>\n      <th>42</th>\n      <td>Athenagoras</td>\n      <td>tlg1205</td>\n      <td>20210</td>\n      <td>808</td>\n      <td>0</td>\n      <td>1</td>\n      <td>[Supplication pro Christianis, De resurrectione]</td>\n      <td>2</td>\n      <td>1.5</td>\n      <td>0.000000</td>\n    </tr>\n    <tr>\n      <th>43</th>\n      <td>Barnabas</td>\n      <td>tlg1216</td>\n      <td>7440</td>\n      <td>875</td>\n      <td>0</td>\n      <td>1</td>\n      <td>[The Epistle of Barnabas]</td>\n      <td>1</td>\n      <td>1.0</td>\n      <td>0.000000</td>\n    </tr>\n    <tr>\n      <th>44</th>\n      <td>Didache</td>\n      <td>tlg1311</td>\n      <td>2377</td>\n      <td>284</td>\n      <td>0</td>\n      <td>3</td>\n      <td>[Didache]</td>\n      <td>1</td>\n      <td>1.5</td>\n      <td>0.000000</td>\n    </tr>\n    <tr>\n      <th>45</th>\n      <td>The Shepherd of Hermas</td>\n      <td>tlg1419</td>\n      <td>30282</td>\n      <td>2959</td>\n      <td>0</td>\n      <td>5</td>\n      <td>[The Shepherd of Hermas]</td>\n      <td>1</td>\n      <td>1.5</td>\n      <td>0.000000</td>\n    </tr>\n    <tr>\n      <th>46</th>\n      <td>Gospel of Mark</td>\n      <td>tlg0031b</td>\n      <td>11274</td>\n      <td>790</td>\n      <td>0</td>\n      <td>2</td>\n      <td>[Gospel of Mark]</td>\n      <td>1</td>\n      <td>0.5</td>\n      <td>0.000000</td>\n    </tr>\n    <tr>\n      <th>47</th>\n      <td>Cyril of Alexandria</td>\n      <td>tlg4090</td>\n      <td>6799</td>\n      <td>3659</td>\n      <td>0</td>\n      <td>0</td>\n      <td>[Index In In XII Prophetas]</td>\n      <td>1</td>\n      <td>4.0</td>\n      <td>0.000000</td>\n    </tr>\n  </tbody>\n</table>\n</div>"
     },
     "execution_count": 213,
     "metadata": {},
     "output_type": "execute_result"
    }
   ],
   "source": [
    "df_authors = df.groupby(\"author_id\").sum()[[\"wordcount\", \"n_sentences\", \"sentences_paul_N\", \"sentences_apostle_N\"]].sort_values(\"sentences_paul_N\", ascending=False)#\n",
    "author_dict = dict(zip(LAGT_metadata[\"author_id\"],  LAGT_metadata[\"author\"]))\n",
    "def get_author(x):\n",
    "    try:\n",
    "        return author_dict[x]\n",
    "    except:\n",
    "        return None\n",
    "\n",
    "date_dict = dict(zip(LAGT_metadata[\"author_id\"],  LAGT_metadata[\"date_avr\"]))\n",
    "\n",
    "def get_list_of_works(author_id):\n",
    "    works = LAGT[LAGT[\"author_id\"]==author_id][\"title\"].tolist()\n",
    "    return works\n",
    "\n",
    "\n",
    "df_authors.reset_index(inplace=True)\n",
    "df_authors[\"author\"] = df_authors[\"author_id\"].apply(get_author)\n",
    "df_authors[\"works\"] = df_authors[\"author_id\"].apply(get_list_of_works)\n",
    "df_authors[\"works_N\"] = df_authors[\"works\"].apply(len)\n",
    "df_authors[\"date_avr\"] = df_authors[\"author_id\"].apply(lambda x: date_dict[x])\n",
    "df_authors.set_index(\"author\", inplace=True)\n",
    "df_authors.reset_index(inplace=True)\n",
    "\n",
    "df_authors[\"paul_proportion\"] = df_authors[\"sentences_paul_N\"] / df_authors[\"n_sentences\"]\n",
    "\n",
    "df_authors"
   ],
   "metadata": {
    "collapsed": false,
    "pycharm": {
     "name": "#%%\n"
    }
   }
  },
  {
   "cell_type": "code",
   "execution_count": 214,
   "outputs": [
    {
     "data": {
      "text/plain": "Index(['author', 'author_id', 'wordcount', 'n_sentences', 'sentences_paul_N',\n       'sentences_apostle_N', 'works', 'works_N', 'date_avr',\n       'paul_proportion'],\n      dtype='object')"
     },
     "execution_count": 214,
     "metadata": {},
     "output_type": "execute_result"
    }
   ],
   "source": [
    "df_authors.columns"
   ],
   "metadata": {
    "collapsed": false,
    "pycharm": {
     "name": "#%%\n"
    }
   }
  },
  {
   "cell_type": "code",
   "execution_count": null,
   "outputs": [],
   "source": [],
   "metadata": {
    "collapsed": false,
    "pycharm": {
     "name": "#%%\n"
    }
   }
  },
  {
   "cell_type": "code",
   "execution_count": 216,
   "outputs": [],
   "source": [
    "columns = ['author', 'author_id', 'works_N', 'works', 'wordcount', 'n_sentences',\n",
    "        'date_avr', 'sentences_apostle_N', 'sentences_paul_N', 'paul_proportion']"
   ],
   "metadata": {
    "collapsed": false,
    "pycharm": {
     "name": "#%%\n"
    }
   }
  },
  {
   "cell_type": "code",
   "execution_count": 217,
   "outputs": [],
   "source": [
    "set_with_dataframe(paul_results.add_worksheet(\"christian_authors_overview\", 1,1), df_authors[columns])"
   ],
   "metadata": {
    "collapsed": false,
    "pycharm": {
     "name": "#%%\n"
    }
   }
  },
  {
   "cell_type": "code",
   "execution_count": null,
   "outputs": [],
   "source": [],
   "metadata": {
    "collapsed": false,
    "pycharm": {
     "name": "#%%\n"
    }
   }
  }
 ],
 "metadata": {
  "kernelspec": {
   "display_name": "paul_venv",
   "language": "python",
   "name": "paul_venv"
  },
  "language_info": {
   "codemirror_mode": {
    "name": "ipython",
    "version": 3
   },
   "file_extension": ".py",
   "mimetype": "text/x-python",
   "name": "python",
   "nbconvert_exporter": "python",
   "pygments_lexer": "ipython3",
   "version": "3.9.7"
  }
 },
 "nbformat": 4,
 "nbformat_minor": 4
}