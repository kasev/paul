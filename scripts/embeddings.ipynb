{
 "cells": [
  {
   "cell_type": "code",
   "execution_count": 3,
   "outputs": [],
   "source": [
    "import math\n",
    "import numpy as np\n",
    "import pandas as pd\n",
    "\n",
    "import matplotlib.pyplot as plt\n",
    "import matplotlib.colors as mcolors\n",
    "import matplotlib.patches as patches\n",
    "import seaborn as sns\n",
    "\n",
    "from sklearn.feature_extraction.text import CountVectorizer\n",
    "from sklearn.decomposition import TruncatedSVD\n",
    "from sklearn.manifold import TSNE\n",
    "from sklearn.metrics.pairwise import cosine_similarity\n",
    "from gensim import corpora\n",
    "import sddk\n",
    "\n",
    "import gspread\n",
    "from gspread_dataframe import get_as_dataframe, set_with_dataframe\n",
    "from google.oauth2 import service_account # based on google-auth library"
   ],
   "metadata": {
    "collapsed": false,
    "pycharm": {
     "name": "#%%\n"
    }
   }
  },
  {
   "cell_type": "code",
   "execution_count": 4,
   "outputs": [
    {
     "name": "stdout",
     "output_type": "stream",
     "text": [
      "endpoint variable has been configured to: https://sciencedata.dk/files/\n"
     ]
    }
   ],
   "source": [
    "# for exporting data to googlesheets/sciencedata\n",
    "# (feel free to skip)\n",
    "\n",
    "s = sddk.cloudSession(\"sciencedata.dk\")\n",
    "# establish connection with gogglesheets...\n",
    "file_data = s.read_file(\"https://sciencedata.dk/files/ServiceAccountsKey.json\", \"dict\") # or load it from a local storage: json.load(open(\"../../ServiceAccountsKey.json\", \"r\"))\n",
    "credentials = service_account.Credentials.from_service_account_info(file_data)\n",
    "gc = gspread.Client(auth=credentials.with_scopes(['https://spreadsheets.google.com/feeds', 'https://www.googleapis.com/auth/drive']))\n",
    "paul_results = gc.open_by_url(\"https://docs.google.com/spreadsheets/d/1h4M-gK9TPIfeTV528tUuPBfZF1wtcNCA10yIlJYqGTE/edit?usp=sharing\")"
   ],
   "metadata": {
    "collapsed": false,
    "pycharm": {
     "name": "#%%\n"
    }
   }
  },
  {
   "cell_type": "code",
   "execution_count": 30,
   "outputs": [],
   "source": [
    "LAGTec = pd.read_json(\"../data/large_files/LAGTec.json\")"
   ],
   "metadata": {
    "collapsed": false,
    "pycharm": {
     "name": "#%%\n"
    }
   }
  },
  {
   "cell_type": "code",
   "execution_count": 31,
   "outputs": [
    {
     "data": {
      "text/plain": "49"
     },
     "execution_count": 31,
     "metadata": {},
     "output_type": "execute_result"
    }
   ],
   "source": [
    "len(LAGTec[\"author\"].unique().tolist())"
   ],
   "metadata": {
    "collapsed": false,
    "pycharm": {
     "name": "#%%\n"
    }
   }
  },
  {
   "cell_type": "code",
   "execution_count": 32,
   "outputs": [
    {
     "data": {
      "text/plain": "148"
     },
     "execution_count": 32,
     "metadata": {},
     "output_type": "execute_result"
    }
   ],
   "source": [
    "len(LAGTec)"
   ],
   "metadata": {
    "collapsed": false,
    "pycharm": {
     "name": "#%%\n"
    }
   }
  },
  {
   "cell_type": "code",
   "execution_count": 17,
   "outputs": [
    {
     "data": {
      "text/plain": "3566823"
     },
     "execution_count": 17,
     "metadata": {},
     "output_type": "execute_result"
    }
   ],
   "source": [
    "LAGTec[\"wordcount\"].sum()"
   ],
   "metadata": {
    "collapsed": false,
    "pycharm": {
     "name": "#%%\n"
    }
   }
  },
  {
   "cell_type": "code",
   "execution_count": null,
   "outputs": [],
   "source": [
    "LAGTec"
   ],
   "metadata": {
    "collapsed": false,
    "pycharm": {
     "name": "#%%\n"
    }
   }
  },
  {
   "cell_type": "code",
   "execution_count": 8,
   "outputs": [
    {
     "name": "stdout",
     "output_type": "stream",
     "text": [
      "2 103 1642004\n",
      "2.5 104 1711991\n",
      "3 105 1714782\n",
      "3.5 137 3059696\n",
      "4 143 3361426\n",
      "4.5 148 3566823\n",
      "5 148 3566823\n"
     ]
    }
   ],
   "source": [
    "for date in [2, 2.5, 3, 3.5, 4, 4.5, 5]:\n",
    "    mask = (LAGTc[\"date_avr\"] <= date)\n",
    "    print(date,\n",
    "          mask.sum(),\n",
    "          LAGTc[mask][\"wordcount\"].sum()\n",
    "          )"
   ],
   "metadata": {
    "collapsed": false,
    "pycharm": {
     "name": "#%%\n"
    }
   }
  },
  {
   "cell_type": "code",
   "execution_count": 23,
   "outputs": [
    {
     "data": {
      "text/plain": "   date_avr  wordcount  n_sentences  sentences_paul_N  sentences_apostle_N\n0       0.5     151723        10108               156                   84\n1       1.0      17640         1877                 4                   17\n2       1.5     304761        39199                14                   75\n3       2.0    1167880       125080               478                  629\n4       2.5      69987         4394                 7                   15\n5       3.0       2791          217                 0                    1\n6       3.5    1344914       117382               205                  689\n7       4.0     301730        33023               117                  110\n8       4.5     205397        12038                64                   36",
      "text/html": "<div>\n<style scoped>\n    .dataframe tbody tr th:only-of-type {\n        vertical-align: middle;\n    }\n\n    .dataframe tbody tr th {\n        vertical-align: top;\n    }\n\n    .dataframe thead th {\n        text-align: right;\n    }\n</style>\n<table border=\"1\" class=\"dataframe\">\n  <thead>\n    <tr style=\"text-align: right;\">\n      <th></th>\n      <th>date_avr</th>\n      <th>wordcount</th>\n      <th>n_sentences</th>\n      <th>sentences_paul_N</th>\n      <th>sentences_apostle_N</th>\n    </tr>\n  </thead>\n  <tbody>\n    <tr>\n      <th>0</th>\n      <td>0.5</td>\n      <td>151723</td>\n      <td>10108</td>\n      <td>156</td>\n      <td>84</td>\n    </tr>\n    <tr>\n      <th>1</th>\n      <td>1.0</td>\n      <td>17640</td>\n      <td>1877</td>\n      <td>4</td>\n      <td>17</td>\n    </tr>\n    <tr>\n      <th>2</th>\n      <td>1.5</td>\n      <td>304761</td>\n      <td>39199</td>\n      <td>14</td>\n      <td>75</td>\n    </tr>\n    <tr>\n      <th>3</th>\n      <td>2.0</td>\n      <td>1167880</td>\n      <td>125080</td>\n      <td>478</td>\n      <td>629</td>\n    </tr>\n    <tr>\n      <th>4</th>\n      <td>2.5</td>\n      <td>69987</td>\n      <td>4394</td>\n      <td>7</td>\n      <td>15</td>\n    </tr>\n    <tr>\n      <th>5</th>\n      <td>3.0</td>\n      <td>2791</td>\n      <td>217</td>\n      <td>0</td>\n      <td>1</td>\n    </tr>\n    <tr>\n      <th>6</th>\n      <td>3.5</td>\n      <td>1344914</td>\n      <td>117382</td>\n      <td>205</td>\n      <td>689</td>\n    </tr>\n    <tr>\n      <th>7</th>\n      <td>4.0</td>\n      <td>301730</td>\n      <td>33023</td>\n      <td>117</td>\n      <td>110</td>\n    </tr>\n    <tr>\n      <th>8</th>\n      <td>4.5</td>\n      <td>205397</td>\n      <td>12038</td>\n      <td>64</td>\n      <td>36</td>\n    </tr>\n  </tbody>\n</table>\n</div>"
     },
     "execution_count": 23,
     "metadata": {},
     "output_type": "execute_result"
    }
   ],
   "source": [
    "LAGTec_by_date = pd.DataFrame(LAGTec.groupby(\"date_avr\").sum()).reset_index()[[\"date_avr\", \"wordcount\", \"n_sentences\", \"sentences_paul_N\", \"sentences_apostle_N\"]]\n",
    "LAGTec_by_date"
   ],
   "metadata": {
    "collapsed": false,
    "pycharm": {
     "name": "#%%\n"
    }
   }
  },
  {
   "cell_type": "code",
   "execution_count": 29,
   "outputs": [
    {
     "data": {
      "text/plain": "                             filename                  author  \\\n989   tlg0555.tlg001.perseus-grc1.xml   Clement of Alexandria   \n990       tlg0555.tlg002.opp-grc1.xml   Clement of Alexandria   \n991   tlg0555.tlg004.perseus-grc1.xml   Clement of Alexandria   \n992       tlg0555.tlg005.opp-grc1.xml   Clement of Alexandria   \n993   tlg0555.tlg006.perseus-grc1.xml   Clement of Alexandria   \n994       tlg0555.tlg007.opp-grc1.xml   Clement of Alexandria   \n995   tlg0555.tlg008.perseus-grc1.xml   Clement of Alexandria   \n1189    tlg1665.tlg001.1st1K-grc1.xml  Seniores Apud Irenaeum   \n1295  tlg2042.tlg001.perseus-grc1.xml                  Origen   \n1296      tlg2042.tlg005.opp-grc1.xml                  Origen   \n1297      tlg2042.tlg006.opp-grc1.xml                  Origen   \n1298  tlg2042.tlg007.perseus-grc1.xml                  Origen   \n1299  tlg2042.tlg008.perseus-grc1.xml                  Origen   \n1300      tlg2042.tlg009.opp-grc1.xml                  Origen   \n1301      tlg2042.tlg010.opp-grc1.xml                  Origen   \n1302      tlg2042.tlg011.opp-grc1.xml                  Origen   \n1303      tlg2042.tlg012.opp-grc1.xml                  Origen   \n1304      tlg2042.tlg013.opp-grc1.xml                  Origen   \n1305      tlg2042.tlg014.opp-grc1.xml                  Origen   \n1306      tlg2042.tlg015.opp-grc1.xml                  Origen   \n1307      tlg2042.tlg016.opp-grc1.xml                  Origen   \n1308      tlg2042.tlg017.opp-grc1.xml                  Origen   \n1309    tlg2042.tlg019.1st1K-grc1.xml                  Origen   \n1310      tlg2042.tlg021.opp-grc1.xml                  Origen   \n1311    tlg2042.tlg028.1st1K-lat1.xml                  Origen   \n1312      tlg2042.tlg029.opp-grc1.xml                  Origen   \n1313      tlg2042.tlg030.opp-lat1.xml                  Origen   \n1314    tlg2042.tlg045.1st1K-grc1.xml                  Origen   \n1315    tlg2042.tlg048.1st1K-grc1.xml                  Origen   \n1316    tlg2042.tlg050.1st1K-grc1.xml                  Origen   \n1317    tlg2042.tlg051.1st1K-grc1.xml                  Origen   \n1318    tlg2042.tlg052.1st1K-grc1.xml                  Origen   \n1319    tlg2042.tlg053.1st1K-grc1.xml                  Origen   \n1320    tlg2042.tlg054.1st1K-grc1.xml                  Origen   \n1321    tlg2042.tlg055.1st1K-grc1.xml                  Origen   \n1322    tlg2042.tlg057.1st1K-grc1.xml                  Origen   \n1323    tlg2042.tlg058.1st1K-grc1.xml                  Origen   \n1324    tlg2042.tlg061.1st1K-grc1.xml                  Origen   \n1325    tlg2042.tlg066.1st1K-grc1.xml                  Origen   \n1326    tlg2042.tlg067.1st1K-grc1.xml                  Origen   \n1327    tlg2042.tlg068.1st1K-grc1.xml                  Origen   \n1328    tlg2042.tlg069.1st1K-grc1.xml                  Origen   \n1329    tlg2042.tlg070.1st1K-grc1.xml                  Origen   \n1330    tlg2042.tlg071.1st1K-grc1.xml                  Origen   \n1331    tlg2042.tlg072.1st1K-grc1.xml                  Origen   \n1332    tlg2042.tlg073.1st1K-grc1.xml                  Origen   \n1333    tlg2042.tlg074.1st1K-grc1.xml                  Origen   \n1334    tlg2042.tlg075.1st1K-grc1.xml                  Origen   \n1335    tlg2042.tlg076.1st1K-grc1.xml                  Origen   \n1336    tlg2042.tlg077.1st1K-grc1.xml                  Origen   \n1337    tlg2042.tlg078.1st1K-grc1.xml                  Origen   \n1338      tlg2042.tlg084.opp-grc1.xml                  Origen   \n\n                                                  title  wordcount author_id  \\\n989                                        Protrepticus      24691   tlg0555   \n990                                          Paedagogus      57001   tlg0555   \n991                               Stromata (Books I-VI)     131072   tlg0555   \n992                                 Eclogae propheticae       4989   tlg0555   \n993                                   Quis Dis Salvetur       9703   tlg0555   \n994                                Excerpta ex Theodoto       7529   tlg0555   \n995   Exhortation to Endurance, or to the Newly Bapt...        769   tlg0555   \n1189                       Reliquiae plurium anonymorum        695   tlg1665   \n1295                                      Contra Celsum     164838   tlg2042   \n1296                  Commentarii in Evangelium Joannis     189794   tlg2042   \n1297       Fragmenta In Evangelium Joannis (In Catenis)      29918   tlg2042   \n1298                            Exhortatio ad martyrium      12324   tlg2042   \n1299                                        De oratione      28032   tlg2042   \n1300                        In Jeremiam (Homiliae 1-11)      32461   tlg2042   \n1301                 Fragmenta In Jeremiam (in Catenis)      10784   tlg2042   \n1302  Fragmenta In Lamentationes (In Catenis de Prop...      12522   tlg2042   \n1303  Fragmentum in Lamentationes (In Catenis de Oct...        167   tlg2042   \n1304                                   De Engastrimytho       4774   tlg2042   \n1305  Fragmenta in Librum Primum Regnorum (In Cateni...       2250   tlg2042   \n1306  Fragmentum In Librum Primum Regnorum (In Caten...         83   tlg2042   \n1307                                  Homiliae In Lucam      30721   tlg2042   \n1308                   Fragmenta in Lucam (in catenis)       15210   tlg2042   \n1309                           The Philocalia of Origen      69451   tlg2042   \n1310                       In Jeremiam (Homiliae 12-20)      42287   tlg2042   \n1311       Commentariorum Series In Evangelium Matthaei      31869   tlg2042   \n1312   Commentarium In Evangelium Matthaei (Lib. 10-11)      26912   tlg2042   \n1313   Commentarium In Evangelium Matthaei (Lib. 12-17)      25669   tlg2042   \n1314                              Epistula ad Africanum       5815   tlg2042   \n1315                                 Selecta in Genesim      10574   tlg2042   \n1316                                  Selecta in Exodum       3401   tlg2042   \n1317                               Selecta in Leviticum       1551   tlg2042   \n1318                                 Selecta in Numeros       1780   tlg2042   \n1319                           Selecta in Deuteronomium       2522   tlg2042   \n1320                              Selecta in Jesum Nave        989   tlg2042   \n1321                                 Selecta in Judices        267   tlg2042   \n1322                                     Selecta in Job       3104   tlg2042   \n1323                          Selecta in Psalmos [Dub.]     107199   tlg2042   \n1324                            Fragmenta in Ezechielem        354   tlg2042   \n1325                            Adnotationes in Genesim        648   tlg2042   \n1326                             Adnotationes in Exodum        248   tlg2042   \n1327    Adnotationes in Leviticum (fragmenta e catenis)        527   tlg2042   \n1328                            Adnotationes in Numeros        401   tlg2042   \n1329  Adnotationes in Deuteronomium (fragmenta e cat...       1950   tlg2042   \n1330  Adnotationes in Jesu filium Nave (fragmenta e ...        207   tlg2042   \n1331                            Adnotationes in Judices        140   tlg2042   \n1332   Homiliae in Job (fragmenta in catenis, typus II)       8968   tlg2042   \n1333                         Excerpta in Psalmos [Dub.]       8878   tlg2042   \n1334       Expositio in Proverbia (fragmenta e catenis)      18195   tlg2042   \n1335                     Scholia in Canticum canticorum       7062   tlg2042   \n1336                               Scholia in Matthaeum       4445   tlg2042   \n1337      Scholia in Lucam (fragmenta e cod. Venet. 28)      11142   tlg2042   \n1338               Fragmenta In Jeremiam (E Philocalia)        998   tlg2042   \n\n              doc_id  raw_date  date_avr                date_probs  \\\n989   tlg0555.tlg001  A.D. 2-3       2.0  {'1.5': 0.5, '2.5': 0.5}   \n990   tlg0555.tlg002  A.D. 2-3       2.0  {'1.5': 0.5, '2.5': 0.5}   \n991   tlg0555.tlg004  A.D. 2-3       2.0  {'1.5': 0.5, '2.5': 0.5}   \n992   tlg0555.tlg005  A.D. 2-3       2.0  {'1.5': 0.5, '2.5': 0.5}   \n993   tlg0555.tlg006  A.D. 2-3       2.0  {'1.5': 0.5, '2.5': 0.5}   \n994   tlg0555.tlg007  A.D. 2-3       2.0  {'1.5': 0.5, '2.5': 0.5}   \n995   tlg0555.tlg008  A.D. 2-3       2.0  {'1.5': 0.5, '2.5': 0.5}   \n1189  tlg1665.tlg001  A.D. 2-3       2.0  {'1.5': 0.5, '2.5': 0.5}   \n1295  tlg2042.tlg001  A.D. 2-3       2.0  {'1.5': 0.5, '2.5': 0.5}   \n1296  tlg2042.tlg005  A.D. 2-3       2.0  {'1.5': 0.5, '2.5': 0.5}   \n1297  tlg2042.tlg006  A.D. 2-3       2.0  {'1.5': 0.5, '2.5': 0.5}   \n1298  tlg2042.tlg007  A.D. 2-3       2.0  {'1.5': 0.5, '2.5': 0.5}   \n1299  tlg2042.tlg008  A.D. 2-3       2.0  {'1.5': 0.5, '2.5': 0.5}   \n1300  tlg2042.tlg009  A.D. 2-3       2.0  {'1.5': 0.5, '2.5': 0.5}   \n1301  tlg2042.tlg010  A.D. 2-3       2.0  {'1.5': 0.5, '2.5': 0.5}   \n1302  tlg2042.tlg011  A.D. 2-3       2.0  {'1.5': 0.5, '2.5': 0.5}   \n1303  tlg2042.tlg012  A.D. 2-3       2.0  {'1.5': 0.5, '2.5': 0.5}   \n1304  tlg2042.tlg013  A.D. 2-3       2.0  {'1.5': 0.5, '2.5': 0.5}   \n1305  tlg2042.tlg014  A.D. 2-3       2.0  {'1.5': 0.5, '2.5': 0.5}   \n1306  tlg2042.tlg015  A.D. 2-3       2.0  {'1.5': 0.5, '2.5': 0.5}   \n1307  tlg2042.tlg016  A.D. 2-3       2.0  {'1.5': 0.5, '2.5': 0.5}   \n1308  tlg2042.tlg017  A.D. 2-3       2.0  {'1.5': 0.5, '2.5': 0.5}   \n1309  tlg2042.tlg019  A.D. 2-3       2.0  {'1.5': 0.5, '2.5': 0.5}   \n1310  tlg2042.tlg021  A.D. 2-3       2.0  {'1.5': 0.5, '2.5': 0.5}   \n1311  tlg2042.tlg028  A.D. 2-3       2.0  {'1.5': 0.5, '2.5': 0.5}   \n1312  tlg2042.tlg029  A.D. 2-3       2.0  {'1.5': 0.5, '2.5': 0.5}   \n1313  tlg2042.tlg030  A.D. 2-3       2.0  {'1.5': 0.5, '2.5': 0.5}   \n1314  tlg2042.tlg045  A.D. 2-3       2.0  {'1.5': 0.5, '2.5': 0.5}   \n1315  tlg2042.tlg048  A.D. 2-3       2.0  {'1.5': 0.5, '2.5': 0.5}   \n1316  tlg2042.tlg050  A.D. 2-3       2.0  {'1.5': 0.5, '2.5': 0.5}   \n1317  tlg2042.tlg051  A.D. 2-3       2.0  {'1.5': 0.5, '2.5': 0.5}   \n1318  tlg2042.tlg052  A.D. 2-3       2.0  {'1.5': 0.5, '2.5': 0.5}   \n1319  tlg2042.tlg053  A.D. 2-3       2.0  {'1.5': 0.5, '2.5': 0.5}   \n1320  tlg2042.tlg054  A.D. 2-3       2.0  {'1.5': 0.5, '2.5': 0.5}   \n1321  tlg2042.tlg055  A.D. 2-3       2.0  {'1.5': 0.5, '2.5': 0.5}   \n1322  tlg2042.tlg057  A.D. 2-3       2.0  {'1.5': 0.5, '2.5': 0.5}   \n1323  tlg2042.tlg058  A.D. 2-3       2.0  {'1.5': 0.5, '2.5': 0.5}   \n1324  tlg2042.tlg061  A.D. 2-3       2.0  {'1.5': 0.5, '2.5': 0.5}   \n1325  tlg2042.tlg066  A.D. 2-3       2.0  {'1.5': 0.5, '2.5': 0.5}   \n1326  tlg2042.tlg067  A.D. 2-3       2.0  {'1.5': 0.5, '2.5': 0.5}   \n1327  tlg2042.tlg068  A.D. 2-3       2.0  {'1.5': 0.5, '2.5': 0.5}   \n1328  tlg2042.tlg069  A.D. 2-3       2.0  {'1.5': 0.5, '2.5': 0.5}   \n1329  tlg2042.tlg070  A.D. 2-3       2.0  {'1.5': 0.5, '2.5': 0.5}   \n1330  tlg2042.tlg071  A.D. 2-3       2.0  {'1.5': 0.5, '2.5': 0.5}   \n1331  tlg2042.tlg072  A.D. 2-3       2.0  {'1.5': 0.5, '2.5': 0.5}   \n1332  tlg2042.tlg073  A.D. 2-3       2.0  {'1.5': 0.5, '2.5': 0.5}   \n1333  tlg2042.tlg074  A.D. 2-3       2.0  {'1.5': 0.5, '2.5': 0.5}   \n1334  tlg2042.tlg075  A.D. 2-3       2.0  {'1.5': 0.5, '2.5': 0.5}   \n1335  tlg2042.tlg076  A.D. 2-3       2.0  {'1.5': 0.5, '2.5': 0.5}   \n1336  tlg2042.tlg077  A.D. 2-3       2.0  {'1.5': 0.5, '2.5': 0.5}   \n1337  tlg2042.tlg078  A.D. 2-3       2.0  {'1.5': 0.5, '2.5': 0.5}   \n1338  tlg2042.tlg084  A.D. 2-3       2.0  {'1.5': 0.5, '2.5': 0.5}   \n\n      date_manual provenience               tlg_epithet  \\\n989           2.5   christian                Theologici   \n990           2.5   christian                Theologici   \n991           2.5   christian                Theologici   \n992           2.5   christian                Theologici   \n993           2.5   christian                Theologici   \n994           2.5   christian                Theologici   \n995           2.5   christian                Theologici   \n1189          NaN   christian  Scriptores Ecclesiastici   \n1295          2.5   christian                Theologici   \n1296          2.5   christian                Theologici   \n1297          2.5   christian                Theologici   \n1298          2.5   christian                Theologici   \n1299          2.5   christian                Theologici   \n1300          2.5   christian                Theologici   \n1301          2.5   christian                Theologici   \n1302          2.5   christian                Theologici   \n1303          2.5   christian                Theologici   \n1304          2.5   christian                Theologici   \n1305          2.5   christian                Theologici   \n1306          2.5   christian                Theologici   \n1307          2.5   christian                Theologici   \n1308          2.5   christian                Theologici   \n1309          2.5   christian                Theologici   \n1310          2.5   christian                Theologici   \n1311          2.5   christian                Theologici   \n1312          2.5   christian                Theologici   \n1313          2.5   christian                Theologici   \n1314          2.5   christian                Theologici   \n1315          2.5   christian                Theologici   \n1316          2.5   christian                Theologici   \n1317          2.5   christian                Theologici   \n1318          2.5   christian                Theologici   \n1319          2.5   christian                Theologici   \n1320          2.5   christian                Theologici   \n1321          2.5   christian                Theologici   \n1322          2.5   christian                Theologici   \n1323          2.5   christian                Theologici   \n1324          2.5   christian                Theologici   \n1325          2.5   christian                Theologici   \n1326          2.5   christian                Theologici   \n1327          2.5   christian                Theologici   \n1328          2.5   christian                Theologici   \n1329          2.5   christian                Theologici   \n1330          2.5   christian                Theologici   \n1331          2.5   christian                Theologici   \n1332          2.5   christian                Theologici   \n1333          2.5   christian                Theologici   \n1334          2.5   christian                Theologici   \n1335          2.5   christian                Theologici   \n1336          2.5   christian                Theologici   \n1337          2.5   christian                Theologici   \n1338          2.5   christian                Theologici   \n\n                                           clean_string  n_sentences  \\\n989    Ἀμφίων ὁ Θηβαῖος καὶ Ἀρίων ὁ Μηθυμναῖος ἄμφω ...         2068   \n990    . Τί ἐπαγγέλλεται ὁ παιδαγωγός. . Ὅτι διὰ τὰς...         3410   \n991    (/ (\\ = )/| )\\ \\ =| / )/. / ) )) (/ )\\ \\ / /;...         7599   \n992   Οἱ ἀμφὶ τὸν Σεδράχ, Μισάκ, Ἀβδεναγὼ ἐν τῇ καμί...          354   \n993   Οἱ μὲν τοὺς ἐγκωμιαστικοὺς λόγους τοῖς πλουσίο...          747   \n994    »Πάτερ,« φησί, »παρατίθεμαί σοι εἰς χεῖρας τὸ...          494   \n995    Ἡσυχίαν μὲν λόγοις ἐπιτήδευε, ἡσυχίαν δὲ ἔργο...           81   \n1189   . æ ; , , æ ; , æ æ , æ . , , . Ἡ γὰρ πλάνη (...          200   \n1295   Ὁ μὲν σωτὴρ καὶ κύριος ἡμῶν Ἰησοῦς Χριστὸς ψε...         8391   \n1296  ΤΟΜΟΣ Α΄. Ὃν τρόπον οἶμαι ό πάλαι »λαὸς« ἐπικλ...        23491   \n1297  Δημιουργὸν τῶν πάντων τιθέμενος αὐτὸν τὸ τοῦ Λ...         3599   \n1298  „Οἱ ἀπογεγαλακτισμένοι ἀπὸ γάλακτος. οἱ ἀπεσπα...          747   \n1299   Τὰ διὰ τὸ εἶναι μέγιστα καὶ ὑπὲρ ἄνθρωπον τυγ...         1521   \n1300   Ὁ θεὸς εἰς ἀγαθοποιίαν πρόχειρός ἐστιν, εἰς δ...         4914   \n1301   Ὁ γὰρ δίκαιος οὐκ ἔστιν ἐν νεότητι, ἐπεὶ »τελ...         1537   \n1302  Ὁ Ἱερεμίας αἰχμαλωτισθέντος τοῦ λαοῦ καὶ ὄντος...         1326   \n1303  Ὠριγένους εἰς το αὐτὸ ἐκ τῶν εἰς τοὺς Θρήνους....           10   \n1304  Τὰ ἀναγνωσθέντα πλείονά ἐστιν, καὶ ἐπεὶ χρὴ ἐπ...          710   \n1305  Ἐπειδὴ ἔμελλεν ἡ θεία γραφὴ τὴν ἀπώλειαν τῶν υ...          226   \n1306  Διδάσκει καὶ διὰ ταύτης τῆς ᾠδῆς τὸν προσερχόμ...            5   \n1307   . . , , , . , , — , , ; , . , , . ! . . , (. ...         4883   \n1308  Ἐφίστησι τῇ τοῦ Σίμωνος οἰκίᾳ ὁ σωτὴρ καὶ εὑρί...         1167   \n1309  Ἐκλογὴν ἡ παροῦσα περιέχει βίβλος γραφικῶν ζητ...         5336   \n1310  Ὃ προστάσσεται ὁ προφήτης λέγειν ὑπὸ θεοῦ, ὀφε...         7061   \n1311   , , : , ? : . . : . (, — ). , : , , . ( ) , ....        10074   \n1312   Τότε ἀφεὶς τοὺς ὄχλους ἦλθεν εἰς τὴν οἰκίαν α...         2562   \n1313   : ? : , , . : ? : . , , . , , . , , - , , . ,...         8695   \n1314  Ὠριγένης Ἀφρικανῷ ἀγαπητῷ ἀδελφῷ ἐν Θεῷ Πατρὶ ...          631   \n1315  Τῶν δὲ ἱερῶν τοῦ Σωτῆρος ἡμῶν ἀποστόλων τε καὶ...         1287   \n1316  « Καὶ δώσω χάριν τῷ λαῷ τούτῳ ἐνώπιον τῶν Αἰγυ...          382   \n1317  Καὶ ἀνεκάλεσε Μωϋσῆν. Λευϊτικὸν ὠνόμασται, ἐπε...          168   \n1318  Οὐδὲν πλὴν εἰς τὸ μάννα οἱ ὀφθαλμοὶ ἡμῶ. Μᾶν ὠ...          207   \n1319  Ἐλάλησε Μωϋσῆς πρὸς πάντας υἱοὑς Ἰσραήλ κατὰ π...          261   \n1320  Σὺ, καὶ πᾶς ὁ λαὸς οὗτος, Τοῖς φυλάσσουσι τὸν ...          113   \n1321  Καὶ εῦξατο Ἱεμθάε τῷ Κυφίῳ. Εἰ Πνεῦμα Κυρίου ἐ...           30   \n1322  Οἱ ἱππεῖς ἐποίησαν ἡμῖν κεφαλὰς τρεῖς καὶ ἐκύκ...          305   \n1323  Διὰ τοὺς ἐπιγεγραμμένους ψαλμοὺς « εἰς τὸ τέλο...        13115   \n1324  . . . . . . Βραχίονές εῖαι Φαραὼ ἡ κακία ἐν πρ...           48   \n1325  Στιχ. δ΄. Ἐγὼ ἐπάγω ὑετὸν (ἐπὶ) τὴν γῆν τεσσαρ...           75   \n1326  Στίχ. κε΄. Ἐκεῖ ἔθετο αὐτῷ ὁ Θεὸς δικαώματα κα...           30   \n1327  Στίχ. κζ΄. Ψυχὴ ἐὰν ἁμάρτῃ ἀκουσίως. φησὶ. καὶ...           79   \n1328  Στίχ. ζ΄. Τὸ δὲ μάννα, ὼσεὶ σπέρμα κορίου. () ...           72   \n1329  Στίχ. λα΄. Ὁσεὶ τροφοφορήσαι ἀνθρωπος. Ἀκύλας....          241   \n1330  Στίχ. ιδ΄. Καὶ ἀπῆρε πᾶς λαὸς ἐκ τῶν σκηνωμάτω...           43   \n1331  () Στίχ. ιθ΄. Καὶ ἔῤῥηξεν ὁ Θεὸς τὸ τραῦμα τὸ ...           22   \n1332  () Στίχ. ι´. Οὐ σὺ περιέφραξας τὰ ἔξω αὐτοῦ; Π...         1365   \n1333  Στίχ. η΄. Ἡτοίμασεν ἐν κρίσει τὸν θρόνον αὐτοῦ...          981   \n1334  () Παροιμία ἐστὶ λόγος ἀπόκρυφος διʼ ἑτέρου πρ...         1946   \n1335  ( : Προκοπίου Χριστιανοῦ σοφιστοῦ εἰς τὰ ᾌσμστ...          670   \n1336  Στιχ. ιη΄. Τοῦ δὲ Ἰησοῦ ἡ γέννησις οὕτως ἦν. ....          488   \n1337  Στίχ. ά. Ἐπειδὴ πολλοὶ ἐπεχείρησαν ανατάδασθαι...         1216   \n1338  {Ὥσπερ δὲ πάντα τὰ τοῦ θεοῦ δωρήματα εἰς ὑπερβ...           97   \n\n                                   lemmatized_sentences  \\\n989   [[ἀμφίων, Θηβαῖος, Ἄριοι, μηθυμναῖος, ἄμφω, εἰ...   \n990   [[], [ἐπαγγέλλω, παιδαγωγός], [], [ἁμαρτία, πα...   \n991   [[], [], [], [], [], [], [], [], [], [], [], [...   \n992   [[σεδράχ, μισάκ, ἀβδεναγὼ, κάμινος, πῦρ, ὑμνοῦ...   \n993   [[ἐγκωμιαστικοὺς, λόγος, πλούσιος, δωροφοροῦντ...   \n994   [[πατήρ, φημί, παρατίθημι, χείρ, πνεῦμα], [προ...   \n995   [[ἡσυχία, λόγος, ἐπιτήδευε, ἡσυχία, ἔργον, γλῶ...   \n1189  [[], [], [], [], [], [πλάνη, æ], [], [], [], [...   \n1295  [[σωτήρ, κύριος, Ἰησοῦς, Χριστός, ψευδομαρτυρο...   \n1296  [[τομός, α], [τρόπος, οἴομαι, λαός, ἐπικαλέω, ...   \n1297  [[δημιουργός, πᾶς, τιθέμενος, λόγος, ὄνομα, κα...   \n1298  [[ἀπογεγαλακτισμένοι, γάλα], [ἀπεσπασμένοι, μα...   \n1299  [[μέγας, ἄνθρωπος, τυγχάνω, ὑπερβολή, ἐπικήρου...   \n1300  [[θεός, ἀγαθοποιίαν, πρόχειρος, εἰμί, κολάζω, ...   \n1301  [[δίκαιος, εἰμί, νεότης, τελειόω, ὀλίγος, πληρ...   \n1302  [[ἱερεμίας, αἰχμαλωτισθέντος, λαός, εἰμί, βάβυ...   \n1303  [[ὠριγένους, θρῆνος], [δίκαιος], [διαλαμβάνω, ...   \n1304  [[ἀναγιγνώσκω, πολύς, εἰμί, χρή, ἐπιτεμνόμενον...   \n1305  [[μέλλω, Θεία, γραφή, ἀπώλεια, υἱός, ἠλὶ, προλ...   \n1306  [[διδάσκω, ἀοιδή, προσέρχομαι, θεός, μόνος, ἔχ...   \n1307  [[], [], [], [], [], [], [], [], [], [], [], [...   \n1308  [[ἐφίστημι, Σίμων, οἰκία, σωτήρ, εὑρίσκω, πυρέ...   \n1309  [[ἐκλογή, πάρειμι, περιέχω, βίβλος, γραφικῶν, ...   \n1310  [[προστάσσεται, προφήτης, λέγω, θεός, ὀφείλω, ...   \n1311  [[], [], [], [], [], [], [], [], [], [], [], [...   \n1312  [[ἀφίημι, ὄχλος, ἔρχομαι, οἰκία], [προσέρχομαι...   \n1313  [[], [], [], [], [], [], [], [], [], [], [], [...   \n1314  [[ὠριγένης, ἀφρικανῷ, ἀγαπητός, ἀδελφός, θεός,...   \n1315  [[ἱερόν, σωτήρ, ἀπόστολος, μαθητής, ἅπας, διασ...   \n1316  [[δίδωμι, χάρις, λαός, Αἰγύπτιος], [ἀποτρέχοιτ...   \n1317  [[ἀνεκάλεσε, Μωϋσῆς], [λευϊτικὸν, ὀνομάζω, ἱερ...   \n1318  [[μάννα, ὀφθαλμός, ἡμῶ], [ὀνομάζω, ἐβραίους, π...   \n1319  [[λαλέω, Μωϋσῆς, υἱοὑς, Ἰσραήλ, πᾶς, ἐντέλλω, ...   \n1320  [[πᾶς, λαός, οὗτος, φυλάσσω, νόμος, ὑπισχνέομα...   \n1321  [[εὔχομαι, ἱεμθάε, κυφίῳ], [πνεῦμα, κύριος, εὔ...   \n1322  [[ἱππεύς, ποιέω, κεφαλή, κυκλόω, κάμηλος], [κά...   \n1323  [[ἐπιγεγραμμένους, ψαλμοὺς, τέλος, ἐπιλέγω, ὅρ...   \n1324  [[], [], [], [], [], [], [βραχύς, ἐάω, Φαραώ, ...   \n1325  [[στιχ], [], [ἐπάγω, ὑετός, γῆ, ἡμέρα, νύξ], [...   \n1326  [[στίχ], [], [τίθημι, θεός, δικαώματα, κρίσις,...   \n1327  [[στίχ], [κζ], [ψυχή, ἁμαρτάνω, ἀεκούσιος], [φ...   \n1328  [[στίχ], [], [μάννα, ὠθέω, σπέρμα, κορίου], [σ...   \n1329  [[στίχ], [λάω], [ὁσεὶ, τροφοφορήσαι, ἄνθρωπος]...   \n1330  [[στίχ], [], [ἀπαίρω, λαός, σκήνωμα], [τουτέστ...   \n1331  [[στίχ], [ιθ], [ἔῤῥηξεν, θεός, τραῦμα, σιαγών,...   \n1332  [[στίχ], [], [περιέφραξας], [οἶδα, φράσσω], [ἀ...   \n1333  [[στίχ], [ἠμί], [ἑτοιμάζω, κρίσις, θρόνος], [σ...   \n1334  [[παροιμία, λόγος, ἀπόκρυφος, ἕτερος, πρόδηλος...   \n1335  [[], [προκοπίου, χριστιανοῦ, σοφιστής, ᾄσμστα,...   \n1336  [[στιχ], [ἰά], [Ἰησοῦς, γέννησις, εἰμί], [], [...   \n1337  [[στίχ], [], [πολύς, ἐπιχειρέω, ανατάδασθαι, δ...   \n1338  [[θεός, δώρημα, ὑπερβολή, μέγας, εἰμί, θνητός,...   \n\n                                         sentences_paul  sentences_paul_N  \\\n989   [[θεοσέβεια, πᾶς, ὠφέλιμοσ, Παῦλος, ἐπαγγελία,...                 2   \n990   [[οὗτος, σαφής, μακάριος, Παῦλος, ὑπεσημήνατο,...                11   \n991                                                  []                 0   \n992                                                  []                 0   \n993       [[ὑπερβολή, ὁδός, δείκνυμι, Παῦλος, σωτηρία]]                 1   \n994   [[Παῦλος, ἔνδυσαι, καινός, ἄνθρωπος, θεός, κτί...                 4   \n995                                                  []                 0   \n1189  [[δίκαιος, ἄνθρωπος, πνευματοφόροις, ἡτοιμάσθη...                 1   \n1295  [[Παῦλος, μυρίος, καταλέγω, εἰωθότα, χωρίζω, ἀ...                93   \n1296  [[ἐπίστησον, λέγω, Παῦλος], [οἴομαι, εὐαγγέλιο...                97   \n1297  [[Παῦλος, ἀγνοέω, χριστός, διώκω, προσούσης, ἄ...                11   \n1298  [[λογίζομαι, Παῦλος, ἄξιος, πάθημα, καιρός], [...                 6   \n1299  [[Παῦλος], [οὗτος, ἐπίσταμαι, Παῦλος, οὗτος, π...                29   \n1300  [[Παῦλος, προδότης, Παῦλος, διώκτης], [ζῶ, ποι...                16   \n1301  [[μυστικός, τοιοῦτος, νομοθεσία, Παῦλος, διδάσ...                11   \n1302  [[οὗτος, θρηνέω, Παῦλος, υἱοθεσία, λέγω, δόξα]...                 5   \n1303  [[γίγνομαι, Παῦλος, προδίδωμι, ἐκκλησία, ζῆλος...                 1   \n1304  [[λέγω, Παῦλος, ἐκκλησία, οἰκοδομέω, προφητεύω...                 1   \n1305                                                 []                 0   \n1306                                                 []                 0   \n1307  [[ἐνδέχομαι, φαινό, μένω, δίκαιτον, εἰμί, τινα...                 4   \n1308  [[Ἰούδας, λαός, ἄνθρωπος, εἰμί, ἐφιστῶμεν, βελ...                11   \n1309  [[ψυχή, ἀναγομένης, διήγησις, παράδειγμα, Παῦλ...                34   \n1310  [[Παῦλος, ἔχω, ὕλη, ἐπαίρω, ὀπτασία, ὅραμα, τέ...                17   \n1311  [[ἄλλος, ἀνατολή, δύσις, Ἰησοῦς, Χριστός, Παῦλ...                 3   \n1312  [[ἄλλος, λέγω, ἀγρός, πλήρης, εὐλόγησε, κύριος...                13   \n1313  [[συμβιώσαντα, συμβιῶσαι, ἀνδρεία, βούλομαι, Π...                 1   \n1314  [[Παῦλος, γράφω], [ἐλλός, λόγος, ἴδιος, χρῄζω,...                 4   \n1315  [[δεῖ, Παῦλος, λέγω, ἰερουσαλὴμ, Ἰλλυρικόν, πε...                 2   \n1316  [[νοέω, ἑορτή, ἑορτή, νέος, ἀπόστολος, Παῦλος,...                 1   \n1317       [[ἄλλος, μιμνήσκω, μακάριος, Παῦλος, φάσκω]]                 1   \n1318                                                 []                 0   \n1319                         [[μακάριος, Παῦλος, φημί]]                 1   \n1320         [[ὅμοιος, Παῦλος, χαλάω, σαργάνη, τεῖχος]]                 1   \n1321                                                 []                 0   \n1322  [[οὗτος, Παῦλος, ὕστερος, φθέγγομαι, προστίθημι]]                 1   \n1323  [[Παῦλος], [οἷος, Παῦλος, Πέτρος, εἰμί, ψυχή, ...                58   \n1324                                                 []                 0   \n1325                                                 []                 0   \n1326                                                 []                 0   \n1327                                                 []                 0   \n1328                                                 []                 0   \n1329  [[ἐνέργεια, αὐτός, πνεῦμα, καθάπερὁ, Παῦλος, δ...                 2   \n1330                                                 []                 0   \n1331                                                 []                 0   \n1332       [[σκεῦος, ἐκλογή, Παῦλος, ἐπιστέλλων, φημί]]                 1   \n1333  [[Παῦλος, ἥσσων, μέγας, προβαίνων, φημί], [οὐρ...                 3   \n1334  [[πλατύνω, φημί, Κορίνθιος, Παῦλος], [γῆ, λέγω...                23   \n1335  [[γίγνομαι, Παῦλος, ὀσμή, θάνατος, θάνατος, δω...                 5   \n1336  [[ἀγρός, Χριστός, Παῦλος, λέγω, ἐγκεκρύφθαι, ἀ...                 1   \n1337  [[νομιστέονδὲ, κόσμος, Παῦλος, σταυρόω, νεκρός...                 2   \n1338                                                 []                 0   \n\n                                      sentences_apostle  sentences_apostle_N  \n989   [[θεσπέσιος, κύριος, ἀπόστολος, χάρις, θεός, σ...                    9  \n990   [[ἐμφαντικώτερον, ἀποκαλύπτων, κύριος, σημαινό...                   60  \n991                                                  []                    0  \n992   [[κύριος, ἀπόστολος, φόβος, πόνος, ἀναστρέφω],...                    8  \n993   [[μέγεθος, σωτήρ, ἐκεῖνος, καινότης, χάρις, μα...                    4  \n994   [[ἀνάστασις, ἐμφυσῶν, πνεῦμα, ἀπόστολος, χοῦς,...                   20  \n995                                                  []                    0  \n1189  [[ὄις, πρέσβυς, ἀπόστολος, μανθάνω, μετατεθέντ...                    2  \n1295  [[ἄξιος, σεμνύνω, θλῖψις, χωριζούσῃ, αὐτός, κα...                   64  \n1296  [[τὶς, ἀνθυποφέρῃ, νομίζω, ἀσεβέω, ἀρχιερεύς, ...                  151  \n1297  [[πᾶς, ἀποστρέφω, πολύς, προσίημι, ἀπόστολος, ...                   16  \n1298  [[εὔχομαι, ὅλος, ἐνίστημι, ἀγών, μεμνημένους, ...                    8  \n1299  [[πρᾶξις, ἀπόστολος], [ἱκανός, καλέω, ἀπόστολο...                   17  \n1300  [[παρέόωκα, Σατανᾶς, παιδεύω, βλασφημέω, φημί,...                   22  \n1301  [[δικαιοσύνη, οἰκοδομουμένην, οἰκία, δηλόω, λέ...                    6  \n1302  [[στενάζων, οὗτος, πατριάρχων, γέλως, ἀπόστολο...                    7  \n1303                                                 []                    0  \n1304  [[ἀληθής, λέγω, ψαλμός, ἑρμηνευθὲν, ἀπόστολος,...                    2  \n1305  [[μακάριος, ἀπόστολος, πέμπω, σωτήρ, πρότερος,...                    1  \n1306                                                 []                    0  \n1307  [[ἀπόστολος, βέβαιος, φημί], [παραδίδωμι, ἀρχή...                   13  \n1308  [[ἔχω, πνεῦμα, ἅγιος, καρτοὺς, ἐπιδιέκνυται, ἀ...                   11  \n1309  [[καυχάομαι, σάρξ, Ἰσραήλ, καλέω, ἀπόστολος, σ...                   58  \n1310  [[ἀναγεγραμμένα, φημί, ἀπόστολος, γράφω, Ζεύς,...                   24  \n1311  [[ἐποικοδομέω, θεμέλιος, ἀπόστολος, προφήτης, ...                    1  \n1312  [[παραστάς, ἐπιτραπέντων, Ἰησοῦς, πορεύομαι, ὁ...                   14  \n1313      [[παιδεία, τουτέστι, ἀπόστολος], [ἀπόστολος]]                    2  \n1314  [[ἀληθεύω, στέφανος, προσιεμένων, πρᾶξις, ἀπόσ...                    1  \n1315  [[ἱερόν, σωτήρ, ἀπόστολος, μαθητής, ἅπας, διασ...                    8  \n1316  [[νοέω, ἑορτή, ἑορτή, νέος, ἀπόστολος, Παῦλος,...                    2  \n1317                   [[νοέω, δαυῒδ, ἀπόστολος, λέγω]]                    1  \n1318                                                 []                    0  \n1319  [[ἀπόστολος, φημί], [οὗτος, φημί, ἀπόστολος, Π...                    2  \n1320  [[ἀπόστολος, δεύτερος, σῴζω, ἐχθρός, ὁμοιότροπ...                    1  \n1321                                                 []                    0  \n1322                   [[ἀνδραγάθημα, ἀπόστολος, λέγω]]                    1  \n1323  [[ἡγέομαι, ἀπόστολος, ἔφοδος, συνίημι, θεῖος, ...                   61  \n1324                                                 []                    0  \n1325                                                 []                    0  \n1326                                                 []                    0  \n1327                      [[ἀπόστολος, ἁμαρτάνω, φημί]]                    1  \n1328                                                 []                    0  \n1329  [[ἀπόστολος, πνεῦμα, ζωοποιὸν], [οὕπω, Χριστός...                    3  \n1330                               [[τύπος, ἀπόστολος]]                    1  \n1331                                                 []                    0  \n1332  [[δεῖ, λέγω, ἀπόστολος], [ἀνδραγάθημα, ἀπόστολ...                    4  \n1333  [[γίγνομαι, πρᾶξις, κεῖμαι, ἀπόστολος, βλεπτόν...                    1  \n1334  [[φιλία, εἰμί, πνευματικὴ, γνῶσις, θεός, ἅγιος...                    7  \n1335  [[οὗτος, φίλος, νυμφίος, φημί, ἅγιος, ἄγγελος,...                    4  \n1336  [[πωλέω, εἰμί, προφήτης, ἀπόστολος, εὐαγγελιστ...                    1  \n1337  [[ἀπόστολος, βέβαιος, φημί], [εἰρηνοπαίησε, αἷ...                   10  \n1338                                                 []                    0  ",
      "text/html": "<div>\n<style scoped>\n    .dataframe tbody tr th:only-of-type {\n        vertical-align: middle;\n    }\n\n    .dataframe tbody tr th {\n        vertical-align: top;\n    }\n\n    .dataframe thead th {\n        text-align: right;\n    }\n</style>\n<table border=\"1\" class=\"dataframe\">\n  <thead>\n    <tr style=\"text-align: right;\">\n      <th></th>\n      <th>filename</th>\n      <th>author</th>\n      <th>title</th>\n      <th>wordcount</th>\n      <th>author_id</th>\n      <th>doc_id</th>\n      <th>raw_date</th>\n      <th>date_avr</th>\n      <th>date_probs</th>\n      <th>date_manual</th>\n      <th>provenience</th>\n      <th>tlg_epithet</th>\n      <th>clean_string</th>\n      <th>n_sentences</th>\n      <th>lemmatized_sentences</th>\n      <th>sentences_paul</th>\n      <th>sentences_paul_N</th>\n      <th>sentences_apostle</th>\n      <th>sentences_apostle_N</th>\n    </tr>\n  </thead>\n  <tbody>\n    <tr>\n      <th>989</th>\n      <td>tlg0555.tlg001.perseus-grc1.xml</td>\n      <td>Clement of Alexandria</td>\n      <td>Protrepticus</td>\n      <td>24691</td>\n      <td>tlg0555</td>\n      <td>tlg0555.tlg001</td>\n      <td>A.D. 2-3</td>\n      <td>2.0</td>\n      <td>{'1.5': 0.5, '2.5': 0.5}</td>\n      <td>2.5</td>\n      <td>christian</td>\n      <td>Theologici</td>\n      <td>Ἀμφίων ὁ Θηβαῖος καὶ Ἀρίων ὁ Μηθυμναῖος ἄμφω ...</td>\n      <td>2068</td>\n      <td>[[ἀμφίων, Θηβαῖος, Ἄριοι, μηθυμναῖος, ἄμφω, εἰ...</td>\n      <td>[[θεοσέβεια, πᾶς, ὠφέλιμοσ, Παῦλος, ἐπαγγελία,...</td>\n      <td>2</td>\n      <td>[[θεσπέσιος, κύριος, ἀπόστολος, χάρις, θεός, σ...</td>\n      <td>9</td>\n    </tr>\n    <tr>\n      <th>990</th>\n      <td>tlg0555.tlg002.opp-grc1.xml</td>\n      <td>Clement of Alexandria</td>\n      <td>Paedagogus</td>\n      <td>57001</td>\n      <td>tlg0555</td>\n      <td>tlg0555.tlg002</td>\n      <td>A.D. 2-3</td>\n      <td>2.0</td>\n      <td>{'1.5': 0.5, '2.5': 0.5}</td>\n      <td>2.5</td>\n      <td>christian</td>\n      <td>Theologici</td>\n      <td>. Τί ἐπαγγέλλεται ὁ παιδαγωγός. . Ὅτι διὰ τὰς...</td>\n      <td>3410</td>\n      <td>[[], [ἐπαγγέλλω, παιδαγωγός], [], [ἁμαρτία, πα...</td>\n      <td>[[οὗτος, σαφής, μακάριος, Παῦλος, ὑπεσημήνατο,...</td>\n      <td>11</td>\n      <td>[[ἐμφαντικώτερον, ἀποκαλύπτων, κύριος, σημαινό...</td>\n      <td>60</td>\n    </tr>\n    <tr>\n      <th>991</th>\n      <td>tlg0555.tlg004.perseus-grc1.xml</td>\n      <td>Clement of Alexandria</td>\n      <td>Stromata (Books I-VI)</td>\n      <td>131072</td>\n      <td>tlg0555</td>\n      <td>tlg0555.tlg004</td>\n      <td>A.D. 2-3</td>\n      <td>2.0</td>\n      <td>{'1.5': 0.5, '2.5': 0.5}</td>\n      <td>2.5</td>\n      <td>christian</td>\n      <td>Theologici</td>\n      <td>(/ (\\ = )/| )\\ \\ =| / )/. / ) )) (/ )\\ \\ / /;...</td>\n      <td>7599</td>\n      <td>[[], [], [], [], [], [], [], [], [], [], [], [...</td>\n      <td>[]</td>\n      <td>0</td>\n      <td>[]</td>\n      <td>0</td>\n    </tr>\n    <tr>\n      <th>992</th>\n      <td>tlg0555.tlg005.opp-grc1.xml</td>\n      <td>Clement of Alexandria</td>\n      <td>Eclogae propheticae</td>\n      <td>4989</td>\n      <td>tlg0555</td>\n      <td>tlg0555.tlg005</td>\n      <td>A.D. 2-3</td>\n      <td>2.0</td>\n      <td>{'1.5': 0.5, '2.5': 0.5}</td>\n      <td>2.5</td>\n      <td>christian</td>\n      <td>Theologici</td>\n      <td>Οἱ ἀμφὶ τὸν Σεδράχ, Μισάκ, Ἀβδεναγὼ ἐν τῇ καμί...</td>\n      <td>354</td>\n      <td>[[σεδράχ, μισάκ, ἀβδεναγὼ, κάμινος, πῦρ, ὑμνοῦ...</td>\n      <td>[]</td>\n      <td>0</td>\n      <td>[[κύριος, ἀπόστολος, φόβος, πόνος, ἀναστρέφω],...</td>\n      <td>8</td>\n    </tr>\n    <tr>\n      <th>993</th>\n      <td>tlg0555.tlg006.perseus-grc1.xml</td>\n      <td>Clement of Alexandria</td>\n      <td>Quis Dis Salvetur</td>\n      <td>9703</td>\n      <td>tlg0555</td>\n      <td>tlg0555.tlg006</td>\n      <td>A.D. 2-3</td>\n      <td>2.0</td>\n      <td>{'1.5': 0.5, '2.5': 0.5}</td>\n      <td>2.5</td>\n      <td>christian</td>\n      <td>Theologici</td>\n      <td>Οἱ μὲν τοὺς ἐγκωμιαστικοὺς λόγους τοῖς πλουσίο...</td>\n      <td>747</td>\n      <td>[[ἐγκωμιαστικοὺς, λόγος, πλούσιος, δωροφοροῦντ...</td>\n      <td>[[ὑπερβολή, ὁδός, δείκνυμι, Παῦλος, σωτηρία]]</td>\n      <td>1</td>\n      <td>[[μέγεθος, σωτήρ, ἐκεῖνος, καινότης, χάρις, μα...</td>\n      <td>4</td>\n    </tr>\n    <tr>\n      <th>994</th>\n      <td>tlg0555.tlg007.opp-grc1.xml</td>\n      <td>Clement of Alexandria</td>\n      <td>Excerpta ex Theodoto</td>\n      <td>7529</td>\n      <td>tlg0555</td>\n      <td>tlg0555.tlg007</td>\n      <td>A.D. 2-3</td>\n      <td>2.0</td>\n      <td>{'1.5': 0.5, '2.5': 0.5}</td>\n      <td>2.5</td>\n      <td>christian</td>\n      <td>Theologici</td>\n      <td>»Πάτερ,« φησί, »παρατίθεμαί σοι εἰς χεῖρας τὸ...</td>\n      <td>494</td>\n      <td>[[πατήρ, φημί, παρατίθημι, χείρ, πνεῦμα], [προ...</td>\n      <td>[[Παῦλος, ἔνδυσαι, καινός, ἄνθρωπος, θεός, κτί...</td>\n      <td>4</td>\n      <td>[[ἀνάστασις, ἐμφυσῶν, πνεῦμα, ἀπόστολος, χοῦς,...</td>\n      <td>20</td>\n    </tr>\n    <tr>\n      <th>995</th>\n      <td>tlg0555.tlg008.perseus-grc1.xml</td>\n      <td>Clement of Alexandria</td>\n      <td>Exhortation to Endurance, or to the Newly Bapt...</td>\n      <td>769</td>\n      <td>tlg0555</td>\n      <td>tlg0555.tlg008</td>\n      <td>A.D. 2-3</td>\n      <td>2.0</td>\n      <td>{'1.5': 0.5, '2.5': 0.5}</td>\n      <td>2.5</td>\n      <td>christian</td>\n      <td>Theologici</td>\n      <td>Ἡσυχίαν μὲν λόγοις ἐπιτήδευε, ἡσυχίαν δὲ ἔργο...</td>\n      <td>81</td>\n      <td>[[ἡσυχία, λόγος, ἐπιτήδευε, ἡσυχία, ἔργον, γλῶ...</td>\n      <td>[]</td>\n      <td>0</td>\n      <td>[]</td>\n      <td>0</td>\n    </tr>\n    <tr>\n      <th>1189</th>\n      <td>tlg1665.tlg001.1st1K-grc1.xml</td>\n      <td>Seniores Apud Irenaeum</td>\n      <td>Reliquiae plurium anonymorum</td>\n      <td>695</td>\n      <td>tlg1665</td>\n      <td>tlg1665.tlg001</td>\n      <td>A.D. 2-3</td>\n      <td>2.0</td>\n      <td>{'1.5': 0.5, '2.5': 0.5}</td>\n      <td>NaN</td>\n      <td>christian</td>\n      <td>Scriptores Ecclesiastici</td>\n      <td>. æ ; , , æ ; , æ æ , æ . , , . Ἡ γὰρ πλάνη (...</td>\n      <td>200</td>\n      <td>[[], [], [], [], [], [πλάνη, æ], [], [], [], [...</td>\n      <td>[[δίκαιος, ἄνθρωπος, πνευματοφόροις, ἡτοιμάσθη...</td>\n      <td>1</td>\n      <td>[[ὄις, πρέσβυς, ἀπόστολος, μανθάνω, μετατεθέντ...</td>\n      <td>2</td>\n    </tr>\n    <tr>\n      <th>1295</th>\n      <td>tlg2042.tlg001.perseus-grc1.xml</td>\n      <td>Origen</td>\n      <td>Contra Celsum</td>\n      <td>164838</td>\n      <td>tlg2042</td>\n      <td>tlg2042.tlg001</td>\n      <td>A.D. 2-3</td>\n      <td>2.0</td>\n      <td>{'1.5': 0.5, '2.5': 0.5}</td>\n      <td>2.5</td>\n      <td>christian</td>\n      <td>Theologici</td>\n      <td>Ὁ μὲν σωτὴρ καὶ κύριος ἡμῶν Ἰησοῦς Χριστὸς ψε...</td>\n      <td>8391</td>\n      <td>[[σωτήρ, κύριος, Ἰησοῦς, Χριστός, ψευδομαρτυρο...</td>\n      <td>[[Παῦλος, μυρίος, καταλέγω, εἰωθότα, χωρίζω, ἀ...</td>\n      <td>93</td>\n      <td>[[ἄξιος, σεμνύνω, θλῖψις, χωριζούσῃ, αὐτός, κα...</td>\n      <td>64</td>\n    </tr>\n    <tr>\n      <th>1296</th>\n      <td>tlg2042.tlg005.opp-grc1.xml</td>\n      <td>Origen</td>\n      <td>Commentarii in Evangelium Joannis</td>\n      <td>189794</td>\n      <td>tlg2042</td>\n      <td>tlg2042.tlg005</td>\n      <td>A.D. 2-3</td>\n      <td>2.0</td>\n      <td>{'1.5': 0.5, '2.5': 0.5}</td>\n      <td>2.5</td>\n      <td>christian</td>\n      <td>Theologici</td>\n      <td>ΤΟΜΟΣ Α΄. Ὃν τρόπον οἶμαι ό πάλαι »λαὸς« ἐπικλ...</td>\n      <td>23491</td>\n      <td>[[τομός, α], [τρόπος, οἴομαι, λαός, ἐπικαλέω, ...</td>\n      <td>[[ἐπίστησον, λέγω, Παῦλος], [οἴομαι, εὐαγγέλιο...</td>\n      <td>97</td>\n      <td>[[τὶς, ἀνθυποφέρῃ, νομίζω, ἀσεβέω, ἀρχιερεύς, ...</td>\n      <td>151</td>\n    </tr>\n    <tr>\n      <th>1297</th>\n      <td>tlg2042.tlg006.opp-grc1.xml</td>\n      <td>Origen</td>\n      <td>Fragmenta In Evangelium Joannis (In Catenis)</td>\n      <td>29918</td>\n      <td>tlg2042</td>\n      <td>tlg2042.tlg006</td>\n      <td>A.D. 2-3</td>\n      <td>2.0</td>\n      <td>{'1.5': 0.5, '2.5': 0.5}</td>\n      <td>2.5</td>\n      <td>christian</td>\n      <td>Theologici</td>\n      <td>Δημιουργὸν τῶν πάντων τιθέμενος αὐτὸν τὸ τοῦ Λ...</td>\n      <td>3599</td>\n      <td>[[δημιουργός, πᾶς, τιθέμενος, λόγος, ὄνομα, κα...</td>\n      <td>[[Παῦλος, ἀγνοέω, χριστός, διώκω, προσούσης, ἄ...</td>\n      <td>11</td>\n      <td>[[πᾶς, ἀποστρέφω, πολύς, προσίημι, ἀπόστολος, ...</td>\n      <td>16</td>\n    </tr>\n    <tr>\n      <th>1298</th>\n      <td>tlg2042.tlg007.perseus-grc1.xml</td>\n      <td>Origen</td>\n      <td>Exhortatio ad martyrium</td>\n      <td>12324</td>\n      <td>tlg2042</td>\n      <td>tlg2042.tlg007</td>\n      <td>A.D. 2-3</td>\n      <td>2.0</td>\n      <td>{'1.5': 0.5, '2.5': 0.5}</td>\n      <td>2.5</td>\n      <td>christian</td>\n      <td>Theologici</td>\n      <td>„Οἱ ἀπογεγαλακτισμένοι ἀπὸ γάλακτος. οἱ ἀπεσπα...</td>\n      <td>747</td>\n      <td>[[ἀπογεγαλακτισμένοι, γάλα], [ἀπεσπασμένοι, μα...</td>\n      <td>[[λογίζομαι, Παῦλος, ἄξιος, πάθημα, καιρός], [...</td>\n      <td>6</td>\n      <td>[[εὔχομαι, ὅλος, ἐνίστημι, ἀγών, μεμνημένους, ...</td>\n      <td>8</td>\n    </tr>\n    <tr>\n      <th>1299</th>\n      <td>tlg2042.tlg008.perseus-grc1.xml</td>\n      <td>Origen</td>\n      <td>De oratione</td>\n      <td>28032</td>\n      <td>tlg2042</td>\n      <td>tlg2042.tlg008</td>\n      <td>A.D. 2-3</td>\n      <td>2.0</td>\n      <td>{'1.5': 0.5, '2.5': 0.5}</td>\n      <td>2.5</td>\n      <td>christian</td>\n      <td>Theologici</td>\n      <td>Τὰ διὰ τὸ εἶναι μέγιστα καὶ ὑπὲρ ἄνθρωπον τυγ...</td>\n      <td>1521</td>\n      <td>[[μέγας, ἄνθρωπος, τυγχάνω, ὑπερβολή, ἐπικήρου...</td>\n      <td>[[Παῦλος], [οὗτος, ἐπίσταμαι, Παῦλος, οὗτος, π...</td>\n      <td>29</td>\n      <td>[[πρᾶξις, ἀπόστολος], [ἱκανός, καλέω, ἀπόστολο...</td>\n      <td>17</td>\n    </tr>\n    <tr>\n      <th>1300</th>\n      <td>tlg2042.tlg009.opp-grc1.xml</td>\n      <td>Origen</td>\n      <td>In Jeremiam (Homiliae 1-11)</td>\n      <td>32461</td>\n      <td>tlg2042</td>\n      <td>tlg2042.tlg009</td>\n      <td>A.D. 2-3</td>\n      <td>2.0</td>\n      <td>{'1.5': 0.5, '2.5': 0.5}</td>\n      <td>2.5</td>\n      <td>christian</td>\n      <td>Theologici</td>\n      <td>Ὁ θεὸς εἰς ἀγαθοποιίαν πρόχειρός ἐστιν, εἰς δ...</td>\n      <td>4914</td>\n      <td>[[θεός, ἀγαθοποιίαν, πρόχειρος, εἰμί, κολάζω, ...</td>\n      <td>[[Παῦλος, προδότης, Παῦλος, διώκτης], [ζῶ, ποι...</td>\n      <td>16</td>\n      <td>[[παρέόωκα, Σατανᾶς, παιδεύω, βλασφημέω, φημί,...</td>\n      <td>22</td>\n    </tr>\n    <tr>\n      <th>1301</th>\n      <td>tlg2042.tlg010.opp-grc1.xml</td>\n      <td>Origen</td>\n      <td>Fragmenta In Jeremiam (in Catenis)</td>\n      <td>10784</td>\n      <td>tlg2042</td>\n      <td>tlg2042.tlg010</td>\n      <td>A.D. 2-3</td>\n      <td>2.0</td>\n      <td>{'1.5': 0.5, '2.5': 0.5}</td>\n      <td>2.5</td>\n      <td>christian</td>\n      <td>Theologici</td>\n      <td>Ὁ γὰρ δίκαιος οὐκ ἔστιν ἐν νεότητι, ἐπεὶ »τελ...</td>\n      <td>1537</td>\n      <td>[[δίκαιος, εἰμί, νεότης, τελειόω, ὀλίγος, πληρ...</td>\n      <td>[[μυστικός, τοιοῦτος, νομοθεσία, Παῦλος, διδάσ...</td>\n      <td>11</td>\n      <td>[[δικαιοσύνη, οἰκοδομουμένην, οἰκία, δηλόω, λέ...</td>\n      <td>6</td>\n    </tr>\n    <tr>\n      <th>1302</th>\n      <td>tlg2042.tlg011.opp-grc1.xml</td>\n      <td>Origen</td>\n      <td>Fragmenta In Lamentationes (In Catenis de Prop...</td>\n      <td>12522</td>\n      <td>tlg2042</td>\n      <td>tlg2042.tlg011</td>\n      <td>A.D. 2-3</td>\n      <td>2.0</td>\n      <td>{'1.5': 0.5, '2.5': 0.5}</td>\n      <td>2.5</td>\n      <td>christian</td>\n      <td>Theologici</td>\n      <td>Ὁ Ἱερεμίας αἰχμαλωτισθέντος τοῦ λαοῦ καὶ ὄντος...</td>\n      <td>1326</td>\n      <td>[[ἱερεμίας, αἰχμαλωτισθέντος, λαός, εἰμί, βάβυ...</td>\n      <td>[[οὗτος, θρηνέω, Παῦλος, υἱοθεσία, λέγω, δόξα]...</td>\n      <td>5</td>\n      <td>[[στενάζων, οὗτος, πατριάρχων, γέλως, ἀπόστολο...</td>\n      <td>7</td>\n    </tr>\n    <tr>\n      <th>1303</th>\n      <td>tlg2042.tlg012.opp-grc1.xml</td>\n      <td>Origen</td>\n      <td>Fragmentum in Lamentationes (In Catenis de Oct...</td>\n      <td>167</td>\n      <td>tlg2042</td>\n      <td>tlg2042.tlg012</td>\n      <td>A.D. 2-3</td>\n      <td>2.0</td>\n      <td>{'1.5': 0.5, '2.5': 0.5}</td>\n      <td>2.5</td>\n      <td>christian</td>\n      <td>Theologici</td>\n      <td>Ὠριγένους εἰς το αὐτὸ ἐκ τῶν εἰς τοὺς Θρήνους....</td>\n      <td>10</td>\n      <td>[[ὠριγένους, θρῆνος], [δίκαιος], [διαλαμβάνω, ...</td>\n      <td>[[γίγνομαι, Παῦλος, προδίδωμι, ἐκκλησία, ζῆλος...</td>\n      <td>1</td>\n      <td>[]</td>\n      <td>0</td>\n    </tr>\n    <tr>\n      <th>1304</th>\n      <td>tlg2042.tlg013.opp-grc1.xml</td>\n      <td>Origen</td>\n      <td>De Engastrimytho</td>\n      <td>4774</td>\n      <td>tlg2042</td>\n      <td>tlg2042.tlg013</td>\n      <td>A.D. 2-3</td>\n      <td>2.0</td>\n      <td>{'1.5': 0.5, '2.5': 0.5}</td>\n      <td>2.5</td>\n      <td>christian</td>\n      <td>Theologici</td>\n      <td>Τὰ ἀναγνωσθέντα πλείονά ἐστιν, καὶ ἐπεὶ χρὴ ἐπ...</td>\n      <td>710</td>\n      <td>[[ἀναγιγνώσκω, πολύς, εἰμί, χρή, ἐπιτεμνόμενον...</td>\n      <td>[[λέγω, Παῦλος, ἐκκλησία, οἰκοδομέω, προφητεύω...</td>\n      <td>1</td>\n      <td>[[ἀληθής, λέγω, ψαλμός, ἑρμηνευθὲν, ἀπόστολος,...</td>\n      <td>2</td>\n    </tr>\n    <tr>\n      <th>1305</th>\n      <td>tlg2042.tlg014.opp-grc1.xml</td>\n      <td>Origen</td>\n      <td>Fragmenta in Librum Primum Regnorum (In Cateni...</td>\n      <td>2250</td>\n      <td>tlg2042</td>\n      <td>tlg2042.tlg014</td>\n      <td>A.D. 2-3</td>\n      <td>2.0</td>\n      <td>{'1.5': 0.5, '2.5': 0.5}</td>\n      <td>2.5</td>\n      <td>christian</td>\n      <td>Theologici</td>\n      <td>Ἐπειδὴ ἔμελλεν ἡ θεία γραφὴ τὴν ἀπώλειαν τῶν υ...</td>\n      <td>226</td>\n      <td>[[μέλλω, Θεία, γραφή, ἀπώλεια, υἱός, ἠλὶ, προλ...</td>\n      <td>[]</td>\n      <td>0</td>\n      <td>[[μακάριος, ἀπόστολος, πέμπω, σωτήρ, πρότερος,...</td>\n      <td>1</td>\n    </tr>\n    <tr>\n      <th>1306</th>\n      <td>tlg2042.tlg015.opp-grc1.xml</td>\n      <td>Origen</td>\n      <td>Fragmentum In Librum Primum Regnorum (In Caten...</td>\n      <td>83</td>\n      <td>tlg2042</td>\n      <td>tlg2042.tlg015</td>\n      <td>A.D. 2-3</td>\n      <td>2.0</td>\n      <td>{'1.5': 0.5, '2.5': 0.5}</td>\n      <td>2.5</td>\n      <td>christian</td>\n      <td>Theologici</td>\n      <td>Διδάσκει καὶ διὰ ταύτης τῆς ᾠδῆς τὸν προσερχόμ...</td>\n      <td>5</td>\n      <td>[[διδάσκω, ἀοιδή, προσέρχομαι, θεός, μόνος, ἔχ...</td>\n      <td>[]</td>\n      <td>0</td>\n      <td>[]</td>\n      <td>0</td>\n    </tr>\n    <tr>\n      <th>1307</th>\n      <td>tlg2042.tlg016.opp-grc1.xml</td>\n      <td>Origen</td>\n      <td>Homiliae In Lucam</td>\n      <td>30721</td>\n      <td>tlg2042</td>\n      <td>tlg2042.tlg016</td>\n      <td>A.D. 2-3</td>\n      <td>2.0</td>\n      <td>{'1.5': 0.5, '2.5': 0.5}</td>\n      <td>2.5</td>\n      <td>christian</td>\n      <td>Theologici</td>\n      <td>. . , , , . , , — , , ; , . , , . ! . . , (. ...</td>\n      <td>4883</td>\n      <td>[[], [], [], [], [], [], [], [], [], [], [], [...</td>\n      <td>[[ἐνδέχομαι, φαινό, μένω, δίκαιτον, εἰμί, τινα...</td>\n      <td>4</td>\n      <td>[[ἀπόστολος, βέβαιος, φημί], [παραδίδωμι, ἀρχή...</td>\n      <td>13</td>\n    </tr>\n    <tr>\n      <th>1308</th>\n      <td>tlg2042.tlg017.opp-grc1.xml</td>\n      <td>Origen</td>\n      <td>Fragmenta in Lucam (in catenis)</td>\n      <td>15210</td>\n      <td>tlg2042</td>\n      <td>tlg2042.tlg017</td>\n      <td>A.D. 2-3</td>\n      <td>2.0</td>\n      <td>{'1.5': 0.5, '2.5': 0.5}</td>\n      <td>2.5</td>\n      <td>christian</td>\n      <td>Theologici</td>\n      <td>Ἐφίστησι τῇ τοῦ Σίμωνος οἰκίᾳ ὁ σωτὴρ καὶ εὑρί...</td>\n      <td>1167</td>\n      <td>[[ἐφίστημι, Σίμων, οἰκία, σωτήρ, εὑρίσκω, πυρέ...</td>\n      <td>[[Ἰούδας, λαός, ἄνθρωπος, εἰμί, ἐφιστῶμεν, βελ...</td>\n      <td>11</td>\n      <td>[[ἔχω, πνεῦμα, ἅγιος, καρτοὺς, ἐπιδιέκνυται, ἀ...</td>\n      <td>11</td>\n    </tr>\n    <tr>\n      <th>1309</th>\n      <td>tlg2042.tlg019.1st1K-grc1.xml</td>\n      <td>Origen</td>\n      <td>The Philocalia of Origen</td>\n      <td>69451</td>\n      <td>tlg2042</td>\n      <td>tlg2042.tlg019</td>\n      <td>A.D. 2-3</td>\n      <td>2.0</td>\n      <td>{'1.5': 0.5, '2.5': 0.5}</td>\n      <td>2.5</td>\n      <td>christian</td>\n      <td>Theologici</td>\n      <td>Ἐκλογὴν ἡ παροῦσα περιέχει βίβλος γραφικῶν ζητ...</td>\n      <td>5336</td>\n      <td>[[ἐκλογή, πάρειμι, περιέχω, βίβλος, γραφικῶν, ...</td>\n      <td>[[ψυχή, ἀναγομένης, διήγησις, παράδειγμα, Παῦλ...</td>\n      <td>34</td>\n      <td>[[καυχάομαι, σάρξ, Ἰσραήλ, καλέω, ἀπόστολος, σ...</td>\n      <td>58</td>\n    </tr>\n    <tr>\n      <th>1310</th>\n      <td>tlg2042.tlg021.opp-grc1.xml</td>\n      <td>Origen</td>\n      <td>In Jeremiam (Homiliae 12-20)</td>\n      <td>42287</td>\n      <td>tlg2042</td>\n      <td>tlg2042.tlg021</td>\n      <td>A.D. 2-3</td>\n      <td>2.0</td>\n      <td>{'1.5': 0.5, '2.5': 0.5}</td>\n      <td>2.5</td>\n      <td>christian</td>\n      <td>Theologici</td>\n      <td>Ὃ προστάσσεται ὁ προφήτης λέγειν ὑπὸ θεοῦ, ὀφε...</td>\n      <td>7061</td>\n      <td>[[προστάσσεται, προφήτης, λέγω, θεός, ὀφείλω, ...</td>\n      <td>[[Παῦλος, ἔχω, ὕλη, ἐπαίρω, ὀπτασία, ὅραμα, τέ...</td>\n      <td>17</td>\n      <td>[[ἀναγεγραμμένα, φημί, ἀπόστολος, γράφω, Ζεύς,...</td>\n      <td>24</td>\n    </tr>\n    <tr>\n      <th>1311</th>\n      <td>tlg2042.tlg028.1st1K-lat1.xml</td>\n      <td>Origen</td>\n      <td>Commentariorum Series In Evangelium Matthaei</td>\n      <td>31869</td>\n      <td>tlg2042</td>\n      <td>tlg2042.tlg028</td>\n      <td>A.D. 2-3</td>\n      <td>2.0</td>\n      <td>{'1.5': 0.5, '2.5': 0.5}</td>\n      <td>2.5</td>\n      <td>christian</td>\n      <td>Theologici</td>\n      <td>, , : , ? : . . : . (, — ). , : , , . ( ) , ....</td>\n      <td>10074</td>\n      <td>[[], [], [], [], [], [], [], [], [], [], [], [...</td>\n      <td>[[ἄλλος, ἀνατολή, δύσις, Ἰησοῦς, Χριστός, Παῦλ...</td>\n      <td>3</td>\n      <td>[[ἐποικοδομέω, θεμέλιος, ἀπόστολος, προφήτης, ...</td>\n      <td>1</td>\n    </tr>\n    <tr>\n      <th>1312</th>\n      <td>tlg2042.tlg029.opp-grc1.xml</td>\n      <td>Origen</td>\n      <td>Commentarium In Evangelium Matthaei (Lib. 10-11)</td>\n      <td>26912</td>\n      <td>tlg2042</td>\n      <td>tlg2042.tlg029</td>\n      <td>A.D. 2-3</td>\n      <td>2.0</td>\n      <td>{'1.5': 0.5, '2.5': 0.5}</td>\n      <td>2.5</td>\n      <td>christian</td>\n      <td>Theologici</td>\n      <td>Τότε ἀφεὶς τοὺς ὄχλους ἦλθεν εἰς τὴν οἰκίαν α...</td>\n      <td>2562</td>\n      <td>[[ἀφίημι, ὄχλος, ἔρχομαι, οἰκία], [προσέρχομαι...</td>\n      <td>[[ἄλλος, λέγω, ἀγρός, πλήρης, εὐλόγησε, κύριος...</td>\n      <td>13</td>\n      <td>[[παραστάς, ἐπιτραπέντων, Ἰησοῦς, πορεύομαι, ὁ...</td>\n      <td>14</td>\n    </tr>\n    <tr>\n      <th>1313</th>\n      <td>tlg2042.tlg030.opp-lat1.xml</td>\n      <td>Origen</td>\n      <td>Commentarium In Evangelium Matthaei (Lib. 12-17)</td>\n      <td>25669</td>\n      <td>tlg2042</td>\n      <td>tlg2042.tlg030</td>\n      <td>A.D. 2-3</td>\n      <td>2.0</td>\n      <td>{'1.5': 0.5, '2.5': 0.5}</td>\n      <td>2.5</td>\n      <td>christian</td>\n      <td>Theologici</td>\n      <td>: ? : , , . : ? : . , , . , , . , , - , , . ,...</td>\n      <td>8695</td>\n      <td>[[], [], [], [], [], [], [], [], [], [], [], [...</td>\n      <td>[[συμβιώσαντα, συμβιῶσαι, ἀνδρεία, βούλομαι, Π...</td>\n      <td>1</td>\n      <td>[[παιδεία, τουτέστι, ἀπόστολος], [ἀπόστολος]]</td>\n      <td>2</td>\n    </tr>\n    <tr>\n      <th>1314</th>\n      <td>tlg2042.tlg045.1st1K-grc1.xml</td>\n      <td>Origen</td>\n      <td>Epistula ad Africanum</td>\n      <td>5815</td>\n      <td>tlg2042</td>\n      <td>tlg2042.tlg045</td>\n      <td>A.D. 2-3</td>\n      <td>2.0</td>\n      <td>{'1.5': 0.5, '2.5': 0.5}</td>\n      <td>2.5</td>\n      <td>christian</td>\n      <td>Theologici</td>\n      <td>Ὠριγένης Ἀφρικανῷ ἀγαπητῷ ἀδελφῷ ἐν Θεῷ Πατρὶ ...</td>\n      <td>631</td>\n      <td>[[ὠριγένης, ἀφρικανῷ, ἀγαπητός, ἀδελφός, θεός,...</td>\n      <td>[[Παῦλος, γράφω], [ἐλλός, λόγος, ἴδιος, χρῄζω,...</td>\n      <td>4</td>\n      <td>[[ἀληθεύω, στέφανος, προσιεμένων, πρᾶξις, ἀπόσ...</td>\n      <td>1</td>\n    </tr>\n    <tr>\n      <th>1315</th>\n      <td>tlg2042.tlg048.1st1K-grc1.xml</td>\n      <td>Origen</td>\n      <td>Selecta in Genesim</td>\n      <td>10574</td>\n      <td>tlg2042</td>\n      <td>tlg2042.tlg048</td>\n      <td>A.D. 2-3</td>\n      <td>2.0</td>\n      <td>{'1.5': 0.5, '2.5': 0.5}</td>\n      <td>2.5</td>\n      <td>christian</td>\n      <td>Theologici</td>\n      <td>Τῶν δὲ ἱερῶν τοῦ Σωτῆρος ἡμῶν ἀποστόλων τε καὶ...</td>\n      <td>1287</td>\n      <td>[[ἱερόν, σωτήρ, ἀπόστολος, μαθητής, ἅπας, διασ...</td>\n      <td>[[δεῖ, Παῦλος, λέγω, ἰερουσαλὴμ, Ἰλλυρικόν, πε...</td>\n      <td>2</td>\n      <td>[[ἱερόν, σωτήρ, ἀπόστολος, μαθητής, ἅπας, διασ...</td>\n      <td>8</td>\n    </tr>\n    <tr>\n      <th>1316</th>\n      <td>tlg2042.tlg050.1st1K-grc1.xml</td>\n      <td>Origen</td>\n      <td>Selecta in Exodum</td>\n      <td>3401</td>\n      <td>tlg2042</td>\n      <td>tlg2042.tlg050</td>\n      <td>A.D. 2-3</td>\n      <td>2.0</td>\n      <td>{'1.5': 0.5, '2.5': 0.5}</td>\n      <td>2.5</td>\n      <td>christian</td>\n      <td>Theologici</td>\n      <td>« Καὶ δώσω χάριν τῷ λαῷ τούτῳ ἐνώπιον τῶν Αἰγυ...</td>\n      <td>382</td>\n      <td>[[δίδωμι, χάρις, λαός, Αἰγύπτιος], [ἀποτρέχοιτ...</td>\n      <td>[[νοέω, ἑορτή, ἑορτή, νέος, ἀπόστολος, Παῦλος,...</td>\n      <td>1</td>\n      <td>[[νοέω, ἑορτή, ἑορτή, νέος, ἀπόστολος, Παῦλος,...</td>\n      <td>2</td>\n    </tr>\n    <tr>\n      <th>1317</th>\n      <td>tlg2042.tlg051.1st1K-grc1.xml</td>\n      <td>Origen</td>\n      <td>Selecta in Leviticum</td>\n      <td>1551</td>\n      <td>tlg2042</td>\n      <td>tlg2042.tlg051</td>\n      <td>A.D. 2-3</td>\n      <td>2.0</td>\n      <td>{'1.5': 0.5, '2.5': 0.5}</td>\n      <td>2.5</td>\n      <td>christian</td>\n      <td>Theologici</td>\n      <td>Καὶ ἀνεκάλεσε Μωϋσῆν. Λευϊτικὸν ὠνόμασται, ἐπε...</td>\n      <td>168</td>\n      <td>[[ἀνεκάλεσε, Μωϋσῆς], [λευϊτικὸν, ὀνομάζω, ἱερ...</td>\n      <td>[[ἄλλος, μιμνήσκω, μακάριος, Παῦλος, φάσκω]]</td>\n      <td>1</td>\n      <td>[[νοέω, δαυῒδ, ἀπόστολος, λέγω]]</td>\n      <td>1</td>\n    </tr>\n    <tr>\n      <th>1318</th>\n      <td>tlg2042.tlg052.1st1K-grc1.xml</td>\n      <td>Origen</td>\n      <td>Selecta in Numeros</td>\n      <td>1780</td>\n      <td>tlg2042</td>\n      <td>tlg2042.tlg052</td>\n      <td>A.D. 2-3</td>\n      <td>2.0</td>\n      <td>{'1.5': 0.5, '2.5': 0.5}</td>\n      <td>2.5</td>\n      <td>christian</td>\n      <td>Theologici</td>\n      <td>Οὐδὲν πλὴν εἰς τὸ μάννα οἱ ὀφθαλμοὶ ἡμῶ. Μᾶν ὠ...</td>\n      <td>207</td>\n      <td>[[μάννα, ὀφθαλμός, ἡμῶ], [ὀνομάζω, ἐβραίους, π...</td>\n      <td>[]</td>\n      <td>0</td>\n      <td>[]</td>\n      <td>0</td>\n    </tr>\n    <tr>\n      <th>1319</th>\n      <td>tlg2042.tlg053.1st1K-grc1.xml</td>\n      <td>Origen</td>\n      <td>Selecta in Deuteronomium</td>\n      <td>2522</td>\n      <td>tlg2042</td>\n      <td>tlg2042.tlg053</td>\n      <td>A.D. 2-3</td>\n      <td>2.0</td>\n      <td>{'1.5': 0.5, '2.5': 0.5}</td>\n      <td>2.5</td>\n      <td>christian</td>\n      <td>Theologici</td>\n      <td>Ἐλάλησε Μωϋσῆς πρὸς πάντας υἱοὑς Ἰσραήλ κατὰ π...</td>\n      <td>261</td>\n      <td>[[λαλέω, Μωϋσῆς, υἱοὑς, Ἰσραήλ, πᾶς, ἐντέλλω, ...</td>\n      <td>[[μακάριος, Παῦλος, φημί]]</td>\n      <td>1</td>\n      <td>[[ἀπόστολος, φημί], [οὗτος, φημί, ἀπόστολος, Π...</td>\n      <td>2</td>\n    </tr>\n    <tr>\n      <th>1320</th>\n      <td>tlg2042.tlg054.1st1K-grc1.xml</td>\n      <td>Origen</td>\n      <td>Selecta in Jesum Nave</td>\n      <td>989</td>\n      <td>tlg2042</td>\n      <td>tlg2042.tlg054</td>\n      <td>A.D. 2-3</td>\n      <td>2.0</td>\n      <td>{'1.5': 0.5, '2.5': 0.5}</td>\n      <td>2.5</td>\n      <td>christian</td>\n      <td>Theologici</td>\n      <td>Σὺ, καὶ πᾶς ὁ λαὸς οὗτος, Τοῖς φυλάσσουσι τὸν ...</td>\n      <td>113</td>\n      <td>[[πᾶς, λαός, οὗτος, φυλάσσω, νόμος, ὑπισχνέομα...</td>\n      <td>[[ὅμοιος, Παῦλος, χαλάω, σαργάνη, τεῖχος]]</td>\n      <td>1</td>\n      <td>[[ἀπόστολος, δεύτερος, σῴζω, ἐχθρός, ὁμοιότροπ...</td>\n      <td>1</td>\n    </tr>\n    <tr>\n      <th>1321</th>\n      <td>tlg2042.tlg055.1st1K-grc1.xml</td>\n      <td>Origen</td>\n      <td>Selecta in Judices</td>\n      <td>267</td>\n      <td>tlg2042</td>\n      <td>tlg2042.tlg055</td>\n      <td>A.D. 2-3</td>\n      <td>2.0</td>\n      <td>{'1.5': 0.5, '2.5': 0.5}</td>\n      <td>2.5</td>\n      <td>christian</td>\n      <td>Theologici</td>\n      <td>Καὶ εῦξατο Ἱεμθάε τῷ Κυφίῳ. Εἰ Πνεῦμα Κυρίου ἐ...</td>\n      <td>30</td>\n      <td>[[εὔχομαι, ἱεμθάε, κυφίῳ], [πνεῦμα, κύριος, εὔ...</td>\n      <td>[]</td>\n      <td>0</td>\n      <td>[]</td>\n      <td>0</td>\n    </tr>\n    <tr>\n      <th>1322</th>\n      <td>tlg2042.tlg057.1st1K-grc1.xml</td>\n      <td>Origen</td>\n      <td>Selecta in Job</td>\n      <td>3104</td>\n      <td>tlg2042</td>\n      <td>tlg2042.tlg057</td>\n      <td>A.D. 2-3</td>\n      <td>2.0</td>\n      <td>{'1.5': 0.5, '2.5': 0.5}</td>\n      <td>2.5</td>\n      <td>christian</td>\n      <td>Theologici</td>\n      <td>Οἱ ἱππεῖς ἐποίησαν ἡμῖν κεφαλὰς τρεῖς καὶ ἐκύκ...</td>\n      <td>305</td>\n      <td>[[ἱππεύς, ποιέω, κεφαλή, κυκλόω, κάμηλος], [κά...</td>\n      <td>[[οὗτος, Παῦλος, ὕστερος, φθέγγομαι, προστίθημι]]</td>\n      <td>1</td>\n      <td>[[ἀνδραγάθημα, ἀπόστολος, λέγω]]</td>\n      <td>1</td>\n    </tr>\n    <tr>\n      <th>1323</th>\n      <td>tlg2042.tlg058.1st1K-grc1.xml</td>\n      <td>Origen</td>\n      <td>Selecta in Psalmos [Dub.]</td>\n      <td>107199</td>\n      <td>tlg2042</td>\n      <td>tlg2042.tlg058</td>\n      <td>A.D. 2-3</td>\n      <td>2.0</td>\n      <td>{'1.5': 0.5, '2.5': 0.5}</td>\n      <td>2.5</td>\n      <td>christian</td>\n      <td>Theologici</td>\n      <td>Διὰ τοὺς ἐπιγεγραμμένους ψαλμοὺς « εἰς τὸ τέλο...</td>\n      <td>13115</td>\n      <td>[[ἐπιγεγραμμένους, ψαλμοὺς, τέλος, ἐπιλέγω, ὅρ...</td>\n      <td>[[Παῦλος], [οἷος, Παῦλος, Πέτρος, εἰμί, ψυχή, ...</td>\n      <td>58</td>\n      <td>[[ἡγέομαι, ἀπόστολος, ἔφοδος, συνίημι, θεῖος, ...</td>\n      <td>61</td>\n    </tr>\n    <tr>\n      <th>1324</th>\n      <td>tlg2042.tlg061.1st1K-grc1.xml</td>\n      <td>Origen</td>\n      <td>Fragmenta in Ezechielem</td>\n      <td>354</td>\n      <td>tlg2042</td>\n      <td>tlg2042.tlg061</td>\n      <td>A.D. 2-3</td>\n      <td>2.0</td>\n      <td>{'1.5': 0.5, '2.5': 0.5}</td>\n      <td>2.5</td>\n      <td>christian</td>\n      <td>Theologici</td>\n      <td>. . . . . . Βραχίονές εῖαι Φαραὼ ἡ κακία ἐν πρ...</td>\n      <td>48</td>\n      <td>[[], [], [], [], [], [], [βραχύς, ἐάω, Φαραώ, ...</td>\n      <td>[]</td>\n      <td>0</td>\n      <td>[]</td>\n      <td>0</td>\n    </tr>\n    <tr>\n      <th>1325</th>\n      <td>tlg2042.tlg066.1st1K-grc1.xml</td>\n      <td>Origen</td>\n      <td>Adnotationes in Genesim</td>\n      <td>648</td>\n      <td>tlg2042</td>\n      <td>tlg2042.tlg066</td>\n      <td>A.D. 2-3</td>\n      <td>2.0</td>\n      <td>{'1.5': 0.5, '2.5': 0.5}</td>\n      <td>2.5</td>\n      <td>christian</td>\n      <td>Theologici</td>\n      <td>Στιχ. δ΄. Ἐγὼ ἐπάγω ὑετὸν (ἐπὶ) τὴν γῆν τεσσαρ...</td>\n      <td>75</td>\n      <td>[[στιχ], [], [ἐπάγω, ὑετός, γῆ, ἡμέρα, νύξ], [...</td>\n      <td>[]</td>\n      <td>0</td>\n      <td>[]</td>\n      <td>0</td>\n    </tr>\n    <tr>\n      <th>1326</th>\n      <td>tlg2042.tlg067.1st1K-grc1.xml</td>\n      <td>Origen</td>\n      <td>Adnotationes in Exodum</td>\n      <td>248</td>\n      <td>tlg2042</td>\n      <td>tlg2042.tlg067</td>\n      <td>A.D. 2-3</td>\n      <td>2.0</td>\n      <td>{'1.5': 0.5, '2.5': 0.5}</td>\n      <td>2.5</td>\n      <td>christian</td>\n      <td>Theologici</td>\n      <td>Στίχ. κε΄. Ἐκεῖ ἔθετο αὐτῷ ὁ Θεὸς δικαώματα κα...</td>\n      <td>30</td>\n      <td>[[στίχ], [], [τίθημι, θεός, δικαώματα, κρίσις,...</td>\n      <td>[]</td>\n      <td>0</td>\n      <td>[]</td>\n      <td>0</td>\n    </tr>\n    <tr>\n      <th>1327</th>\n      <td>tlg2042.tlg068.1st1K-grc1.xml</td>\n      <td>Origen</td>\n      <td>Adnotationes in Leviticum (fragmenta e catenis)</td>\n      <td>527</td>\n      <td>tlg2042</td>\n      <td>tlg2042.tlg068</td>\n      <td>A.D. 2-3</td>\n      <td>2.0</td>\n      <td>{'1.5': 0.5, '2.5': 0.5}</td>\n      <td>2.5</td>\n      <td>christian</td>\n      <td>Theologici</td>\n      <td>Στίχ. κζ΄. Ψυχὴ ἐὰν ἁμάρτῃ ἀκουσίως. φησὶ. καὶ...</td>\n      <td>79</td>\n      <td>[[στίχ], [κζ], [ψυχή, ἁμαρτάνω, ἀεκούσιος], [φ...</td>\n      <td>[]</td>\n      <td>0</td>\n      <td>[[ἀπόστολος, ἁμαρτάνω, φημί]]</td>\n      <td>1</td>\n    </tr>\n    <tr>\n      <th>1328</th>\n      <td>tlg2042.tlg069.1st1K-grc1.xml</td>\n      <td>Origen</td>\n      <td>Adnotationes in Numeros</td>\n      <td>401</td>\n      <td>tlg2042</td>\n      <td>tlg2042.tlg069</td>\n      <td>A.D. 2-3</td>\n      <td>2.0</td>\n      <td>{'1.5': 0.5, '2.5': 0.5}</td>\n      <td>2.5</td>\n      <td>christian</td>\n      <td>Theologici</td>\n      <td>Στίχ. ζ΄. Τὸ δὲ μάννα, ὼσεὶ σπέρμα κορίου. () ...</td>\n      <td>72</td>\n      <td>[[στίχ], [], [μάννα, ὠθέω, σπέρμα, κορίου], [σ...</td>\n      <td>[]</td>\n      <td>0</td>\n      <td>[]</td>\n      <td>0</td>\n    </tr>\n    <tr>\n      <th>1329</th>\n      <td>tlg2042.tlg070.1st1K-grc1.xml</td>\n      <td>Origen</td>\n      <td>Adnotationes in Deuteronomium (fragmenta e cat...</td>\n      <td>1950</td>\n      <td>tlg2042</td>\n      <td>tlg2042.tlg070</td>\n      <td>A.D. 2-3</td>\n      <td>2.0</td>\n      <td>{'1.5': 0.5, '2.5': 0.5}</td>\n      <td>2.5</td>\n      <td>christian</td>\n      <td>Theologici</td>\n      <td>Στίχ. λα΄. Ὁσεὶ τροφοφορήσαι ἀνθρωπος. Ἀκύλας....</td>\n      <td>241</td>\n      <td>[[στίχ], [λάω], [ὁσεὶ, τροφοφορήσαι, ἄνθρωπος]...</td>\n      <td>[[ἐνέργεια, αὐτός, πνεῦμα, καθάπερὁ, Παῦλος, δ...</td>\n      <td>2</td>\n      <td>[[ἀπόστολος, πνεῦμα, ζωοποιὸν], [οὕπω, Χριστός...</td>\n      <td>3</td>\n    </tr>\n    <tr>\n      <th>1330</th>\n      <td>tlg2042.tlg071.1st1K-grc1.xml</td>\n      <td>Origen</td>\n      <td>Adnotationes in Jesu filium Nave (fragmenta e ...</td>\n      <td>207</td>\n      <td>tlg2042</td>\n      <td>tlg2042.tlg071</td>\n      <td>A.D. 2-3</td>\n      <td>2.0</td>\n      <td>{'1.5': 0.5, '2.5': 0.5}</td>\n      <td>2.5</td>\n      <td>christian</td>\n      <td>Theologici</td>\n      <td>Στίχ. ιδ΄. Καὶ ἀπῆρε πᾶς λαὸς ἐκ τῶν σκηνωμάτω...</td>\n      <td>43</td>\n      <td>[[στίχ], [], [ἀπαίρω, λαός, σκήνωμα], [τουτέστ...</td>\n      <td>[]</td>\n      <td>0</td>\n      <td>[[τύπος, ἀπόστολος]]</td>\n      <td>1</td>\n    </tr>\n    <tr>\n      <th>1331</th>\n      <td>tlg2042.tlg072.1st1K-grc1.xml</td>\n      <td>Origen</td>\n      <td>Adnotationes in Judices</td>\n      <td>140</td>\n      <td>tlg2042</td>\n      <td>tlg2042.tlg072</td>\n      <td>A.D. 2-3</td>\n      <td>2.0</td>\n      <td>{'1.5': 0.5, '2.5': 0.5}</td>\n      <td>2.5</td>\n      <td>christian</td>\n      <td>Theologici</td>\n      <td>() Στίχ. ιθ΄. Καὶ ἔῤῥηξεν ὁ Θεὸς τὸ τραῦμα τὸ ...</td>\n      <td>22</td>\n      <td>[[στίχ], [ιθ], [ἔῤῥηξεν, θεός, τραῦμα, σιαγών,...</td>\n      <td>[]</td>\n      <td>0</td>\n      <td>[]</td>\n      <td>0</td>\n    </tr>\n    <tr>\n      <th>1332</th>\n      <td>tlg2042.tlg073.1st1K-grc1.xml</td>\n      <td>Origen</td>\n      <td>Homiliae in Job (fragmenta in catenis, typus II)</td>\n      <td>8968</td>\n      <td>tlg2042</td>\n      <td>tlg2042.tlg073</td>\n      <td>A.D. 2-3</td>\n      <td>2.0</td>\n      <td>{'1.5': 0.5, '2.5': 0.5}</td>\n      <td>2.5</td>\n      <td>christian</td>\n      <td>Theologici</td>\n      <td>() Στίχ. ι´. Οὐ σὺ περιέφραξας τὰ ἔξω αὐτοῦ; Π...</td>\n      <td>1365</td>\n      <td>[[στίχ], [], [περιέφραξας], [οἶδα, φράσσω], [ἀ...</td>\n      <td>[[σκεῦος, ἐκλογή, Παῦλος, ἐπιστέλλων, φημί]]</td>\n      <td>1</td>\n      <td>[[δεῖ, λέγω, ἀπόστολος], [ἀνδραγάθημα, ἀπόστολ...</td>\n      <td>4</td>\n    </tr>\n    <tr>\n      <th>1333</th>\n      <td>tlg2042.tlg074.1st1K-grc1.xml</td>\n      <td>Origen</td>\n      <td>Excerpta in Psalmos [Dub.]</td>\n      <td>8878</td>\n      <td>tlg2042</td>\n      <td>tlg2042.tlg074</td>\n      <td>A.D. 2-3</td>\n      <td>2.0</td>\n      <td>{'1.5': 0.5, '2.5': 0.5}</td>\n      <td>2.5</td>\n      <td>christian</td>\n      <td>Theologici</td>\n      <td>Στίχ. η΄. Ἡτοίμασεν ἐν κρίσει τὸν θρόνον αὐτοῦ...</td>\n      <td>981</td>\n      <td>[[στίχ], [ἠμί], [ἑτοιμάζω, κρίσις, θρόνος], [σ...</td>\n      <td>[[Παῦλος, ἥσσων, μέγας, προβαίνων, φημί], [οὐρ...</td>\n      <td>3</td>\n      <td>[[γίγνομαι, πρᾶξις, κεῖμαι, ἀπόστολος, βλεπτόν...</td>\n      <td>1</td>\n    </tr>\n    <tr>\n      <th>1334</th>\n      <td>tlg2042.tlg075.1st1K-grc1.xml</td>\n      <td>Origen</td>\n      <td>Expositio in Proverbia (fragmenta e catenis)</td>\n      <td>18195</td>\n      <td>tlg2042</td>\n      <td>tlg2042.tlg075</td>\n      <td>A.D. 2-3</td>\n      <td>2.0</td>\n      <td>{'1.5': 0.5, '2.5': 0.5}</td>\n      <td>2.5</td>\n      <td>christian</td>\n      <td>Theologici</td>\n      <td>() Παροιμία ἐστὶ λόγος ἀπόκρυφος διʼ ἑτέρου πρ...</td>\n      <td>1946</td>\n      <td>[[παροιμία, λόγος, ἀπόκρυφος, ἕτερος, πρόδηλος...</td>\n      <td>[[πλατύνω, φημί, Κορίνθιος, Παῦλος], [γῆ, λέγω...</td>\n      <td>23</td>\n      <td>[[φιλία, εἰμί, πνευματικὴ, γνῶσις, θεός, ἅγιος...</td>\n      <td>7</td>\n    </tr>\n    <tr>\n      <th>1335</th>\n      <td>tlg2042.tlg076.1st1K-grc1.xml</td>\n      <td>Origen</td>\n      <td>Scholia in Canticum canticorum</td>\n      <td>7062</td>\n      <td>tlg2042</td>\n      <td>tlg2042.tlg076</td>\n      <td>A.D. 2-3</td>\n      <td>2.0</td>\n      <td>{'1.5': 0.5, '2.5': 0.5}</td>\n      <td>2.5</td>\n      <td>christian</td>\n      <td>Theologici</td>\n      <td>( : Προκοπίου Χριστιανοῦ σοφιστοῦ εἰς τὰ ᾌσμστ...</td>\n      <td>670</td>\n      <td>[[], [προκοπίου, χριστιανοῦ, σοφιστής, ᾄσμστα,...</td>\n      <td>[[γίγνομαι, Παῦλος, ὀσμή, θάνατος, θάνατος, δω...</td>\n      <td>5</td>\n      <td>[[οὗτος, φίλος, νυμφίος, φημί, ἅγιος, ἄγγελος,...</td>\n      <td>4</td>\n    </tr>\n    <tr>\n      <th>1336</th>\n      <td>tlg2042.tlg077.1st1K-grc1.xml</td>\n      <td>Origen</td>\n      <td>Scholia in Matthaeum</td>\n      <td>4445</td>\n      <td>tlg2042</td>\n      <td>tlg2042.tlg077</td>\n      <td>A.D. 2-3</td>\n      <td>2.0</td>\n      <td>{'1.5': 0.5, '2.5': 0.5}</td>\n      <td>2.5</td>\n      <td>christian</td>\n      <td>Theologici</td>\n      <td>Στιχ. ιη΄. Τοῦ δὲ Ἰησοῦ ἡ γέννησις οὕτως ἦν. ....</td>\n      <td>488</td>\n      <td>[[στιχ], [ἰά], [Ἰησοῦς, γέννησις, εἰμί], [], [...</td>\n      <td>[[ἀγρός, Χριστός, Παῦλος, λέγω, ἐγκεκρύφθαι, ἀ...</td>\n      <td>1</td>\n      <td>[[πωλέω, εἰμί, προφήτης, ἀπόστολος, εὐαγγελιστ...</td>\n      <td>1</td>\n    </tr>\n    <tr>\n      <th>1337</th>\n      <td>tlg2042.tlg078.1st1K-grc1.xml</td>\n      <td>Origen</td>\n      <td>Scholia in Lucam (fragmenta e cod. Venet. 28)</td>\n      <td>11142</td>\n      <td>tlg2042</td>\n      <td>tlg2042.tlg078</td>\n      <td>A.D. 2-3</td>\n      <td>2.0</td>\n      <td>{'1.5': 0.5, '2.5': 0.5}</td>\n      <td>2.5</td>\n      <td>christian</td>\n      <td>Theologici</td>\n      <td>Στίχ. ά. Ἐπειδὴ πολλοὶ ἐπεχείρησαν ανατάδασθαι...</td>\n      <td>1216</td>\n      <td>[[στίχ], [], [πολύς, ἐπιχειρέω, ανατάδασθαι, δ...</td>\n      <td>[[νομιστέονδὲ, κόσμος, Παῦλος, σταυρόω, νεκρός...</td>\n      <td>2</td>\n      <td>[[ἀπόστολος, βέβαιος, φημί], [εἰρηνοπαίησε, αἷ...</td>\n      <td>10</td>\n    </tr>\n    <tr>\n      <th>1338</th>\n      <td>tlg2042.tlg084.opp-grc1.xml</td>\n      <td>Origen</td>\n      <td>Fragmenta In Jeremiam (E Philocalia)</td>\n      <td>998</td>\n      <td>tlg2042</td>\n      <td>tlg2042.tlg084</td>\n      <td>A.D. 2-3</td>\n      <td>2.0</td>\n      <td>{'1.5': 0.5, '2.5': 0.5}</td>\n      <td>2.5</td>\n      <td>christian</td>\n      <td>Theologici</td>\n      <td>{Ὥσπερ δὲ πάντα τὰ τοῦ θεοῦ δωρήματα εἰς ὑπερβ...</td>\n      <td>97</td>\n      <td>[[θεός, δώρημα, ὑπερβολή, μέγας, εἰμί, θνητός,...</td>\n      <td>[]</td>\n      <td>0</td>\n      <td>[]</td>\n      <td>0</td>\n    </tr>\n  </tbody>\n</table>\n</div>"
     },
     "execution_count": 29,
     "metadata": {},
     "output_type": "execute_result"
    }
   ],
   "source": [
    "LAGTec[LAGTec[\"date_avr\"]==2]"
   ],
   "metadata": {
    "collapsed": false,
    "pycharm": {
     "name": "#%%\n"
    }
   }
  },
  {
   "cell_type": "code",
   "execution_count": 28,
   "outputs": [
    {
     "data": {
      "text/plain": "<AxesSubplot:xlabel='date_avr'>"
     },
     "execution_count": 28,
     "metadata": {},
     "output_type": "execute_result"
    },
    {
     "data": {
      "text/plain": "<Figure size 432x288 with 1 Axes>",
      "image/png": "[encoded data removed]"
     },
     "metadata": {
      "needs_background": "light"
     },
     "output_type": "display_data"
    }
   ],
   "source": [
    "fig, ax = plt.subplots()\n",
    "LAGTec_by_date.plot.bar(x=\"date_avr\", y=\"wordcount\", ax=ax)\n"
   ],
   "metadata": {
    "collapsed": false,
    "pycharm": {
     "name": "#%%\n"
    }
   }
  },
  {
   "cell_type": "code",
   "execution_count": null,
   "outputs": [],
   "source": [
    "subselections = []\n",
    "for date in dates:\n",
    "    subselection = LAGTec[LAGTec[\"date_avr\"]== date]\n",
    "    wordcount = LAGTec[(LAGTec[\"date_avr\"]== date)[\"wordcount\"].sum()\n",
    "    wordcount_pagan = AGT[(AGT[\"date_avr\"]== date) & (AGT[\"provenience\"]!=\"christian\")][\"wordcount\"].sum()\n",
    "    wordcount = subselection[\"wordcount\"].sum()\n",
    "    sentences = subselection[\"lemmatized_sentences\"].apply(lambda x: len(x)).sum()\n",
    "    doccount = len(subselection)\n",
    "    date_string = date_avr_to_string(date)\n",
    "    subselection_dict = {\"date_string\" : date_string, \"column\" : \"date_avr\", \"value\" : date, \"wordcount\" : wordcount, \"sentences\" : sentences, \"wordcount_christian\" : wordcount_christian, \"wordcount_pagan\" : wordcount_pagan, \"doccount\": doccount}\n",
    "    subselections.append(subselection_dict)\n",
    "subselections_df = pd.DataFrame(subselections)\n",
    "subselections_df"
   ],
   "metadata": {
    "collapsed": false,
    "pycharm": {
     "name": "#%%\n"
    }
   }
  },
  {
   "cell_type": "code",
   "execution_count": null,
   "outputs": [],
   "source": [],
   "metadata": {
    "collapsed": false,
    "pycharm": {
     "name": "#%%\n"
    }
   }
  },
  {
   "cell_type": "code",
   "execution_count": null,
   "outputs": [],
   "source": [
    "# function to extract all texts into one list of sentences\n",
    "def get_flat_sentences(series):\n",
    "    sentences_list = [sent for doc in series.tolist() for sent in doc]\n",
    "    return sentences_list\n",
    "\n",
    "# use the function\n",
    "docs = get_flat_sentences(c_hippocraticum[\"lemmatized_sentences_repl\"])"
   ],
   "metadata": {
    "collapsed": false,
    "pycharm": {
     "name": "#%%\n"
    }
   }
  },
  {
   "cell_type": "code",
   "execution_count": 16,
   "outputs": [],
   "source": [
    "paul_wordlist = [w for wordlist in LAGTc[\"sentences_paul_wordlist\"] for w in wordlist]"
   ],
   "metadata": {
    "collapsed": false,
    "pycharm": {
     "name": "#%%\n"
    }
   }
  },
  {
   "cell_type": "code",
   "execution_count": 19,
   "outputs": [
    {
     "data": {
      "text/plain": "[('Παῦλος', 1072),\n ('λέγω', 380),\n ('εἰμί', 215),\n ('θεός', 198),\n ('φημί', 167),\n ('οὗτος', 134),\n ('γίγνομαι', 130),\n ('Χριστός', 128),\n ('ἀπόστολος', 123),\n ('λόγος', 103),\n ('Ἰησοῦς', 103),\n ('πᾶς', 90),\n ('ἄνθρωπος', 79),\n ('ἅγιος', 74),\n ('πολύς', 68),\n ('ἐκκλησία', 64),\n ('κύριος', 63),\n ('ἔχω', 61),\n ('πνεῦμα', 56),\n ('αὐτός', 56),\n ('Ἰουδαῖος', 55),\n ('Πέτρος', 52),\n ('ἐπίσκοπος', 48),\n ('γράφω', 47),\n ('ποιέω', 44),\n ('ἄλλος', 43),\n ('ἀκούω', 39),\n ('μόνος', 39),\n ('υἱός', 38),\n ('τὶς', 38),\n ('ἐπιστολή', 38),\n ('σοφία', 38),\n ('πατήρ', 37),\n ('διδάσκω', 35),\n ('πίστις', 34),\n ('ὁράω', 32),\n ('ἀδελφός', 32),\n ('νόμος', 32),\n ('ἀνήρ', 31),\n ('οἶδα', 31),\n ('εὐαγγέλιον', 31),\n ('σῶμα', 31),\n ('ἔθνος', 30),\n ('Κορίνθιος', 30),\n ('πρῶτος', 29),\n ('πόλις', 29),\n ('ἡμέρα', 29),\n ('ὄνομα', 28),\n ('μέλλω', 28),\n ('δύναμις', 28)]"
     },
     "execution_count": 19,
     "metadata": {},
     "output_type": "execute_result"
    }
   ],
   "source": [
    "paul_wordlist_freqs = nltk.FreqDist(paul_wordlist).most_common()\n",
    "paul_wordlist_freqs[:50]"
   ],
   "metadata": {
    "collapsed": false,
    "pycharm": {
     "name": "#%%\n"
    }
   }
  },
  {
   "cell_type": "code",
   "execution_count": 22,
   "outputs": [
    {
     "data": {
      "text/plain": "         word  count\n0      Παῦλος   1072\n1        λέγω    380\n2        εἰμί    215\n3        θεός    198\n4        φημί    167\n..        ...    ...\n95  παρίστημι     16\n96     λοιπός     16\n97       νοέω     16\n98  Ἰωάν(ν)ης     16\n99      λέξις     16\n\n[100 rows x 2 columns]",
      "text/html": "<div>\n<style scoped>\n    .dataframe tbody tr th:only-of-type {\n        vertical-align: middle;\n    }\n\n    .dataframe tbody tr th {\n        vertical-align: top;\n    }\n\n    .dataframe thead th {\n        text-align: right;\n    }\n</style>\n<table border=\"1\" class=\"dataframe\">\n  <thead>\n    <tr style=\"text-align: right;\">\n      <th></th>\n      <th>word</th>\n      <th>count</th>\n    </tr>\n  </thead>\n  <tbody>\n    <tr>\n      <th>0</th>\n      <td>Παῦλος</td>\n      <td>1072</td>\n    </tr>\n    <tr>\n      <th>1</th>\n      <td>λέγω</td>\n      <td>380</td>\n    </tr>\n    <tr>\n      <th>2</th>\n      <td>εἰμί</td>\n      <td>215</td>\n    </tr>\n    <tr>\n      <th>3</th>\n      <td>θεός</td>\n      <td>198</td>\n    </tr>\n    <tr>\n      <th>4</th>\n      <td>φημί</td>\n      <td>167</td>\n    </tr>\n    <tr>\n      <th>...</th>\n      <td>...</td>\n      <td>...</td>\n    </tr>\n    <tr>\n      <th>95</th>\n      <td>παρίστημι</td>\n      <td>16</td>\n    </tr>\n    <tr>\n      <th>96</th>\n      <td>λοιπός</td>\n      <td>16</td>\n    </tr>\n    <tr>\n      <th>97</th>\n      <td>νοέω</td>\n      <td>16</td>\n    </tr>\n    <tr>\n      <th>98</th>\n      <td>Ἰωάν(ν)ης</td>\n      <td>16</td>\n    </tr>\n    <tr>\n      <th>99</th>\n      <td>λέξις</td>\n      <td>16</td>\n    </tr>\n  </tbody>\n</table>\n<p>100 rows × 2 columns</p>\n</div>"
     },
     "execution_count": 22,
     "metadata": {},
     "output_type": "execute_result"
    }
   ],
   "source": [
    "paul_wordlist_freqs_df = pd.DataFrame(paul_wordlist_freqs, columns=[\"word\", \"count\"])\n",
    "paul_wordlist_freqs_df[:100]"
   ],
   "metadata": {
    "collapsed": false,
    "pycharm": {
     "name": "#%%\n"
    }
   }
  },
  {
   "cell_type": "code",
   "execution_count": 26,
   "outputs": [
    {
     "data": {
      "text/plain": "396"
     },
     "execution_count": 26,
     "metadata": {},
     "output_type": "execute_result"
    }
   ],
   "source": [
    "len(paul_wordlist_freqs_df[paul_wordlist_freqs_df[\"count\"]>=5])"
   ],
   "metadata": {
    "collapsed": false,
    "pycharm": {
     "name": "#%%\n"
    }
   }
  },
  {
   "cell_type": "code",
   "execution_count": 30,
   "outputs": [],
   "source": [
    "set_with_dataframe(paul_results.add_worksheet(\"paul_sentences_wordfreqs\", 1,1), paul_wordlist_freqs_df[paul_wordlist_freqs_df[\"count\"]>=5])"
   ],
   "metadata": {
    "collapsed": false,
    "pycharm": {
     "name": "#%%\n"
    }
   }
  },
  {
   "cell_type": "code",
   "execution_count": null,
   "outputs": [],
   "source": [],
   "metadata": {
    "collapsed": false,
    "pycharm": {
     "name": "#%%\n"
    }
   }
  }
 ],
 "metadata": {
  "kernelspec": {
   "name": "paul_venv",
   "language": "python",
   "display_name": "paul_venv"
  },
  "language_info": {
   "codemirror_mode": {
    "name": "ipython",
    "version": 2
   },
   "file_extension": ".py",
   "mimetype": "text/x-python",
   "name": "python",
   "nbconvert_exporter": "python",
   "pygments_lexer": "ipython2",
   "version": "2.7.6"
  }
 },
 "nbformat": 4,
 "nbformat_minor": 0
}