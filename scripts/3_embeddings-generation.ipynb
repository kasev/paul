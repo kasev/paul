{
 "cells": [
  {
   "cell_type": "code",
   "execution_count": 1,
   "outputs": [],
   "source": [
    "import math\n",
    "import numpy as np\n",
    "import pandas as pd\n",
    "import pickle\n",
    "import nltk\n",
    "\n",
    "import matplotlib.pyplot as plt\n",
    "import matplotlib.colors as mcolors\n",
    "import matplotlib.patches as patches\n",
    "import seaborn as sns\n",
    "\n",
    "from sklearn.feature_extraction.text import CountVectorizer\n",
    "from sklearn.decomposition import TruncatedSVD\n",
    "from sklearn.manifold import TSNE\n",
    "from sklearn.metrics.pairwise import cosine_similarity\n",
    "from gensim import corpora\n",
    "import sddk\n",
    "\n",
    "import gspread\n",
    "from gspread_dataframe import get_as_dataframe, set_with_dataframe\n",
    "from google.oauth2 import service_account # based on google-auth library"
   ],
   "metadata": {
    "collapsed": false,
    "pycharm": {
     "name": "#%%\n"
    }
   }
  },
  {
   "cell_type": "code",
   "execution_count": 2,
   "outputs": [
    {
     "name": "stdout",
     "output_type": "stream",
     "text": [
      "endpoint variable has been configured to: https://sciencedata.dk/files/\n"
     ]
    }
   ],
   "source": [
    "# for exporting data to googlesheets/sciencedata\n",
    "# (feel free to skip)\n",
    "\n",
    "s = sddk.cloudSession(\"sciencedata.dk\")\n",
    "# establish connection with gogglesheets...\n",
    "file_data = s.read_file(\"https://sciencedata.dk/files/ServiceAccountsKey.json\", \"dict\") # or load it from a local storage: json.load(open(\"../../ServiceAccountsKey.json\", \"r\"))\n",
    "credentials = service_account.Credentials.from_service_account_info(file_data)\n",
    "gc = gspread.Client(auth=credentials.with_scopes(['https://spreadsheets.google.com/feeds', 'https://www.googleapis.com/auth/drive']))\n",
    "paul_results = gc.open_by_url(\"https://docs.google.com/spreadsheets/d/1h4M-gK9TPIfeTV528tUuPBfZF1wtcNCA10yIlJYqGTE/edit?usp=sharing\")"
   ],
   "metadata": {
    "collapsed": false,
    "pycharm": {
     "name": "#%%\n"
    }
   }
  },
  {
   "cell_type": "code",
   "execution_count": 3,
   "outputs": [],
   "source": [
    "LAGTec = pd.read_json(\"../data/large_files/LAGTec.json\")"
   ],
   "metadata": {
    "collapsed": false,
    "pycharm": {
     "name": "#%%\n"
    }
   }
  },
  {
   "cell_type": "code",
   "execution_count": 4,
   "outputs": [
    {
     "data": {
      "text/plain": "49"
     },
     "execution_count": 4,
     "metadata": {},
     "output_type": "execute_result"
    }
   ],
   "source": [
    "len(LAGTec[\"author\"].unique().tolist())"
   ],
   "metadata": {
    "collapsed": false,
    "pycharm": {
     "name": "#%%\n"
    }
   }
  },
  {
   "cell_type": "code",
   "execution_count": 5,
   "outputs": [
    {
     "data": {
      "text/plain": "148"
     },
     "execution_count": 5,
     "metadata": {},
     "output_type": "execute_result"
    }
   ],
   "source": [
    "len(LAGTec)"
   ],
   "metadata": {
    "collapsed": false,
    "pycharm": {
     "name": "#%%\n"
    }
   }
  },
  {
   "cell_type": "code",
   "execution_count": 6,
   "outputs": [
    {
     "data": {
      "text/plain": "3566823"
     },
     "execution_count": 6,
     "metadata": {},
     "output_type": "execute_result"
    }
   ],
   "source": [
    "LAGTec[\"wordcount\"].sum()"
   ],
   "metadata": {
    "collapsed": false,
    "pycharm": {
     "name": "#%%\n"
    }
   }
  },
  {
   "cell_type": "code",
   "execution_count": 7,
   "outputs": [
    {
     "data": {
      "text/plain": "1506066"
     },
     "execution_count": 7,
     "metadata": {},
     "output_type": "execute_result"
    }
   ],
   "source": [
    "LAGTec[\"lemmatized_sentences\"].apply(lambda x: len([w for s in x for w in s])).sum()"
   ],
   "metadata": {
    "collapsed": false,
    "pycharm": {
     "name": "#%%\n"
    }
   }
  },
  {
   "cell_type": "code",
   "execution_count": 22,
   "outputs": [
    {
     "data": {
      "text/plain": "                             filename                                 author  \\\n385   tlg0031.tlg001.perseus-grc2.xml                      Gospel of Matthew   \n386   tlg0031.tlg002.perseus-grc2.xml                         Gospel of Mark   \n387   tlg0031.tlg003.perseus-grc2.xml                              Luke-Acts   \n388   tlg0031.tlg004.perseus-grc2.xml  Johnannine literature (New Testament)   \n389   tlg0031.tlg005.perseus-grc2.xml                              Luke-Acts   \n...                               ...                                    ...   \n1417  tlg4081.tlg001.perseus-grc1.xml                              Colluthus   \n1418      tlg4084.tlg001.opp-grc1.xml                                Zosimus   \n1421      tlg4089.tlg003.opp-grc1.xml                              Theodoret   \n1422    tlg4089.tlg004.1st1K-grc1.xml                              Theodoret   \n1423    tlg4090.tlg001.1st1K-lat3.xml                    Cyril of Alexandria   \n\n                          title  wordcount    author_id          doc_id  \\\n385           Gospel of Matthew      18288     tlg0031a  tlg0031.tlg001   \n386              Gospel of Mark      11274     tlg0031b  tlg0031.tlg002   \n387              Gospel of Luke      19458  tlg0031luke  tlg0031.tlg003   \n388              Gospel of John      15590  tlg0031john  tlg0031.tlg004   \n389                        Acts      18406  tlg0031luke  tlg0031.tlg005   \n...                         ...        ...          ...             ...   \n1417              Rape of Helen       2336      tlg4081  tlg4081.tlg001   \n1418              Historia Nova      62236      tlg4084  tlg4084.tlg001   \n1421    Historia ecclesiastica      108815      tlg4089  tlg4089.tlg003   \n1422         Historia Religiosa      44518      tlg4089  tlg4089.tlg004   \n1423  Index In In XII Prophetas       6799      tlg4090  tlg4090.tlg001   \n\n      raw_date  date_avr                date_probs  date_manual provenience  \\\n385     A.D. 1       0.5                {'0.5': 1}          0.5   christian   \n386     A.D. 1       0.5                {'0.5': 1}          0.5   christian   \n387     A.D. 1       0.5                {'0.5': 1}          0.5   christian   \n388     A.D. 1       0.5                {'0.5': 1}          0.5   christian   \n389     A.D. 1       0.5                {'0.5': 1}          0.5   christian   \n...        ...       ...                       ...          ...         ...   \n1417    A.D. 5       4.5                {'4.5': 1}          NaN   christian   \n1418   A.D. 5?       4.5                {'4.5': 1}          4.5   christian   \n1421  A.D. 4-5       4.5  {'3.5': 0.5, '4.5': 0.5}          4.5   christian   \n1422  A.D. 4-5       4.5  {'3.5': 0.5, '4.5': 0.5}          4.5   christian   \n1423  A.D. 4-5       4.5  {'3.5': 0.5, '4.5': 0.5}          4.5   christian   \n\n        tlg_epithet                                       clean_string  \\\n385              []   ΒΙΒΛΟΣ γενέσεως Ἰησοῦ Χριστοῦ υἱοῦ Δαυεὶδ υἱο...   \n386              []   ΑΡΧΗ τοῦ εὐαγγελίου Ἰησοῦ Χριστοῦ . Καθὼς γέγ...   \n387              []   ΕΠΕΙΔΗΠΕΡ ΠΟΛΛΟΙ ἐπεχείρησαν ἀνατάξασθαι διήγ...   \n388              []   ΕΝ ΑΡΧΗ ἦν ὁ λόγος, καὶ ὁ λόγος ἦν πρὸς τὸν θ...   \n389              []   τὸν μὲν πρῶτον λόγον ἐποιησάμην περὶ πάντων, ...   \n...             ...                                                ...   \n1417      Epici/-ae  νύμφαι Τρωιάδες, ποταμοῦ Ξάνθοιο γενέθλη, αἳ π...   \n1418  Historici/-ae   Πολυβίῳ τῷ Μεγαλοπολίτῃ, μνήμῃ παραδοῦναι τὰ ...   \n1421     Theologici  Τάδε ἔνεστιν ἐν τῷ πρώτῳ τόμῳ τῆς Θεοδωρήτου ἐ...   \n1422     Theologici   Τῶν ἀρίστων ἀνδρῶν, καὶ τῆς ἀρετῆς ἀθλητῶν, κ...   \n1423     Theologici  , ; , , ; , ; ; . , , ; ; ; , ; , ; ; , ; ; , ...   \n\n      n_sentences                               lemmatized_sentences  \\\n385          1276  [[βίβλος, γένεσις, Ἰησοῦς, Χριστός, υἱός, Δαυί...   \n386           790  [[ἀρχή, εὐαγγέλιον, Ἰησοῦς, Χριστός], [γράφω, ...   \n387          1274  [[πολύς, ἐπιχειρέω, ἀνατάσσομαι, διήγησις, πλη...   \n388          1164  [[εἰμί, ἀρχή, εἰμί, λόγος, λόγος, εἰμί, θεός, ...   \n389           960  [[πρῶτος, λόγος, ποιέω, πᾶς, Θεόφιλος, ἄρχω, Ἰ...   \n...           ...                                                ...   \n1417          209  [[νύμφη, Τρῳάς, ποταμός, Ξάνθος, γενέθλη, πλόκ...   \n1418         2265  [[πολυβίῳ, μεγαλοπολίτῃ, μνήμη, παραδίδωμι, ἀξ...   \n1421        13146  [[ἔνειμι, πρῶτος, τόμῳ, θεοδωρήτου, ἐκκλησιαστ...   \n1422         2948  [[ἄριστος, ἀνήρ, ἀρετή, ἀθλητής, καλός, ὁράω, ...   \n1423         3659  [[], [], [], [], [], [], [], [], [], [], [], [...   \n\n                                         sentences_paul  sentences_paul_N  \\\n385                                                  []                 0   \n386                                                  []                 0   \n387                                                  []                 0   \n388                                                  []                 0   \n389   [[διέρχομαι, ὅλος, νῆσος, Πάφος, εὑρίσκω, ἀνήρ...               125   \n...                                                 ...               ...   \n1417                                                 []                 0   \n1418                                                 []                 0   \n1421  [[προτρεπόμενον, Παῦλος, οὗτος, βιάζω, Πέτρος,...                31   \n1422  [[τοιοῦτος, παντευχία, φάλαγξ, στρατηγός, πρόμ...                 9   \n1423                                                 []                 0   \n\n                                      sentences_apostle  sentences_apostle_N  \\\n385                          [[ἀπόστολος, ὄνομα, εἰμί]]                    1   \n386   [[ποιέω, ἀπόστολος, ὀνομάζω, ἀποστέλλω, κηρύσσ...                    2   \n387   [[γίγνομαι, ἡμέρα, προσφωνέω, μαθητής, ἐκλεξάμ...                    6   \n388   [[λέγω, εἰμί, δοῦλος, μέγας, κύριος, ἀπόστολος...                    1   \n389   [[πρῶτος, λόγος, ποιέω, πᾶς, Θεόφιλος, ἄρχω, Ἰ...                   26   \n...                                                 ...                  ...   \n1417                                                 []                    0   \n1418                                                 []                    0   \n1421  [[εὐσεβίος, παλαιστῖνος, ἱερόν, ἀπόστολος, ἱστ...                   23   \n1422  [[ῥηθησομένων, ἀπιστέω, εὔδηλος, μωσέως, Ἰησοῦ...                   13   \n1423                                                 []                    0   \n\n      paul_N  \n385        0  \n386        0  \n387        0  \n388        0  \n389      128  \n...      ...  \n1417       0  \n1418       0  \n1421      33  \n1422       9  \n1423       0  \n\n[148 rows x 20 columns]",
      "text/html": "<div>\n<style scoped>\n    .dataframe tbody tr th:only-of-type {\n        vertical-align: middle;\n    }\n\n    .dataframe tbody tr th {\n        vertical-align: top;\n    }\n\n    .dataframe thead th {\n        text-align: right;\n    }\n</style>\n<table border=\"1\" class=\"dataframe\">\n  <thead>\n    <tr style=\"text-align: right;\">\n      <th></th>\n      <th>filename</th>\n      <th>author</th>\n      <th>title</th>\n      <th>wordcount</th>\n      <th>author_id</th>\n      <th>doc_id</th>\n      <th>raw_date</th>\n      <th>date_avr</th>\n      <th>date_probs</th>\n      <th>date_manual</th>\n      <th>provenience</th>\n      <th>tlg_epithet</th>\n      <th>clean_string</th>\n      <th>n_sentences</th>\n      <th>lemmatized_sentences</th>\n      <th>sentences_paul</th>\n      <th>sentences_paul_N</th>\n      <th>sentences_apostle</th>\n      <th>sentences_apostle_N</th>\n      <th>paul_N</th>\n    </tr>\n  </thead>\n  <tbody>\n    <tr>\n      <th>385</th>\n      <td>tlg0031.tlg001.perseus-grc2.xml</td>\n      <td>Gospel of Matthew</td>\n      <td>Gospel of Matthew</td>\n      <td>18288</td>\n      <td>tlg0031a</td>\n      <td>tlg0031.tlg001</td>\n      <td>A.D. 1</td>\n      <td>0.5</td>\n      <td>{'0.5': 1}</td>\n      <td>0.5</td>\n      <td>christian</td>\n      <td>[]</td>\n      <td>ΒΙΒΛΟΣ γενέσεως Ἰησοῦ Χριστοῦ υἱοῦ Δαυεὶδ υἱο...</td>\n      <td>1276</td>\n      <td>[[βίβλος, γένεσις, Ἰησοῦς, Χριστός, υἱός, Δαυί...</td>\n      <td>[]</td>\n      <td>0</td>\n      <td>[[ἀπόστολος, ὄνομα, εἰμί]]</td>\n      <td>1</td>\n      <td>0</td>\n    </tr>\n    <tr>\n      <th>386</th>\n      <td>tlg0031.tlg002.perseus-grc2.xml</td>\n      <td>Gospel of Mark</td>\n      <td>Gospel of Mark</td>\n      <td>11274</td>\n      <td>tlg0031b</td>\n      <td>tlg0031.tlg002</td>\n      <td>A.D. 1</td>\n      <td>0.5</td>\n      <td>{'0.5': 1}</td>\n      <td>0.5</td>\n      <td>christian</td>\n      <td>[]</td>\n      <td>ΑΡΧΗ τοῦ εὐαγγελίου Ἰησοῦ Χριστοῦ . Καθὼς γέγ...</td>\n      <td>790</td>\n      <td>[[ἀρχή, εὐαγγέλιον, Ἰησοῦς, Χριστός], [γράφω, ...</td>\n      <td>[]</td>\n      <td>0</td>\n      <td>[[ποιέω, ἀπόστολος, ὀνομάζω, ἀποστέλλω, κηρύσσ...</td>\n      <td>2</td>\n      <td>0</td>\n    </tr>\n    <tr>\n      <th>387</th>\n      <td>tlg0031.tlg003.perseus-grc2.xml</td>\n      <td>Luke-Acts</td>\n      <td>Gospel of Luke</td>\n      <td>19458</td>\n      <td>tlg0031luke</td>\n      <td>tlg0031.tlg003</td>\n      <td>A.D. 1</td>\n      <td>0.5</td>\n      <td>{'0.5': 1}</td>\n      <td>0.5</td>\n      <td>christian</td>\n      <td>[]</td>\n      <td>ΕΠΕΙΔΗΠΕΡ ΠΟΛΛΟΙ ἐπεχείρησαν ἀνατάξασθαι διήγ...</td>\n      <td>1274</td>\n      <td>[[πολύς, ἐπιχειρέω, ἀνατάσσομαι, διήγησις, πλη...</td>\n      <td>[]</td>\n      <td>0</td>\n      <td>[[γίγνομαι, ἡμέρα, προσφωνέω, μαθητής, ἐκλεξάμ...</td>\n      <td>6</td>\n      <td>0</td>\n    </tr>\n    <tr>\n      <th>388</th>\n      <td>tlg0031.tlg004.perseus-grc2.xml</td>\n      <td>Johnannine literature (New Testament)</td>\n      <td>Gospel of John</td>\n      <td>15590</td>\n      <td>tlg0031john</td>\n      <td>tlg0031.tlg004</td>\n      <td>A.D. 1</td>\n      <td>0.5</td>\n      <td>{'0.5': 1}</td>\n      <td>0.5</td>\n      <td>christian</td>\n      <td>[]</td>\n      <td>ΕΝ ΑΡΧΗ ἦν ὁ λόγος, καὶ ὁ λόγος ἦν πρὸς τὸν θ...</td>\n      <td>1164</td>\n      <td>[[εἰμί, ἀρχή, εἰμί, λόγος, λόγος, εἰμί, θεός, ...</td>\n      <td>[]</td>\n      <td>0</td>\n      <td>[[λέγω, εἰμί, δοῦλος, μέγας, κύριος, ἀπόστολος...</td>\n      <td>1</td>\n      <td>0</td>\n    </tr>\n    <tr>\n      <th>389</th>\n      <td>tlg0031.tlg005.perseus-grc2.xml</td>\n      <td>Luke-Acts</td>\n      <td>Acts</td>\n      <td>18406</td>\n      <td>tlg0031luke</td>\n      <td>tlg0031.tlg005</td>\n      <td>A.D. 1</td>\n      <td>0.5</td>\n      <td>{'0.5': 1}</td>\n      <td>0.5</td>\n      <td>christian</td>\n      <td>[]</td>\n      <td>τὸν μὲν πρῶτον λόγον ἐποιησάμην περὶ πάντων, ...</td>\n      <td>960</td>\n      <td>[[πρῶτος, λόγος, ποιέω, πᾶς, Θεόφιλος, ἄρχω, Ἰ...</td>\n      <td>[[διέρχομαι, ὅλος, νῆσος, Πάφος, εὑρίσκω, ἀνήρ...</td>\n      <td>125</td>\n      <td>[[πρῶτος, λόγος, ποιέω, πᾶς, Θεόφιλος, ἄρχω, Ἰ...</td>\n      <td>26</td>\n      <td>128</td>\n    </tr>\n    <tr>\n      <th>...</th>\n      <td>...</td>\n      <td>...</td>\n      <td>...</td>\n      <td>...</td>\n      <td>...</td>\n      <td>...</td>\n      <td>...</td>\n      <td>...</td>\n      <td>...</td>\n      <td>...</td>\n      <td>...</td>\n      <td>...</td>\n      <td>...</td>\n      <td>...</td>\n      <td>...</td>\n      <td>...</td>\n      <td>...</td>\n      <td>...</td>\n      <td>...</td>\n      <td>...</td>\n    </tr>\n    <tr>\n      <th>1417</th>\n      <td>tlg4081.tlg001.perseus-grc1.xml</td>\n      <td>Colluthus</td>\n      <td>Rape of Helen</td>\n      <td>2336</td>\n      <td>tlg4081</td>\n      <td>tlg4081.tlg001</td>\n      <td>A.D. 5</td>\n      <td>4.5</td>\n      <td>{'4.5': 1}</td>\n      <td>NaN</td>\n      <td>christian</td>\n      <td>Epici/-ae</td>\n      <td>νύμφαι Τρωιάδες, ποταμοῦ Ξάνθοιο γενέθλη, αἳ π...</td>\n      <td>209</td>\n      <td>[[νύμφη, Τρῳάς, ποταμός, Ξάνθος, γενέθλη, πλόκ...</td>\n      <td>[]</td>\n      <td>0</td>\n      <td>[]</td>\n      <td>0</td>\n      <td>0</td>\n    </tr>\n    <tr>\n      <th>1418</th>\n      <td>tlg4084.tlg001.opp-grc1.xml</td>\n      <td>Zosimus</td>\n      <td>Historia Nova</td>\n      <td>62236</td>\n      <td>tlg4084</td>\n      <td>tlg4084.tlg001</td>\n      <td>A.D. 5?</td>\n      <td>4.5</td>\n      <td>{'4.5': 1}</td>\n      <td>4.5</td>\n      <td>christian</td>\n      <td>Historici/-ae</td>\n      <td>Πολυβίῳ τῷ Μεγαλοπολίτῃ, μνήμῃ παραδοῦναι τὰ ...</td>\n      <td>2265</td>\n      <td>[[πολυβίῳ, μεγαλοπολίτῃ, μνήμη, παραδίδωμι, ἀξ...</td>\n      <td>[]</td>\n      <td>0</td>\n      <td>[]</td>\n      <td>0</td>\n      <td>0</td>\n    </tr>\n    <tr>\n      <th>1421</th>\n      <td>tlg4089.tlg003.opp-grc1.xml</td>\n      <td>Theodoret</td>\n      <td>Historia ecclesiastica</td>\n      <td>108815</td>\n      <td>tlg4089</td>\n      <td>tlg4089.tlg003</td>\n      <td>A.D. 4-5</td>\n      <td>4.5</td>\n      <td>{'3.5': 0.5, '4.5': 0.5}</td>\n      <td>4.5</td>\n      <td>christian</td>\n      <td>Theologici</td>\n      <td>Τάδε ἔνεστιν ἐν τῷ πρώτῳ τόμῳ τῆς Θεοδωρήτου ἐ...</td>\n      <td>13146</td>\n      <td>[[ἔνειμι, πρῶτος, τόμῳ, θεοδωρήτου, ἐκκλησιαστ...</td>\n      <td>[[προτρεπόμενον, Παῦλος, οὗτος, βιάζω, Πέτρος,...</td>\n      <td>31</td>\n      <td>[[εὐσεβίος, παλαιστῖνος, ἱερόν, ἀπόστολος, ἱστ...</td>\n      <td>23</td>\n      <td>33</td>\n    </tr>\n    <tr>\n      <th>1422</th>\n      <td>tlg4089.tlg004.1st1K-grc1.xml</td>\n      <td>Theodoret</td>\n      <td>Historia Religiosa</td>\n      <td>44518</td>\n      <td>tlg4089</td>\n      <td>tlg4089.tlg004</td>\n      <td>A.D. 4-5</td>\n      <td>4.5</td>\n      <td>{'3.5': 0.5, '4.5': 0.5}</td>\n      <td>4.5</td>\n      <td>christian</td>\n      <td>Theologici</td>\n      <td>Τῶν ἀρίστων ἀνδρῶν, καὶ τῆς ἀρετῆς ἀθλητῶν, κ...</td>\n      <td>2948</td>\n      <td>[[ἄριστος, ἀνήρ, ἀρετή, ἀθλητής, καλός, ὁράω, ...</td>\n      <td>[[τοιοῦτος, παντευχία, φάλαγξ, στρατηγός, πρόμ...</td>\n      <td>9</td>\n      <td>[[ῥηθησομένων, ἀπιστέω, εὔδηλος, μωσέως, Ἰησοῦ...</td>\n      <td>13</td>\n      <td>9</td>\n    </tr>\n    <tr>\n      <th>1423</th>\n      <td>tlg4090.tlg001.1st1K-lat3.xml</td>\n      <td>Cyril of Alexandria</td>\n      <td>Index In In XII Prophetas</td>\n      <td>6799</td>\n      <td>tlg4090</td>\n      <td>tlg4090.tlg001</td>\n      <td>A.D. 4-5</td>\n      <td>4.5</td>\n      <td>{'3.5': 0.5, '4.5': 0.5}</td>\n      <td>4.5</td>\n      <td>christian</td>\n      <td>Theologici</td>\n      <td>, ; , , ; , ; ; . , , ; ; ; , ; , ; ; , ; ; , ...</td>\n      <td>3659</td>\n      <td>[[], [], [], [], [], [], [], [], [], [], [], [...</td>\n      <td>[]</td>\n      <td>0</td>\n      <td>[]</td>\n      <td>0</td>\n      <td>0</td>\n    </tr>\n  </tbody>\n</table>\n<p>148 rows × 20 columns</p>\n</div>"
     },
     "execution_count": 22,
     "metadata": {},
     "output_type": "execute_result"
    }
   ],
   "source": [
    "LAGTec"
   ],
   "metadata": {
    "collapsed": false,
    "pycharm": {
     "name": "#%%\n"
    }
   }
  },
  {
   "cell_type": "code",
   "execution_count": 23,
   "outputs": [
    {
     "data": {
      "text/plain": "   date_avr  authors_N  wordcount  n_sentences  paul_N  paul_freq  \\\n0       0.5         13     151723        10108     160   0.001055   \n1       1.5         13     322401        41076      18   0.000056   \n2       2.5          4    1237867       129474     497   0.000401   \n3       3.5          9    1347705       117599     213   0.000158   \n4       4.5         10     507127        45061     184   0.000363   \n\n   sentences_paul_N  sentences_apostle_N  \n0               156                   84  \n1                18                   92  \n2               485                  644  \n3               205                  690  \n4               181                  146  ",
      "text/html": "<div>\n<style scoped>\n    .dataframe tbody tr th:only-of-type {\n        vertical-align: middle;\n    }\n\n    .dataframe tbody tr th {\n        vertical-align: top;\n    }\n\n    .dataframe thead th {\n        text-align: right;\n    }\n</style>\n<table border=\"1\" class=\"dataframe\">\n  <thead>\n    <tr style=\"text-align: right;\">\n      <th></th>\n      <th>date_avr</th>\n      <th>authors_N</th>\n      <th>wordcount</th>\n      <th>n_sentences</th>\n      <th>paul_N</th>\n      <th>paul_freq</th>\n      <th>sentences_paul_N</th>\n      <th>sentences_apostle_N</th>\n    </tr>\n  </thead>\n  <tbody>\n    <tr>\n      <th>0</th>\n      <td>0.5</td>\n      <td>13</td>\n      <td>151723</td>\n      <td>10108</td>\n      <td>160</td>\n      <td>0.001055</td>\n      <td>156</td>\n      <td>84</td>\n    </tr>\n    <tr>\n      <th>1</th>\n      <td>1.5</td>\n      <td>13</td>\n      <td>322401</td>\n      <td>41076</td>\n      <td>18</td>\n      <td>0.000056</td>\n      <td>18</td>\n      <td>92</td>\n    </tr>\n    <tr>\n      <th>2</th>\n      <td>2.5</td>\n      <td>4</td>\n      <td>1237867</td>\n      <td>129474</td>\n      <td>497</td>\n      <td>0.000401</td>\n      <td>485</td>\n      <td>644</td>\n    </tr>\n    <tr>\n      <th>3</th>\n      <td>3.5</td>\n      <td>9</td>\n      <td>1347705</td>\n      <td>117599</td>\n      <td>213</td>\n      <td>0.000158</td>\n      <td>205</td>\n      <td>690</td>\n    </tr>\n    <tr>\n      <th>4</th>\n      <td>4.5</td>\n      <td>10</td>\n      <td>507127</td>\n      <td>45061</td>\n      <td>184</td>\n      <td>0.000363</td>\n      <td>181</td>\n      <td>146</td>\n    </tr>\n  </tbody>\n</table>\n</div>"
     },
     "execution_count": 23,
     "metadata": {},
     "output_type": "execute_result"
    }
   ],
   "source": [
    "LAGTec_by_date = pd.DataFrame(LAGTec.groupby(\"date_avr\").sum())\n",
    "LAGTec_by_date.reset_index(inplace=True)\n",
    "\n",
    "LAGTec_by_date[\"authors_N\"] = LAGTec_by_date[\"date_avr\"].apply(lambda x: len(LAGTec[LAGTec[\"date_avr\"]==x][\"author\"].unique()))\n",
    "\n",
    "LAGTec_by_date[\"works_N\"] = LAGTec_by_date[\"date_avr\"].apply(lambda x: (LAGTec[\"date_avr\"]==x).sum())\n",
    "\n",
    "LAGTec_by_date[\"paul_freq\"] = LAGTec_by_date[\"paul_N\"] / LAGTec_by_date[\"wordcount\"]\n",
    "\n",
    "LAGTec_by_date[[\"date_avr\", \"authors_N\", \"wordcount\", \"n_sentences\", \"paul_N\", \"paul_freq\", \"sentences_paul_N\", \"sentences_apostle_N\"]]"
   ],
   "metadata": {
    "collapsed": false,
    "pycharm": {
     "name": "#%%\n"
    }
   }
  },
  {
   "cell_type": "code",
   "execution_count": 24,
   "outputs": [],
   "source": [
    "sents_1to3 = [sen for work in LAGTec[LAGTec[\"date_avr\"]<3][\"lemmatized_sentences\"] for sen in work]\n",
    "sents_4to5 = [sen for work in LAGTec[LAGTec[\"date_avr\"]>3][\"lemmatized_sentences\"] for sen in work]"
   ],
   "metadata": {
    "collapsed": false,
    "pycharm": {
     "name": "#%%\n"
    }
   }
  },
  {
   "cell_type": "code",
   "execution_count": 25,
   "outputs": [
    {
     "data": {
      "text/plain": "180658"
     },
     "execution_count": 25,
     "metadata": {},
     "output_type": "execute_result"
    }
   ],
   "source": [
    "len(sents_1to3)"
   ],
   "metadata": {
    "collapsed": false,
    "pycharm": {
     "name": "#%%\n"
    }
   }
  },
  {
   "cell_type": "code",
   "execution_count": 26,
   "outputs": [
    {
     "name": "stdout",
     "output_type": "stream",
     "text": [
      "[['βίβλος', 'γένεσις', 'Ἰησοῦς', 'Χριστός', 'υἱός', 'Δαυίδ', 'υἱός', 'Ἀβραάμ'], ['Ἀβραάμ', 'γεννάω', 'Ἰσαάκ', 'Ἰσαάκ', 'γεννάω', 'Ἰακώβ', 'Ἰακώβ', 'γεννάω', 'Ἰούδας', 'ἀδελφός', 'Ἰούδας', 'γεννάω', 'Φάρες', 'Ζάρα', 'Θαμάρ', 'Φάρες', 'γεννάω', 'Ἑσρώμ', 'Ἑσρώμ', 'γεννάω', 'Ἀράμ', 'Ἀράμ', 'γεννάω', 'Ἀμιναδάβ', 'Ἀμιναδάβ', 'γεννάω', 'Ναασσών', 'Ναασσών', 'γεννάω', 'Σαλμών', 'Σαλμών', 'γεννάω', 'βοῦς', 'Ῥαχάβ', 'βοῦς', 'γεννάω', 'Ἰωβήδ', 'Ῥούθ', 'Ἰωβήδ', 'γεννάω', 'Ἰεσσαί', 'Ἰεσσαί', 'γεννάω', 'Δαυίδ', 'βασιλεύς'], ['Δαυίδ', 'γεννάω', 'Σολομών', 'Οὐρίας', 'Σολομών', 'γεννάω', 'Ῥοβοάμ', 'Ῥοβοάμ', 'γεννάω', 'Ἀβιά', 'Ἀβιά', 'γεννάω', 'Ἀσάφ', 'Ἀσάφ', 'γεννάω', 'Ἰωσαφάτ', 'Ἰωσαφάτ', 'γεννάω', 'Ἰωράμ', 'Ἰωράμ', 'γεννάω', 'Ὀζίας', 'Ὀζίας', 'γεννάω', 'Ἰωαθάμ', 'Ἰωαθάμ', 'γεννάω', 'ἄχας', 'ἄχας', 'γεννάω', 'Ἑζεκίας', 'Ἑζεκίας', 'γεννάω', 'Μανασσῆς', 'Μανασσῆς', 'γεννάω', 'Ἀμώς', 'Ἀμώς', 'γεννάω', 'Ἰωσίας', 'Ἰωσίας', 'γεννάω', 'Ἰεχονίας', 'ἀδελφός', 'μετοικεσία', 'Βαβυλών']]\n"
     ]
    }
   ],
   "source": [
    "print(sents_1to3[:3])"
   ],
   "metadata": {
    "collapsed": false,
    "pycharm": {
     "name": "#%%\n"
    }
   }
  },
  {
   "cell_type": "code",
   "execution_count": 27,
   "outputs": [],
   "source": [
    "min_freq = 5\n",
    "\n",
    "def get_vocab(docs, min_freq=5):\n",
    "    words_flat = [item for sublist in docs for item in sublist]\n",
    "    word_freq_tups = nltk.FreqDist(words_flat).most_common()\n",
    "    vocabulary = [tup[0] for tup in word_freq_tups if tup[1] >= min_freq]\n",
    "    #vocab_freqs = [len([doc for doc in docs if word in doc]) for word in vocabulary]\n",
    "    return words_flat, vocabulary # , vocab_freqs"
   ],
   "metadata": {
    "collapsed": false,
    "pycharm": {
     "name": "#%%\n"
    }
   }
  },
  {
   "cell_type": "code",
   "execution_count": 28,
   "outputs": [],
   "source": [
    "words_flat_1to3, vocabulary_1to3 = get_vocab(sents_1to3)\n",
    "words_flat_4to5, vocabulary_4to5 = get_vocab(sents_4to5)"
   ],
   "metadata": {
    "collapsed": false,
    "pycharm": {
     "name": "#%%\n"
    }
   }
  },
  {
   "cell_type": "code",
   "execution_count": 29,
   "outputs": [
    {
     "name": "stdout",
     "output_type": "stream",
     "text": [
      "True\n",
      "True\n",
      "True\n",
      "True\n"
     ]
    }
   ],
   "source": [
    "print(\"Παῦλος\" in vocabulary_1to3)\n",
    "print(\"Παῦλος\" in vocabulary_4to5)\n",
    "print(\"ἀπόστολος\" in vocabulary_1to3)\n",
    "print(\"ἀπόστολος\" in vocabulary_4to5)"
   ],
   "metadata": {
    "collapsed": false,
    "pycharm": {
     "name": "#%%\n"
    }
   }
  },
  {
   "cell_type": "code",
   "execution_count": 30,
   "outputs": [
    {
     "data": {
      "text/plain": "['ὄμμα',\n 'μένω',\n 'ἀπειλή',\n 'σκώληξ',\n 'σῶμα',\n 'ἀπουσία',\n 'ἐπιστρεφόμενον',\n 'ἐκβράσαν',\n 'σῶμα',\n 'ἐπιστρεφής',\n 'οὗτος',\n 'ἐκφεύγω',\n 'θεός',\n 'εἰμί',\n 'διδαχθείς',\n 'ἔχω',\n 'ἀθάνατος',\n 'σῶμα',\n 'ἄφθαρτ',\n 'ψυχή',\n 'βασιλεία',\n 'οὐρανός',\n 'ἀπόληψις',\n 'γῆ',\n 'βίος',\n 'ἐπουράνιος',\n 'βασιλεύς',\n 'ἐπιγνούς',\n 'εἰμί',\n 'ὁμιλητής',\n 'θεός',\n 'συγκληρονόμος',\n 'Χριστός',\n 'ἐπιθυμία',\n 'πάθος',\n 'νόσος',\n 'δουλούμενος',\n 'γίγνομαι',\n 'θεός',\n 'ὑπομένω',\n 'πάθος',\n 'ἄνθρωπος',\n 'εἰμί',\n 'δίδωμι',\n 'ἄνθρωπος',\n 'εἷς',\n 'ὅσος',\n 'παρακολουθέω',\n 'θεός',\n 'παρέχω',\n 'ἐπαγγέλλομαι',\n 'θεός',\n 'ἐθεοποιήθης',\n 'ἀθάνατος',\n 'γεννηθείς',\n 'τουτέστι',\n 'γιγνώσκω',\n 'ἐπιγιγνώσκω',\n 'πεποιηκότα',\n 'θεός',\n 'ἐπιγιγνώσκω',\n 'ἐπιγνωσθῆναι',\n 'συμβαίνω',\n 'καλουμένῳ',\n 'φιλεχθρήσητε',\n 'ἄνθρωπος',\n 'παλινδρομεῖν',\n 'διστάσητε',\n 'Χριστός',\n 'πᾶς',\n 'θεός',\n 'ἁμαρτία',\n 'ἄνθρωπος',\n 'ἀποπλύνω',\n 'προστάσσω',\n 'νέος',\n 'παλαιός',\n 'ἄνθρωπος',\n 'ἀποτελῶν',\n 'εἰκών',\n 'καλέω',\n 'ἀρχή',\n 'τύπος',\n 'ἐπιδεικνύμενος',\n 'στοργή',\n 'πρόσταγμα',\n 'ὑπακούω',\n 'σεμνός',\n 'ἀγαθός',\n 'ἀγαθός',\n 'γίγνομαι',\n 'μιμητής',\n 'εἰμί',\n 'ὅμοιος',\n 'τιμηθείς',\n 'πτωχεύει',\n 'θεός',\n 'θεός',\n 'ποιέω',\n 'δόξα']"
     },
     "execution_count": 30,
     "metadata": {},
     "output_type": "execute_result"
    }
   ],
   "source": [
    "words_flat_1to3[-100:]"
   ],
   "metadata": {
    "collapsed": false,
    "pycharm": {
     "name": "#%%\n"
    }
   }
  },
  {
   "cell_type": "code",
   "execution_count": 31,
   "outputs": [
    {
     "name": "stdout",
     "output_type": "stream",
     "text": [
      "695239\n",
      "810827\n"
     ]
    }
   ],
   "source": [
    "print(len(words_flat_1to3))\n",
    "print(len(words_flat_4to5))"
   ],
   "metadata": {
    "collapsed": false,
    "pycharm": {
     "name": "#%%\n"
    }
   }
  },
  {
   "cell_type": "code",
   "execution_count": 32,
   "outputs": [],
   "source": [
    "def get_cooc(docs, vocabulary=None, min_freq=5):\n",
    "    if vocabulary==None:\n",
    "        lemmata, vocabulary = get_vocab(docs, min_freq)\n",
    "    vec_bow = CountVectorizer(vocabulary=vocabulary, lowercase=False)\n",
    "    bow = vec_bow.fit_transform([\" \".join(list(set(sentence))) for sentence in docs])\n",
    "    cooc  = bow.T * bow\n",
    "    cooc = cooc / len(docs)\n",
    "    return cooc, vocabulary"
   ],
   "metadata": {
    "collapsed": false,
    "pycharm": {
     "name": "#%%\n"
    }
   }
  },
  {
   "cell_type": "code",
   "execution_count": 33,
   "outputs": [],
   "source": [
    "cooc_1to3, vocabulary_1to3 = get_cooc(sents_1to3, vocabulary=vocabulary_1to3[:2000])\n",
    "cooc_4to5, vocabulary_4to5 = get_cooc(sents_4to5, vocabulary=vocabulary_4to5[:2000])"
   ],
   "metadata": {
    "collapsed": false,
    "pycharm": {
     "name": "#%%\n"
    }
   }
  },
  {
   "cell_type": "code",
   "execution_count": 34,
   "outputs": [
    {
     "data": {
      "text/plain": "(2000, 2000)"
     },
     "execution_count": 34,
     "metadata": {},
     "output_type": "execute_result"
    }
   ],
   "source": [
    "cooc_4to5.todense().shape"
   ],
   "metadata": {
    "collapsed": false,
    "pycharm": {
     "name": "#%%\n"
    }
   }
  },
  {
   "cell_type": "code",
   "execution_count": 35,
   "outputs": [],
   "source": [
    "def normalize_ppmi3_matrix(pmi_matrix_df):\n",
    "    minval, maxval = pmi_matrix_df.min().min(), pmi_matrix_df.max().max()\n",
    "    minval_2 = minval * 2\n",
    "    pmi_matrix_df.fillna(minval_2, inplace=True)\n",
    "    pmi_matrix_norm_df = (pmi_matrix_df - minval_2) / (maxval - minval_2)\n",
    "    return pmi_matrix_norm_df"
   ],
   "metadata": {
    "collapsed": false,
    "pycharm": {
     "name": "#%%\n"
    }
   }
  },
  {
   "cell_type": "code",
   "execution_count": 49,
   "outputs": [],
   "source": [
    "def get_ppmi_df(cooc, vocabulary, normalize=True, exp=1):\n",
    "    pmi_rows_list = []\n",
    "    for i in range(cooc.shape[1]):\n",
    "        ab = np.array([row_el for row_el in list(cooc[i].toarray()[0])], dtype=float)\n",
    "        ab_exp = np.power(ab, exp)\n",
    "        axb = np.array([cooc[row_el[0], row_el[0]] * cooc[i, i] for row_el in enumerate(list(cooc[i].toarray()[0]))], dtype=float)\n",
    "        pmi_row = np.divide(ab_exp, axb, out=np.zeros_like(ab_exp), where=axb!=0)\n",
    "        pmi_row = [np.log(n) if n>0 else None for n in pmi_row]\n",
    "        pmi_rows_list.append(pmi_row)\n",
    "    pmi_matrix_df = pd.DataFrame(pmi_rows_list, columns=vocabulary, index=vocabulary)\n",
    "    if normalize == True:\n",
    "        pmi_matrix_df = normalize_ppmi3_matrix(pmi_matrix_df)\n",
    "        np.fill_diagonal(pmi_matrix_df.to_numpy(), 1)\n",
    "    return pmi_matrix_df #pmi_matrix_norm_df"
   ],
   "metadata": {
    "collapsed": false,
    "pycharm": {
     "name": "#%%\n"
    }
   }
  },
  {
   "cell_type": "code",
   "execution_count": 50,
   "outputs": [],
   "source": [
    "def svd_reduction(cooc_matrix, n_components=300, random_state=1, n_iter=100):\n",
    "    svd = TruncatedSVD(n_components=n_components, random_state=random_state, n_iter=n_iter)\n",
    "    svd_matrix = svd.fit_transform(cooc_matrix)\n",
    "    return svd_matrix"
   ],
   "metadata": {
    "collapsed": false,
    "pycharm": {
     "name": "#%%\n"
    }
   }
  },
  {
   "cell_type": "code",
   "execution_count": 51,
   "outputs": [],
   "source": [
    "def from_docs_to_embeddings(docs, vocabulary=None, min_freq=5):\n",
    "    cooc, vocabulary = get_cooc(docs, vocabulary=vocabulary, min_freq=min_freq)\n",
    "    pmi_matrix = get_ppmi_df(cooc, vocabulary)\n",
    "    word_vectors_array = svd_reduction(pmi_matrix, n_components=300, random_state=1, n_iter=100)\n",
    "    word_vectors_df = pd.DataFrame(word_vectors_array, index=vocabulary)\n",
    "    pmi_svd_cos = pd.DataFrame(cosine_similarity(word_vectors_array), columns=vocabulary, index=vocabulary)\n",
    "    return [cooc, vocabulary, pmi_matrix, word_vectors_df, pmi_svd_cos]"
   ],
   "metadata": {
    "collapsed": false,
    "pycharm": {
     "name": "#%%\n"
    }
   }
  },
  {
   "cell_type": "code",
   "execution_count": 52,
   "outputs": [
    {
     "name": "stdout",
     "output_type": "stream",
     "text": [
      "CPU times: user 17min 13s, sys: 59.3 s, total: 18min 12s\n",
      "Wall time: 4min 31s\n"
     ]
    }
   ],
   "source": [
    "%%time\n",
    "data_1to3 = from_docs_to_embeddings(sents_1to3, vocabulary=vocabulary_1to3[:2000])\n",
    "data_4to5 = from_docs_to_embeddings(sents_4to5, vocabulary=vocabulary_4to5[:2000])"
   ],
   "metadata": {
    "collapsed": false,
    "pycharm": {
     "name": "#%%\n"
    }
   }
  },
  {
   "cell_type": "code",
   "execution_count": 54,
   "outputs": [
    {
     "data": {
      "text/plain": "              εἰμί      λέγω      θεός     οὗτος  γίγνομαι     λόγος  \\\nεἰμί      1.000000  0.998141  0.998323  0.999159  0.998005  0.996254   \nλέγω      0.998141  1.000000  0.997137  0.998396  0.996780  0.995034   \nθεός      0.998323  0.997137  1.000000  0.998059  0.997308  0.995369   \nοὗτος     0.999159  0.998396  0.998059  1.000000  0.997624  0.996842   \nγίγνομαι  0.998005  0.996780  0.997308  0.997624  1.000000  0.994969   \n...            ...       ...       ...       ...       ...       ...   \nἄνοια     0.391891  0.387610  0.392488  0.392558  0.392797  0.395945   \nσιγάω     0.374818  0.381950  0.376571  0.375043  0.379658  0.384002   \nἀναλίσκω  0.378586  0.378519  0.380320  0.376054  0.382931  0.379643   \nὀκτώ      0.349940  0.349337  0.344683  0.348919  0.355364  0.348627   \nκόρος     0.391205  0.384777  0.388224  0.391052  0.387002  0.398922   \n\n               πᾶς  ἄνθρωπος     αὐτός       ἔχω  ...      χολή  συγγένεια  \\\nεἰμί      0.997681  0.994673  0.997512  0.996940  ...  0.369405   0.400348   \nλέγω      0.996017  0.993321  0.996687  0.995547  ...  0.375992   0.398502   \nθεός      0.997929  0.994898  0.996347  0.995621  ...  0.365405   0.400487   \nοὗτος     0.997424  0.994684  0.997466  0.996798  ...  0.369606   0.400222   \nγίγνομαι  0.996563  0.993824  0.995595  0.995159  ...  0.369035   0.402807   \n...            ...       ...       ...       ...  ...       ...        ...   \nἄνοια     0.399042  0.398590  0.392535  0.389610  ...  0.360666   0.394274   \nσιγάω     0.380710  0.381704  0.380521  0.374030  ...  0.350373   0.432803   \nἀναλίσκω  0.384724  0.387030  0.379469  0.379048  ...  0.413345   0.373501   \nὀκτώ      0.348518  0.345561  0.348724  0.344550  ...  0.309067   0.423328   \nκόρος     0.396353  0.401396  0.401092  0.394693  ...  0.434688   0.381677   \n\n          ἐπιφαίνω      χρίω     λίμνη     ἄνοια     σιγάω  ἀναλίσκω  \\\nεἰμί      0.437838  0.391623  0.384709  0.391891  0.374818  0.378586   \nλέγω      0.440093  0.394344  0.383892  0.387610  0.381950  0.378519   \nθεός      0.444337  0.393022  0.381799  0.392488  0.376571  0.380320   \nοὗτος     0.438676  0.390455  0.382191  0.392558  0.375043  0.376054   \nγίγνομαι  0.442673  0.394125  0.390936  0.392797  0.379658  0.382931   \n...            ...       ...       ...       ...       ...       ...   \nἄνοια     0.401683  0.322940  0.366715  1.000000  0.349005  0.322519   \nσιγάω     0.456298  0.380891  0.376296  0.349005  1.000000  0.392811   \nἀναλίσκω  0.344293  0.361220  0.295441  0.322519  0.392811  1.000000   \nὀκτώ      0.291289  0.352115  0.311331  0.339740  0.372819  0.269675   \nκόρος     0.363918  0.266089  0.343223  0.519520  0.292413  0.315951   \n\n              ὀκτώ     κόρος  \nεἰμί      0.349940  0.391205  \nλέγω      0.349337  0.384777  \nθεός      0.344683  0.388224  \nοὗτος     0.348919  0.391052  \nγίγνομαι  0.355364  0.387002  \n...            ...       ...  \nἄνοια     0.339740  0.519520  \nσιγάω     0.372819  0.292413  \nἀναλίσκω  0.269675  0.315951  \nὀκτώ      1.000000  0.277260  \nκόρος     0.277260  1.000000  \n\n[2000 rows x 2000 columns]",
      "text/html": "<div>\n<style scoped>\n    .dataframe tbody tr th:only-of-type {\n        vertical-align: middle;\n    }\n\n    .dataframe tbody tr th {\n        vertical-align: top;\n    }\n\n    .dataframe thead th {\n        text-align: right;\n    }\n</style>\n<table border=\"1\" class=\"dataframe\">\n  <thead>\n    <tr style=\"text-align: right;\">\n      <th></th>\n      <th>εἰμί</th>\n      <th>λέγω</th>\n      <th>θεός</th>\n      <th>οὗτος</th>\n      <th>γίγνομαι</th>\n      <th>λόγος</th>\n      <th>πᾶς</th>\n      <th>ἄνθρωπος</th>\n      <th>αὐτός</th>\n      <th>ἔχω</th>\n      <th>...</th>\n      <th>χολή</th>\n      <th>συγγένεια</th>\n      <th>ἐπιφαίνω</th>\n      <th>χρίω</th>\n      <th>λίμνη</th>\n      <th>ἄνοια</th>\n      <th>σιγάω</th>\n      <th>ἀναλίσκω</th>\n      <th>ὀκτώ</th>\n      <th>κόρος</th>\n    </tr>\n  </thead>\n  <tbody>\n    <tr>\n      <th>εἰμί</th>\n      <td>1.000000</td>\n      <td>0.998141</td>\n      <td>0.998323</td>\n      <td>0.999159</td>\n      <td>0.998005</td>\n      <td>0.996254</td>\n      <td>0.997681</td>\n      <td>0.994673</td>\n      <td>0.997512</td>\n      <td>0.996940</td>\n      <td>...</td>\n      <td>0.369405</td>\n      <td>0.400348</td>\n      <td>0.437838</td>\n      <td>0.391623</td>\n      <td>0.384709</td>\n      <td>0.391891</td>\n      <td>0.374818</td>\n      <td>0.378586</td>\n      <td>0.349940</td>\n      <td>0.391205</td>\n    </tr>\n    <tr>\n      <th>λέγω</th>\n      <td>0.998141</td>\n      <td>1.000000</td>\n      <td>0.997137</td>\n      <td>0.998396</td>\n      <td>0.996780</td>\n      <td>0.995034</td>\n      <td>0.996017</td>\n      <td>0.993321</td>\n      <td>0.996687</td>\n      <td>0.995547</td>\n      <td>...</td>\n      <td>0.375992</td>\n      <td>0.398502</td>\n      <td>0.440093</td>\n      <td>0.394344</td>\n      <td>0.383892</td>\n      <td>0.387610</td>\n      <td>0.381950</td>\n      <td>0.378519</td>\n      <td>0.349337</td>\n      <td>0.384777</td>\n    </tr>\n    <tr>\n      <th>θεός</th>\n      <td>0.998323</td>\n      <td>0.997137</td>\n      <td>1.000000</td>\n      <td>0.998059</td>\n      <td>0.997308</td>\n      <td>0.995369</td>\n      <td>0.997929</td>\n      <td>0.994898</td>\n      <td>0.996347</td>\n      <td>0.995621</td>\n      <td>...</td>\n      <td>0.365405</td>\n      <td>0.400487</td>\n      <td>0.444337</td>\n      <td>0.393022</td>\n      <td>0.381799</td>\n      <td>0.392488</td>\n      <td>0.376571</td>\n      <td>0.380320</td>\n      <td>0.344683</td>\n      <td>0.388224</td>\n    </tr>\n    <tr>\n      <th>οὗτος</th>\n      <td>0.999159</td>\n      <td>0.998396</td>\n      <td>0.998059</td>\n      <td>1.000000</td>\n      <td>0.997624</td>\n      <td>0.996842</td>\n      <td>0.997424</td>\n      <td>0.994684</td>\n      <td>0.997466</td>\n      <td>0.996798</td>\n      <td>...</td>\n      <td>0.369606</td>\n      <td>0.400222</td>\n      <td>0.438676</td>\n      <td>0.390455</td>\n      <td>0.382191</td>\n      <td>0.392558</td>\n      <td>0.375043</td>\n      <td>0.376054</td>\n      <td>0.348919</td>\n      <td>0.391052</td>\n    </tr>\n    <tr>\n      <th>γίγνομαι</th>\n      <td>0.998005</td>\n      <td>0.996780</td>\n      <td>0.997308</td>\n      <td>0.997624</td>\n      <td>1.000000</td>\n      <td>0.994969</td>\n      <td>0.996563</td>\n      <td>0.993824</td>\n      <td>0.995595</td>\n      <td>0.995159</td>\n      <td>...</td>\n      <td>0.369035</td>\n      <td>0.402807</td>\n      <td>0.442673</td>\n      <td>0.394125</td>\n      <td>0.390936</td>\n      <td>0.392797</td>\n      <td>0.379658</td>\n      <td>0.382931</td>\n      <td>0.355364</td>\n      <td>0.387002</td>\n    </tr>\n    <tr>\n      <th>...</th>\n      <td>...</td>\n      <td>...</td>\n      <td>...</td>\n      <td>...</td>\n      <td>...</td>\n      <td>...</td>\n      <td>...</td>\n      <td>...</td>\n      <td>...</td>\n      <td>...</td>\n      <td>...</td>\n      <td>...</td>\n      <td>...</td>\n      <td>...</td>\n      <td>...</td>\n      <td>...</td>\n      <td>...</td>\n      <td>...</td>\n      <td>...</td>\n      <td>...</td>\n      <td>...</td>\n    </tr>\n    <tr>\n      <th>ἄνοια</th>\n      <td>0.391891</td>\n      <td>0.387610</td>\n      <td>0.392488</td>\n      <td>0.392558</td>\n      <td>0.392797</td>\n      <td>0.395945</td>\n      <td>0.399042</td>\n      <td>0.398590</td>\n      <td>0.392535</td>\n      <td>0.389610</td>\n      <td>...</td>\n      <td>0.360666</td>\n      <td>0.394274</td>\n      <td>0.401683</td>\n      <td>0.322940</td>\n      <td>0.366715</td>\n      <td>1.000000</td>\n      <td>0.349005</td>\n      <td>0.322519</td>\n      <td>0.339740</td>\n      <td>0.519520</td>\n    </tr>\n    <tr>\n      <th>σιγάω</th>\n      <td>0.374818</td>\n      <td>0.381950</td>\n      <td>0.376571</td>\n      <td>0.375043</td>\n      <td>0.379658</td>\n      <td>0.384002</td>\n      <td>0.380710</td>\n      <td>0.381704</td>\n      <td>0.380521</td>\n      <td>0.374030</td>\n      <td>...</td>\n      <td>0.350373</td>\n      <td>0.432803</td>\n      <td>0.456298</td>\n      <td>0.380891</td>\n      <td>0.376296</td>\n      <td>0.349005</td>\n      <td>1.000000</td>\n      <td>0.392811</td>\n      <td>0.372819</td>\n      <td>0.292413</td>\n    </tr>\n    <tr>\n      <th>ἀναλίσκω</th>\n      <td>0.378586</td>\n      <td>0.378519</td>\n      <td>0.380320</td>\n      <td>0.376054</td>\n      <td>0.382931</td>\n      <td>0.379643</td>\n      <td>0.384724</td>\n      <td>0.387030</td>\n      <td>0.379469</td>\n      <td>0.379048</td>\n      <td>...</td>\n      <td>0.413345</td>\n      <td>0.373501</td>\n      <td>0.344293</td>\n      <td>0.361220</td>\n      <td>0.295441</td>\n      <td>0.322519</td>\n      <td>0.392811</td>\n      <td>1.000000</td>\n      <td>0.269675</td>\n      <td>0.315951</td>\n    </tr>\n    <tr>\n      <th>ὀκτώ</th>\n      <td>0.349940</td>\n      <td>0.349337</td>\n      <td>0.344683</td>\n      <td>0.348919</td>\n      <td>0.355364</td>\n      <td>0.348627</td>\n      <td>0.348518</td>\n      <td>0.345561</td>\n      <td>0.348724</td>\n      <td>0.344550</td>\n      <td>...</td>\n      <td>0.309067</td>\n      <td>0.423328</td>\n      <td>0.291289</td>\n      <td>0.352115</td>\n      <td>0.311331</td>\n      <td>0.339740</td>\n      <td>0.372819</td>\n      <td>0.269675</td>\n      <td>1.000000</td>\n      <td>0.277260</td>\n    </tr>\n    <tr>\n      <th>κόρος</th>\n      <td>0.391205</td>\n      <td>0.384777</td>\n      <td>0.388224</td>\n      <td>0.391052</td>\n      <td>0.387002</td>\n      <td>0.398922</td>\n      <td>0.396353</td>\n      <td>0.401396</td>\n      <td>0.401092</td>\n      <td>0.394693</td>\n      <td>...</td>\n      <td>0.434688</td>\n      <td>0.381677</td>\n      <td>0.363918</td>\n      <td>0.266089</td>\n      <td>0.343223</td>\n      <td>0.519520</td>\n      <td>0.292413</td>\n      <td>0.315951</td>\n      <td>0.277260</td>\n      <td>1.000000</td>\n    </tr>\n  </tbody>\n</table>\n<p>2000 rows × 2000 columns</p>\n</div>"
     },
     "execution_count": 54,
     "metadata": {},
     "output_type": "execute_result"
    }
   ],
   "source": [
    "data_1to3[-1]"
   ],
   "metadata": {
    "collapsed": false,
    "pycharm": {
     "name": "#%%\n"
    }
   }
  },
  {
   "cell_type": "code",
   "execution_count": 55,
   "outputs": [],
   "source": [
    "pickle.dump(data_1to3, open(\"../data/large_files/embeddings_ppmi_1to3.pkl\", \"wb\"), pickle.HIGHEST_PROTOCOL)\n",
    "pickle.dump(data_4to5, open(\"../data/large_files/embeddings_ppmi_4to5.pkl\", \"wb\"), pickle.HIGHEST_PROTOCOL)"
   ],
   "metadata": {
    "collapsed": false,
    "pycharm": {
     "name": "#%%\n"
    }
   }
  },
  {
   "cell_type": "code",
   "execution_count": null,
   "outputs": [],
   "source": [],
   "metadata": {
    "collapsed": false,
    "pycharm": {
     "name": "#%%\n"
    }
   }
  }
 ],
 "metadata": {
  "kernelspec": {
   "name": "paul_venv",
   "language": "python",
   "display_name": "paul_venv"
  },
  "language_info": {
   "codemirror_mode": {
    "name": "ipython",
    "version": 2
   },
   "file_extension": ".py",
   "mimetype": "text/x-python",
   "name": "python",
   "nbconvert_exporter": "python",
   "pygments_lexer": "ipython2",
   "version": "2.7.6"
  }
 },
 "nbformat": 4,
 "nbformat_minor": 0
}