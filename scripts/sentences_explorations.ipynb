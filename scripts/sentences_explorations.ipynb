{
 "cells": [
  {
   "cell_type": "code",
   "execution_count": 1,
   "metadata": {
    "collapsed": true
   },
   "outputs": [],
   "source": [
    "import pandas as pd"
   ]
  },
  {
   "cell_type": "code",
   "execution_count": 5,
   "outputs": [],
   "source": [
    "LAGT = pd.read_json(\"../data/large_files/LAGT_paul.json\")"
   ],
   "metadata": {
    "collapsed": false,
    "pycharm": {
     "name": "#%%\n"
    }
   }
  },
  {
   "cell_type": "code",
   "execution_count": 6,
   "outputs": [
    {
     "name": "stdout",
     "output_type": "stream",
     "text": [
      "['Gospel of Matthew', 'Gospel of Mark', 'Luke-Acts', 'Johnannine literature (New Testament)', 'Paul of Tarsus', 'Pauline literature', 'Hebrews (New Testament)', 'James (New Testament)', '1 Peter (New Testament)', '2 Peter (New Testament)', 'Jude (New Testament)', 'Revelation (New Testament)', 'Acta Joannis (recensio)', 'Clement of Alexandria', 'Maximus of Tyre', 'Justin Martyr', 'Pseudo-Justin Martyr', 'Athenagoras', 'Barnabas', 'Clement of Rome', 'Didache', 'Dionysius of Corinth', 'The Shepherd of Hermas', 'Ignatius of Antioch', 'Irenaeus', 'Martyrdom of Polycarp', 'Polycarp', 'Seniores Apud Irenaeum', 'Theophilus of Antioch', 'Tatianus', 'The Passion of Saints Perpetua and Felicity', 'Eusebius', 'Eusebius of Caesarea', 'Epiphanius', 'Gregorius Nazianzenus', 'pseudo-Menander', 'Pappus Alexandrinus', 'Athanasius of Alexandria', 'Basil of Caesarea', 'Origen', 'Sozomen', 'Socrates of Constantinople', 'Philostorgius', 'Hippolytus of Rome', 'Mark the Deacon', 'Marcianus of Heraclea', 'Marinus', 'Colluthus', 'Zosimus', 'Theodoret', 'Cyril of Alexandria']\n"
     ]
    }
   ],
   "source": [
    "christian_authors = LAGT[LAGT[\"provenience\"]==\"christian\"][\"author\"].unique().tolist()\n",
    "print(christian_authors)"
   ],
   "metadata": {
    "collapsed": false,
    "pycharm": {
     "name": "#%%\n"
    }
   }
  },
  {
   "cell_type": "code",
   "execution_count": null,
   "outputs": [],
   "source": [],
   "metadata": {
    "collapsed": false,
    "pycharm": {
     "name": "#%%\n"
    }
   }
  }
 ],
 "metadata": {
  "kernelspec": {
   "name": "paul_venv",
   "language": "python",
   "display_name": "paul_venv"
  },
  "language_info": {
   "codemirror_mode": {
    "name": "ipython",
    "version": 2
   },
   "file_extension": ".py",
   "mimetype": "text/x-python",
   "name": "python",
   "nbconvert_exporter": "python",
   "pygments_lexer": "ipython2",
   "version": "2.7.6"
  }
 },
 "nbformat": 4,
 "nbformat_minor": 0
}