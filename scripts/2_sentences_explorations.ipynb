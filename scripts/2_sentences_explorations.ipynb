{
 "cells": [
  {
   "cell_type": "code",
   "execution_count": 1,
   "metadata": {
    "collapsed": true
   },
   "outputs": [],
   "source": [
    "import pandas as pd\n",
    "import nltk\n",
    "import sddk\n",
    "\n",
    "import gspread\n",
    "from gspread_dataframe import get_as_dataframe, set_with_dataframe\n",
    "from google.oauth2 import service_account # based on google-auth library"
   ]
  },
  {
   "cell_type": "code",
   "execution_count": 2,
   "outputs": [
    {
     "name": "stdout",
     "output_type": "stream",
     "text": [
      "endpoint variable has been configured to: https://sciencedata.dk/files/\n"
     ]
    }
   ],
   "source": [
    "# for exporting data to googlesheets/sciencedata\n",
    "# (feel free to skip)\n",
    "\n",
    "s = sddk.cloudSession(\"sciencedata.dk\")\n",
    "# establish connection with gogglesheets...\n",
    "file_data = s.read_file(\"https://sciencedata.dk/files/ServiceAccountsKey.json\", \"dict\") # or load it from a local storage: json.load(open(\"../../ServiceAccountsKey.json\", \"r\"))\n",
    "credentials = service_account.Credentials.from_service_account_info(file_data)\n",
    "gc = gspread.Client(auth=credentials.with_scopes(['https://spreadsheets.google.com/feeds', 'https://www.googleapis.com/auth/drive']))\n",
    "paul_results = gc.open_by_url(\"https://docs.google.com/spreadsheets/d/1h4M-gK9TPIfeTV528tUuPBfZF1wtcNCA10yIlJYqGTE/edit?usp=sharing\")"
   ],
   "metadata": {
    "collapsed": false,
    "pycharm": {
     "name": "#%%\n"
    }
   }
  },
  {
   "cell_type": "code",
   "execution_count": 3,
   "outputs": [],
   "source": [
    "LAGTec = pd.read_json(\"../data/large_files/LAGTec.json\")"
   ],
   "metadata": {
    "collapsed": false,
    "pycharm": {
     "name": "#%%\n"
    }
   }
  },
  {
   "cell_type": "code",
   "execution_count": 4,
   "outputs": [
    {
     "name": "stdout",
     "output_type": "stream",
     "text": [
      "['Gospel of Matthew', 'Gospel of Mark', 'Luke-Acts', 'Johnannine literature (New Testament)', 'Paul of Tarsus', 'Pauline literature', 'Hebrews (New Testament)', 'James (New Testament)', '1 Peter (New Testament)', '2 Peter (New Testament)', 'Jude (New Testament)', 'Revelation (New Testament)', 'Acta Joannis (recensio)', 'Clement of Alexandria', 'Maximus of Tyre', 'Justin Martyr', 'Pseudo-Justin Martyr', 'Athenagoras', 'Barnabas', 'Clement of Rome', 'Didache', 'Dionysius of Corinth', 'The Shepherd of Hermas', 'Ignatius of Antioch', 'Irenaeus', 'Martyrdom of Polycarp', 'Polycarp', 'Seniores Apud Irenaeum', 'Theophilus of Antioch', 'Tatianus', 'The Passion of Saints Perpetua and Felicity', 'Eusebius', 'Epiphanius', 'Gregory of Nazianzus', 'Pappus Alexandrinus', 'Athanasius of Alexandria', 'Basil of Caesarea', 'Origen', 'Sozomen', 'Socrates of Constantinople', 'Philostorgius', 'Hippolytus of Rome', 'Mark the Deacon', 'Marcianus of Heraclea', 'Marinus', 'Colluthus', 'Zosimus', 'Theodoret', 'Cyril of Alexandria']\n"
     ]
    }
   ],
   "source": [
    "print(LAGTec[\"author\"].unique().tolist())"
   ],
   "metadata": {
    "collapsed": false,
    "pycharm": {
     "name": "#%%\n"
    }
   }
  },
  {
   "cell_type": "code",
   "execution_count": 5,
   "outputs": [],
   "source": [
    "LAGTec[\"sentences_paul_wordlist\"] = LAGTec[\"sentences_paul\"].apply(lambda x: [w for s in x for w in s])"
   ],
   "metadata": {
    "collapsed": false,
    "pycharm": {
     "name": "#%%\n"
    }
   }
  },
  {
   "cell_type": "code",
   "execution_count": 6,
   "outputs": [],
   "source": [
    "paul_wordlist = [w for wordlist in LAGTec[\"sentences_paul_wordlist\"] for w in wordlist]"
   ],
   "metadata": {
    "collapsed": false,
    "pycharm": {
     "name": "#%%\n"
    }
   }
  },
  {
   "cell_type": "code",
   "execution_count": 7,
   "outputs": [
    {
     "data": {
      "text/plain": "[('Παῦλος', 1072),\n ('λέγω', 380),\n ('εἰμί', 215),\n ('θεός', 198),\n ('φημί', 167),\n ('οὗτος', 134),\n ('γίγνομαι', 130),\n ('Χριστός', 128),\n ('ἀπόστολος', 123),\n ('λόγος', 103),\n ('Ἰησοῦς', 103),\n ('πᾶς', 90),\n ('ἄνθρωπος', 79),\n ('ἅγιος', 74),\n ('πολύς', 68),\n ('ἐκκλησία', 64),\n ('κύριος', 63),\n ('ἔχω', 61),\n ('πνεῦμα', 56),\n ('αὐτός', 56),\n ('Ἰουδαῖος', 55),\n ('Πέτρος', 52),\n ('ἐπίσκοπος', 48),\n ('γράφω', 47),\n ('ποιέω', 44),\n ('ἄλλος', 43),\n ('ἀκούω', 39),\n ('μόνος', 39),\n ('υἱός', 38),\n ('τὶς', 38),\n ('ἐπιστολή', 38),\n ('σοφία', 38),\n ('πατήρ', 37),\n ('διδάσκω', 35),\n ('πίστις', 34),\n ('ὁράω', 32),\n ('ἀδελφός', 32),\n ('νόμος', 32),\n ('ἀνήρ', 31),\n ('οἶδα', 31),\n ('εὐαγγέλιον', 31),\n ('σῶμα', 31),\n ('ἔθνος', 30),\n ('Κορίνθιος', 30),\n ('πρῶτος', 29),\n ('πόλις', 29),\n ('ἡμέρα', 29),\n ('ὄνομα', 28),\n ('μέλλω', 28),\n ('δύναμις', 28)]"
     },
     "execution_count": 7,
     "metadata": {},
     "output_type": "execute_result"
    }
   ],
   "source": [
    "paul_wordlist_freqs = nltk.FreqDist(paul_wordlist).most_common()\n",
    "paul_wordlist_freqs[:50]"
   ],
   "metadata": {
    "collapsed": false,
    "pycharm": {
     "name": "#%%\n"
    }
   }
  },
  {
   "cell_type": "code",
   "execution_count": 8,
   "outputs": [
    {
     "data": {
      "text/plain": "         word  count\n0      Παῦλος   1072\n1        λέγω    380\n2        εἰμί    215\n3        θεός    198\n4        φημί    167\n..        ...    ...\n95  παρίστημι     16\n96     λοιπός     16\n97       νοέω     16\n98  Ἰωάν(ν)ης     16\n99      λέξις     16\n\n[100 rows x 2 columns]",
      "text/html": "<div>\n<style scoped>\n    .dataframe tbody tr th:only-of-type {\n        vertical-align: middle;\n    }\n\n    .dataframe tbody tr th {\n        vertical-align: top;\n    }\n\n    .dataframe thead th {\n        text-align: right;\n    }\n</style>\n<table border=\"1\" class=\"dataframe\">\n  <thead>\n    <tr style=\"text-align: right;\">\n      <th></th>\n      <th>word</th>\n      <th>count</th>\n    </tr>\n  </thead>\n  <tbody>\n    <tr>\n      <th>0</th>\n      <td>Παῦλος</td>\n      <td>1072</td>\n    </tr>\n    <tr>\n      <th>1</th>\n      <td>λέγω</td>\n      <td>380</td>\n    </tr>\n    <tr>\n      <th>2</th>\n      <td>εἰμί</td>\n      <td>215</td>\n    </tr>\n    <tr>\n      <th>3</th>\n      <td>θεός</td>\n      <td>198</td>\n    </tr>\n    <tr>\n      <th>4</th>\n      <td>φημί</td>\n      <td>167</td>\n    </tr>\n    <tr>\n      <th>...</th>\n      <td>...</td>\n      <td>...</td>\n    </tr>\n    <tr>\n      <th>95</th>\n      <td>παρίστημι</td>\n      <td>16</td>\n    </tr>\n    <tr>\n      <th>96</th>\n      <td>λοιπός</td>\n      <td>16</td>\n    </tr>\n    <tr>\n      <th>97</th>\n      <td>νοέω</td>\n      <td>16</td>\n    </tr>\n    <tr>\n      <th>98</th>\n      <td>Ἰωάν(ν)ης</td>\n      <td>16</td>\n    </tr>\n    <tr>\n      <th>99</th>\n      <td>λέξις</td>\n      <td>16</td>\n    </tr>\n  </tbody>\n</table>\n<p>100 rows × 2 columns</p>\n</div>"
     },
     "execution_count": 8,
     "metadata": {},
     "output_type": "execute_result"
    }
   ],
   "source": [
    "paul_wordlist_freqs_df = pd.DataFrame(paul_wordlist_freqs, columns=[\"word\", \"count\"])\n",
    "paul_wordlist_freqs_df[:100]"
   ],
   "metadata": {
    "collapsed": false,
    "pycharm": {
     "name": "#%%\n"
    }
   }
  },
  {
   "cell_type": "code",
   "execution_count": 9,
   "outputs": [
    {
     "data": {
      "text/plain": "396"
     },
     "execution_count": 9,
     "metadata": {},
     "output_type": "execute_result"
    }
   ],
   "source": [
    "len(paul_wordlist_freqs_df[paul_wordlist_freqs_df[\"count\"]>=5])"
   ],
   "metadata": {
    "collapsed": false,
    "pycharm": {
     "name": "#%%\n"
    }
   }
  },
  {
   "cell_type": "code",
   "execution_count": 10,
   "outputs": [],
   "source": [
    "set_with_dataframe(paul_results.worksheet(\"paul_sentences_wordfreqs\"), paul_wordlist_freqs_df[paul_wordlist_freqs_df[\"count\"]>=5])"
   ],
   "metadata": {
    "collapsed": false,
    "pycharm": {
     "name": "#%%\n"
    }
   }
  }
 ],
 "metadata": {
  "kernelspec": {
   "name": "paul_venv",
   "language": "python",
   "display_name": "paul_venv"
  },
  "language_info": {
   "codemirror_mode": {
    "name": "ipython",
    "version": 2
   },
   "file_extension": ".py",
   "mimetype": "text/x-python",
   "name": "python",
   "nbconvert_exporter": "python",
   "pygments_lexer": "ipython2",
   "version": "2.7.6"
  }
 },
 "nbformat": 4,
 "nbformat_minor": 0
}